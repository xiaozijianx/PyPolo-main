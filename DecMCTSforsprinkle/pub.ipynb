{
 "cells": [
  {
   "cell_type": "code",
   "execution_count": 1,
   "metadata": {},
   "outputs": [],
   "source": [
    "import redis"
   ]
  },
  {
   "cell_type": "code",
   "execution_count": 1,
   "metadata": {},
   "outputs": [],
   "source": [
    "import numpy as np"
   ]
  },
  {
   "cell_type": "code",
   "execution_count": 2,
   "metadata": {},
   "outputs": [],
   "source": [
    "init_state = np.array([[10, 5],[10, 5],[10, 5],[10, 5]])"
   ]
  },
  {
   "cell_type": "code",
   "execution_count": 5,
   "metadata": {},
   "outputs": [
    {
     "name": "stdout",
     "output_type": "stream",
     "text": [
      "[(-1, -1), (-1, 0), (-1, 1), (0, -1), (0, 0), (0, 1), (1, -1), (1, 0), (1, 1), (-1, -1), (-1, 0), (-1, 1), (0, -1), (0, 0), (0, 1), (1, -1), (1, 0), (1, 1), (-1, -1), (-1, 0), (-1, 1), (0, -1), (0, 0), (0, 1), (1, -1), (1, 0), (1, 1), (-1, -1), (-1, 0), (-1, 1), (0, -1), (0, 0), (0, 1), (1, -1), (1, 0), (1, 1)]\n"
     ]
    }
   ],
   "source": []
  },
  {
   "cell_type": "code",
   "execution_count": 2,
   "metadata": {},
   "outputs": [],
   "source": [
    "# 连接到 Redis\n",
    "r = redis.Redis(host='localhost', port=6379)\n",
    "\n",
    "# 发布消息到频道\n",
    "def publish_message(channel, message):\n",
    "    r.publish(channel, message)\n"
   ]
  },
  {
   "cell_type": "code",
   "execution_count": null,
   "metadata": {},
   "outputs": [],
   "source": [
    "import redis\n",
    "import pickle\n",
    "import codecs\n",
    "r = redis.Redis(host='localhost', port=6379)\n",
    "message = AgentInfo() # a class \n",
    "r.publish(\"my-channel\", codecs.encode(pickle.dumps(message), \"base64\").decode())\n",
    "\n",
    "# 订阅频道并处理接收到的消息\n",
    "def handle_message(message):\n",
    "    message = message['data']\n",
    "    message = pickle.loads(codecs.decode(message.encode(), 'base64'))\n",
    "\n",
    "# 创建订阅对象\n",
    "p = r.pubsub()\n",
    "\n",
    "# 订阅频道 \"my-channel\"\n",
    "p.subscribe(**{\"my-channel\": handle_message})\n",
    "\n"
   ]
  },
  {
   "cell_type": "code",
   "execution_count": 11,
   "metadata": {},
   "outputs": [],
   "source": [
    "\n",
    "# 示例：发布消息到频道 \"my-channel\"\n",
    "publish_message(\"my-channel\", \"Hello, subscribers!\")"
   ]
  }
 ],
 "metadata": {
  "kernelspec": {
   "display_name": "sprinkle",
   "language": "python",
   "name": "python3"
  },
  "language_info": {
   "codemirror_mode": {
    "name": "ipython",
    "version": 3
   },
   "file_extension": ".py",
   "mimetype": "text/x-python",
   "name": "python",
   "nbconvert_exporter": "python",
   "pygments_lexer": "ipython3",
   "version": "3.8.16"
  }
 },
 "nbformat": 4,
 "nbformat_minor": 2
}
