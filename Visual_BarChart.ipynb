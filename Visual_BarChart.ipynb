{
 "cells": [
  {
   "cell_type": "code",
   "execution_count": 1,
   "id": "dcc7d73a",
   "metadata": {},
   "outputs": [],
   "source": [
    "import sys\n",
    "sys.path.append('../')\n",
    "# from experiments import utilities\n",
    "import pandas as pd\n",
    "import numpy as np\n",
    "import matplotlib.pyplot as plt\n",
    "import plotly\n",
    "import plotly_express as px\n",
    "import plotly.graph_objects as go\n",
    "import plotly.figure_factory as ff\n",
    "from plotly.subplots import make_subplots\n",
    "from plot.utils import bar_update_fig, line_update_fig\n",
    "import pypolo2\n",
    "\n",
    "width = 1000\n",
    "height = 800\n",
    "markersize = 10\n",
    "linewidth = 4\n",
    "markersymbol={'FH':4, 'HEUR':17, 'DDRL':2}\n",
    "linetype = {'Low':'dot','Medium':'dashdot','High':'longdash'}\n",
    "# 创建一个包含线型的示例数组\n",
    "line_dash = ['solid', 'dot', 'dash', 'dashdot', 'longdash']\n",
    "colors_dict = ['#C74223', '#3D9182', '#245C8F']"
   ]
  },
  {
   "cell_type": "markdown",
   "id": "af6241a0",
   "metadata": {},
   "source": [
    "# average suppression of pm2.5 concentration for different teamsize"
   ]
  },
  {
   "cell_type": "code",
   "execution_count": null,
   "id": "af460d13",
   "metadata": {},
   "outputs": [],
   "source": [
    "# 累计pm2.5控制总量\n",
    "Setting = pypolo2.utilities.Config()\n",
    "strategy_name = [\"EffectOrientedSelectiveSpray\",\n",
    "                 \"EffectOrientedGreedySpray\",\n",
    "                 \"MaximumCoverageSpray\",\n",
    "                 \"NoSpray\"]\n",
    "comparing_variables = [[\"teamsize_3\",\"teamsize_5\",\"teamsize_7\"],\n",
    "                       [\"numsource_2\",\"numsource_4\",\"numsource_6\",\"numsource_8\"],\n",
    "                       [\"change_interval4\",\"change_interval8\",\"change_interval12\"]]\n",
    "seeds = [0,3,7,11,15,18,32,42,50,55,60,66]\n",
    "team_sizes = [3,5,7]\n",
    "sourcenums = [2,4,6,8]\n",
    "change_intervals = [4,8,12]\n",
    "strategy_pm25suppression = []\n",
    "sche_step = 0\n",
    "adaptive_step = 0\n",
    "for strategy in strategy_name:\n",
    "    if strategy == \"EffectOrientedGreedySpray\":\n",
    "        sche_step = 8\n",
    "        adaptive_step = 8\n",
    "    else:\n",
    "        sche_step = 18\n",
    "        adaptive_step = 2\n",
    "    variable_pm25suppression = []\n",
    "    for i in range(3):\n",
    "        comparing_variable = comparing_variables[0][i]\n",
    "        team_size = team_sizes[i]\n",
    "        sourcenum = 3\n",
    "        seed_pm25suppression = []\n",
    "        for seed in seeds:\n",
    "            pklname = f'SEED_{seed}_X{Setting.grid_x}_Y{Setting.grid_y}_VS{team_size}_TS{Setting.max_num_samples}_SS{sche_step}_AS{adaptive_step}_SN{sourcenum}_RS{Setting.replenish_speed}_WV{Setting.water_volume}'\n",
    "            pkldir = './outputs/' + strategy + '/' + comparing_variable + '/' + pklname + \".pkl\"\n",
    "            data = pypolo2.experiments.utilities.readpkl(pkldir)\n",
    "            effect = np.sum(data['spray_effect'])/48/400\n",
    "            # if effect < 10:\n",
    "            #     effect = 0\n",
    "            seed_pm25suppression.append(effect)\n",
    "        variable_pm25suppression.append(np.mean(seed_pm25suppression))\n",
    "    strategy_pm25suppression.append(variable_pm25suppression)\n",
    "strategy_pm25suppression = np.array(strategy_pm25suppression)\n",
    "\n",
    "width = 1100\n",
    "height = 750\n",
    "colors_dict = ['#C74223', '#3D9182', '#245C8F']\n",
    "\n",
    "labels = np.array(['3 Sprinkle Truck', '5 Sprinkle Truck', '7 Sprinkle Truck'])\n",
    "xtitle = 'Sprinkle Truck Number'\n",
    "ytitle = 'cumulative suppression of pm2.5(μg/m³)'\n",
    "fig = go.Figure()\n",
    "fig.add_trace(go.Bar(\n",
    "    width= 0.2, \n",
    "    x=labels, \n",
    "    y=strategy_pm25suppression[0,:], \n",
    "    name='SmartSpr', \n",
    "    marker=dict(line_color=colors_dict[2],color=colors_dict[2], pattern_shape='\\\\')))\n",
    "fig.add_trace(go.Bar(\n",
    "    width= 0.2, \n",
    "    x=labels, \n",
    "    y=strategy_pm25suppression[1,:], \n",
    "    name='EffectOrientedGreedySprinkle', \n",
    "    marker=dict(line_color=colors_dict[2],color=colors_dict[2], pattern_shape='\\\\')))\n",
    "fig.add_trace(go.Bar(\n",
    "    width= 0.2, \n",
    "    x=labels, \n",
    "    y=strategy_pm25suppression[2,:], \n",
    "    name='MaximumCoverageSprinkle', \n",
    "    marker=dict(line_color=colors_dict[0],color=colors_dict[0], pattern_shape='x')))\n",
    "fig.add_trace(go.Bar(\n",
    "    width= 0.2, \n",
    "    x=labels, \n",
    "    y=strategy_pm25suppression[3,:], \n",
    "    name='Non-Sprinkle', \n",
    "    marker=dict(line_color=colors_dict[1],color=colors_dict[1], pattern_shape='+')))\n",
    "\n",
    "fig.update_traces(\n",
    "    marker=dict(pattern_fillmode=\"replace\", line_width=3, pattern_size=15),\n",
    ")\n",
    "\n",
    "fig = bar_update_fig(fig, xtitle, ytitle, width=width, height=height)\n",
    "fig.update_layout(\n",
    "    yaxis=dict(range=[0, np.max(strategy_pm25suppression)+0.3]),  # 设置y轴范围\n",
    "    legend=dict(font=dict(size=25), x=0.5, y=1.12, orientation='h')\n",
    "    )\n",
    "fig.show()\n",
    "filename = './outputs/png/bar_AverageSprayEffect-teamsize357-Greedy.png'\n",
    "print(filename)\n",
    "fig.write_image(filename, scale=1)"
   ]
  },
  {
   "cell_type": "code",
   "execution_count": null,
   "id": "f5629c2c",
   "metadata": {},
   "outputs": [],
   "source": [
    "width = 1050\n",
    "height = 650\n",
    "colors_dict = ['#C74223', '#3D9182', '#245C8F']\n",
    "\n",
    "labels = np.array(['3 Sprinkle Truck', '5 Sprinkle Truck', '7 Sprinkle Truck'])\n",
    "xtitle = 'Sprinkle Truck Number'\n",
    "ytitle = 'Average suppression of pm2.5(μg/m³)'\n",
    "fig = go.Figure()\n",
    "fig.add_trace(go.Bar(width= 0.23, x=labels, y=strategy_pm25suppression[0,:], name='SmartSpr', marker=dict(line_color=colors_dict[2],color=colors_dict[2], pattern_shape='\\\\')))\n",
    "# fig.add_trace(go.Bar(width= 0.2, x=labels, y=strategy_pm25suppression[1,:], name='EffectOrientedGreedySpray', marker=dict(line_color=colors_dict[2],color=colors_dict[2], pattern_shape='\\\\')))\n",
    "fig.add_trace(go.Bar(width= 0.23, x=labels, y=strategy_pm25suppression[2,:], name='MaximumCoverageSprinkle', marker=dict(line_color=colors_dict[0],color=colors_dict[0], pattern_shape='x')))\n",
    "fig.add_trace(go.Bar(width= 0.23, x=labels, y=strategy_pm25suppression[3,:], name='Non-Sprinkle', marker=dict(line_color=colors_dict[1],color=colors_dict[1], pattern_shape='+')))\n",
    "\n",
    "fig.update_traces(\n",
    "    marker=dict(pattern_fillmode=\"replace\", line_width=3, pattern_size=15),\n",
    ")\n",
    "\n",
    "fig = bar_update_fig(fig, xtitle, ytitle, width=width, height=height)\n",
    "fig.update_xaxes(title_text=xtitle, title_font=dict(size=32),tickfont=dict(size=32))\n",
    "fig.update_yaxes(title_text=ytitle, title_font=dict(size=32),tickfont=dict(size=32))\n",
    "fig.update_layout(\n",
    "    yaxis=dict(range=[0, np.max(strategy_pm25suppression)+0.3]),\n",
    "    legend=dict(font=dict(size=32), x=0.5, y=1.12, orientation='h')\n",
    "    ) # name size\n",
    "fig.show()\n",
    "filename = './outputs/png/bar_AverageSprayEffect-teamsize357.png'\n",
    "print(filename)\n",
    "fig.write_image(filename, scale=1)"
   ]
  },
  {
   "cell_type": "markdown",
   "id": "dfd52f7e",
   "metadata": {},
   "source": [
    "# average pm2.5 concentration at last two hours"
   ]
  },
  {
   "cell_type": "code",
   "execution_count": null,
   "id": "8d7477ac",
   "metadata": {},
   "outputs": [],
   "source": [
    "#区域平均污染物浓度\n",
    "Setting = pypolo2.utilities.Config()\n",
    "strategy_name = [\"EffectOrientedSelectiveSpray\",\n",
    "                 \"EffectOrientedGreedySpray\",\n",
    "                 \"MaximumCoverageSpray\",\n",
    "                 \"NoSpray\"]\n",
    "comparing_variables = [[\"teamsize_3\",\"teamsize_5\",\"teamsize_7\"],\n",
    "                       [\"numsource_2\",\"numsource_4\",\"numsource_6\",\"numsource_8\"],\n",
    "                       [\"change_interval4\",\"change_interval8\",\"change_interval12\"]]\n",
    "seeds = [0,3,7,11,15,18,32,42,50,55,60,66]\n",
    "team_sizes = [3,5,7]\n",
    "sourcenums = [2,4,6,8]\n",
    "change_intervals = [4,8,12]\n",
    "total_step = 48\n",
    "sche_step = 0\n",
    "adaptive_step = 0\n",
    "strategy_pm25concentration = []\n",
    "for strategy in strategy_name:\n",
    "    if strategy == \"EffectOrientedGreedySpray\":\n",
    "        sche_step = 8\n",
    "        adaptive_step = 8\n",
    "    else:\n",
    "        sche_step = 18\n",
    "        adaptive_step = 2\n",
    "    variable_pm25concentration = []\n",
    "    for i in range(3):\n",
    "        comparing_variable = comparing_variables[0][i]\n",
    "        team_size = team_sizes[i]\n",
    "        sourcenum = 3\n",
    "        seed_pm25concentration = []\n",
    "        for seed in seeds:\n",
    "            pklname = f'SEED_{seed}_X{Setting.grid_x}_Y{Setting.grid_y}_VS{team_size}_TS{Setting.max_num_samples}_SS{sche_step}_AS{adaptive_step}_SN{sourcenum}_RS{Setting.replenish_speed}_WV{Setting.water_volume}'\n",
    "            pkldir = './outputs/' + strategy + '/' + comparing_variable + '/' + pklname + \".pkl\"\n",
    "            data = pypolo2.experiments.utilities.readpkl(pkldir)\n",
    "            time_pm25concentration = []\n",
    "            for j in range(total_step):\n",
    "                if j > 24:\n",
    "                    pm25concentration = np.mean(data['truth_env'][j])\n",
    "                    time_pm25concentration.append(pm25concentration)\n",
    "            seed_pm25concentration.append(np.mean(time_pm25concentration))\n",
    "        variable_pm25concentration.append(np.mean(seed_pm25concentration))\n",
    "    strategy_pm25concentration.append(variable_pm25concentration)\n",
    "strategy_pm25concentration = np.array(strategy_pm25concentration)\n",
    "strategy_pm25concentration[-1,:] = np.mean(strategy_pm25concentration[-1,:])\n",
    "\n",
    "width = 1000\n",
    "height = 650\n",
    "colors_dict = ['#C74223', '#3D9182', '#245C8F']\n",
    "\n",
    "labels = np.array(['3 Sprinkle Truck', '5 Sprinkle Truck', '7 Sprinkle Truck'])\n",
    "xtitle = 'Sprinkle Truck Number'\n",
    "ytitle = 'pm2.5 concentration(μg/m³)'\n",
    "fig = go.Figure()\n",
    "fig.add_trace(go.Bar(width= 0.2, x=labels, y=strategy_pm25concentration[0,:], name='SmartSpr', marker=dict(line_color=colors_dict[2],color=colors_dict[2], pattern_shape='\\\\')))\n",
    "fig.add_trace(go.Bar(width= 0.2, x=labels, y=strategy_pm25concentration[1,:], name='EffectOrientedGreedySprinkle', marker=dict(line_color=colors_dict[2],color=colors_dict[2], pattern_shape='\\\\')))\n",
    "fig.add_trace(go.Bar(width= 0.2, x=labels, y=strategy_pm25concentration[2,:], name='MaximumCoverageSprinkle', marker=dict(line_color=colors_dict[0],color=colors_dict[0], pattern_shape='x')))\n",
    "fig.add_trace(go.Bar(width= 0.2, x=labels, y=strategy_pm25concentration[3,:], name='Non-Sprinkle', marker=dict(line_color=colors_dict[1],color=colors_dict[1], pattern_shape='+')))\n",
    "\n",
    "fig.update_traces(\n",
    "    marker=dict(pattern_fillmode=\"replace\", line_width=3, pattern_size=15),\n",
    ")\n",
    "\n",
    "fig = bar_update_fig(fig, xtitle, ytitle, width=width, height=height)\n",
    "fig.update_layout(\n",
    "    yaxis=dict(range=[0, np.max(strategy_pm25concentration)+5]),\n",
    "    legend=dict(font=dict(size=20), x=0.5, y=1.12, orientation='h')\n",
    "    ) # name size\n",
    "fig.show()\n",
    "filename = './outputs/png/bar_AveragePollution-teamsize357-Greedy.png'\n",
    "print(filename)\n",
    "fig.write_image(filename, scale=1)"
   ]
  },
  {
   "cell_type": "code",
   "execution_count": null,
   "id": "0096e610",
   "metadata": {},
   "outputs": [],
   "source": [
    "width = 1050\n",
    "height = 650\n",
    "colors_dict = ['#C74223', '#3D9182', '#245C8F']\n",
    "\n",
    "labels = np.array(['3 Sprinkle Truck', '5 Sprinkle Truck', '7 Sprinkle Truck'])\n",
    "xtitle = 'Sprinkle Truck Number'\n",
    "ytitle = 'pm2.5 concentration(μg/m³)'\n",
    "fig = go.Figure()\n",
    "fig.add_trace(go.Bar(width= 0.23, x=labels, y=strategy_pm25concentration[0,:], name='SmartSpr', marker=dict(line_color=colors_dict[2],color=colors_dict[2], pattern_shape='\\\\')))\n",
    "# fig.add_trace(go.Bar(width= 0.2, x=labels, y=strategy_pm25concentration[1,:], name='EffectOrientedGreedySpray', marker=dict(line_color=colors_dict[2],color=colors_dict[2], pattern_shape='\\\\')))\n",
    "fig.add_trace(go.Bar(width= 0.23, x=labels, y=strategy_pm25concentration[2,:], name='MaximumCoverageSprinkle', marker=dict(line_color=colors_dict[0],color=colors_dict[0], pattern_shape='x')))\n",
    "fig.add_trace(go.Bar(width= 0.23, x=labels, y=strategy_pm25concentration[3,:], name='Non-Sprinkle', marker=dict(line_color=colors_dict[1],color=colors_dict[1], pattern_shape='+')))\n",
    "\n",
    "fig.update_traces(\n",
    "    marker=dict(pattern_fillmode=\"replace\", line_width=3, pattern_size=15),\n",
    ")\n",
    "\n",
    "fig = bar_update_fig(fig, xtitle, ytitle, width=width, height=height)\n",
    "fig.update_xaxes(title_text=xtitle, title_font=dict(size=32),tickfont=dict(size=32))\n",
    "fig.update_yaxes(title_text=ytitle, title_font=dict(size=32),tickfont=dict(size=32))\n",
    "fig.update_layout(\n",
    "    yaxis=dict(range=[0, np.max(strategy_pm25concentration)+5]),\n",
    "    legend=dict(font=dict(size=32), x=0.5, y=1.12, orientation='h')\n",
    "    ) # name size\n",
    "fig.show()\n",
    "filename = './outputs/png/bar_AveragePollution-teamsize357.png'\n",
    "print(filename)\n",
    "fig.write_image(filename, scale=1)"
   ]
  },
  {
   "cell_type": "markdown",
   "id": "4102c6d5",
   "metadata": {},
   "source": [
    "# average suppression of pm2.5 concentration for different source number"
   ]
  },
  {
   "cell_type": "code",
   "execution_count": 3,
   "id": "9b6d3a8b",
   "metadata": {},
   "outputs": [
    {
     "data": {
      "application/vnd.plotly.v1+json": {
       "config": {
        "plotlyServerURL": "https://plot.ly"
       },
       "data": [
        {
         "marker": {
          "color": "#245C8F",
          "line": {
           "color": "#245C8F",
           "width": 3
          },
          "pattern": {
           "fillmode": "replace",
           "shape": "\\",
           "size": 15
          }
         },
         "name": "SmartSpr",
         "type": "bar",
         "width": 0.23,
         "x": [
          "Numsource 2",
          "Numsource 4",
          "Numsource 6"
         ],
         "y": [
          1.345121816888257,
          3.122380101859766,
          4.479621924701147
         ]
        },
        {
         "marker": {
          "color": "#C74223",
          "line": {
           "color": "#C74223",
           "width": 3
          },
          "pattern": {
           "fillmode": "replace",
           "shape": "x",
           "size": 15
          }
         },
         "name": "MaximumCoverageSprinkle",
         "type": "bar",
         "width": 0.23,
         "x": [
          "Numsource 2",
          "Numsource 4",
          "Numsource 6"
         ],
         "y": [
          0.7363905871106916,
          2.0693987437522634,
          3.182915526614842
         ]
        },
        {
         "marker": {
          "color": "#3D9182",
          "line": {
           "color": "#3D9182",
           "width": 3
          },
          "pattern": {
           "fillmode": "replace",
           "shape": "+",
           "size": 15
          }
         },
         "name": "Non-Sprinkle",
         "type": "bar",
         "width": 0.23,
         "x": [
          "Numsource 2",
          "Numsource 4",
          "Numsource 6"
         ],
         "y": [
          -0.0000965541989674834,
          -0.00009488634113106845,
          -0.0003476391439685705
         ]
        }
       ],
       "layout": {
        "font": {
         "color": "rgb(0, 0, 0)",
         "family": "Arial",
         "size": 30
        },
        "height": 650,
        "legend": {
         "font": {
          "size": 32
         },
         "orientation": "h",
         "title": {
          "text": ""
         },
         "x": 0.5,
         "xanchor": "center",
         "y": 1.12,
         "yanchor": "top"
        },
        "margin": {
         "b": 15,
         "l": 15,
         "r": 15,
         "t": 15
        },
        "plot_bgcolor": "rgb(255,255,255)",
        "template": {
         "data": {
          "bar": [
           {
            "error_x": {
             "color": "#2a3f5f"
            },
            "error_y": {
             "color": "#2a3f5f"
            },
            "marker": {
             "line": {
              "color": "#E5ECF6",
              "width": 0.5
             },
             "pattern": {
              "fillmode": "overlay",
              "size": 10,
              "solidity": 0.2
             }
            },
            "type": "bar"
           }
          ],
          "barpolar": [
           {
            "marker": {
             "line": {
              "color": "#E5ECF6",
              "width": 0.5
             },
             "pattern": {
              "fillmode": "overlay",
              "size": 10,
              "solidity": 0.2
             }
            },
            "type": "barpolar"
           }
          ],
          "carpet": [
           {
            "aaxis": {
             "endlinecolor": "#2a3f5f",
             "gridcolor": "white",
             "linecolor": "white",
             "minorgridcolor": "white",
             "startlinecolor": "#2a3f5f"
            },
            "baxis": {
             "endlinecolor": "#2a3f5f",
             "gridcolor": "white",
             "linecolor": "white",
             "minorgridcolor": "white",
             "startlinecolor": "#2a3f5f"
            },
            "type": "carpet"
           }
          ],
          "choropleth": [
           {
            "colorbar": {
             "outlinewidth": 0,
             "ticks": ""
            },
            "type": "choropleth"
           }
          ],
          "contour": [
           {
            "colorbar": {
             "outlinewidth": 0,
             "ticks": ""
            },
            "colorscale": [
             [
              0,
              "#0d0887"
             ],
             [
              0.1111111111111111,
              "#46039f"
             ],
             [
              0.2222222222222222,
              "#7201a8"
             ],
             [
              0.3333333333333333,
              "#9c179e"
             ],
             [
              0.4444444444444444,
              "#bd3786"
             ],
             [
              0.5555555555555556,
              "#d8576b"
             ],
             [
              0.6666666666666666,
              "#ed7953"
             ],
             [
              0.7777777777777778,
              "#fb9f3a"
             ],
             [
              0.8888888888888888,
              "#fdca26"
             ],
             [
              1,
              "#f0f921"
             ]
            ],
            "type": "contour"
           }
          ],
          "contourcarpet": [
           {
            "colorbar": {
             "outlinewidth": 0,
             "ticks": ""
            },
            "type": "contourcarpet"
           }
          ],
          "heatmap": [
           {
            "colorbar": {
             "outlinewidth": 0,
             "ticks": ""
            },
            "colorscale": [
             [
              0,
              "#0d0887"
             ],
             [
              0.1111111111111111,
              "#46039f"
             ],
             [
              0.2222222222222222,
              "#7201a8"
             ],
             [
              0.3333333333333333,
              "#9c179e"
             ],
             [
              0.4444444444444444,
              "#bd3786"
             ],
             [
              0.5555555555555556,
              "#d8576b"
             ],
             [
              0.6666666666666666,
              "#ed7953"
             ],
             [
              0.7777777777777778,
              "#fb9f3a"
             ],
             [
              0.8888888888888888,
              "#fdca26"
             ],
             [
              1,
              "#f0f921"
             ]
            ],
            "type": "heatmap"
           }
          ],
          "heatmapgl": [
           {
            "colorbar": {
             "outlinewidth": 0,
             "ticks": ""
            },
            "colorscale": [
             [
              0,
              "#0d0887"
             ],
             [
              0.1111111111111111,
              "#46039f"
             ],
             [
              0.2222222222222222,
              "#7201a8"
             ],
             [
              0.3333333333333333,
              "#9c179e"
             ],
             [
              0.4444444444444444,
              "#bd3786"
             ],
             [
              0.5555555555555556,
              "#d8576b"
             ],
             [
              0.6666666666666666,
              "#ed7953"
             ],
             [
              0.7777777777777778,
              "#fb9f3a"
             ],
             [
              0.8888888888888888,
              "#fdca26"
             ],
             [
              1,
              "#f0f921"
             ]
            ],
            "type": "heatmapgl"
           }
          ],
          "histogram": [
           {
            "marker": {
             "pattern": {
              "fillmode": "overlay",
              "size": 10,
              "solidity": 0.2
             }
            },
            "type": "histogram"
           }
          ],
          "histogram2d": [
           {
            "colorbar": {
             "outlinewidth": 0,
             "ticks": ""
            },
            "colorscale": [
             [
              0,
              "#0d0887"
             ],
             [
              0.1111111111111111,
              "#46039f"
             ],
             [
              0.2222222222222222,
              "#7201a8"
             ],
             [
              0.3333333333333333,
              "#9c179e"
             ],
             [
              0.4444444444444444,
              "#bd3786"
             ],
             [
              0.5555555555555556,
              "#d8576b"
             ],
             [
              0.6666666666666666,
              "#ed7953"
             ],
             [
              0.7777777777777778,
              "#fb9f3a"
             ],
             [
              0.8888888888888888,
              "#fdca26"
             ],
             [
              1,
              "#f0f921"
             ]
            ],
            "type": "histogram2d"
           }
          ],
          "histogram2dcontour": [
           {
            "colorbar": {
             "outlinewidth": 0,
             "ticks": ""
            },
            "colorscale": [
             [
              0,
              "#0d0887"
             ],
             [
              0.1111111111111111,
              "#46039f"
             ],
             [
              0.2222222222222222,
              "#7201a8"
             ],
             [
              0.3333333333333333,
              "#9c179e"
             ],
             [
              0.4444444444444444,
              "#bd3786"
             ],
             [
              0.5555555555555556,
              "#d8576b"
             ],
             [
              0.6666666666666666,
              "#ed7953"
             ],
             [
              0.7777777777777778,
              "#fb9f3a"
             ],
             [
              0.8888888888888888,
              "#fdca26"
             ],
             [
              1,
              "#f0f921"
             ]
            ],
            "type": "histogram2dcontour"
           }
          ],
          "mesh3d": [
           {
            "colorbar": {
             "outlinewidth": 0,
             "ticks": ""
            },
            "type": "mesh3d"
           }
          ],
          "parcoords": [
           {
            "line": {
             "colorbar": {
              "outlinewidth": 0,
              "ticks": ""
             }
            },
            "type": "parcoords"
           }
          ],
          "pie": [
           {
            "automargin": true,
            "type": "pie"
           }
          ],
          "scatter": [
           {
            "fillpattern": {
             "fillmode": "overlay",
             "size": 10,
             "solidity": 0.2
            },
            "type": "scatter"
           }
          ],
          "scatter3d": [
           {
            "line": {
             "colorbar": {
              "outlinewidth": 0,
              "ticks": ""
             }
            },
            "marker": {
             "colorbar": {
              "outlinewidth": 0,
              "ticks": ""
             }
            },
            "type": "scatter3d"
           }
          ],
          "scattercarpet": [
           {
            "marker": {
             "colorbar": {
              "outlinewidth": 0,
              "ticks": ""
             }
            },
            "type": "scattercarpet"
           }
          ],
          "scattergeo": [
           {
            "marker": {
             "colorbar": {
              "outlinewidth": 0,
              "ticks": ""
             }
            },
            "type": "scattergeo"
           }
          ],
          "scattergl": [
           {
            "marker": {
             "colorbar": {
              "outlinewidth": 0,
              "ticks": ""
             }
            },
            "type": "scattergl"
           }
          ],
          "scattermapbox": [
           {
            "marker": {
             "colorbar": {
              "outlinewidth": 0,
              "ticks": ""
             }
            },
            "type": "scattermapbox"
           }
          ],
          "scatterpolar": [
           {
            "marker": {
             "colorbar": {
              "outlinewidth": 0,
              "ticks": ""
             }
            },
            "type": "scatterpolar"
           }
          ],
          "scatterpolargl": [
           {
            "marker": {
             "colorbar": {
              "outlinewidth": 0,
              "ticks": ""
             }
            },
            "type": "scatterpolargl"
           }
          ],
          "scatterternary": [
           {
            "marker": {
             "colorbar": {
              "outlinewidth": 0,
              "ticks": ""
             }
            },
            "type": "scatterternary"
           }
          ],
          "surface": [
           {
            "colorbar": {
             "outlinewidth": 0,
             "ticks": ""
            },
            "colorscale": [
             [
              0,
              "#0d0887"
             ],
             [
              0.1111111111111111,
              "#46039f"
             ],
             [
              0.2222222222222222,
              "#7201a8"
             ],
             [
              0.3333333333333333,
              "#9c179e"
             ],
             [
              0.4444444444444444,
              "#bd3786"
             ],
             [
              0.5555555555555556,
              "#d8576b"
             ],
             [
              0.6666666666666666,
              "#ed7953"
             ],
             [
              0.7777777777777778,
              "#fb9f3a"
             ],
             [
              0.8888888888888888,
              "#fdca26"
             ],
             [
              1,
              "#f0f921"
             ]
            ],
            "type": "surface"
           }
          ],
          "table": [
           {
            "cells": {
             "fill": {
              "color": "#EBF0F8"
             },
             "line": {
              "color": "white"
             }
            },
            "header": {
             "fill": {
              "color": "#C8D4E3"
             },
             "line": {
              "color": "white"
             }
            },
            "type": "table"
           }
          ]
         },
         "layout": {
          "annotationdefaults": {
           "arrowcolor": "#2a3f5f",
           "arrowhead": 0,
           "arrowwidth": 1
          },
          "autotypenumbers": "strict",
          "coloraxis": {
           "colorbar": {
            "outlinewidth": 0,
            "ticks": ""
           }
          },
          "colorscale": {
           "diverging": [
            [
             0,
             "#8e0152"
            ],
            [
             0.1,
             "#c51b7d"
            ],
            [
             0.2,
             "#de77ae"
            ],
            [
             0.3,
             "#f1b6da"
            ],
            [
             0.4,
             "#fde0ef"
            ],
            [
             0.5,
             "#f7f7f7"
            ],
            [
             0.6,
             "#e6f5d0"
            ],
            [
             0.7,
             "#b8e186"
            ],
            [
             0.8,
             "#7fbc41"
            ],
            [
             0.9,
             "#4d9221"
            ],
            [
             1,
             "#276419"
            ]
           ],
           "sequential": [
            [
             0,
             "#0d0887"
            ],
            [
             0.1111111111111111,
             "#46039f"
            ],
            [
             0.2222222222222222,
             "#7201a8"
            ],
            [
             0.3333333333333333,
             "#9c179e"
            ],
            [
             0.4444444444444444,
             "#bd3786"
            ],
            [
             0.5555555555555556,
             "#d8576b"
            ],
            [
             0.6666666666666666,
             "#ed7953"
            ],
            [
             0.7777777777777778,
             "#fb9f3a"
            ],
            [
             0.8888888888888888,
             "#fdca26"
            ],
            [
             1,
             "#f0f921"
            ]
           ],
           "sequentialminus": [
            [
             0,
             "#0d0887"
            ],
            [
             0.1111111111111111,
             "#46039f"
            ],
            [
             0.2222222222222222,
             "#7201a8"
            ],
            [
             0.3333333333333333,
             "#9c179e"
            ],
            [
             0.4444444444444444,
             "#bd3786"
            ],
            [
             0.5555555555555556,
             "#d8576b"
            ],
            [
             0.6666666666666666,
             "#ed7953"
            ],
            [
             0.7777777777777778,
             "#fb9f3a"
            ],
            [
             0.8888888888888888,
             "#fdca26"
            ],
            [
             1,
             "#f0f921"
            ]
           ]
          },
          "colorway": [
           "#636efa",
           "#EF553B",
           "#00cc96",
           "#ab63fa",
           "#FFA15A",
           "#19d3f3",
           "#FF6692",
           "#B6E880",
           "#FF97FF",
           "#FECB52"
          ],
          "font": {
           "color": "#2a3f5f"
          },
          "geo": {
           "bgcolor": "white",
           "lakecolor": "white",
           "landcolor": "#E5ECF6",
           "showlakes": true,
           "showland": true,
           "subunitcolor": "white"
          },
          "hoverlabel": {
           "align": "left"
          },
          "hovermode": "closest",
          "mapbox": {
           "style": "light"
          },
          "paper_bgcolor": "white",
          "plot_bgcolor": "#E5ECF6",
          "polar": {
           "angularaxis": {
            "gridcolor": "white",
            "linecolor": "white",
            "ticks": ""
           },
           "bgcolor": "#E5ECF6",
           "radialaxis": {
            "gridcolor": "white",
            "linecolor": "white",
            "ticks": ""
           }
          },
          "scene": {
           "xaxis": {
            "backgroundcolor": "#E5ECF6",
            "gridcolor": "white",
            "gridwidth": 2,
            "linecolor": "white",
            "showbackground": true,
            "ticks": "",
            "zerolinecolor": "white"
           },
           "yaxis": {
            "backgroundcolor": "#E5ECF6",
            "gridcolor": "white",
            "gridwidth": 2,
            "linecolor": "white",
            "showbackground": true,
            "ticks": "",
            "zerolinecolor": "white"
           },
           "zaxis": {
            "backgroundcolor": "#E5ECF6",
            "gridcolor": "white",
            "gridwidth": 2,
            "linecolor": "white",
            "showbackground": true,
            "ticks": "",
            "zerolinecolor": "white"
           }
          },
          "shapedefaults": {
           "line": {
            "color": "#2a3f5f"
           }
          },
          "ternary": {
           "aaxis": {
            "gridcolor": "white",
            "linecolor": "white",
            "ticks": ""
           },
           "baxis": {
            "gridcolor": "white",
            "linecolor": "white",
            "ticks": ""
           },
           "bgcolor": "#E5ECF6",
           "caxis": {
            "gridcolor": "white",
            "linecolor": "white",
            "ticks": ""
           }
          },
          "title": {
           "x": 0.05
          },
          "xaxis": {
           "automargin": true,
           "gridcolor": "white",
           "linecolor": "white",
           "ticks": "",
           "title": {
            "standoff": 15
           },
           "zerolinecolor": "white",
           "zerolinewidth": 2
          },
          "yaxis": {
           "automargin": true,
           "gridcolor": "white",
           "linecolor": "white",
           "ticks": "",
           "title": {
            "standoff": 15
           },
           "zerolinecolor": "white",
           "zerolinewidth": 2
          }
         }
        },
        "width": 1050,
        "xaxis": {
         "gridcolor": "rgb(245, 245, 245)",
         "linecolor": "rgb(0, 0, 0)",
         "linewidth": 2,
         "mirror": true,
         "showline": true,
         "tickfont": {
          "size": 32
         },
         "ticks": "inside",
         "title": {
          "font": {
           "size": 32
          },
          "text": "Pollution Source Number"
         }
        },
        "yaxis": {
         "gridcolor": "rgb(245, 245, 245)",
         "linecolor": "rgb(0, 0, 0)",
         "linewidth": 2,
         "mirror": true,
         "range": [
          0,
          4.779621924701146
         ],
         "showline": true,
         "tickfont": {
          "size": 32
         },
         "tickformat": ".1f",
         "title": {
          "font": {
           "size": 32
          },
          "text": "Average suppression of pm2.5(μg/m³)"
         }
        }
       }
      }
     },
     "metadata": {},
     "output_type": "display_data"
    },
    {
     "name": "stdout",
     "output_type": "stream",
     "text": [
      "./outputs/png/bar_AverageSprayEffect-numsource2468.png\n"
     ]
    }
   ],
   "source": [
    "# 累计pm2.5控制总量\n",
    "Setting = pypolo2.utilities.Config()\n",
    "strategy_name = [\"EffectOrientedSelectiveSpray\",\n",
    "                 \"MaximumCoverageSpray\",\n",
    "                 \"NoSpray\"]\n",
    "comparing_variables = [[\"teamsize_3\",\"teamsize_6\",\"teamsize_9\"],\n",
    "                       [\"numsource_2\",\"numsource_4\",\"numsource_6\",\"numsource_8\"],\n",
    "                       [\"change_interval4\",\"change_interval8\",\"change_interval12\"]]\n",
    "seeds = [0,3,7,11,15,18,32,42,50,55,60,66]\n",
    "team_sizes = [3,5,7]\n",
    "sourcenums = [2,4,6,8]\n",
    "change_intervals = [4,8,12]\n",
    "strategy_pm25suppression = []\n",
    "sche_step = 0\n",
    "adaptive_step = 0\n",
    "for strategy in strategy_name:\n",
    "    if strategy == \"EffectOrientedGreedySpray\":\n",
    "        sche_step = 8\n",
    "        adaptive_step = 8\n",
    "    else:\n",
    "        sche_step = 18\n",
    "        adaptive_step = 2\n",
    "    variable_pm25suppression = []\n",
    "    for i in range(3):\n",
    "        comparing_variable = comparing_variables[1][i]\n",
    "        team_size = 5\n",
    "        sourcenum = sourcenums[i]\n",
    "        seed_pm25suppression = []\n",
    "        for seed in seeds:\n",
    "            pklname = f'SEED_{seed}_X{Setting.grid_x}_Y{Setting.grid_y}_VS{team_size}_TS{Setting.max_num_samples}_SS{sche_step}_AS{adaptive_step}_SN{sourcenum}_RS{Setting.replenish_speed}_WV{Setting.water_volume}'\n",
    "            pkldir = './outputs/' + strategy + '/' + comparing_variable + '/' + pklname + \".pkl\"\n",
    "            data = pypolo2.experiments.utilities.readpkl(pkldir)\n",
    "            effect = np.sum(data['spray_effect'])/48/400\n",
    "            seed_pm25suppression.append(effect)\n",
    "        variable_pm25suppression.append(np.mean(seed_pm25suppression))\n",
    "    strategy_pm25suppression.append(variable_pm25suppression)\n",
    "strategy_pm25suppression = np.array(strategy_pm25suppression)\n",
    "\n",
    "width = 1050\n",
    "height = 650\n",
    "colors_dict = ['#C74223', '#3D9182', '#245C8F']\n",
    "\n",
    "labels = np.array([\"Numsource 2\",\"Numsource 4\",\"Numsource 6\"])\n",
    "xtitle = 'Pollution Source Number'\n",
    "ytitle = 'Average suppression of pm2.5(μg/m³)'\n",
    "fig = go.Figure()\n",
    "fig.add_trace(go.Bar(\n",
    "    width= 0.23, \n",
    "    x=labels, \n",
    "    y=strategy_pm25suppression[0,:], \n",
    "    name='SmartSpr', \n",
    "    marker=dict(line_color=colors_dict[2],color=colors_dict[2], pattern_shape='\\\\')))\n",
    "fig.add_trace(go.Bar(\n",
    "    width= 0.23, \n",
    "    x=labels, \n",
    "    y=strategy_pm25suppression[1,:], \n",
    "    name='MaximumCoverageSprinkle', \n",
    "    marker=dict(line_color=colors_dict[0],color=colors_dict[0], pattern_shape='x')))\n",
    "fig.add_trace(go.Bar(\n",
    "    width= 0.23, \n",
    "    x=labels, \n",
    "    y=strategy_pm25suppression[2,:], \n",
    "    name='Non-Sprinkle', \n",
    "    marker=dict(line_color=colors_dict[1],color=colors_dict[1], pattern_shape='+')))\n",
    "\n",
    "fig.update_traces(\n",
    "    marker=dict(pattern_fillmode=\"replace\", line_width=3, pattern_size=15),\n",
    ")\n",
    "\n",
    "fig = bar_update_fig(fig, xtitle, ytitle, width=width, height=height)\n",
    "fig.update_xaxes(title_text=xtitle, title_font=dict(size=32),tickfont=dict(size=32))\n",
    "fig.update_yaxes(title_text=ytitle, title_font=dict(size=32),tickfont=dict(size=32))\n",
    "fig.update_layout(\n",
    "    yaxis=dict(range=[0, np.max(strategy_pm25suppression)+0.3]),  # 设置y轴范围\n",
    "    legend=dict(font=dict(size=32), x=0.5, y=1.12, orientation='h')\n",
    "    )\n",
    "fig.show()\n",
    "filename = './outputs/png/bar_AverageSprayEffect-numsource2468.png'\n",
    "print(filename)\n",
    "fig.write_image(filename, scale=1)"
   ]
  },
  {
   "cell_type": "markdown",
   "id": "4d7645e5",
   "metadata": {},
   "source": [
    "# average pm2.5 concentration at last two hours for different source number"
   ]
  },
  {
   "cell_type": "code",
   "execution_count": 4,
   "id": "689424ac",
   "metadata": {},
   "outputs": [
    {
     "data": {
      "application/vnd.plotly.v1+json": {
       "config": {
        "plotlyServerURL": "https://plot.ly"
       },
       "data": [
        {
         "marker": {
          "color": "#245C8F",
          "line": {
           "color": "#245C8F",
           "width": 3
          },
          "pattern": {
           "fillmode": "replace",
           "shape": "\\",
           "size": 15
          }
         },
         "name": "SmartSpr",
         "type": "bar",
         "width": 0.23,
         "x": [
          "Numsource 2",
          "Numsource 4",
          "Numsource 6"
         ],
         "y": [
          8.094822383704143,
          41.31021357729098,
          64.5741871619651
         ]
        },
        {
         "marker": {
          "color": "#C74223",
          "line": {
           "color": "#C74223",
           "width": 3
          },
          "pattern": {
           "fillmode": "replace",
           "shape": "x",
           "size": 15
          }
         },
         "name": "MaximumCoverageSprinkle",
         "type": "bar",
         "width": 0.23,
         "x": [
          "Numsource 2",
          "Numsource 4",
          "Numsource 6"
         ],
         "y": [
          19.566428952704406,
          55.366437165881564,
          73.51417725107241
         ]
        },
        {
         "marker": {
          "color": "#3D9182",
          "line": {
           "color": "#3D9182",
           "width": 3
          },
          "pattern": {
           "fillmode": "replace",
           "shape": "+",
           "size": 15
          }
         },
         "name": "Non-Sprinkle",
         "type": "bar",
         "width": 0.23,
         "x": [
          "Numsource 2",
          "Numsource 4",
          "Numsource 6"
         ],
         "y": [
          37.855285540402036,
          83.18467661557928,
          104.2662681489585
         ]
        }
       ],
       "layout": {
        "font": {
         "color": "rgb(0, 0, 0)",
         "family": "Arial",
         "size": 30
        },
        "height": 650,
        "legend": {
         "font": {
          "size": 32
         },
         "orientation": "h",
         "title": {
          "text": ""
         },
         "x": 0.5,
         "xanchor": "center",
         "y": 1.12,
         "yanchor": "top"
        },
        "margin": {
         "b": 15,
         "l": 15,
         "r": 15,
         "t": 15
        },
        "plot_bgcolor": "rgb(255,255,255)",
        "template": {
         "data": {
          "bar": [
           {
            "error_x": {
             "color": "#2a3f5f"
            },
            "error_y": {
             "color": "#2a3f5f"
            },
            "marker": {
             "line": {
              "color": "#E5ECF6",
              "width": 0.5
             },
             "pattern": {
              "fillmode": "overlay",
              "size": 10,
              "solidity": 0.2
             }
            },
            "type": "bar"
           }
          ],
          "barpolar": [
           {
            "marker": {
             "line": {
              "color": "#E5ECF6",
              "width": 0.5
             },
             "pattern": {
              "fillmode": "overlay",
              "size": 10,
              "solidity": 0.2
             }
            },
            "type": "barpolar"
           }
          ],
          "carpet": [
           {
            "aaxis": {
             "endlinecolor": "#2a3f5f",
             "gridcolor": "white",
             "linecolor": "white",
             "minorgridcolor": "white",
             "startlinecolor": "#2a3f5f"
            },
            "baxis": {
             "endlinecolor": "#2a3f5f",
             "gridcolor": "white",
             "linecolor": "white",
             "minorgridcolor": "white",
             "startlinecolor": "#2a3f5f"
            },
            "type": "carpet"
           }
          ],
          "choropleth": [
           {
            "colorbar": {
             "outlinewidth": 0,
             "ticks": ""
            },
            "type": "choropleth"
           }
          ],
          "contour": [
           {
            "colorbar": {
             "outlinewidth": 0,
             "ticks": ""
            },
            "colorscale": [
             [
              0,
              "#0d0887"
             ],
             [
              0.1111111111111111,
              "#46039f"
             ],
             [
              0.2222222222222222,
              "#7201a8"
             ],
             [
              0.3333333333333333,
              "#9c179e"
             ],
             [
              0.4444444444444444,
              "#bd3786"
             ],
             [
              0.5555555555555556,
              "#d8576b"
             ],
             [
              0.6666666666666666,
              "#ed7953"
             ],
             [
              0.7777777777777778,
              "#fb9f3a"
             ],
             [
              0.8888888888888888,
              "#fdca26"
             ],
             [
              1,
              "#f0f921"
             ]
            ],
            "type": "contour"
           }
          ],
          "contourcarpet": [
           {
            "colorbar": {
             "outlinewidth": 0,
             "ticks": ""
            },
            "type": "contourcarpet"
           }
          ],
          "heatmap": [
           {
            "colorbar": {
             "outlinewidth": 0,
             "ticks": ""
            },
            "colorscale": [
             [
              0,
              "#0d0887"
             ],
             [
              0.1111111111111111,
              "#46039f"
             ],
             [
              0.2222222222222222,
              "#7201a8"
             ],
             [
              0.3333333333333333,
              "#9c179e"
             ],
             [
              0.4444444444444444,
              "#bd3786"
             ],
             [
              0.5555555555555556,
              "#d8576b"
             ],
             [
              0.6666666666666666,
              "#ed7953"
             ],
             [
              0.7777777777777778,
              "#fb9f3a"
             ],
             [
              0.8888888888888888,
              "#fdca26"
             ],
             [
              1,
              "#f0f921"
             ]
            ],
            "type": "heatmap"
           }
          ],
          "heatmapgl": [
           {
            "colorbar": {
             "outlinewidth": 0,
             "ticks": ""
            },
            "colorscale": [
             [
              0,
              "#0d0887"
             ],
             [
              0.1111111111111111,
              "#46039f"
             ],
             [
              0.2222222222222222,
              "#7201a8"
             ],
             [
              0.3333333333333333,
              "#9c179e"
             ],
             [
              0.4444444444444444,
              "#bd3786"
             ],
             [
              0.5555555555555556,
              "#d8576b"
             ],
             [
              0.6666666666666666,
              "#ed7953"
             ],
             [
              0.7777777777777778,
              "#fb9f3a"
             ],
             [
              0.8888888888888888,
              "#fdca26"
             ],
             [
              1,
              "#f0f921"
             ]
            ],
            "type": "heatmapgl"
           }
          ],
          "histogram": [
           {
            "marker": {
             "pattern": {
              "fillmode": "overlay",
              "size": 10,
              "solidity": 0.2
             }
            },
            "type": "histogram"
           }
          ],
          "histogram2d": [
           {
            "colorbar": {
             "outlinewidth": 0,
             "ticks": ""
            },
            "colorscale": [
             [
              0,
              "#0d0887"
             ],
             [
              0.1111111111111111,
              "#46039f"
             ],
             [
              0.2222222222222222,
              "#7201a8"
             ],
             [
              0.3333333333333333,
              "#9c179e"
             ],
             [
              0.4444444444444444,
              "#bd3786"
             ],
             [
              0.5555555555555556,
              "#d8576b"
             ],
             [
              0.6666666666666666,
              "#ed7953"
             ],
             [
              0.7777777777777778,
              "#fb9f3a"
             ],
             [
              0.8888888888888888,
              "#fdca26"
             ],
             [
              1,
              "#f0f921"
             ]
            ],
            "type": "histogram2d"
           }
          ],
          "histogram2dcontour": [
           {
            "colorbar": {
             "outlinewidth": 0,
             "ticks": ""
            },
            "colorscale": [
             [
              0,
              "#0d0887"
             ],
             [
              0.1111111111111111,
              "#46039f"
             ],
             [
              0.2222222222222222,
              "#7201a8"
             ],
             [
              0.3333333333333333,
              "#9c179e"
             ],
             [
              0.4444444444444444,
              "#bd3786"
             ],
             [
              0.5555555555555556,
              "#d8576b"
             ],
             [
              0.6666666666666666,
              "#ed7953"
             ],
             [
              0.7777777777777778,
              "#fb9f3a"
             ],
             [
              0.8888888888888888,
              "#fdca26"
             ],
             [
              1,
              "#f0f921"
             ]
            ],
            "type": "histogram2dcontour"
           }
          ],
          "mesh3d": [
           {
            "colorbar": {
             "outlinewidth": 0,
             "ticks": ""
            },
            "type": "mesh3d"
           }
          ],
          "parcoords": [
           {
            "line": {
             "colorbar": {
              "outlinewidth": 0,
              "ticks": ""
             }
            },
            "type": "parcoords"
           }
          ],
          "pie": [
           {
            "automargin": true,
            "type": "pie"
           }
          ],
          "scatter": [
           {
            "fillpattern": {
             "fillmode": "overlay",
             "size": 10,
             "solidity": 0.2
            },
            "type": "scatter"
           }
          ],
          "scatter3d": [
           {
            "line": {
             "colorbar": {
              "outlinewidth": 0,
              "ticks": ""
             }
            },
            "marker": {
             "colorbar": {
              "outlinewidth": 0,
              "ticks": ""
             }
            },
            "type": "scatter3d"
           }
          ],
          "scattercarpet": [
           {
            "marker": {
             "colorbar": {
              "outlinewidth": 0,
              "ticks": ""
             }
            },
            "type": "scattercarpet"
           }
          ],
          "scattergeo": [
           {
            "marker": {
             "colorbar": {
              "outlinewidth": 0,
              "ticks": ""
             }
            },
            "type": "scattergeo"
           }
          ],
          "scattergl": [
           {
            "marker": {
             "colorbar": {
              "outlinewidth": 0,
              "ticks": ""
             }
            },
            "type": "scattergl"
           }
          ],
          "scattermapbox": [
           {
            "marker": {
             "colorbar": {
              "outlinewidth": 0,
              "ticks": ""
             }
            },
            "type": "scattermapbox"
           }
          ],
          "scatterpolar": [
           {
            "marker": {
             "colorbar": {
              "outlinewidth": 0,
              "ticks": ""
             }
            },
            "type": "scatterpolar"
           }
          ],
          "scatterpolargl": [
           {
            "marker": {
             "colorbar": {
              "outlinewidth": 0,
              "ticks": ""
             }
            },
            "type": "scatterpolargl"
           }
          ],
          "scatterternary": [
           {
            "marker": {
             "colorbar": {
              "outlinewidth": 0,
              "ticks": ""
             }
            },
            "type": "scatterternary"
           }
          ],
          "surface": [
           {
            "colorbar": {
             "outlinewidth": 0,
             "ticks": ""
            },
            "colorscale": [
             [
              0,
              "#0d0887"
             ],
             [
              0.1111111111111111,
              "#46039f"
             ],
             [
              0.2222222222222222,
              "#7201a8"
             ],
             [
              0.3333333333333333,
              "#9c179e"
             ],
             [
              0.4444444444444444,
              "#bd3786"
             ],
             [
              0.5555555555555556,
              "#d8576b"
             ],
             [
              0.6666666666666666,
              "#ed7953"
             ],
             [
              0.7777777777777778,
              "#fb9f3a"
             ],
             [
              0.8888888888888888,
              "#fdca26"
             ],
             [
              1,
              "#f0f921"
             ]
            ],
            "type": "surface"
           }
          ],
          "table": [
           {
            "cells": {
             "fill": {
              "color": "#EBF0F8"
             },
             "line": {
              "color": "white"
             }
            },
            "header": {
             "fill": {
              "color": "#C8D4E3"
             },
             "line": {
              "color": "white"
             }
            },
            "type": "table"
           }
          ]
         },
         "layout": {
          "annotationdefaults": {
           "arrowcolor": "#2a3f5f",
           "arrowhead": 0,
           "arrowwidth": 1
          },
          "autotypenumbers": "strict",
          "coloraxis": {
           "colorbar": {
            "outlinewidth": 0,
            "ticks": ""
           }
          },
          "colorscale": {
           "diverging": [
            [
             0,
             "#8e0152"
            ],
            [
             0.1,
             "#c51b7d"
            ],
            [
             0.2,
             "#de77ae"
            ],
            [
             0.3,
             "#f1b6da"
            ],
            [
             0.4,
             "#fde0ef"
            ],
            [
             0.5,
             "#f7f7f7"
            ],
            [
             0.6,
             "#e6f5d0"
            ],
            [
             0.7,
             "#b8e186"
            ],
            [
             0.8,
             "#7fbc41"
            ],
            [
             0.9,
             "#4d9221"
            ],
            [
             1,
             "#276419"
            ]
           ],
           "sequential": [
            [
             0,
             "#0d0887"
            ],
            [
             0.1111111111111111,
             "#46039f"
            ],
            [
             0.2222222222222222,
             "#7201a8"
            ],
            [
             0.3333333333333333,
             "#9c179e"
            ],
            [
             0.4444444444444444,
             "#bd3786"
            ],
            [
             0.5555555555555556,
             "#d8576b"
            ],
            [
             0.6666666666666666,
             "#ed7953"
            ],
            [
             0.7777777777777778,
             "#fb9f3a"
            ],
            [
             0.8888888888888888,
             "#fdca26"
            ],
            [
             1,
             "#f0f921"
            ]
           ],
           "sequentialminus": [
            [
             0,
             "#0d0887"
            ],
            [
             0.1111111111111111,
             "#46039f"
            ],
            [
             0.2222222222222222,
             "#7201a8"
            ],
            [
             0.3333333333333333,
             "#9c179e"
            ],
            [
             0.4444444444444444,
             "#bd3786"
            ],
            [
             0.5555555555555556,
             "#d8576b"
            ],
            [
             0.6666666666666666,
             "#ed7953"
            ],
            [
             0.7777777777777778,
             "#fb9f3a"
            ],
            [
             0.8888888888888888,
             "#fdca26"
            ],
            [
             1,
             "#f0f921"
            ]
           ]
          },
          "colorway": [
           "#636efa",
           "#EF553B",
           "#00cc96",
           "#ab63fa",
           "#FFA15A",
           "#19d3f3",
           "#FF6692",
           "#B6E880",
           "#FF97FF",
           "#FECB52"
          ],
          "font": {
           "color": "#2a3f5f"
          },
          "geo": {
           "bgcolor": "white",
           "lakecolor": "white",
           "landcolor": "#E5ECF6",
           "showlakes": true,
           "showland": true,
           "subunitcolor": "white"
          },
          "hoverlabel": {
           "align": "left"
          },
          "hovermode": "closest",
          "mapbox": {
           "style": "light"
          },
          "paper_bgcolor": "white",
          "plot_bgcolor": "#E5ECF6",
          "polar": {
           "angularaxis": {
            "gridcolor": "white",
            "linecolor": "white",
            "ticks": ""
           },
           "bgcolor": "#E5ECF6",
           "radialaxis": {
            "gridcolor": "white",
            "linecolor": "white",
            "ticks": ""
           }
          },
          "scene": {
           "xaxis": {
            "backgroundcolor": "#E5ECF6",
            "gridcolor": "white",
            "gridwidth": 2,
            "linecolor": "white",
            "showbackground": true,
            "ticks": "",
            "zerolinecolor": "white"
           },
           "yaxis": {
            "backgroundcolor": "#E5ECF6",
            "gridcolor": "white",
            "gridwidth": 2,
            "linecolor": "white",
            "showbackground": true,
            "ticks": "",
            "zerolinecolor": "white"
           },
           "zaxis": {
            "backgroundcolor": "#E5ECF6",
            "gridcolor": "white",
            "gridwidth": 2,
            "linecolor": "white",
            "showbackground": true,
            "ticks": "",
            "zerolinecolor": "white"
           }
          },
          "shapedefaults": {
           "line": {
            "color": "#2a3f5f"
           }
          },
          "ternary": {
           "aaxis": {
            "gridcolor": "white",
            "linecolor": "white",
            "ticks": ""
           },
           "baxis": {
            "gridcolor": "white",
            "linecolor": "white",
            "ticks": ""
           },
           "bgcolor": "#E5ECF6",
           "caxis": {
            "gridcolor": "white",
            "linecolor": "white",
            "ticks": ""
           }
          },
          "title": {
           "x": 0.05
          },
          "xaxis": {
           "automargin": true,
           "gridcolor": "white",
           "linecolor": "white",
           "ticks": "",
           "title": {
            "standoff": 15
           },
           "zerolinecolor": "white",
           "zerolinewidth": 2
          },
          "yaxis": {
           "automargin": true,
           "gridcolor": "white",
           "linecolor": "white",
           "ticks": "",
           "title": {
            "standoff": 15
           },
           "zerolinecolor": "white",
           "zerolinewidth": 2
          }
         }
        },
        "width": 1050,
        "xaxis": {
         "gridcolor": "rgb(245, 245, 245)",
         "linecolor": "rgb(0, 0, 0)",
         "linewidth": 2,
         "mirror": true,
         "showline": true,
         "tickfont": {
          "size": 32
         },
         "ticks": "inside",
         "title": {
          "font": {
           "size": 32
          },
          "text": "Pollution Source Number"
         }
        },
        "yaxis": {
         "gridcolor": "rgb(245, 245, 245)",
         "linecolor": "rgb(0, 0, 0)",
         "linewidth": 2,
         "mirror": true,
         "range": [
          0,
          109.2662681489585
         ],
         "showline": true,
         "tickfont": {
          "size": 32
         },
         "tickformat": ".1f",
         "title": {
          "font": {
           "size": 32
          },
          "text": "pm2.5 concentration(μg/m³)"
         }
        }
       }
      }
     },
     "metadata": {},
     "output_type": "display_data"
    },
    {
     "name": "stdout",
     "output_type": "stream",
     "text": [
      "./outputs/png/bar_AveragePollution-numsource2468.png\n"
     ]
    }
   ],
   "source": [
    "#区域平均污染物浓度\n",
    "Setting = pypolo2.utilities.Config()\n",
    "strategy_name = [\"EffectOrientedSelectiveSpray\",\n",
    "                 \"MaximumCoverageSpray\",\n",
    "                 \"NoSpray\"]\n",
    "comparing_variables = [[\"teamsize_3\",\"teamsize_5\",\"teamsize_7\"],\n",
    "                       [\"numsource_2\",\"numsource_4\",\"numsource_6\",\"numsource_8\"],\n",
    "                       [\"change_interval4\",\"change_interval8\",\"change_interval12\"]]\n",
    "seeds = [0,3,7,11,15,18,32,42,50,55,60,66]\n",
    "team_sizes = [3,5,7]\n",
    "sourcenums = [2,4,6,8]\n",
    "change_intervals = [4,8,12]\n",
    "total_step = 48\n",
    "sche_step = 0\n",
    "adaptive_step = 0\n",
    "strategy_pm25concentration = []\n",
    "for strategy in strategy_name:\n",
    "    if strategy == \"EffectOrientedGreedySpray\":\n",
    "        sche_step = 8\n",
    "        adaptive_step = 8\n",
    "    else:\n",
    "        sche_step = 18\n",
    "        adaptive_step = 2\n",
    "    variable_pm25concentration = []\n",
    "    for i in range(3):\n",
    "        comparing_variable = comparing_variables[1][i]\n",
    "        team_size = 5\n",
    "        sourcenum = sourcenums[i]\n",
    "        seed_pm25concentration = []\n",
    "        for seed in seeds:\n",
    "            pklname = f'SEED_{seed}_X{Setting.grid_x}_Y{Setting.grid_y}_VS{team_size}_TS{Setting.max_num_samples}_SS{sche_step}_AS{adaptive_step}_SN{sourcenum}_RS{Setting.replenish_speed}_WV{Setting.water_volume}'\n",
    "            pkldir = './outputs/' + strategy + '/' + comparing_variable + '/' + pklname + \".pkl\"\n",
    "            data = pypolo2.experiments.utilities.readpkl(pkldir)\n",
    "            time_pm25concentration = []\n",
    "            for j in range(total_step):\n",
    "                if j > 24:\n",
    "                    pm25concentration = np.mean(data['truth_env'][j])\n",
    "                    time_pm25concentration.append(pm25concentration)\n",
    "            seed_pm25concentration.append(np.mean(time_pm25concentration))\n",
    "        variable_pm25concentration.append(np.mean(seed_pm25concentration))\n",
    "    strategy_pm25concentration.append(variable_pm25concentration)\n",
    "strategy_pm25concentration = np.array(strategy_pm25concentration)\n",
    "\n",
    "width = 1050\n",
    "height = 650\n",
    "colors_dict = ['#C74223', '#3D9182', '#245C8F']\n",
    "\n",
    "labels = np.array([\"Numsource 2\",\"Numsource 4\",\"Numsource 6\"])\n",
    "xtitle = 'Pollution Source Number'\n",
    "ytitle = 'pm2.5 concentration(μg/m³)'\n",
    "fig = go.Figure()\n",
    "fig.add_trace(go.Bar(width= 0.23, x=labels, y=strategy_pm25concentration[0,:], name='SmartSpr', marker=dict(line_color=colors_dict[2],color=colors_dict[2], pattern_shape='\\\\')))\n",
    "fig.add_trace(go.Bar(width= 0.23, x=labels, y=strategy_pm25concentration[1,:], name='MaximumCoverageSprinkle', marker=dict(line_color=colors_dict[0],color=colors_dict[0], pattern_shape='x')))\n",
    "fig.add_trace(go.Bar(width= 0.23, x=labels, y=strategy_pm25concentration[2,:], name='Non-Sprinkle', marker=dict(line_color=colors_dict[1],color=colors_dict[1], pattern_shape='+')))\n",
    "\n",
    "fig.update_traces(\n",
    "    marker=dict(pattern_fillmode=\"replace\", line_width=3, pattern_size=15),\n",
    ")\n",
    "\n",
    "fig = bar_update_fig(fig, xtitle, ytitle, width=width, height=height)\n",
    "fig.update_xaxes(title_text=xtitle, title_font=dict(size=32),tickfont=dict(size=32))\n",
    "fig.update_yaxes(title_text=ytitle, title_font=dict(size=32),tickfont=dict(size=32))\n",
    "fig.update_layout(\n",
    "    yaxis=dict(range=[0, np.max(strategy_pm25concentration)+5]),\n",
    "    legend=dict(font=dict(size=32), x=0.5, y=1.12, orientation='h')\n",
    "    ) # name size\n",
    "fig.show()\n",
    "filename = './outputs/png/bar_AveragePollution-numsource2468.png'\n",
    "print(filename)\n",
    "fig.write_image(filename, scale=1)"
   ]
  },
  {
   "cell_type": "markdown",
   "id": "6f843a18",
   "metadata": {},
   "source": [
    "# cumulative suppression of pm2.5 concentration for different R change intervals"
   ]
  },
  {
   "cell_type": "code",
   "execution_count": null,
   "id": "8df80d2f",
   "metadata": {},
   "outputs": [],
   "source": [
    "# 累计pm2.5控制总量\n",
    "Setting = pypolo2.utilities.Config()\n",
    "strategy_name = [\"PINNsOnlySpray\",\n",
    "                 \"SequentialSpray\",\n",
    "                 \"NoSpray\"]\n",
    "comparing_variables = [[\"teamsize_3\",\"teamsize_6\",\"teamsize_9\"],\n",
    "                       [\"numsource_2\",\"numsource_4\",\"numsource_6\",\"numsource_8\"],\n",
    "                       [\"change_interval4\",\"change_interval8\",\"change_interval12\"]]\n",
    "seeds = [0,3,7,11,15,18,20,32,42,50,55,60,66,70]\n",
    "team_sizes = [3,6,9]\n",
    "sourcenums = [2,4,6,8]\n",
    "change_intervals = [4,8,12]\n",
    "strategy_pm25suppression = []\n",
    "for strategy in strategy_name:\n",
    "    variable_pm25suppression = []\n",
    "    for i in range(3):\n",
    "        comparing_variable = comparing_variables[2][i]\n",
    "        team_size = 5\n",
    "        sourcenum = 4\n",
    "        seed_pm25suppression = []\n",
    "        for seed in seeds:\n",
    "            pklname = f'SEED_{seed}_X{Setting.grid_x}_Y{Setting.grid_y}_VS{team_size}_TS{Setting.max_num_samples}_SS{Setting.sche_step}_AS{Setting.adaptive_step}_SN{sourcenum}_RS{Setting.replenish_speed}_WV{Setting.water_volume}'\n",
    "            pkldir = './outputs/' + strategy + '/' + comparing_variable + '/' + pklname + \".pkl\"\n",
    "            data = pypolo2.experiments.utilities.readpkl(pkldir)\n",
    "            effect = np.sum(data['spray_effect'])\n",
    "            seed_pm25suppression.append(effect)\n",
    "        variable_pm25suppression.append(np.mean(seed_pm25suppression))\n",
    "    strategy_pm25suppression.append(variable_pm25suppression)\n",
    "strategy_pm25suppression = np.array(strategy_pm25suppression)\n",
    "\n",
    "width = 1000\n",
    "height = 650\n",
    "colors_dict = ['#C74223', '#3D9182', '#245C8F']\n",
    "\n",
    "labels = np.array([\"change_interval4\",\"change_interval8\",\"change_interval12\"])\n",
    "xtitle = 'source change interval'\n",
    "ytitle = 'cumulative suppression of pm2.5(μg/m³)'\n",
    "fig = go.Figure()\n",
    "fig.add_trace(go.Bar(width= 0.23, x=labels, y=strategy_pm25suppression[0,:], name='EffectOrientedSpray', marker=dict(line_color=colors_dict[2],color=colors_dict[2], pattern_shape='\\\\')))\n",
    "fig.add_trace(go.Bar(width= 0.23, x=labels, y=strategy_pm25suppression[1,:], name='MaximumCoverageSpray', marker=dict(line_color=colors_dict[0],color=colors_dict[0], pattern_shape='x')))\n",
    "fig.add_trace(go.Bar(width= 0.23, x=labels, y=strategy_pm25suppression[2,:], name='NoSpray', marker=dict(line_color=colors_dict[1],color=colors_dict[1], pattern_shape='+')))\n",
    "\n",
    "fig.update_traces(\n",
    "    marker=dict(pattern_fillmode=\"replace\", line_width=3, pattern_size=15),\n",
    ")\n",
    "\n",
    "fig = bar_update_fig(fig, xtitle, ytitle, width=width, height=height)\n",
    "fig.update_layout(legend=dict(font=dict(size=26), x=0.5, y=1.12, orientation='h')) # name size\n",
    "fig.show()\n",
    "# filename = '../outputs/png/bar_原污染源消失产生新污染源.png'\n",
    "# print(filename)\n",
    "# fig.write_image(filename, scale=1)"
   ]
  },
  {
   "cell_type": "markdown",
   "id": "6e7acd60",
   "metadata": {},
   "source": [
    "# average pm2.5 concentration at last two hours for different source change interval"
   ]
  },
  {
   "cell_type": "code",
   "execution_count": null,
   "id": "3af27cd8",
   "metadata": {},
   "outputs": [],
   "source": [
    "#区域平均污染物浓度\n",
    "Setting = pypolo2.utilities.Config()\n",
    "strategy_name = [\"PINNsOnlySpray\",\n",
    "                 \"SequentialSpray\",\n",
    "                 \"NoSpray\"]\n",
    "comparing_variables = [[\"teamsize_3\",\"teamsize_6\",\"teamsize_9\"],\n",
    "                       [\"numsource_2\",\"numsource_4\",\"numsource_6\",\"numsource_8\"],\n",
    "                       [\"change_interval4\",\"change_interval8\",\"change_interval12\"]]\n",
    "seeds = [0,3,7,11,15,18,20,32,42,50,55,60,66,70]\n",
    "team_sizes = [3,6,9]\n",
    "sourcenums = [2,4,6,8]\n",
    "change_intervals = [4,8,12]\n",
    "total_step = 48\n",
    "\n",
    "strategy_pm25concentration = []\n",
    "for strategy in strategy_name:\n",
    "    variable_pm25concentration = []\n",
    "    for i in range(3):\n",
    "        comparing_variable = comparing_variables[2][i]\n",
    "        team_size = 5\n",
    "        sourcenum = 4\n",
    "        seed_pm25concentration = []\n",
    "        for seed in seeds:\n",
    "            pklname = f'SEED_{seed}_X{Setting.grid_x}_Y{Setting.grid_y}_VS{team_size}_TS{Setting.max_num_samples}_SS{Setting.sche_step}_AS{Setting.adaptive_step}_SN{sourcenum}_RS{Setting.replenish_speed}_WV{Setting.water_volume}'\n",
    "            pkldir = './outputs/' + strategy + '/' + comparing_variable + '/' + pklname + \".pkl\"\n",
    "            data = pypolo2.experiments.utilities.readpkl(pkldir)\n",
    "            time_pm25concentration = []\n",
    "            for j in range(total_step):\n",
    "                if j > 36:\n",
    "                    pm25concentration = np.mean(data['truth_env'][j])\n",
    "                    time_pm25concentration.append(pm25concentration)\n",
    "            seed_pm25concentration.append(np.mean(time_pm25concentration))\n",
    "        variable_pm25concentration.append(np.mean(seed_pm25concentration))\n",
    "    strategy_pm25concentration.append(variable_pm25concentration)\n",
    "strategy_pm25concentration = np.array(strategy_pm25concentration)\n",
    "\n",
    "width = 1000\n",
    "height = 650\n",
    "colors_dict = ['#C74223', '#3D9182', '#245C8F']\n",
    "\n",
    "labels = np.array([\"change_interval4\",\"change_interval8\",\"change_interval12\"])\n",
    "xtitle = 'source change interval'\n",
    "ytitle = 'pm2.5 concentration(μg/m³)'\n",
    "fig = go.Figure()\n",
    "fig.add_trace(go.Bar(width= 0.23, x=labels, y=strategy_pm25concentration[0,:], name='EffectOrientedSpray', marker=dict(line_color=colors_dict[2],color=colors_dict[2], pattern_shape='\\\\')))\n",
    "fig.add_trace(go.Bar(width= 0.23, x=labels, y=strategy_pm25concentration[1,:], name='MaximumCoverageSpray', marker=dict(line_color=colors_dict[0],color=colors_dict[0], pattern_shape='x')))\n",
    "fig.add_trace(go.Bar(width= 0.23, x=labels, y=strategy_pm25concentration[2,:], name='NoSpray', marker=dict(line_color=colors_dict[1],color=colors_dict[1], pattern_shape='+')))\n",
    "\n",
    "fig.update_traces(\n",
    "    marker=dict(pattern_fillmode=\"replace\", line_width=3, pattern_size=15),\n",
    ")\n",
    "\n",
    "fig = bar_update_fig(fig, xtitle, ytitle, width=width, height=height)\n",
    "fig.update_layout(legend=dict(font=dict(size=26), x=0.5, y=1.12, orientation='h')) # name size\n",
    "fig.show()\n",
    "# filename = '../outputs/png/bar_原污染源消失产生新污染源.png'\n",
    "# print(filename)\n",
    "# fig.write_image(filename, scale=1)"
   ]
  }
 ],
 "metadata": {
  "kernelspec": {
   "display_name": "Python 3.8.16 ('forestfire1.0')",
   "language": "python",
   "name": "python3"
  },
  "language_info": {
   "codemirror_mode": {
    "name": "ipython",
    "version": 3
   },
   "file_extension": ".py",
   "mimetype": "text/x-python",
   "name": "python",
   "nbconvert_exporter": "python",
   "pygments_lexer": "ipython3",
   "version": "3.8.16"
  },
  "vscode": {
   "interpreter": {
    "hash": "e22fcd08f9f55ceeb7ce3a4380ba807d68f0f823f065a4cc1fcab64b3551734e"
   }
  }
 },
 "nbformat": 4,
 "nbformat_minor": 5
}
