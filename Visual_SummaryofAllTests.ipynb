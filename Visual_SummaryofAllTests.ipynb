{
 "cells": [
  {
   "cell_type": "code",
   "execution_count": 1,
   "id": "dcc7d73a",
   "metadata": {},
   "outputs": [],
   "source": [
    "import pickle\n",
    "import numpy as np\n",
    "import pandas as pd\n",
    "import os\n",
    "from copy import deepcopy\n",
    "from pathlib import Path\n",
    "from matplotlib import pyplot as plt\n",
    "import matplotlib.cm as cm\n",
    "import matplotlib.colors as colors\n",
    "import matplotlib.animation\n",
    "\n",
    "import pypolo2"
   ]
  },
  {
   "cell_type": "markdown",
   "id": "af6241a0",
   "metadata": {},
   "source": [
    "# Environment -- PINNS"
   ]
  },
  {
   "cell_type": "code",
   "execution_count": 2,
   "id": "e2000d60",
   "metadata": {},
   "outputs": [],
   "source": [
    "Setting = pypolo2.utilities.Config()\n",
    "strategy_name = [\"EffectOrientedSelectiveSpray\",\n",
    "                 \"EffectOrientedGreedySpray\",\n",
    "                 \"MaximumCoverageSpray\",\n",
    "                 \"NoSpray\"]\n",
    "comparing_variables = [[\"teamsize_3\",\"teamsize_5\",\"teamsize_7\"],\n",
    "                       [\"numsource_2\",\"numsource_4\",\"numsource_6\",\"numsource_8\"],\n",
    "                       [\"change_interval4\",\"change_interval8\",\"change_interval12\"]]\n",
    "seeds = [0,3,7,11,15,18,32,42,50,55,60,66,70]\n",
    "team_sizes = [3,5,7]\n",
    "sourcenums = [2,4,6,8]\n",
    "change_intervals = [4,8,12]"
   ]
  },
  {
   "cell_type": "code",
   "execution_count": 10,
   "id": "e2cfd307",
   "metadata": {},
   "outputs": [
    {
     "name": "stdout",
     "output_type": "stream",
     "text": [
      "[1.8476529337499628, 1.7629990475444746, 1.1367309761784397, -3.5839647512131966e-05]\n"
     ]
    }
   ],
   "source": [
    "# 累计pm2.5控制总量,所有实验的平均值\n",
    "strategy_sumsprayeffect = []\n",
    "sche_step = 0\n",
    "adaptive_step = 0\n",
    "# teamsize\n",
    "for strategy in strategy_name:\n",
    "    if strategy == \"EffectOrientedGreedySpray\":\n",
    "        sche_step = 8\n",
    "        adaptive_step = 8\n",
    "    else:\n",
    "        sche_step = 18\n",
    "        adaptive_step = 2\n",
    "    variable_sumsprayeffect = []\n",
    "    for i in range(3):\n",
    "        comparing_variable = comparing_variables[0][i]\n",
    "        team_size = team_sizes[i]\n",
    "        sourcenum = 3\n",
    "        seed_sumsprayeffect = []\n",
    "        for seed in seeds:\n",
    "            pklname = f'SEED_{seed}_X{Setting.grid_x}_Y{Setting.grid_y}_VS{team_size}_TS{Setting.max_num_samples}_SS{sche_step}_AS{adaptive_step}_SN{sourcenum}_RS{Setting.replenish_speed}_WV{Setting.water_volume}'\n",
    "            pkldir = './outputs/' + strategy + '/' + comparing_variable + '/' + pklname + \".pkl\"\n",
    "            data = pypolo2.experiments.utilities.readpkl(pkldir)\n",
    "            seed_sumsprayeffect.append(np.sum(data['spray_effect'])/400/48)\n",
    "        variable_sumsprayeffect.append(np.mean(seed_sumsprayeffect))\n",
    "        \n",
    "    # numsource\n",
    "    # for i in range(4):\n",
    "    #     comparing_variable = comparing_variables[1][i]\n",
    "    #     team_size = 5\n",
    "    #     sourcenum = sourcenums[i]\n",
    "    #     seed_sumsprayeffect = []\n",
    "    #     for seed in seeds:\n",
    "    #         pklname = f'SEED_{seed}_X{Setting.grid_x}_Y{Setting.grid_y}_VS{team_size}_TS{Setting.max_num_samples}_SS{sche_step}_AS{adaptive_step}_SN{sourcenum}_RS{Setting.replenish_speed}_WV{Setting.water_volume}'\n",
    "    #         pkldir = './outputs/' + strategy + '/' + comparing_variable + '/' + pklname + \".pkl\"\n",
    "    #         data = pypolo2.experiments.utilities.readpkl(pkldir)\n",
    "    #         seed_sumsprayeffect.append(np.sum(data['spray_effect'])/48/400)\n",
    "    #     variable_sumsprayeffect.append(np.mean(seed_sumsprayeffect))\n",
    "        \n",
    "    # # changeinterval\n",
    "    # for i in range(3):\n",
    "    #     comparing_variable = comparing_variables[2][i]\n",
    "    #     team_size = 5\n",
    "    #     sourcenum = 4\n",
    "    #     seed_sumsprayeffect = []\n",
    "    #     for seed in seeds:\n",
    "    #         pklname = f'SEED_{seed}_X{Setting.grid_x}_Y{Setting.grid_y}_VS{team_size}_TS{Setting.max_num_samples}_SS{sche_step}_AS{adaptive_step}_SN{sourcenum}_RS{Setting.replenish_speed}_WV{Setting.water_volume}'\n",
    "    #         pkldir = './outputs/' + strategy + '/' + comparing_variable + '/' + pklname + \".pkl\"\n",
    "    #         data = pypolo2.experiments.utilities.readpkl(pkldir)\n",
    "    #         seed_sumsprayeffect.append(np.sum(data['spray_effect'])/48/400)\n",
    "    #     variable_sumsprayeffect.append(np.mean(seed_sumsprayeffect))\n",
    "    strategy_sumsprayeffect.append(np.mean(variable_sumsprayeffect))\n",
    "print(strategy_sumsprayeffect)"
   ]
  },
  {
   "cell_type": "code",
   "execution_count": 8,
   "id": "a42dc155",
   "metadata": {},
   "outputs": [
    {
     "name": "stdout",
     "output_type": "stream",
     "text": [
      "[27.879888207605585, 27.18734647992895, 39.99273624114056, 61.29595380873997]\n"
     ]
    }
   ],
   "source": [
    "# 区域平均pm2.5浓度,所有实验的平均值\n",
    "strategy_meanpollution = []\n",
    "# teamsize\n",
    "sche_step = 0\n",
    "adaptive_step = 0\n",
    "for strategy in strategy_name:\n",
    "    if strategy == \"EffectOrientedGreedySpray\":\n",
    "        sche_step = 8\n",
    "        adaptive_step = 8\n",
    "    else:\n",
    "        sche_step = 18\n",
    "        adaptive_step = 2\n",
    "    variable_meanpollution = []\n",
    "    for i in range(3):\n",
    "        comparing_variable = comparing_variables[0][i]\n",
    "        team_size = team_sizes[i]\n",
    "        sourcenum = 3\n",
    "        seed_meanpollution = []\n",
    "        for seed in seeds:\n",
    "            pklname = f'SEED_{seed}_X{Setting.grid_x}_Y{Setting.grid_y}_VS{team_size}_TS{Setting.max_num_samples}_SS{sche_step}_AS{adaptive_step}_SN{sourcenum}_RS{Setting.replenish_speed}_WV{Setting.water_volume}'\n",
    "            pkldir = './outputs/' + strategy + '/' + comparing_variable + '/' + pklname + \".pkl\"\n",
    "            data = pypolo2.experiments.utilities.readpkl(pkldir)\n",
    "            time_meanpollution = []\n",
    "            for i in range(48):\n",
    "                if i >= 36:\n",
    "                    mean_env = np.mean(data['truth_env'][i])\n",
    "                    time_meanpollution.append(mean_env)\n",
    "            seed_meanpollution.append(np.mean(time_meanpollution))\n",
    "        variable_meanpollution.append(np.mean(seed_meanpollution))\n",
    "        \n",
    "    # numsource\n",
    "    # for i in range(4):\n",
    "    #     comparing_variable = comparing_variables[1][i]\n",
    "    #     team_size = 5\n",
    "    #     sourcenum = sourcenums[i]\n",
    "    #     seed_sumsprayeffect = []\n",
    "    #     for seed in seeds:\n",
    "    #         pklname = f'SEED_{seed}_X{Setting.grid_x}_Y{Setting.grid_y}_VS{team_size}_TS{Setting.max_num_samples}_SS{Setting.sche_step}_AS{Setting.adaptive_step}_SN{sourcenum}_RS{Setting.replenish_speed}_WV{Setting.water_volume}'\n",
    "    #         pkldir = './outputs/' + stategy + '/' + comparing_variable + '/' + pklname + \".pkl\"\n",
    "    #         data = pypolo2.experiments.utilities.readpkl(pkldir)\n",
    "    #         for i in range(48):\n",
    "    #             if i >= 36:\n",
    "    #                 mean_env = np.mean(data['truth_env'][i])\n",
    "    #                 time_meanpollution.append(mean_env)\n",
    "    #         seed_meanpollution.append(np.mean(time_meanpollution))\n",
    "    #     variable_meanpollution.append(np.mean(seed_meanpollution))\n",
    "        \n",
    "    # # changeinterval\n",
    "    # for i in range(3):\n",
    "    #     comparing_variable = comparing_variables[2][i]\n",
    "    #     team_size = 5\n",
    "    #     sourcenum = 4\n",
    "    #     seed_sumsprayeffect = []\n",
    "    #     for seed in seeds:\n",
    "    #         pklname = f'SEED_{seed}_X{Setting.grid_x}_Y{Setting.grid_y}_VS{team_size}_TS{Setting.max_num_samples}_SS{Setting.sche_step}_AS{Setting.adaptive_step}_SN{sourcenum}_RS{Setting.replenish_speed}_WV{Setting.water_volume}'\n",
    "    #         pkldir = './outputs/' + stategy + '/' + comparing_variable + '/' + pklname + \".pkl\"\n",
    "    #         data = pypolo2.experiments.utilities.readpkl(pkldir)\n",
    "    #         for i in range(48):\n",
    "    #             if i >= 36:\n",
    "    #                 mean_env = np.mean(data['truth_env'][i])\n",
    "    #                 time_meanpollution.append(mean_env)\n",
    "    #         seed_meanpollution.append(np.mean(time_meanpollution))\n",
    "    #     variable_meanpollution.append(np.mean(seed_meanpollution))\n",
    "    strategy_meanpollution.append(np.mean(variable_meanpollution))\n",
    "print(strategy_meanpollution)"
   ]
  }
 ],
 "metadata": {
  "kernelspec": {
   "display_name": "Python 3.8.16 ('forestfire1.0')",
   "language": "python",
   "name": "python3"
  },
  "language_info": {
   "codemirror_mode": {
    "name": "ipython",
    "version": 3
   },
   "file_extension": ".py",
   "mimetype": "text/x-python",
   "name": "python",
   "nbconvert_exporter": "python",
   "pygments_lexer": "ipython3",
   "version": "3.8.16"
  },
  "vscode": {
   "interpreter": {
    "hash": "e22fcd08f9f55ceeb7ce3a4380ba807d68f0f823f065a4cc1fcab64b3551734e"
   }
  }
 },
 "nbformat": 4,
 "nbformat_minor": 5
}
