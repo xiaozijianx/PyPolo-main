{
 "cells": [
  {
   "cell_type": "code",
   "execution_count": 1,
   "metadata": {},
   "outputs": [],
   "source": [
    "import sys\n",
    "sys.path.append('../')\n",
    "# from experiments import utilities\n",
    "import pandas as pd\n",
    "import numpy as np\n",
    "import matplotlib.pyplot as plt\n",
    "import plotly\n",
    "import plotly_express as px\n",
    "import plotly.graph_objects as go\n",
    "import plotly.figure_factory as ff\n",
    "from plotly.subplots import make_subplots\n",
    "from utils import bar_update_fig, line_update_fig\n",
    "import pypolo2\n",
    "# import list\n",
    "\n",
    "width = 700\n",
    "height = 500\n",
    "markersize = 10\n",
    "linewidth = 4\n",
    "markersymbol={'FH':4, 'HEUR':17, 'DDRL':2}\n",
    "linetype = {'Low':'dot','Medium':'dashdot','High':'longdash'}\n",
    "# 创建一个包含线型的示例数组\n",
    "line_dash = ['solid', 'dot', 'dash', 'dashdot', 'longdash']\n",
    "colors_dict = ['#C74223', '#3D9182', '#245C8F']"
   ]
  },
  {
   "cell_type": "code",
   "execution_count": 2,
   "metadata": {},
   "outputs": [
    {
     "data": {
      "application/vnd.plotly.v1+json": {
       "config": {
        "plotlyServerURL": "https://plot.ly"
       },
       "data": [
        {
         "marker": {
          "color": "#245C8F",
          "line": {
           "color": "#245C8F",
           "width": 3
          },
          "pattern": {
           "fillmode": "replace",
           "shape": "\\",
           "size": 13
          }
         },
         "name": "ActiveSensing-Operation",
         "type": "bar",
         "width": 0.23,
         "x": [
          "Low",
          "Medium",
          "High"
         ],
         "y": [
          41.50690792747585,
          56.52193007014105,
          85.09423338087275
         ]
        },
        {
         "marker": {
          "color": "#C74223",
          "line": {
           "color": "#C74223",
           "width": 3
          },
          "pattern": {
           "fillmode": "replace",
           "shape": "x",
           "size": 13
          }
         },
         "name": "PassiveSensing-Operation",
         "type": "bar",
         "width": 0.23,
         "x": [
          "Low",
          "Medium",
          "High"
         ],
         "y": [
          43.11791871823121,
          66.80952177955518,
          101.86374284438025
         ]
        },
        {
         "marker": {
          "color": "#3D9182",
          "line": {
           "color": "#3D9182",
           "width": 3
          },
          "pattern": {
           "fillmode": "replace",
           "shape": "+",
           "size": 13
          }
         },
         "name": "No Control",
         "type": "bar",
         "width": 0.23,
         "x": [
          "Low",
          "Medium",
          "High"
         ],
         "y": [
          89.88940234114423,
          119.28000332437966,
          149.54652317744288
         ]
        }
       ],
       "layout": {
        "font": {
         "color": "rgb(0, 0, 0)",
         "family": "Arial",
         "size": 30
        },
        "height": 500,
        "legend": {
         "font": {
          "size": 22
         },
         "orientation": "h",
         "title": {
          "text": ""
         },
         "x": 0.3,
         "xanchor": "center",
         "y": 1.2,
         "yanchor": "top"
        },
        "margin": {
         "b": 15,
         "l": 15,
         "r": 15,
         "t": 15
        },
        "plot_bgcolor": "rgb(255,255,255)",
        "template": {
         "data": {
          "bar": [
           {
            "error_x": {
             "color": "#2a3f5f"
            },
            "error_y": {
             "color": "#2a3f5f"
            },
            "marker": {
             "line": {
              "color": "#E5ECF6",
              "width": 0.5
             },
             "pattern": {
              "fillmode": "overlay",
              "size": 10,
              "solidity": 0.2
             }
            },
            "type": "bar"
           }
          ],
          "barpolar": [
           {
            "marker": {
             "line": {
              "color": "#E5ECF6",
              "width": 0.5
             },
             "pattern": {
              "fillmode": "overlay",
              "size": 10,
              "solidity": 0.2
             }
            },
            "type": "barpolar"
           }
          ],
          "carpet": [
           {
            "aaxis": {
             "endlinecolor": "#2a3f5f",
             "gridcolor": "white",
             "linecolor": "white",
             "minorgridcolor": "white",
             "startlinecolor": "#2a3f5f"
            },
            "baxis": {
             "endlinecolor": "#2a3f5f",
             "gridcolor": "white",
             "linecolor": "white",
             "minorgridcolor": "white",
             "startlinecolor": "#2a3f5f"
            },
            "type": "carpet"
           }
          ],
          "choropleth": [
           {
            "colorbar": {
             "outlinewidth": 0,
             "ticks": ""
            },
            "type": "choropleth"
           }
          ],
          "contour": [
           {
            "colorbar": {
             "outlinewidth": 0,
             "ticks": ""
            },
            "colorscale": [
             [
              0,
              "#0d0887"
             ],
             [
              0.1111111111111111,
              "#46039f"
             ],
             [
              0.2222222222222222,
              "#7201a8"
             ],
             [
              0.3333333333333333,
              "#9c179e"
             ],
             [
              0.4444444444444444,
              "#bd3786"
             ],
             [
              0.5555555555555556,
              "#d8576b"
             ],
             [
              0.6666666666666666,
              "#ed7953"
             ],
             [
              0.7777777777777778,
              "#fb9f3a"
             ],
             [
              0.8888888888888888,
              "#fdca26"
             ],
             [
              1,
              "#f0f921"
             ]
            ],
            "type": "contour"
           }
          ],
          "contourcarpet": [
           {
            "colorbar": {
             "outlinewidth": 0,
             "ticks": ""
            },
            "type": "contourcarpet"
           }
          ],
          "heatmap": [
           {
            "colorbar": {
             "outlinewidth": 0,
             "ticks": ""
            },
            "colorscale": [
             [
              0,
              "#0d0887"
             ],
             [
              0.1111111111111111,
              "#46039f"
             ],
             [
              0.2222222222222222,
              "#7201a8"
             ],
             [
              0.3333333333333333,
              "#9c179e"
             ],
             [
              0.4444444444444444,
              "#bd3786"
             ],
             [
              0.5555555555555556,
              "#d8576b"
             ],
             [
              0.6666666666666666,
              "#ed7953"
             ],
             [
              0.7777777777777778,
              "#fb9f3a"
             ],
             [
              0.8888888888888888,
              "#fdca26"
             ],
             [
              1,
              "#f0f921"
             ]
            ],
            "type": "heatmap"
           }
          ],
          "heatmapgl": [
           {
            "colorbar": {
             "outlinewidth": 0,
             "ticks": ""
            },
            "colorscale": [
             [
              0,
              "#0d0887"
             ],
             [
              0.1111111111111111,
              "#46039f"
             ],
             [
              0.2222222222222222,
              "#7201a8"
             ],
             [
              0.3333333333333333,
              "#9c179e"
             ],
             [
              0.4444444444444444,
              "#bd3786"
             ],
             [
              0.5555555555555556,
              "#d8576b"
             ],
             [
              0.6666666666666666,
              "#ed7953"
             ],
             [
              0.7777777777777778,
              "#fb9f3a"
             ],
             [
              0.8888888888888888,
              "#fdca26"
             ],
             [
              1,
              "#f0f921"
             ]
            ],
            "type": "heatmapgl"
           }
          ],
          "histogram": [
           {
            "marker": {
             "pattern": {
              "fillmode": "overlay",
              "size": 10,
              "solidity": 0.2
             }
            },
            "type": "histogram"
           }
          ],
          "histogram2d": [
           {
            "colorbar": {
             "outlinewidth": 0,
             "ticks": ""
            },
            "colorscale": [
             [
              0,
              "#0d0887"
             ],
             [
              0.1111111111111111,
              "#46039f"
             ],
             [
              0.2222222222222222,
              "#7201a8"
             ],
             [
              0.3333333333333333,
              "#9c179e"
             ],
             [
              0.4444444444444444,
              "#bd3786"
             ],
             [
              0.5555555555555556,
              "#d8576b"
             ],
             [
              0.6666666666666666,
              "#ed7953"
             ],
             [
              0.7777777777777778,
              "#fb9f3a"
             ],
             [
              0.8888888888888888,
              "#fdca26"
             ],
             [
              1,
              "#f0f921"
             ]
            ],
            "type": "histogram2d"
           }
          ],
          "histogram2dcontour": [
           {
            "colorbar": {
             "outlinewidth": 0,
             "ticks": ""
            },
            "colorscale": [
             [
              0,
              "#0d0887"
             ],
             [
              0.1111111111111111,
              "#46039f"
             ],
             [
              0.2222222222222222,
              "#7201a8"
             ],
             [
              0.3333333333333333,
              "#9c179e"
             ],
             [
              0.4444444444444444,
              "#bd3786"
             ],
             [
              0.5555555555555556,
              "#d8576b"
             ],
             [
              0.6666666666666666,
              "#ed7953"
             ],
             [
              0.7777777777777778,
              "#fb9f3a"
             ],
             [
              0.8888888888888888,
              "#fdca26"
             ],
             [
              1,
              "#f0f921"
             ]
            ],
            "type": "histogram2dcontour"
           }
          ],
          "mesh3d": [
           {
            "colorbar": {
             "outlinewidth": 0,
             "ticks": ""
            },
            "type": "mesh3d"
           }
          ],
          "parcoords": [
           {
            "line": {
             "colorbar": {
              "outlinewidth": 0,
              "ticks": ""
             }
            },
            "type": "parcoords"
           }
          ],
          "pie": [
           {
            "automargin": true,
            "type": "pie"
           }
          ],
          "scatter": [
           {
            "fillpattern": {
             "fillmode": "overlay",
             "size": 10,
             "solidity": 0.2
            },
            "type": "scatter"
           }
          ],
          "scatter3d": [
           {
            "line": {
             "colorbar": {
              "outlinewidth": 0,
              "ticks": ""
             }
            },
            "marker": {
             "colorbar": {
              "outlinewidth": 0,
              "ticks": ""
             }
            },
            "type": "scatter3d"
           }
          ],
          "scattercarpet": [
           {
            "marker": {
             "colorbar": {
              "outlinewidth": 0,
              "ticks": ""
             }
            },
            "type": "scattercarpet"
           }
          ],
          "scattergeo": [
           {
            "marker": {
             "colorbar": {
              "outlinewidth": 0,
              "ticks": ""
             }
            },
            "type": "scattergeo"
           }
          ],
          "scattergl": [
           {
            "marker": {
             "colorbar": {
              "outlinewidth": 0,
              "ticks": ""
             }
            },
            "type": "scattergl"
           }
          ],
          "scattermapbox": [
           {
            "marker": {
             "colorbar": {
              "outlinewidth": 0,
              "ticks": ""
             }
            },
            "type": "scattermapbox"
           }
          ],
          "scatterpolar": [
           {
            "marker": {
             "colorbar": {
              "outlinewidth": 0,
              "ticks": ""
             }
            },
            "type": "scatterpolar"
           }
          ],
          "scatterpolargl": [
           {
            "marker": {
             "colorbar": {
              "outlinewidth": 0,
              "ticks": ""
             }
            },
            "type": "scatterpolargl"
           }
          ],
          "scatterternary": [
           {
            "marker": {
             "colorbar": {
              "outlinewidth": 0,
              "ticks": ""
             }
            },
            "type": "scatterternary"
           }
          ],
          "surface": [
           {
            "colorbar": {
             "outlinewidth": 0,
             "ticks": ""
            },
            "colorscale": [
             [
              0,
              "#0d0887"
             ],
             [
              0.1111111111111111,
              "#46039f"
             ],
             [
              0.2222222222222222,
              "#7201a8"
             ],
             [
              0.3333333333333333,
              "#9c179e"
             ],
             [
              0.4444444444444444,
              "#bd3786"
             ],
             [
              0.5555555555555556,
              "#d8576b"
             ],
             [
              0.6666666666666666,
              "#ed7953"
             ],
             [
              0.7777777777777778,
              "#fb9f3a"
             ],
             [
              0.8888888888888888,
              "#fdca26"
             ],
             [
              1,
              "#f0f921"
             ]
            ],
            "type": "surface"
           }
          ],
          "table": [
           {
            "cells": {
             "fill": {
              "color": "#EBF0F8"
             },
             "line": {
              "color": "white"
             }
            },
            "header": {
             "fill": {
              "color": "#C8D4E3"
             },
             "line": {
              "color": "white"
             }
            },
            "type": "table"
           }
          ]
         },
         "layout": {
          "annotationdefaults": {
           "arrowcolor": "#2a3f5f",
           "arrowhead": 0,
           "arrowwidth": 1
          },
          "autotypenumbers": "strict",
          "coloraxis": {
           "colorbar": {
            "outlinewidth": 0,
            "ticks": ""
           }
          },
          "colorscale": {
           "diverging": [
            [
             0,
             "#8e0152"
            ],
            [
             0.1,
             "#c51b7d"
            ],
            [
             0.2,
             "#de77ae"
            ],
            [
             0.3,
             "#f1b6da"
            ],
            [
             0.4,
             "#fde0ef"
            ],
            [
             0.5,
             "#f7f7f7"
            ],
            [
             0.6,
             "#e6f5d0"
            ],
            [
             0.7,
             "#b8e186"
            ],
            [
             0.8,
             "#7fbc41"
            ],
            [
             0.9,
             "#4d9221"
            ],
            [
             1,
             "#276419"
            ]
           ],
           "sequential": [
            [
             0,
             "#0d0887"
            ],
            [
             0.1111111111111111,
             "#46039f"
            ],
            [
             0.2222222222222222,
             "#7201a8"
            ],
            [
             0.3333333333333333,
             "#9c179e"
            ],
            [
             0.4444444444444444,
             "#bd3786"
            ],
            [
             0.5555555555555556,
             "#d8576b"
            ],
            [
             0.6666666666666666,
             "#ed7953"
            ],
            [
             0.7777777777777778,
             "#fb9f3a"
            ],
            [
             0.8888888888888888,
             "#fdca26"
            ],
            [
             1,
             "#f0f921"
            ]
           ],
           "sequentialminus": [
            [
             0,
             "#0d0887"
            ],
            [
             0.1111111111111111,
             "#46039f"
            ],
            [
             0.2222222222222222,
             "#7201a8"
            ],
            [
             0.3333333333333333,
             "#9c179e"
            ],
            [
             0.4444444444444444,
             "#bd3786"
            ],
            [
             0.5555555555555556,
             "#d8576b"
            ],
            [
             0.6666666666666666,
             "#ed7953"
            ],
            [
             0.7777777777777778,
             "#fb9f3a"
            ],
            [
             0.8888888888888888,
             "#fdca26"
            ],
            [
             1,
             "#f0f921"
            ]
           ]
          },
          "colorway": [
           "#636efa",
           "#EF553B",
           "#00cc96",
           "#ab63fa",
           "#FFA15A",
           "#19d3f3",
           "#FF6692",
           "#B6E880",
           "#FF97FF",
           "#FECB52"
          ],
          "font": {
           "color": "#2a3f5f"
          },
          "geo": {
           "bgcolor": "white",
           "lakecolor": "white",
           "landcolor": "#E5ECF6",
           "showlakes": true,
           "showland": true,
           "subunitcolor": "white"
          },
          "hoverlabel": {
           "align": "left"
          },
          "hovermode": "closest",
          "mapbox": {
           "style": "light"
          },
          "paper_bgcolor": "white",
          "plot_bgcolor": "#E5ECF6",
          "polar": {
           "angularaxis": {
            "gridcolor": "white",
            "linecolor": "white",
            "ticks": ""
           },
           "bgcolor": "#E5ECF6",
           "radialaxis": {
            "gridcolor": "white",
            "linecolor": "white",
            "ticks": ""
           }
          },
          "scene": {
           "xaxis": {
            "backgroundcolor": "#E5ECF6",
            "gridcolor": "white",
            "gridwidth": 2,
            "linecolor": "white",
            "showbackground": true,
            "ticks": "",
            "zerolinecolor": "white"
           },
           "yaxis": {
            "backgroundcolor": "#E5ECF6",
            "gridcolor": "white",
            "gridwidth": 2,
            "linecolor": "white",
            "showbackground": true,
            "ticks": "",
            "zerolinecolor": "white"
           },
           "zaxis": {
            "backgroundcolor": "#E5ECF6",
            "gridcolor": "white",
            "gridwidth": 2,
            "linecolor": "white",
            "showbackground": true,
            "ticks": "",
            "zerolinecolor": "white"
           }
          },
          "shapedefaults": {
           "line": {
            "color": "#2a3f5f"
           }
          },
          "ternary": {
           "aaxis": {
            "gridcolor": "white",
            "linecolor": "white",
            "ticks": ""
           },
           "baxis": {
            "gridcolor": "white",
            "linecolor": "white",
            "ticks": ""
           },
           "bgcolor": "#E5ECF6",
           "caxis": {
            "gridcolor": "white",
            "linecolor": "white",
            "ticks": ""
           }
          },
          "title": {
           "x": 0.05
          },
          "xaxis": {
           "automargin": true,
           "gridcolor": "white",
           "linecolor": "white",
           "ticks": "",
           "title": {
            "standoff": 15
           },
           "zerolinecolor": "white",
           "zerolinewidth": 2
          },
          "yaxis": {
           "automargin": true,
           "gridcolor": "white",
           "linecolor": "white",
           "ticks": "",
           "title": {
            "standoff": 15
           },
           "zerolinecolor": "white",
           "zerolinewidth": 2
          }
         }
        },
        "width": 700,
        "xaxis": {
         "gridcolor": "rgb(245, 245, 245)",
         "linecolor": "rgb(0, 0, 0)",
         "linewidth": 2,
         "mirror": true,
         "showline": true,
         "ticks": "inside",
         "title": {
          "font": {
           "size": 30
          },
          "text": "Air pollution release rate"
         }
        },
        "yaxis": {
         "gridcolor": "rgb(245, 245, 245)",
         "linecolor": "rgb(0, 0, 0)",
         "linewidth": 2,
         "mirror": true,
         "showline": true,
         "tickformat": ".1f",
         "title": {
          "font": {
           "size": 30
          },
          "text": "Mean pm2.5 concentration (μg/m³)"
         }
        }
       }
      }
     },
     "metadata": {},
     "output_type": "display_data"
    },
    {
     "name": "stdout",
     "output_type": "stream",
     "text": [
      "../outputs/png/bar_原污染源消失产生新污染源.png\n"
     ]
    }
   ],
   "source": [
    "strategy_name = [\"forestfire_Nonmyopic_Adaptive_Sensing_Operation\",\n",
    "                 \"forestfire_Nonmyopic_Adaptive_Operation\",\n",
    "                 \"forestfire_Without_Operation\"]\n",
    "comparing_variables = [\"releaserate_010\",\"releaserate_020\",\"releaserate_040\"]\n",
    "starttime = '2018-11-23 08:00:00'\n",
    "seed = 0\n",
    "starttime = starttime.replace(' ', '-').replace(':', '-')\n",
    "pklname = 'seed{}_starttime{}'.format(seed, starttime)\n",
    "\n",
    "select_time = 45\n",
    "mean_airpollution = []\n",
    "for comparing_variable in comparing_variables:\n",
    "    lists = []\n",
    "    for stategy in strategy_name:\n",
    "        pkldir = '../outputs/' + stategy + '/' + comparing_variable + '/' + pklname + \".pkl\"\n",
    "        data = pypolo2.experiments.utilities.readpkl(pkldir)\n",
    "        lists.append(data['mean_airpollution'][select_time-1])\n",
    "    mean_airpollution.append(lists)\n",
    "mean_airpollution = np.array(mean_airpollution)\n",
    "\n",
    "labels = np.array(['Low', 'Medium', 'High'])\n",
    "xtitle = 'Air pollution release rate'\n",
    "ytitle = 'Mean pm2.5 concentration (μg/m³)'\n",
    "fig = go.Figure()\n",
    "fig.add_trace(go.Bar(width= 0.23, x=labels, y=mean_airpollution[:,0], name='ActiveSensing-Operation', marker=dict(line_color=colors_dict[2],color=colors_dict[2], pattern_shape='\\\\')))\n",
    "fig.add_trace(go.Bar(width= 0.23, x=labels, y=mean_airpollution[:,1], name='PassiveSensing-Operation', marker=dict(line_color=colors_dict[0],color=colors_dict[0], pattern_shape='x')))\n",
    "fig.add_trace(go.Bar(width= 0.23, x=labels, y=mean_airpollution[:,2], name='No Control', marker=dict(line_color=colors_dict[1],color=colors_dict[1], pattern_shape='+')))\n",
    "\n",
    "fig.update_traces(\n",
    "    marker=dict(pattern_fillmode=\"replace\", line_width=3, pattern_size=13),\n",
    ")\n",
    "\n",
    "fig = bar_update_fig(fig, xtitle, ytitle, width=width, height=height)\n",
    "fig.update_layout(legend=dict(font=dict(size=22), x=0.3, y=1.2, orientation='h')) # name size\n",
    "fig.show()\n",
    "filename = '../outputs/png/bar_原污染源消失产生新污染源.png'\n",
    "print(filename)\n",
    "fig.write_image(filename, scale=1)"
   ]
  },
  {
   "cell_type": "markdown",
   "metadata": {},
   "source": [
    "折线，marker"
   ]
  },
  {
   "cell_type": "code",
   "execution_count": 3,
   "metadata": {},
   "outputs": [
    {
     "data": {
      "application/vnd.plotly.v1+json": {
       "config": {
        "plotlyServerURL": "https://plot.ly"
       },
       "data": [
        {
         "line": {
          "color": "#C74223",
          "width": 4
         },
         "marker": {
          "size": 10,
          "symbol": 4
         },
         "name": "PS-O+LowReleaserate",
         "type": "scatter",
         "x": [
          4,
          8,
          12,
          16,
          20,
          24,
          28,
          32,
          36,
          40,
          44,
          48,
          52,
          56,
          60
         ],
         "y": [
          46.894311530250214,
          47.86660793235513,
          45.727724737351735,
          43.40639852958663,
          42.17926450504034,
          43.40829665504954,
          43.497183356378166,
          41.99129710726209,
          41.266613965248,
          41.381212059076255,
          41.96505096426455,
          41.39624106353487,
          41.49347295622323,
          41.033729666821266,
          40.792664961921574
         ]
        },
        {
         "line": {
          "color": "#245C8F",
          "width": 4
         },
         "marker": {
          "size": 10,
          "symbol": 4
         },
         "name": "AS-O+LowReleaserate",
         "type": "scatter",
         "x": [
          4,
          8,
          12,
          16,
          20,
          24,
          28,
          32,
          36,
          40,
          44,
          48,
          52,
          56,
          60
         ],
         "y": [
          46.8984377313414,
          47.89219574026913,
          45.17412028833407,
          42.76960721749837,
          42.103050489449586,
          43.53455731832566,
          44.26083773436716,
          43.49491975574453,
          43.3401516995479,
          44.084488052841024,
          43.885662287090256,
          41.91380052440276,
          39.23302213661648,
          37.69931653857686,
          37.005731196883396
         ]
        },
        {
         "line": {
          "color": "#C74223",
          "width": 4
         },
         "marker": {
          "size": 10,
          "symbol": 17
         },
         "name": "PS-O+MediumReleaserate",
         "type": "scatter",
         "x": [
          4,
          8,
          12,
          16,
          20,
          24,
          28,
          32,
          36,
          40,
          44,
          48,
          52,
          56,
          60
         ],
         "y": [
          51.073770364696074,
          56.12783770287245,
          55.66699225506102,
          53.44255200655385,
          53.865801168923554,
          57.58374156578746,
          60.006905143154924,
          59.79032898943263,
          58.629722919118194,
          57.53504173101919,
          57.05047763744594,
          56.16383264265008,
          54.91785029235511,
          53.903936641344586,
          53.55745658791073
         ]
        },
        {
         "line": {
          "color": "#245C8F",
          "width": 4
         },
         "marker": {
          "size": 10,
          "symbol": 17
         },
         "name": "AS-O+MediumReleaserate",
         "type": "scatter",
         "x": [
          4,
          8,
          12,
          16,
          20,
          24,
          28,
          32,
          36,
          40,
          44,
          48,
          52,
          56,
          60
         ],
         "y": [
          51.07910063589962,
          56.22659932078556,
          56.311954948147275,
          54.09377249800048,
          53.90045052962902,
          57.74250926808764,
          61.67687150686271,
          64.08419165236415,
          65.29547875439403,
          65.90756258021223,
          66.3420456801575,
          66.53375010118576,
          65.86977874531954,
          65.5525807412353,
          65.41903660659226
         ]
        },
        {
         "line": {
          "color": "#C74223",
          "width": 4
         },
         "marker": {
          "size": 10,
          "symbol": 2
         },
         "name": "PS-O+HighReleaserate",
         "type": "scatter",
         "x": [
          4,
          8,
          12,
          16,
          20,
          24,
          28,
          32,
          36,
          40,
          44,
          48,
          52,
          56,
          60
         ],
         "y": [
          58.96754341440253,
          70.93326774373169,
          73.95609430403644,
          73.75314439730394,
          75.24621696917195,
          81.96976786847628,
          87.18966027775896,
          89.06119487058068,
          88.30304010865464,
          86.77259719388616,
          85.5391564531478,
          85.02320794408041,
          84.82832068202498,
          84.8336382327774,
          84.69536241393195
         ]
        },
        {
         "line": {
          "color": "#245C8F",
          "width": 4
         },
         "marker": {
          "size": 10,
          "symbol": 2
         },
         "name": "AS-O+HighReleaserate",
         "type": "scatter",
         "x": [
          4,
          8,
          12,
          16,
          20,
          24,
          28,
          32,
          36,
          40,
          44,
          48,
          52,
          56,
          60
         ],
         "y": [
          58.97297864416571,
          71.2963742853865,
          77.21294304015073,
          77.93706028297883,
          79.19747852113065,
          85.86756407273796,
          93.29207674580753,
          98.43624104004313,
          99.76252412336393,
          100.80169748378155,
          101.68507336112755,
          102.33793460699013,
          102.85394166570991,
          103.28079898231151,
          103.96239584484525
         ]
        }
       ],
       "layout": {
        "font": {
         "color": "rgb(0, 0, 0)",
         "family": "Arial",
         "size": 30
        },
        "height": 500,
        "legend": {
         "font": {
          "size": 15
         },
         "orientation": "h",
         "title": {
          "text": ""
         },
         "x": 0.5,
         "xanchor": "center",
         "y": 1.17,
         "yanchor": "top"
        },
        "margin": {
         "b": 15,
         "l": 15,
         "r": 15,
         "t": 15
        },
        "plot_bgcolor": "rgb(255,255,255)",
        "template": {
         "data": {
          "bar": [
           {
            "error_x": {
             "color": "#2a3f5f"
            },
            "error_y": {
             "color": "#2a3f5f"
            },
            "marker": {
             "line": {
              "color": "#E5ECF6",
              "width": 0.5
             },
             "pattern": {
              "fillmode": "overlay",
              "size": 10,
              "solidity": 0.2
             }
            },
            "type": "bar"
           }
          ],
          "barpolar": [
           {
            "marker": {
             "line": {
              "color": "#E5ECF6",
              "width": 0.5
             },
             "pattern": {
              "fillmode": "overlay",
              "size": 10,
              "solidity": 0.2
             }
            },
            "type": "barpolar"
           }
          ],
          "carpet": [
           {
            "aaxis": {
             "endlinecolor": "#2a3f5f",
             "gridcolor": "white",
             "linecolor": "white",
             "minorgridcolor": "white",
             "startlinecolor": "#2a3f5f"
            },
            "baxis": {
             "endlinecolor": "#2a3f5f",
             "gridcolor": "white",
             "linecolor": "white",
             "minorgridcolor": "white",
             "startlinecolor": "#2a3f5f"
            },
            "type": "carpet"
           }
          ],
          "choropleth": [
           {
            "colorbar": {
             "outlinewidth": 0,
             "ticks": ""
            },
            "type": "choropleth"
           }
          ],
          "contour": [
           {
            "colorbar": {
             "outlinewidth": 0,
             "ticks": ""
            },
            "colorscale": [
             [
              0,
              "#0d0887"
             ],
             [
              0.1111111111111111,
              "#46039f"
             ],
             [
              0.2222222222222222,
              "#7201a8"
             ],
             [
              0.3333333333333333,
              "#9c179e"
             ],
             [
              0.4444444444444444,
              "#bd3786"
             ],
             [
              0.5555555555555556,
              "#d8576b"
             ],
             [
              0.6666666666666666,
              "#ed7953"
             ],
             [
              0.7777777777777778,
              "#fb9f3a"
             ],
             [
              0.8888888888888888,
              "#fdca26"
             ],
             [
              1,
              "#f0f921"
             ]
            ],
            "type": "contour"
           }
          ],
          "contourcarpet": [
           {
            "colorbar": {
             "outlinewidth": 0,
             "ticks": ""
            },
            "type": "contourcarpet"
           }
          ],
          "heatmap": [
           {
            "colorbar": {
             "outlinewidth": 0,
             "ticks": ""
            },
            "colorscale": [
             [
              0,
              "#0d0887"
             ],
             [
              0.1111111111111111,
              "#46039f"
             ],
             [
              0.2222222222222222,
              "#7201a8"
             ],
             [
              0.3333333333333333,
              "#9c179e"
             ],
             [
              0.4444444444444444,
              "#bd3786"
             ],
             [
              0.5555555555555556,
              "#d8576b"
             ],
             [
              0.6666666666666666,
              "#ed7953"
             ],
             [
              0.7777777777777778,
              "#fb9f3a"
             ],
             [
              0.8888888888888888,
              "#fdca26"
             ],
             [
              1,
              "#f0f921"
             ]
            ],
            "type": "heatmap"
           }
          ],
          "heatmapgl": [
           {
            "colorbar": {
             "outlinewidth": 0,
             "ticks": ""
            },
            "colorscale": [
             [
              0,
              "#0d0887"
             ],
             [
              0.1111111111111111,
              "#46039f"
             ],
             [
              0.2222222222222222,
              "#7201a8"
             ],
             [
              0.3333333333333333,
              "#9c179e"
             ],
             [
              0.4444444444444444,
              "#bd3786"
             ],
             [
              0.5555555555555556,
              "#d8576b"
             ],
             [
              0.6666666666666666,
              "#ed7953"
             ],
             [
              0.7777777777777778,
              "#fb9f3a"
             ],
             [
              0.8888888888888888,
              "#fdca26"
             ],
             [
              1,
              "#f0f921"
             ]
            ],
            "type": "heatmapgl"
           }
          ],
          "histogram": [
           {
            "marker": {
             "pattern": {
              "fillmode": "overlay",
              "size": 10,
              "solidity": 0.2
             }
            },
            "type": "histogram"
           }
          ],
          "histogram2d": [
           {
            "colorbar": {
             "outlinewidth": 0,
             "ticks": ""
            },
            "colorscale": [
             [
              0,
              "#0d0887"
             ],
             [
              0.1111111111111111,
              "#46039f"
             ],
             [
              0.2222222222222222,
              "#7201a8"
             ],
             [
              0.3333333333333333,
              "#9c179e"
             ],
             [
              0.4444444444444444,
              "#bd3786"
             ],
             [
              0.5555555555555556,
              "#d8576b"
             ],
             [
              0.6666666666666666,
              "#ed7953"
             ],
             [
              0.7777777777777778,
              "#fb9f3a"
             ],
             [
              0.8888888888888888,
              "#fdca26"
             ],
             [
              1,
              "#f0f921"
             ]
            ],
            "type": "histogram2d"
           }
          ],
          "histogram2dcontour": [
           {
            "colorbar": {
             "outlinewidth": 0,
             "ticks": ""
            },
            "colorscale": [
             [
              0,
              "#0d0887"
             ],
             [
              0.1111111111111111,
              "#46039f"
             ],
             [
              0.2222222222222222,
              "#7201a8"
             ],
             [
              0.3333333333333333,
              "#9c179e"
             ],
             [
              0.4444444444444444,
              "#bd3786"
             ],
             [
              0.5555555555555556,
              "#d8576b"
             ],
             [
              0.6666666666666666,
              "#ed7953"
             ],
             [
              0.7777777777777778,
              "#fb9f3a"
             ],
             [
              0.8888888888888888,
              "#fdca26"
             ],
             [
              1,
              "#f0f921"
             ]
            ],
            "type": "histogram2dcontour"
           }
          ],
          "mesh3d": [
           {
            "colorbar": {
             "outlinewidth": 0,
             "ticks": ""
            },
            "type": "mesh3d"
           }
          ],
          "parcoords": [
           {
            "line": {
             "colorbar": {
              "outlinewidth": 0,
              "ticks": ""
             }
            },
            "type": "parcoords"
           }
          ],
          "pie": [
           {
            "automargin": true,
            "type": "pie"
           }
          ],
          "scatter": [
           {
            "fillpattern": {
             "fillmode": "overlay",
             "size": 10,
             "solidity": 0.2
            },
            "type": "scatter"
           }
          ],
          "scatter3d": [
           {
            "line": {
             "colorbar": {
              "outlinewidth": 0,
              "ticks": ""
             }
            },
            "marker": {
             "colorbar": {
              "outlinewidth": 0,
              "ticks": ""
             }
            },
            "type": "scatter3d"
           }
          ],
          "scattercarpet": [
           {
            "marker": {
             "colorbar": {
              "outlinewidth": 0,
              "ticks": ""
             }
            },
            "type": "scattercarpet"
           }
          ],
          "scattergeo": [
           {
            "marker": {
             "colorbar": {
              "outlinewidth": 0,
              "ticks": ""
             }
            },
            "type": "scattergeo"
           }
          ],
          "scattergl": [
           {
            "marker": {
             "colorbar": {
              "outlinewidth": 0,
              "ticks": ""
             }
            },
            "type": "scattergl"
           }
          ],
          "scattermapbox": [
           {
            "marker": {
             "colorbar": {
              "outlinewidth": 0,
              "ticks": ""
             }
            },
            "type": "scattermapbox"
           }
          ],
          "scatterpolar": [
           {
            "marker": {
             "colorbar": {
              "outlinewidth": 0,
              "ticks": ""
             }
            },
            "type": "scatterpolar"
           }
          ],
          "scatterpolargl": [
           {
            "marker": {
             "colorbar": {
              "outlinewidth": 0,
              "ticks": ""
             }
            },
            "type": "scatterpolargl"
           }
          ],
          "scatterternary": [
           {
            "marker": {
             "colorbar": {
              "outlinewidth": 0,
              "ticks": ""
             }
            },
            "type": "scatterternary"
           }
          ],
          "surface": [
           {
            "colorbar": {
             "outlinewidth": 0,
             "ticks": ""
            },
            "colorscale": [
             [
              0,
              "#0d0887"
             ],
             [
              0.1111111111111111,
              "#46039f"
             ],
             [
              0.2222222222222222,
              "#7201a8"
             ],
             [
              0.3333333333333333,
              "#9c179e"
             ],
             [
              0.4444444444444444,
              "#bd3786"
             ],
             [
              0.5555555555555556,
              "#d8576b"
             ],
             [
              0.6666666666666666,
              "#ed7953"
             ],
             [
              0.7777777777777778,
              "#fb9f3a"
             ],
             [
              0.8888888888888888,
              "#fdca26"
             ],
             [
              1,
              "#f0f921"
             ]
            ],
            "type": "surface"
           }
          ],
          "table": [
           {
            "cells": {
             "fill": {
              "color": "#EBF0F8"
             },
             "line": {
              "color": "white"
             }
            },
            "header": {
             "fill": {
              "color": "#C8D4E3"
             },
             "line": {
              "color": "white"
             }
            },
            "type": "table"
           }
          ]
         },
         "layout": {
          "annotationdefaults": {
           "arrowcolor": "#2a3f5f",
           "arrowhead": 0,
           "arrowwidth": 1
          },
          "autotypenumbers": "strict",
          "coloraxis": {
           "colorbar": {
            "outlinewidth": 0,
            "ticks": ""
           }
          },
          "colorscale": {
           "diverging": [
            [
             0,
             "#8e0152"
            ],
            [
             0.1,
             "#c51b7d"
            ],
            [
             0.2,
             "#de77ae"
            ],
            [
             0.3,
             "#f1b6da"
            ],
            [
             0.4,
             "#fde0ef"
            ],
            [
             0.5,
             "#f7f7f7"
            ],
            [
             0.6,
             "#e6f5d0"
            ],
            [
             0.7,
             "#b8e186"
            ],
            [
             0.8,
             "#7fbc41"
            ],
            [
             0.9,
             "#4d9221"
            ],
            [
             1,
             "#276419"
            ]
           ],
           "sequential": [
            [
             0,
             "#0d0887"
            ],
            [
             0.1111111111111111,
             "#46039f"
            ],
            [
             0.2222222222222222,
             "#7201a8"
            ],
            [
             0.3333333333333333,
             "#9c179e"
            ],
            [
             0.4444444444444444,
             "#bd3786"
            ],
            [
             0.5555555555555556,
             "#d8576b"
            ],
            [
             0.6666666666666666,
             "#ed7953"
            ],
            [
             0.7777777777777778,
             "#fb9f3a"
            ],
            [
             0.8888888888888888,
             "#fdca26"
            ],
            [
             1,
             "#f0f921"
            ]
           ],
           "sequentialminus": [
            [
             0,
             "#0d0887"
            ],
            [
             0.1111111111111111,
             "#46039f"
            ],
            [
             0.2222222222222222,
             "#7201a8"
            ],
            [
             0.3333333333333333,
             "#9c179e"
            ],
            [
             0.4444444444444444,
             "#bd3786"
            ],
            [
             0.5555555555555556,
             "#d8576b"
            ],
            [
             0.6666666666666666,
             "#ed7953"
            ],
            [
             0.7777777777777778,
             "#fb9f3a"
            ],
            [
             0.8888888888888888,
             "#fdca26"
            ],
            [
             1,
             "#f0f921"
            ]
           ]
          },
          "colorway": [
           "#636efa",
           "#EF553B",
           "#00cc96",
           "#ab63fa",
           "#FFA15A",
           "#19d3f3",
           "#FF6692",
           "#B6E880",
           "#FF97FF",
           "#FECB52"
          ],
          "font": {
           "color": "#2a3f5f"
          },
          "geo": {
           "bgcolor": "white",
           "lakecolor": "white",
           "landcolor": "#E5ECF6",
           "showlakes": true,
           "showland": true,
           "subunitcolor": "white"
          },
          "hoverlabel": {
           "align": "left"
          },
          "hovermode": "closest",
          "mapbox": {
           "style": "light"
          },
          "paper_bgcolor": "white",
          "plot_bgcolor": "#E5ECF6",
          "polar": {
           "angularaxis": {
            "gridcolor": "white",
            "linecolor": "white",
            "ticks": ""
           },
           "bgcolor": "#E5ECF6",
           "radialaxis": {
            "gridcolor": "white",
            "linecolor": "white",
            "ticks": ""
           }
          },
          "scene": {
           "xaxis": {
            "backgroundcolor": "#E5ECF6",
            "gridcolor": "white",
            "gridwidth": 2,
            "linecolor": "white",
            "showbackground": true,
            "ticks": "",
            "zerolinecolor": "white"
           },
           "yaxis": {
            "backgroundcolor": "#E5ECF6",
            "gridcolor": "white",
            "gridwidth": 2,
            "linecolor": "white",
            "showbackground": true,
            "ticks": "",
            "zerolinecolor": "white"
           },
           "zaxis": {
            "backgroundcolor": "#E5ECF6",
            "gridcolor": "white",
            "gridwidth": 2,
            "linecolor": "white",
            "showbackground": true,
            "ticks": "",
            "zerolinecolor": "white"
           }
          },
          "shapedefaults": {
           "line": {
            "color": "#2a3f5f"
           }
          },
          "ternary": {
           "aaxis": {
            "gridcolor": "white",
            "linecolor": "white",
            "ticks": ""
           },
           "baxis": {
            "gridcolor": "white",
            "linecolor": "white",
            "ticks": ""
           },
           "bgcolor": "#E5ECF6",
           "caxis": {
            "gridcolor": "white",
            "linecolor": "white",
            "ticks": ""
           }
          },
          "title": {
           "x": 0.05
          },
          "xaxis": {
           "automargin": true,
           "gridcolor": "white",
           "linecolor": "white",
           "ticks": "",
           "title": {
            "standoff": 15
           },
           "zerolinecolor": "white",
           "zerolinewidth": 2
          },
          "yaxis": {
           "automargin": true,
           "gridcolor": "white",
           "linecolor": "white",
           "ticks": "",
           "title": {
            "standoff": 15
           },
           "zerolinecolor": "white",
           "zerolinewidth": 2
          }
         }
        },
        "width": 700,
        "xaxis": {
         "gridcolor": "rgb(200, 200, 200)",
         "linecolor": "rgb(0, 0, 0)",
         "linewidth": 2,
         "mirror": true,
         "showline": true,
         "ticks": "inside",
         "title": {
          "font": {
           "size": 30
          },
          "text": "Planning Step"
         }
        },
        "yaxis": {
         "gridcolor": "rgb(200, 200, 200)",
         "linecolor": "rgb(0, 0, 0)",
         "linewidth": 2,
         "mirror": true,
         "showline": true,
         "tickformat": ".1f",
         "ticks": "inside",
         "title": {
          "font": {
           "size": 30
          },
          "text": "Mean pm2.5 concentration (μg/m³)"
         }
        }
       }
      }
     },
     "metadata": {},
     "output_type": "display_data"
    },
    {
     "name": "stdout",
     "output_type": "stream",
     "text": [
      "../outputs/png/line_原污染源消失产生新污染源marker.png\n"
     ]
    }
   ],
   "source": [
    "strategy_name = [\"forestfire_Nonmyopic_Adaptive_Sensing_Operation\",\n",
    "                 \"forestfire_Nonmyopic_Adaptive_Operation\",\n",
    "                 \"forestfire_Without_Operation\"]\n",
    "comparing_variables = [\"releaserate_010\",\"releaserate_020\",\"releaserate_040\"]\n",
    "starttime = '2018-11-23 08:00:00'\n",
    "seed = 0\n",
    "starttime = starttime.replace(' ', '-').replace(':', '-')\n",
    "pklname = 'seed{}_starttime{}'.format(seed, starttime)\n",
    "\n",
    "Time_deadline = 15\n",
    "\n",
    "# 读取数据并降采样\n",
    "mean_airpollution = []\n",
    "for comparing_variable in comparing_variables:\n",
    "    lists = []\n",
    "    for stategy in strategy_name:\n",
    "        resampled_mean_airpollution = []\n",
    "        pkldir = '../outputs/' + stategy + '/' + comparing_variable + '/' + pklname + \".pkl\"\n",
    "        data = pypolo2.experiments.utilities.readpkl(pkldir)\n",
    "        for i in range(0, 60, 4):\n",
    "            resampled_mean_airpollution.append(np.mean(np.array(data['mean_airpollution'])[i:i+4]))\n",
    "        resampled_mean_airpollution = np.array(resampled_mean_airpollution)\n",
    "        lists.append(resampled_mean_airpollution)\n",
    "    mean_airpollution.append(lists)\n",
    "# ax.plot(mean_airpollution[0][0], label='Sensing_Operation-Low_release_rate')\n",
    "\n",
    "labels = []\n",
    "for i in range(Time_deadline):\n",
    "    labels.append(int(4 * i + 4))\n",
    "\n",
    "xtitle = 'Planning Step'\n",
    "ytitle = 'Mean pm2.5 concentration (μg/m³)'\n",
    "\n",
    "fig = go.Figure()\n",
    "fig.add_trace(go.Scatter(x=labels, y=mean_airpollution[0][0][0:Time_deadline], name='PS-O+LowReleaserate', marker=dict(size=markersize, symbol=markersymbol['FH']),line=dict(color=colors_dict[0], width=linewidth),))\n",
    "fig.add_trace(go.Scatter(x=labels, y=mean_airpollution[0][1][0:Time_deadline], name='AS-O+LowReleaserate', marker=dict(size=markersize, symbol=markersymbol['FH']),line=dict(color=colors_dict[2], width=linewidth),))\n",
    "fig.add_trace(go.Scatter(x=labels, y=mean_airpollution[1][0][0:Time_deadline], name='PS-O+MediumReleaserate', marker=dict(size=markersize, symbol=markersymbol['HEUR']),line=dict(color=colors_dict[0], width=linewidth),))\n",
    "fig.add_trace(go.Scatter(x=labels, y=mean_airpollution[1][1][0:Time_deadline], name='AS-O+MediumReleaserate', marker=dict(size=markersize, symbol=markersymbol['HEUR']),line=dict(color=colors_dict[2], width=linewidth),))\n",
    "fig.add_trace(go.Scatter(x=labels, y=mean_airpollution[2][0][0:Time_deadline], name='PS-O+HighReleaserate', marker=dict(size=markersize, symbol=markersymbol['DDRL']),line=dict(color=colors_dict[0], width=linewidth),))\n",
    "fig.add_trace(go.Scatter(x=labels, y=mean_airpollution[2][1][0:Time_deadline], name='AS-O+HighReleaserate', marker=dict(size=markersize, symbol=markersymbol['DDRL']),line=dict(color=colors_dict[2], width=linewidth),))\n",
    "\n",
    "fig = line_update_fig(fig, xtitle, ytitle, width=width, height=height)\n",
    "fig.update_layout(legend=dict(font=dict(size=15))) # name size\n",
    "fig.show()\n",
    "filename = '../outputs/png/line_原污染源消失产生新污染源marker.png'\n",
    "print(filename)\n",
    "fig.write_image(filename, scale=1)"
   ]
  },
  {
   "cell_type": "markdown",
   "metadata": {},
   "source": [
    "折线，线型"
   ]
  },
  {
   "cell_type": "code",
   "execution_count": 5,
   "metadata": {},
   "outputs": [
    {
     "data": {
      "application/vnd.plotly.v1+json": {
       "config": {
        "plotlyServerURL": "https://plot.ly"
       },
       "data": [
        {
         "line": {
          "color": "#C74223",
          "dash": "dot",
          "width": 4
         },
         "mode": "lines",
         "name": "PS-O+LowReleaserate",
         "type": "scatter",
         "x": [
          0,
          4,
          8,
          12,
          16,
          20,
          24,
          28,
          32,
          36,
          40,
          44,
          48,
          52,
          56
         ],
         "y": [
          46.894311530250214,
          47.86660793235513,
          45.727724737351735,
          43.40639852958663,
          42.17926450504034,
          43.40829665504954,
          43.497183356378166,
          41.99129710726209,
          41.266613965248,
          41.381212059076255,
          41.96505096426455,
          41.39624106353487,
          41.49347295622323,
          41.033729666821266,
          40.792664961921574
         ]
        },
        {
         "line": {
          "color": "#245C8F",
          "dash": "dot",
          "width": 4
         },
         "mode": "lines",
         "name": "AS-O+LowReleaserate",
         "type": "scatter",
         "x": [
          0,
          4,
          8,
          12,
          16,
          20,
          24,
          28,
          32,
          36,
          40,
          44,
          48,
          52,
          56
         ],
         "y": [
          46.8984377313414,
          47.89219574026913,
          45.17412028833407,
          42.76960721749837,
          42.103050489449586,
          43.53455731832566,
          44.26083773436716,
          43.49491975574453,
          43.3401516995479,
          44.084488052841024,
          43.885662287090256,
          41.91380052440276,
          39.23302213661648,
          37.69931653857686,
          37.005731196883396
         ]
        },
        {
         "line": {
          "color": "#C74223",
          "dash": "dashdot",
          "width": 4
         },
         "mode": "lines",
         "name": "PS-O+MediumReleaserate",
         "type": "scatter",
         "x": [
          0,
          4,
          8,
          12,
          16,
          20,
          24,
          28,
          32,
          36,
          40,
          44,
          48,
          52,
          56
         ],
         "y": [
          51.073770364696074,
          56.12783770287245,
          55.66699225506102,
          53.44255200655385,
          53.865801168923554,
          57.58374156578746,
          60.006905143154924,
          59.79032898943263,
          58.629722919118194,
          57.53504173101919,
          57.05047763744594,
          56.16383264265008,
          54.91785029235511,
          53.903936641344586,
          53.55745658791073
         ]
        },
        {
         "line": {
          "color": "#245C8F",
          "dash": "dashdot",
          "width": 4
         },
         "mode": "lines",
         "name": "AS-O+MediumReleaserate",
         "type": "scatter",
         "x": [
          0,
          4,
          8,
          12,
          16,
          20,
          24,
          28,
          32,
          36,
          40,
          44,
          48,
          52,
          56
         ],
         "y": [
          51.07910063589962,
          56.22659932078556,
          56.311954948147275,
          54.09377249800048,
          53.90045052962902,
          57.74250926808764,
          61.67687150686271,
          64.08419165236415,
          65.29547875439403,
          65.90756258021223,
          66.3420456801575,
          66.53375010118576,
          65.86977874531954,
          65.5525807412353,
          65.41903660659226
         ]
        },
        {
         "line": {
          "color": "#C74223",
          "dash": "solid",
          "width": 4
         },
         "mode": "lines",
         "name": "PS-O+HighReleaserate",
         "type": "scatter",
         "x": [
          0,
          4,
          8,
          12,
          16,
          20,
          24,
          28,
          32,
          36,
          40,
          44,
          48,
          52,
          56
         ],
         "y": [
          58.96754341440253,
          70.93326774373169,
          73.95609430403644,
          73.75314439730394,
          75.24621696917195,
          81.96976786847628,
          87.18966027775896,
          89.06119487058068,
          88.30304010865464,
          86.77259719388616,
          85.5391564531478,
          85.02320794408041,
          84.82832068202498,
          84.8336382327774,
          84.69536241393195
         ]
        },
        {
         "line": {
          "color": "#245C8F",
          "dash": "solid",
          "width": 4
         },
         "mode": "lines",
         "name": "AS-O+HighReleaserate",
         "type": "scatter",
         "x": [
          0,
          4,
          8,
          12,
          16,
          20,
          24,
          28,
          32,
          36,
          40,
          44,
          48,
          52,
          56
         ],
         "y": [
          58.97297864416571,
          71.2963742853865,
          77.21294304015073,
          77.93706028297883,
          79.19747852113065,
          85.86756407273796,
          93.29207674580753,
          98.43624104004313,
          99.76252412336393,
          100.80169748378155,
          101.68507336112755,
          102.33793460699013,
          102.85394166570991,
          103.28079898231151,
          103.96239584484525
         ]
        }
       ],
       "layout": {
        "font": {
         "color": "rgb(0, 0, 0)",
         "family": "Arial",
         "size": 30
        },
        "height": 500,
        "legend": {
         "font": {
          "size": 15
         },
         "orientation": "h",
         "title": {
          "text": ""
         },
         "x": 0.5,
         "xanchor": "center",
         "y": 1.17,
         "yanchor": "top"
        },
        "margin": {
         "b": 15,
         "l": 15,
         "r": 15,
         "t": 15
        },
        "plot_bgcolor": "rgb(255,255,255)",
        "template": {
         "data": {
          "bar": [
           {
            "error_x": {
             "color": "#2a3f5f"
            },
            "error_y": {
             "color": "#2a3f5f"
            },
            "marker": {
             "line": {
              "color": "#E5ECF6",
              "width": 0.5
             },
             "pattern": {
              "fillmode": "overlay",
              "size": 10,
              "solidity": 0.2
             }
            },
            "type": "bar"
           }
          ],
          "barpolar": [
           {
            "marker": {
             "line": {
              "color": "#E5ECF6",
              "width": 0.5
             },
             "pattern": {
              "fillmode": "overlay",
              "size": 10,
              "solidity": 0.2
             }
            },
            "type": "barpolar"
           }
          ],
          "carpet": [
           {
            "aaxis": {
             "endlinecolor": "#2a3f5f",
             "gridcolor": "white",
             "linecolor": "white",
             "minorgridcolor": "white",
             "startlinecolor": "#2a3f5f"
            },
            "baxis": {
             "endlinecolor": "#2a3f5f",
             "gridcolor": "white",
             "linecolor": "white",
             "minorgridcolor": "white",
             "startlinecolor": "#2a3f5f"
            },
            "type": "carpet"
           }
          ],
          "choropleth": [
           {
            "colorbar": {
             "outlinewidth": 0,
             "ticks": ""
            },
            "type": "choropleth"
           }
          ],
          "contour": [
           {
            "colorbar": {
             "outlinewidth": 0,
             "ticks": ""
            },
            "colorscale": [
             [
              0,
              "#0d0887"
             ],
             [
              0.1111111111111111,
              "#46039f"
             ],
             [
              0.2222222222222222,
              "#7201a8"
             ],
             [
              0.3333333333333333,
              "#9c179e"
             ],
             [
              0.4444444444444444,
              "#bd3786"
             ],
             [
              0.5555555555555556,
              "#d8576b"
             ],
             [
              0.6666666666666666,
              "#ed7953"
             ],
             [
              0.7777777777777778,
              "#fb9f3a"
             ],
             [
              0.8888888888888888,
              "#fdca26"
             ],
             [
              1,
              "#f0f921"
             ]
            ],
            "type": "contour"
           }
          ],
          "contourcarpet": [
           {
            "colorbar": {
             "outlinewidth": 0,
             "ticks": ""
            },
            "type": "contourcarpet"
           }
          ],
          "heatmap": [
           {
            "colorbar": {
             "outlinewidth": 0,
             "ticks": ""
            },
            "colorscale": [
             [
              0,
              "#0d0887"
             ],
             [
              0.1111111111111111,
              "#46039f"
             ],
             [
              0.2222222222222222,
              "#7201a8"
             ],
             [
              0.3333333333333333,
              "#9c179e"
             ],
             [
              0.4444444444444444,
              "#bd3786"
             ],
             [
              0.5555555555555556,
              "#d8576b"
             ],
             [
              0.6666666666666666,
              "#ed7953"
             ],
             [
              0.7777777777777778,
              "#fb9f3a"
             ],
             [
              0.8888888888888888,
              "#fdca26"
             ],
             [
              1,
              "#f0f921"
             ]
            ],
            "type": "heatmap"
           }
          ],
          "heatmapgl": [
           {
            "colorbar": {
             "outlinewidth": 0,
             "ticks": ""
            },
            "colorscale": [
             [
              0,
              "#0d0887"
             ],
             [
              0.1111111111111111,
              "#46039f"
             ],
             [
              0.2222222222222222,
              "#7201a8"
             ],
             [
              0.3333333333333333,
              "#9c179e"
             ],
             [
              0.4444444444444444,
              "#bd3786"
             ],
             [
              0.5555555555555556,
              "#d8576b"
             ],
             [
              0.6666666666666666,
              "#ed7953"
             ],
             [
              0.7777777777777778,
              "#fb9f3a"
             ],
             [
              0.8888888888888888,
              "#fdca26"
             ],
             [
              1,
              "#f0f921"
             ]
            ],
            "type": "heatmapgl"
           }
          ],
          "histogram": [
           {
            "marker": {
             "pattern": {
              "fillmode": "overlay",
              "size": 10,
              "solidity": 0.2
             }
            },
            "type": "histogram"
           }
          ],
          "histogram2d": [
           {
            "colorbar": {
             "outlinewidth": 0,
             "ticks": ""
            },
            "colorscale": [
             [
              0,
              "#0d0887"
             ],
             [
              0.1111111111111111,
              "#46039f"
             ],
             [
              0.2222222222222222,
              "#7201a8"
             ],
             [
              0.3333333333333333,
              "#9c179e"
             ],
             [
              0.4444444444444444,
              "#bd3786"
             ],
             [
              0.5555555555555556,
              "#d8576b"
             ],
             [
              0.6666666666666666,
              "#ed7953"
             ],
             [
              0.7777777777777778,
              "#fb9f3a"
             ],
             [
              0.8888888888888888,
              "#fdca26"
             ],
             [
              1,
              "#f0f921"
             ]
            ],
            "type": "histogram2d"
           }
          ],
          "histogram2dcontour": [
           {
            "colorbar": {
             "outlinewidth": 0,
             "ticks": ""
            },
            "colorscale": [
             [
              0,
              "#0d0887"
             ],
             [
              0.1111111111111111,
              "#46039f"
             ],
             [
              0.2222222222222222,
              "#7201a8"
             ],
             [
              0.3333333333333333,
              "#9c179e"
             ],
             [
              0.4444444444444444,
              "#bd3786"
             ],
             [
              0.5555555555555556,
              "#d8576b"
             ],
             [
              0.6666666666666666,
              "#ed7953"
             ],
             [
              0.7777777777777778,
              "#fb9f3a"
             ],
             [
              0.8888888888888888,
              "#fdca26"
             ],
             [
              1,
              "#f0f921"
             ]
            ],
            "type": "histogram2dcontour"
           }
          ],
          "mesh3d": [
           {
            "colorbar": {
             "outlinewidth": 0,
             "ticks": ""
            },
            "type": "mesh3d"
           }
          ],
          "parcoords": [
           {
            "line": {
             "colorbar": {
              "outlinewidth": 0,
              "ticks": ""
             }
            },
            "type": "parcoords"
           }
          ],
          "pie": [
           {
            "automargin": true,
            "type": "pie"
           }
          ],
          "scatter": [
           {
            "fillpattern": {
             "fillmode": "overlay",
             "size": 10,
             "solidity": 0.2
            },
            "type": "scatter"
           }
          ],
          "scatter3d": [
           {
            "line": {
             "colorbar": {
              "outlinewidth": 0,
              "ticks": ""
             }
            },
            "marker": {
             "colorbar": {
              "outlinewidth": 0,
              "ticks": ""
             }
            },
            "type": "scatter3d"
           }
          ],
          "scattercarpet": [
           {
            "marker": {
             "colorbar": {
              "outlinewidth": 0,
              "ticks": ""
             }
            },
            "type": "scattercarpet"
           }
          ],
          "scattergeo": [
           {
            "marker": {
             "colorbar": {
              "outlinewidth": 0,
              "ticks": ""
             }
            },
            "type": "scattergeo"
           }
          ],
          "scattergl": [
           {
            "marker": {
             "colorbar": {
              "outlinewidth": 0,
              "ticks": ""
             }
            },
            "type": "scattergl"
           }
          ],
          "scattermapbox": [
           {
            "marker": {
             "colorbar": {
              "outlinewidth": 0,
              "ticks": ""
             }
            },
            "type": "scattermapbox"
           }
          ],
          "scatterpolar": [
           {
            "marker": {
             "colorbar": {
              "outlinewidth": 0,
              "ticks": ""
             }
            },
            "type": "scatterpolar"
           }
          ],
          "scatterpolargl": [
           {
            "marker": {
             "colorbar": {
              "outlinewidth": 0,
              "ticks": ""
             }
            },
            "type": "scatterpolargl"
           }
          ],
          "scatterternary": [
           {
            "marker": {
             "colorbar": {
              "outlinewidth": 0,
              "ticks": ""
             }
            },
            "type": "scatterternary"
           }
          ],
          "surface": [
           {
            "colorbar": {
             "outlinewidth": 0,
             "ticks": ""
            },
            "colorscale": [
             [
              0,
              "#0d0887"
             ],
             [
              0.1111111111111111,
              "#46039f"
             ],
             [
              0.2222222222222222,
              "#7201a8"
             ],
             [
              0.3333333333333333,
              "#9c179e"
             ],
             [
              0.4444444444444444,
              "#bd3786"
             ],
             [
              0.5555555555555556,
              "#d8576b"
             ],
             [
              0.6666666666666666,
              "#ed7953"
             ],
             [
              0.7777777777777778,
              "#fb9f3a"
             ],
             [
              0.8888888888888888,
              "#fdca26"
             ],
             [
              1,
              "#f0f921"
             ]
            ],
            "type": "surface"
           }
          ],
          "table": [
           {
            "cells": {
             "fill": {
              "color": "#EBF0F8"
             },
             "line": {
              "color": "white"
             }
            },
            "header": {
             "fill": {
              "color": "#C8D4E3"
             },
             "line": {
              "color": "white"
             }
            },
            "type": "table"
           }
          ]
         },
         "layout": {
          "annotationdefaults": {
           "arrowcolor": "#2a3f5f",
           "arrowhead": 0,
           "arrowwidth": 1
          },
          "autotypenumbers": "strict",
          "coloraxis": {
           "colorbar": {
            "outlinewidth": 0,
            "ticks": ""
           }
          },
          "colorscale": {
           "diverging": [
            [
             0,
             "#8e0152"
            ],
            [
             0.1,
             "#c51b7d"
            ],
            [
             0.2,
             "#de77ae"
            ],
            [
             0.3,
             "#f1b6da"
            ],
            [
             0.4,
             "#fde0ef"
            ],
            [
             0.5,
             "#f7f7f7"
            ],
            [
             0.6,
             "#e6f5d0"
            ],
            [
             0.7,
             "#b8e186"
            ],
            [
             0.8,
             "#7fbc41"
            ],
            [
             0.9,
             "#4d9221"
            ],
            [
             1,
             "#276419"
            ]
           ],
           "sequential": [
            [
             0,
             "#0d0887"
            ],
            [
             0.1111111111111111,
             "#46039f"
            ],
            [
             0.2222222222222222,
             "#7201a8"
            ],
            [
             0.3333333333333333,
             "#9c179e"
            ],
            [
             0.4444444444444444,
             "#bd3786"
            ],
            [
             0.5555555555555556,
             "#d8576b"
            ],
            [
             0.6666666666666666,
             "#ed7953"
            ],
            [
             0.7777777777777778,
             "#fb9f3a"
            ],
            [
             0.8888888888888888,
             "#fdca26"
            ],
            [
             1,
             "#f0f921"
            ]
           ],
           "sequentialminus": [
            [
             0,
             "#0d0887"
            ],
            [
             0.1111111111111111,
             "#46039f"
            ],
            [
             0.2222222222222222,
             "#7201a8"
            ],
            [
             0.3333333333333333,
             "#9c179e"
            ],
            [
             0.4444444444444444,
             "#bd3786"
            ],
            [
             0.5555555555555556,
             "#d8576b"
            ],
            [
             0.6666666666666666,
             "#ed7953"
            ],
            [
             0.7777777777777778,
             "#fb9f3a"
            ],
            [
             0.8888888888888888,
             "#fdca26"
            ],
            [
             1,
             "#f0f921"
            ]
           ]
          },
          "colorway": [
           "#636efa",
           "#EF553B",
           "#00cc96",
           "#ab63fa",
           "#FFA15A",
           "#19d3f3",
           "#FF6692",
           "#B6E880",
           "#FF97FF",
           "#FECB52"
          ],
          "font": {
           "color": "#2a3f5f"
          },
          "geo": {
           "bgcolor": "white",
           "lakecolor": "white",
           "landcolor": "#E5ECF6",
           "showlakes": true,
           "showland": true,
           "subunitcolor": "white"
          },
          "hoverlabel": {
           "align": "left"
          },
          "hovermode": "closest",
          "mapbox": {
           "style": "light"
          },
          "paper_bgcolor": "white",
          "plot_bgcolor": "#E5ECF6",
          "polar": {
           "angularaxis": {
            "gridcolor": "white",
            "linecolor": "white",
            "ticks": ""
           },
           "bgcolor": "#E5ECF6",
           "radialaxis": {
            "gridcolor": "white",
            "linecolor": "white",
            "ticks": ""
           }
          },
          "scene": {
           "xaxis": {
            "backgroundcolor": "#E5ECF6",
            "gridcolor": "white",
            "gridwidth": 2,
            "linecolor": "white",
            "showbackground": true,
            "ticks": "",
            "zerolinecolor": "white"
           },
           "yaxis": {
            "backgroundcolor": "#E5ECF6",
            "gridcolor": "white",
            "gridwidth": 2,
            "linecolor": "white",
            "showbackground": true,
            "ticks": "",
            "zerolinecolor": "white"
           },
           "zaxis": {
            "backgroundcolor": "#E5ECF6",
            "gridcolor": "white",
            "gridwidth": 2,
            "linecolor": "white",
            "showbackground": true,
            "ticks": "",
            "zerolinecolor": "white"
           }
          },
          "shapedefaults": {
           "line": {
            "color": "#2a3f5f"
           }
          },
          "ternary": {
           "aaxis": {
            "gridcolor": "white",
            "linecolor": "white",
            "ticks": ""
           },
           "baxis": {
            "gridcolor": "white",
            "linecolor": "white",
            "ticks": ""
           },
           "bgcolor": "#E5ECF6",
           "caxis": {
            "gridcolor": "white",
            "linecolor": "white",
            "ticks": ""
           }
          },
          "title": {
           "x": 0.05
          },
          "xaxis": {
           "automargin": true,
           "gridcolor": "white",
           "linecolor": "white",
           "ticks": "",
           "title": {
            "standoff": 15
           },
           "zerolinecolor": "white",
           "zerolinewidth": 2
          },
          "yaxis": {
           "automargin": true,
           "gridcolor": "white",
           "linecolor": "white",
           "ticks": "",
           "title": {
            "standoff": 15
           },
           "zerolinecolor": "white",
           "zerolinewidth": 2
          }
         }
        },
        "width": 700,
        "xaxis": {
         "gridcolor": "rgb(200, 200, 200)",
         "linecolor": "rgb(0, 0, 0)",
         "linewidth": 2,
         "mirror": true,
         "showline": true,
         "ticks": "inside",
         "title": {
          "font": {
           "size": 30
          },
          "text": "Planning Step"
         }
        },
        "yaxis": {
         "gridcolor": "rgb(200, 200, 200)",
         "linecolor": "rgb(0, 0, 0)",
         "linewidth": 2,
         "mirror": true,
         "showline": true,
         "tickformat": ".1f",
         "ticks": "inside",
         "title": {
          "font": {
           "size": 30
          },
          "text": "Mean pm2.5 concentration (μg/m³)"
         }
        }
       }
      }
     },
     "metadata": {},
     "output_type": "display_data"
    },
    {
     "name": "stdout",
     "output_type": "stream",
     "text": [
      "../outputs/png/line_原污染源消失产生新污染源linetype.png\n"
     ]
    }
   ],
   "source": [
    "strategy_name = [\"forestfire_Nonmyopic_Adaptive_Sensing_Operation\",\n",
    "                 \"forestfire_Nonmyopic_Adaptive_Operation\",\n",
    "                 \"forestfire_Without_Operation\"]\n",
    "comparing_variables = [\"releaserate_010\",\"releaserate_020\",\"releaserate_040\"]\n",
    "starttime = '2018-11-23 08:00:00'\n",
    "seed = 0\n",
    "starttime = starttime.replace(' ', '-').replace(':', '-')\n",
    "pklname = 'seed{}_starttime{}'.format(seed, starttime)\n",
    "\n",
    "Time_deadline = 15\n",
    "\n",
    "# 读取数据并降采样\n",
    "mean_airpollution = []\n",
    "for comparing_variable in comparing_variables:\n",
    "    lists = []\n",
    "    for stategy in strategy_name:\n",
    "        resampled_mean_airpollution = []\n",
    "        pkldir = '../outputs/' + stategy + '/' + comparing_variable + '/' + pklname + \".pkl\"\n",
    "        data = pypolo2.experiments.utilities.readpkl(pkldir)\n",
    "        for i in range(0, 60, 4):\n",
    "            resampled_mean_airpollution.append(np.mean(np.array(data['mean_airpollution'])[i:i+4]))\n",
    "        resampled_mean_airpollution = np.array(resampled_mean_airpollution)\n",
    "        lists.append(resampled_mean_airpollution)\n",
    "    mean_airpollution.append(lists)\n",
    "# ax.plot(mean_airpollution[0][0], label='Sensing_Operation-Low_release_rate')\n",
    "\n",
    "labels = []\n",
    "for i in range(Time_deadline):\n",
    "    labels.append(int(4 * i))\n",
    "\n",
    "xtitle = 'Planning Step'\n",
    "ytitle = 'Mean pm2.5 concentration (μg/m³)'\n",
    "linetype = {'Low':'dot','Medium':'dashdot','High':'solid'}\n",
    "fig = go.Figure()\n",
    "fig.add_trace(go.Scatter(x=labels, y=mean_airpollution[0][0][0:Time_deadline], name='PS-O+LowReleaserate', mode='lines', line=dict(color=colors_dict[0],dash=linetype['Low'], width=linewidth),))\n",
    "fig.add_trace(go.Scatter(x=labels, y=mean_airpollution[0][1][0:Time_deadline], name='AS-O+LowReleaserate', mode='lines', line=dict(color=colors_dict[2],dash=linetype['Low'], width=linewidth),))\n",
    "fig.add_trace(go.Scatter(x=labels, y=mean_airpollution[1][0][0:Time_deadline], name='PS-O+MediumReleaserate', mode='lines', line=dict(color=colors_dict[0],dash=linetype['Medium'], width=linewidth),))\n",
    "fig.add_trace(go.Scatter(x=labels, y=mean_airpollution[1][1][0:Time_deadline], name='AS-O+MediumReleaserate', mode='lines', line=dict(color=colors_dict[2],dash=linetype['Medium'], width=linewidth),))\n",
    "fig.add_trace(go.Scatter(x=labels, y=mean_airpollution[2][0][0:Time_deadline], name='PS-O+HighReleaserate', mode='lines', line=dict(color=colors_dict[0],dash=linetype['High'], width=linewidth),))\n",
    "fig.add_trace(go.Scatter(x=labels, y=mean_airpollution[2][1][0:Time_deadline], name='AS-O+HighReleaserate', mode='lines', line=dict(color=colors_dict[2],dash=linetype['High'], width=linewidth),))\n",
    "\n",
    "fig = line_update_fig(fig, xtitle, ytitle, width=width, height=height)\n",
    "fig.update_layout(legend=dict(font=dict(size=15))) # name size\n",
    "fig.show()\n",
    "filename = '../outputs/png/line_原污染源消失产生新污染源linetype.png'\n",
    "print(filename)\n",
    "fig.write_image(filename, scale=1)"
   ]
  },
  {
   "cell_type": "markdown",
   "metadata": {},
   "source": [
    "### fire speed vs FER"
   ]
  },
  {
   "cell_type": "code",
   "execution_count": null,
   "metadata": {},
   "outputs": [],
   "source": [
    "df = pd.read_csv('./var_fire_speed.csv', index_col=0)\n",
    "xtitle = 'Fire Propagation Velocity'\n",
    "ytitle = 'Fire Expansion Ratio (%)'\n",
    "metric = 'FER'\n",
    "\n",
    "dfindex = list(df.index)\n",
    "labels = ['Slow', 'Moderate', 'Fast'] \n",
    "# labels = ['slow-moving', 'moderate-paced', 'fast-evolving'] \n",
    "# labels = ['6', '5','4','3','2'] \n",
    "\n",
    "# FH = [i for i in dfindex if i.split('_')[0]=='confdynamic']\n",
    "HEUR = [i for i in dfindex if i.split('_')[0]=='heuristic']\n",
    "DDRL = [i for i in dfindex if i.split('_')[0]=='ddrl']\n",
    "CEPY = [i for i in dfindex if i.split('_')[0]=='confentropy']\n",
    "\n",
    "# FH = sorted(FH, key=lambda x: int(x.split('_')[-1][-1]), reverse=True)\n",
    "HEUR = sorted(HEUR, key=lambda x: int(x.split('_')[-1][-1]), reverse=True)\n",
    "DDRL = sorted(DDRL, key=lambda x: int(x.split('_')[-1][-1]), reverse=True)\n",
    "CEPY = sorted(CEPY, key=lambda x: int(x.split('_')[-1][-1]), reverse=True)\n",
    "\n",
    "print(HEUR)\n",
    "print(DDRL)\n",
    "\n",
    "fig = go.Figure()\n",
    "fig.add_trace(go.Bar(width= 0.23, x=labels, y=df.loc[CEPY, metric], name='FH', marker=dict(line_color=colors_dict[0],color=colors_dict[0], pattern_shape='\\\\')))\n",
    "# fig.add_trace(go.Bar(width= 0.13, x=labels, y=df.loc[FH, metric], name='FH', marker=dict(line_color=colors_dict[0], color=colors_dict[0], pattern_shape='/')))\n",
    "# fig.add_trace(go.Bar(width= 0.23, x=labels, y=df.loc[RW, metric], name='RW', marker=dict(line_color=colors_dict[1],color=colors_dict[1], pattern_shape='/')))\n",
    "fig.add_trace(go.Bar(width= 0.23, x=labels, y=df.loc[HEUR, metric], name='HEUR', marker=dict(line_color=colors_dict[1],color=colors_dict[1], pattern_shape='x')))\n",
    "fig.add_trace(go.Bar(width= 0.23, x=labels, y=df.loc[DDRL, metric], name='DDRL', marker=dict(line_color=colors_dict[2],color=colors_dict[2], pattern_shape='+')))\n",
    "\n",
    "fig.update_traces(\n",
    "    marker=dict(pattern_fillmode=\"replace\", line_width=3, pattern_size=13),\n",
    ")\n",
    "\n",
    "fig = bar_update_fig(fig, xtitle, ytitle, width=width, height=height)\n",
    "fig.show()\n",
    "filename = './exports/speed_fer.png'\n",
    "print(filename)\n",
    "fig.write_image(filename, scale=1)\n"
   ]
  },
  {
   "cell_type": "markdown",
   "metadata": {},
   "source": [
    "### fire speed vs FCR"
   ]
  },
  {
   "cell_type": "code",
   "execution_count": null,
   "metadata": {},
   "outputs": [],
   "source": [
    "df = pd.read_csv('./var_fire_speed.csv', index_col=0)\n",
    "xtitle = 'Fire Propagation Velocity'\n",
    "ytitle = 'Fire Coverage Ratio'\n",
    "metric = 'coverage'\n",
    "\n",
    "\n",
    "dfindex = list(df.index)\n",
    "labels = ['Slow', 'Moderate', 'Fast'] \n",
    "# labels = ['6', '5','4','3','2'] \n",
    "\n",
    "# FH = [i for i in dfindex if i.split('_')[0]=='confdynamic']\n",
    "HEUR = [i for i in dfindex if i.split('_')[0]=='heuristic']\n",
    "DDRL = [i for i in dfindex if i.split('_')[0]=='ddrl']\n",
    "CEPY = [i for i in dfindex if i.split('_')[0]=='confentropy']\n",
    "\n",
    "\n",
    "# FH = sorted(FH, key=lambda x: int(x.split('_')[-1][-1]), reverse=True)\n",
    "HEUR = sorted(HEUR, key=lambda x: int(x.split('_')[-1][-1]), reverse=True)\n",
    "DDRL = sorted(DDRL, key=lambda x: int(x.split('_')[-1][-1]), reverse=True)\n",
    "CEPY = sorted(CEPY, key=lambda x: int(x.split('_')[-1][-1]), reverse=True)\n",
    "\n",
    "print(HEUR)\n",
    "print(DDRL)\n",
    "\n",
    "fig = go.Figure()\n",
    "fig.add_trace(go.Bar(width= 0.23, x=labels, y=df.loc[CEPY, metric], name='FH', marker=dict(line_color=colors_dict[0],color=colors_dict[0], pattern_shape='\\\\')))\n",
    "# fig.add_trace(go.Bar(width= 0.13, x=labels, y=df.loc[FH, metric], name='FH', marker=dict(line_color=colors_dict[0], color=colors_dict[0], pattern_shape='/')))\n",
    "# fig.add_trace(go.Bar(width= 0.23, x=labels, y=df.loc[RW, metric], name='RW', marker=dict(line_color=colors_dict[1],color=colors_dict[1], pattern_shape='/')))\n",
    "fig.add_trace(go.Bar(width= 0.23, x=labels, y=df.loc[HEUR, metric], name='HEUR', marker=dict(line_color=colors_dict[1],color=colors_dict[1], pattern_shape='x')))\n",
    "fig.add_trace(go.Bar(width= 0.23, x=labels, y=df.loc[DDRL, metric], name='DDRL', marker=dict(line_color=colors_dict[2],color=colors_dict[2], pattern_shape='+')))\n",
    "\n",
    "\n",
    "fig.update_traces(\n",
    "    marker=dict(pattern_fillmode=\"replace\", line_width=3, pattern_size=13),\n",
    ")\n",
    "\n",
    "fig = bar_update_fig(fig, xtitle, ytitle, width=width, height=height)\n",
    "fig.show()\n",
    "filename = './exports/speed_fcr.png'\n",
    "print(filename)\n",
    "fig.write_image(filename, scale=1)\n"
   ]
  },
  {
   "cell_type": "markdown",
   "metadata": {},
   "source": [
    "### fire num vs FER"
   ]
  },
  {
   "cell_type": "code",
   "execution_count": null,
   "metadata": {},
   "outputs": [],
   "source": [
    "# df = pd.read_csv('./var_fire_num.csv', index_col=0)\n",
    "df = pd.read_csv('./var_fire_num_new.csv', index_col=0)\n",
    "# df = pd.read_csv('./var_fuck.csv', index_col=0)\n",
    "xtitle = 'Number of Initial Fires'\n",
    "ytitle = 'Fire Expansion Ratio'\n",
    "metric = 'FER'\n",
    "\n",
    "dfindex = list(df.index)\n",
    "labels = [1,2,3,4,5] \n",
    "\n",
    "# FH = [i for i in dfindex if i.split('_')[0]=='confdynamic']\n",
    "HEUR = [i for i in dfindex if i.split('_')[0]=='heuristic']\n",
    "DDRL = [i for i in dfindex if i.split('_')[0]=='ddrl']\n",
    "CEPY = [i for i in dfindex if i.split('_')[0]=='confentropy']\n",
    "\n",
    "\n",
    "# FH = sorted(FH, key=lambda x: int(x.split('_')[-1][-1]), reverse=True)\n",
    "HEUR = sorted(HEUR, key=lambda x: int(x.split('_')[-1][-1]), reverse=False)\n",
    "DDRL = sorted(DDRL, key=lambda x: int(x.split('_')[-1][-1]), reverse=False)\n",
    "CEPY = sorted(CEPY, key=lambda x: int(x.split('_')[-1][-1]), reverse=False)\n",
    "\n",
    "print(HEUR)\n",
    "print(DDRL)\n",
    "\n",
    "fig = go.Figure()\n",
    "fig.add_trace(go.Scatter(x=labels, y=df.loc[CEPY, metric], name='FH', marker=dict(size=markersize, symbol=markersymbol['FH']),line=dict(color=colors_dict[0], width=linewidth),))\n",
    "fig.add_trace(go.Scatter(x=labels, y=df.loc[HEUR, metric], name='HEUR', marker=dict(size=markersize, symbol=markersymbol['HEUR']),line=dict(color=colors_dict[1], width=linewidth),))\n",
    "fig.add_trace(go.Scatter(x=labels, y=df.loc[DDRL, metric], name='DDRL', marker=dict(size=markersize, symbol=markersymbol['DDRL']),line=dict(color=colors_dict[2], width=linewidth),))\n",
    "\n",
    "fig = line_update_fig(fig, xtitle, ytitle, width=width, height=height)\n",
    "fig.show()\n",
    "filename = './exports/firenum_fer.png'\n",
    "print(filename)\n",
    "fig.write_image(filename, scale=1)\n"
   ]
  },
  {
   "cell_type": "markdown",
   "metadata": {},
   "source": [
    "### fire num vs FCR"
   ]
  },
  {
   "cell_type": "code",
   "execution_count": null,
   "metadata": {},
   "outputs": [],
   "source": [
    "df = pd.read_csv('./var_fire_num_UI4.csv', index_col=0)\n",
    "# df = pd.read_csv('./var_fuck.csv', index_col=0)\n",
    "# df = pd.read_csv('./var_fire_num_new.csv', index_col=0)\n",
    "xtitle = 'Number of Initial Fires'\n",
    "ytitle = 'Fire Coverage Ratio'\n",
    "metric = 'coverage'\n",
    "\n",
    "\n",
    "dfindex = list(df.index)\n",
    "labels = [1,2,3,4,5] \n",
    "\n",
    "# FH = [i for i in dfindex if i.split('_')[0]=='confdynamic']\n",
    "HEUR = [i for i in dfindex if i.split('_')[0]=='heuristic']\n",
    "DDRL = [i for i in dfindex if i.split('_')[0]=='ddrl']\n",
    "CEPY = [i for i in dfindex if i.split('_')[0]=='confentropy']\n",
    "\n",
    "\n",
    "# FH = sorted(FH, key=lambda x: int(x.split('_')[-1][-1]), reverse=True)\n",
    "HEUR = sorted(HEUR, key=lambda x: int(x.split('_')[-1][-1]), reverse=False)\n",
    "DDRL = sorted(DDRL, key=lambda x: int(x.split('_')[-1][-1]), reverse=False)\n",
    "CEPY = sorted(CEPY, key=lambda x: int(x.split('_')[-1][-1]), reverse=False)\n",
    "\n",
    "print(HEUR)\n",
    "print(DDRL)\n",
    "\n",
    "fig = go.Figure()\n",
    "fig.add_trace(go.Scatter(x=labels, y=df.loc[CEPY, metric], name='FH', marker=dict(size=markersize, symbol=markersymbol['FH']),line=dict(color=colors_dict[0], width=linewidth),))\n",
    "fig.add_trace(go.Scatter(x=labels, y=df.loc[HEUR, metric], name='HEUR', marker=dict(size=markersize, symbol=markersymbol['HEUR']),line=dict(color=colors_dict[1], width=linewidth),))\n",
    "fig.add_trace(go.Scatter(x=labels, y=df.loc[DDRL, metric], name='DDRL', marker=dict(size=markersize, symbol=markersymbol['DDRL']),line=dict(color=colors_dict[2], width=linewidth),))\n",
    "\n",
    "fig = line_update_fig(fig, xtitle, ytitle, width=width, height=height)\n",
    "fig.show()\n",
    "filename = './exports/firenum_fcr.png'\n",
    "print(filename)\n",
    "fig.write_image(filename, scale=1)"
   ]
  }
 ],
 "metadata": {
  "kernelspec": {
   "display_name": "forestfore1.0",
   "language": "python",
   "name": "forestfore1.0"
  },
  "language_info": {
   "codemirror_mode": {
    "name": "ipython",
    "version": 3
   },
   "file_extension": ".py",
   "mimetype": "text/x-python",
   "name": "python",
   "nbconvert_exporter": "python",
   "pygments_lexer": "ipython3",
   "version": "3.8.16"
  },
  "orig_nbformat": 4,
  "vscode": {
   "interpreter": {
    "hash": "3196968d684371006099b3d55edeef8ed90365227a30deaef86e5d4aa8519be0"
   }
  }
 },
 "nbformat": 4,
 "nbformat_minor": 2
}
