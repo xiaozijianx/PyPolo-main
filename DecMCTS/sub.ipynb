{
 "cells": [
  {
   "cell_type": "code",
   "execution_count": 1,
   "metadata": {},
   "outputs": [],
   "source": [
    "import redis\n",
    "import threading"
   ]
  },
  {
   "cell_type": "code",
   "execution_count": 6,
   "metadata": {},
   "outputs": [
    {
     "name": "stdout",
     "output_type": "stream",
     "text": [
      "Received message: {'type': 'message', 'pattern': None, 'channel': b'my-channel', 'data': b'Hello, subscribers!'}\n"
     ]
    }
   ],
   "source": [
    "import redis\n",
    "# 连接到 Redis\n",
    "r = redis.Redis(host='localhost', port=6379)\n",
    "\n",
    "# 订阅频道并处理接收到的消息\n",
    "def handle_message(message):\n",
    "    print(\"Received message:\", message)\n",
    "\n",
    "# 创建订阅对象\n",
    "p = r.pubsub()\n",
    "\n",
    "# 订阅频道 \"my-channel\"\n",
    "p.subscribe(**{\"my-channel\": handle_message})\n",
    "\n",
    "# 启动订阅线程\n",
    "thread = p.run_in_thread(sleep_time=0.01)"
   ]
  },
  {
   "cell_type": "code",
   "execution_count": 7,
   "metadata": {},
   "outputs": [],
   "source": [
    "# 在适当的时机取消订阅所有频道\n",
    "thread.stop()\n",
    "\n",
    "p.unsubscribe()\n",
    "\n",
    "# 关闭订阅对象\n",
    "p.close()"
   ]
  },
  {
   "cell_type": "code",
   "execution_count": 7,
   "metadata": {},
   "outputs": [],
   "source": [
    "# 定义消息处理函数\n",
    "def message_handler(terminate_event):\n",
    "    while not terminate_event.is_set():\n",
    "        message = p.get_message()\n",
    "        if message and message[\"type\"] == \"message\":\n",
    "            handle_message(message[\"data\"])\n",
    "    print(\"Thread ended.\")"
   ]
  },
  {
   "cell_type": "code",
   "execution_count": 8,
   "metadata": {},
   "outputs": [
    {
     "name": "stdout",
     "output_type": "stream",
     "text": [
      "Received message: b'Hello, subscribers!'\n",
      "Received message: b'Hello, subscribers!'\n",
      "Thread ended.\n"
     ]
    }
   ],
   "source": [
    "# 创建 Event 对象\n",
    "terminate_event = threading.Event()\n",
    "# 创建并启动消息处理线程\n",
    "message_thread = threading.Thread(target=message_handler, args=(terminate_event,))\n",
    "message_thread.start()"
   ]
  },
  {
   "cell_type": "code",
   "execution_count": 9,
   "metadata": {},
   "outputs": [],
   "source": [
    "# 模拟一段时间后终止订阅\n",
    "import time\n",
    "time.sleep(5)\n",
    "\n",
    "# 设置终止事件\n",
    "terminate_event.set()\n",
    "\n",
    "# 发送唤醒消息以解除阻塞\n",
    "r.lpush(\"my-channel\", \"Wake up!\")\n",
    "\n",
    "# 等待线程结束\n",
    "message_thread.join()"
   ]
  }
 ],
 "metadata": {
  "kernelspec": {
   "display_name": "sprinkle",
   "language": "python",
   "name": "python3"
  },
  "language_info": {
   "codemirror_mode": {
    "name": "ipython",
    "version": 3
   },
   "file_extension": ".py",
   "mimetype": "text/x-python",
   "name": "python",
   "nbconvert_exporter": "python",
   "pygments_lexer": "ipython3",
   "version": "3.8.16"
  }
 },
 "nbformat": 4,
 "nbformat_minor": 2
}
