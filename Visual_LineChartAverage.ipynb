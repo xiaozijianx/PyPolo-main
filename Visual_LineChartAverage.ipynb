{
 "cells": [
  {
   "cell_type": "code",
   "execution_count": 1,
   "id": "dcc7d73a",
   "metadata": {},
   "outputs": [],
   "source": [
    "import sys\n",
    "sys.path.append('../')\n",
    "# from experiments import utilities\n",
    "import pandas as pd\n",
    "import numpy as np\n",
    "import matplotlib.pyplot as plt\n",
    "import plotly\n",
    "import plotly_express as px\n",
    "import plotly.graph_objects as go\n",
    "import plotly.figure_factory as ff\n",
    "from plotly.subplots import make_subplots\n",
    "from plot.utils import bar_update_fig, line_update_fig\n",
    "import pypolo2\n",
    "\n",
    "width = 1000\n",
    "height = 800\n",
    "markersize = 10\n",
    "linewidth = 4\n",
    "markersymbol={'FH':4, 'HEUR':17, 'DDRL':2}\n",
    "linetype = {'Low':'dot','Medium':'dashdot','High':'longdash'}\n",
    "# 创建一个包含线型的示例数组\n",
    "line_dash = ['solid', 'dot', 'dash', 'dashdot', 'longdash']\n",
    "# colors_dict = ['#C74223', '#3D9182', '#245C8F']\n",
    "colors_dict = ['#2ca02c', '#d62728', '#1f77b4']"
   ]
  },
  {
   "cell_type": "markdown",
   "id": "753008f7",
   "metadata": {},
   "source": [
    "# Average pm2.5 concentration for different team size"
   ]
  },
  {
   "cell_type": "code",
   "execution_count": 2,
   "id": "07a9cb98",
   "metadata": {},
   "outputs": [
    {
     "name": "stdout",
     "output_type": "stream",
     "text": [
      "[[ 66.55566988  45.1195746   33.68577556  31.73618554  29.402832  ]\n",
      " [ 65.18454212  52.08889026  44.0666013   41.29805632  41.85575201]\n",
      " [ 82.25031744  69.80216118  53.71318959  46.38575663  43.29620551]\n",
      " [111.51430073 111.51430073 111.51430073 111.51430073 111.51430073]]\n"
     ]
    }
   ],
   "source": [
    "#区域平均污染物浓度\n",
    "Setting = pypolo2.utilities.Config()\n",
    "strategy_name = [\"EffectOrientedSelectiveSpray\",\n",
    "                 \"EffectOrientedMCTSSpray\",\n",
    "                 \"MaximumCoverageSpray\",\n",
    "                 \"NoSpray\"]\n",
    "comparing_variables = [[\"teamsize_1\",\"teamsize_2\",\"teamsize_3\",\"teamsize_4\",\"teamsize_5\"]]\n",
    "seeds = [7,11,18,20,25,36,42,50,60,72,80,85]\n",
    "team_sizes = [1,2,3,4,5]\n",
    "sourcenums = [1,2,3,4,5]\n",
    "change_intervals = [4,8,12]\n",
    "total_step = 48\n",
    "sche_step = 0\n",
    "adaptive_step = 0\n",
    "strategy_pm25concentration = []\n",
    "for strategy in strategy_name:\n",
    "    if strategy == \"EffectOrientedMCTSSpray\":\n",
    "        sche_step = 8\n",
    "        adaptive_step = 8\n",
    "    else:\n",
    "        sche_step = 18\n",
    "        adaptive_step = 3\n",
    "    variable_pm25concentration = []\n",
    "    for i in range(5):\n",
    "        comparing_variable = comparing_variables[0][i]\n",
    "        team_size = team_sizes[i]\n",
    "        sourcenum = 3\n",
    "        seed_pm25concentration = []\n",
    "        for seed in seeds:\n",
    "            pklname = f'SEED_{seed}_X{Setting.grid_x}_Y{Setting.grid_y}_VS{team_size}_TS{Setting.max_num_samples}_SS{sche_step}_AS{adaptive_step}_SN{sourcenum}_RS{Setting.replenish_speed}_WV{Setting.water_volume}'\n",
    "            pkldir = './outputs/' + strategy + '/' + comparing_variable + '/' + pklname + \".pkl\"\n",
    "            data = pypolo2.experiments.utilities.readpkl(pkldir)\n",
    "            time_pm25concentration = []\n",
    "            for j in range(total_step):\n",
    "                if j > 24:\n",
    "                    pm25concentration = np.mean(data['truth_env'][j])\n",
    "                    time_pm25concentration.append(pm25concentration)\n",
    "            seed_pm25concentration.append(np.mean(time_pm25concentration))\n",
    "        variable_pm25concentration.append(np.mean(seed_pm25concentration))\n",
    "    strategy_pm25concentration.append(variable_pm25concentration)\n",
    "strategy_pm25concentration = np.array(strategy_pm25concentration)\n",
    "strategy_pm25concentration[-1,:] = np.mean(strategy_pm25concentration[-1,:])\n",
    "print(strategy_pm25concentration)\n"
   ]
  },
  {
   "cell_type": "code",
   "execution_count": 63,
   "id": "d81a4fa2",
   "metadata": {},
   "outputs": [
    {
     "data": {
      "application/vnd.plotly.v1+json": {
       "config": {
        "plotlyServerURL": "https://plot.ly"
       },
       "data": [
        {
         "line": {
          "color": "#d62728",
          "width": 6
         },
         "marker": {
          "size": 20,
          "symbol": "diamond-tall-dot"
         },
         "name": "SmartSpr",
         "type": "scatter",
         "x": [
          1,
          2,
          3,
          4,
          5
         ],
         "y": [
          66.55566988051679,
          45.11957459906193,
          33.68577556153969,
          31.73618553621773,
          29.40283199803858
         ]
        },
        {
         "line": {
          "color": "#ff7f0e",
          "width": 3
         },
         "marker": {
          "size": 20,
          "symbol": "star"
         },
         "name": "MCPP",
         "type": "scatter",
         "x": [
          1,
          2,
          3,
          4,
          5
         ],
         "y": [
          65.18454211685419,
          52.088890264646004,
          44.06660129918699,
          41.29805631753699,
          41.855752010191864
         ]
        },
        {
         "line": {
          "color": "#1f77b4",
          "width": 3
         },
         "marker": {
          "size": 20,
          "symbol": "triangle-up"
         },
         "name": "MaximumCoverage",
         "type": "scatter",
         "x": [
          1,
          2,
          3,
          4,
          5
         ],
         "y": [
          82.2503174428211,
          69.8021611801832,
          53.713189591394034,
          46.38575662502826,
          43.29620551364951
         ]
        }
       ],
       "layout": {
        "font": {
         "color": "rgb(0, 0, 0)",
         "family": "Arial",
         "size": 30
        },
        "height": 550,
        "legend": {
         "font": {
          "size": 20
         },
         "itemsizing": "constant",
         "orientation": "h",
         "title": {
          "text": ""
         },
         "traceorder": "normal",
         "x": 0.5,
         "xanchor": "center",
         "y": 1.1,
         "yanchor": "top"
        },
        "margin": {
         "b": 15,
         "l": 15,
         "r": 15,
         "t": 15
        },
        "plot_bgcolor": "rgb(255,255,255)",
        "template": {
         "data": {
          "bar": [
           {
            "error_x": {
             "color": "#2a3f5f"
            },
            "error_y": {
             "color": "#2a3f5f"
            },
            "marker": {
             "line": {
              "color": "#E5ECF6",
              "width": 0.5
             },
             "pattern": {
              "fillmode": "overlay",
              "size": 10,
              "solidity": 0.2
             }
            },
            "type": "bar"
           }
          ],
          "barpolar": [
           {
            "marker": {
             "line": {
              "color": "#E5ECF6",
              "width": 0.5
             },
             "pattern": {
              "fillmode": "overlay",
              "size": 10,
              "solidity": 0.2
             }
            },
            "type": "barpolar"
           }
          ],
          "carpet": [
           {
            "aaxis": {
             "endlinecolor": "#2a3f5f",
             "gridcolor": "white",
             "linecolor": "white",
             "minorgridcolor": "white",
             "startlinecolor": "#2a3f5f"
            },
            "baxis": {
             "endlinecolor": "#2a3f5f",
             "gridcolor": "white",
             "linecolor": "white",
             "minorgridcolor": "white",
             "startlinecolor": "#2a3f5f"
            },
            "type": "carpet"
           }
          ],
          "choropleth": [
           {
            "colorbar": {
             "outlinewidth": 0,
             "ticks": ""
            },
            "type": "choropleth"
           }
          ],
          "contour": [
           {
            "colorbar": {
             "outlinewidth": 0,
             "ticks": ""
            },
            "colorscale": [
             [
              0,
              "#0d0887"
             ],
             [
              0.1111111111111111,
              "#46039f"
             ],
             [
              0.2222222222222222,
              "#7201a8"
             ],
             [
              0.3333333333333333,
              "#9c179e"
             ],
             [
              0.4444444444444444,
              "#bd3786"
             ],
             [
              0.5555555555555556,
              "#d8576b"
             ],
             [
              0.6666666666666666,
              "#ed7953"
             ],
             [
              0.7777777777777778,
              "#fb9f3a"
             ],
             [
              0.8888888888888888,
              "#fdca26"
             ],
             [
              1,
              "#f0f921"
             ]
            ],
            "type": "contour"
           }
          ],
          "contourcarpet": [
           {
            "colorbar": {
             "outlinewidth": 0,
             "ticks": ""
            },
            "type": "contourcarpet"
           }
          ],
          "heatmap": [
           {
            "colorbar": {
             "outlinewidth": 0,
             "ticks": ""
            },
            "colorscale": [
             [
              0,
              "#0d0887"
             ],
             [
              0.1111111111111111,
              "#46039f"
             ],
             [
              0.2222222222222222,
              "#7201a8"
             ],
             [
              0.3333333333333333,
              "#9c179e"
             ],
             [
              0.4444444444444444,
              "#bd3786"
             ],
             [
              0.5555555555555556,
              "#d8576b"
             ],
             [
              0.6666666666666666,
              "#ed7953"
             ],
             [
              0.7777777777777778,
              "#fb9f3a"
             ],
             [
              0.8888888888888888,
              "#fdca26"
             ],
             [
              1,
              "#f0f921"
             ]
            ],
            "type": "heatmap"
           }
          ],
          "heatmapgl": [
           {
            "colorbar": {
             "outlinewidth": 0,
             "ticks": ""
            },
            "colorscale": [
             [
              0,
              "#0d0887"
             ],
             [
              0.1111111111111111,
              "#46039f"
             ],
             [
              0.2222222222222222,
              "#7201a8"
             ],
             [
              0.3333333333333333,
              "#9c179e"
             ],
             [
              0.4444444444444444,
              "#bd3786"
             ],
             [
              0.5555555555555556,
              "#d8576b"
             ],
             [
              0.6666666666666666,
              "#ed7953"
             ],
             [
              0.7777777777777778,
              "#fb9f3a"
             ],
             [
              0.8888888888888888,
              "#fdca26"
             ],
             [
              1,
              "#f0f921"
             ]
            ],
            "type": "heatmapgl"
           }
          ],
          "histogram": [
           {
            "marker": {
             "pattern": {
              "fillmode": "overlay",
              "size": 10,
              "solidity": 0.2
             }
            },
            "type": "histogram"
           }
          ],
          "histogram2d": [
           {
            "colorbar": {
             "outlinewidth": 0,
             "ticks": ""
            },
            "colorscale": [
             [
              0,
              "#0d0887"
             ],
             [
              0.1111111111111111,
              "#46039f"
             ],
             [
              0.2222222222222222,
              "#7201a8"
             ],
             [
              0.3333333333333333,
              "#9c179e"
             ],
             [
              0.4444444444444444,
              "#bd3786"
             ],
             [
              0.5555555555555556,
              "#d8576b"
             ],
             [
              0.6666666666666666,
              "#ed7953"
             ],
             [
              0.7777777777777778,
              "#fb9f3a"
             ],
             [
              0.8888888888888888,
              "#fdca26"
             ],
             [
              1,
              "#f0f921"
             ]
            ],
            "type": "histogram2d"
           }
          ],
          "histogram2dcontour": [
           {
            "colorbar": {
             "outlinewidth": 0,
             "ticks": ""
            },
            "colorscale": [
             [
              0,
              "#0d0887"
             ],
             [
              0.1111111111111111,
              "#46039f"
             ],
             [
              0.2222222222222222,
              "#7201a8"
             ],
             [
              0.3333333333333333,
              "#9c179e"
             ],
             [
              0.4444444444444444,
              "#bd3786"
             ],
             [
              0.5555555555555556,
              "#d8576b"
             ],
             [
              0.6666666666666666,
              "#ed7953"
             ],
             [
              0.7777777777777778,
              "#fb9f3a"
             ],
             [
              0.8888888888888888,
              "#fdca26"
             ],
             [
              1,
              "#f0f921"
             ]
            ],
            "type": "histogram2dcontour"
           }
          ],
          "mesh3d": [
           {
            "colorbar": {
             "outlinewidth": 0,
             "ticks": ""
            },
            "type": "mesh3d"
           }
          ],
          "parcoords": [
           {
            "line": {
             "colorbar": {
              "outlinewidth": 0,
              "ticks": ""
             }
            },
            "type": "parcoords"
           }
          ],
          "pie": [
           {
            "automargin": true,
            "type": "pie"
           }
          ],
          "scatter": [
           {
            "fillpattern": {
             "fillmode": "overlay",
             "size": 10,
             "solidity": 0.2
            },
            "type": "scatter"
           }
          ],
          "scatter3d": [
           {
            "line": {
             "colorbar": {
              "outlinewidth": 0,
              "ticks": ""
             }
            },
            "marker": {
             "colorbar": {
              "outlinewidth": 0,
              "ticks": ""
             }
            },
            "type": "scatter3d"
           }
          ],
          "scattercarpet": [
           {
            "marker": {
             "colorbar": {
              "outlinewidth": 0,
              "ticks": ""
             }
            },
            "type": "scattercarpet"
           }
          ],
          "scattergeo": [
           {
            "marker": {
             "colorbar": {
              "outlinewidth": 0,
              "ticks": ""
             }
            },
            "type": "scattergeo"
           }
          ],
          "scattergl": [
           {
            "marker": {
             "colorbar": {
              "outlinewidth": 0,
              "ticks": ""
             }
            },
            "type": "scattergl"
           }
          ],
          "scattermapbox": [
           {
            "marker": {
             "colorbar": {
              "outlinewidth": 0,
              "ticks": ""
             }
            },
            "type": "scattermapbox"
           }
          ],
          "scatterpolar": [
           {
            "marker": {
             "colorbar": {
              "outlinewidth": 0,
              "ticks": ""
             }
            },
            "type": "scatterpolar"
           }
          ],
          "scatterpolargl": [
           {
            "marker": {
             "colorbar": {
              "outlinewidth": 0,
              "ticks": ""
             }
            },
            "type": "scatterpolargl"
           }
          ],
          "scatterternary": [
           {
            "marker": {
             "colorbar": {
              "outlinewidth": 0,
              "ticks": ""
             }
            },
            "type": "scatterternary"
           }
          ],
          "surface": [
           {
            "colorbar": {
             "outlinewidth": 0,
             "ticks": ""
            },
            "colorscale": [
             [
              0,
              "#0d0887"
             ],
             [
              0.1111111111111111,
              "#46039f"
             ],
             [
              0.2222222222222222,
              "#7201a8"
             ],
             [
              0.3333333333333333,
              "#9c179e"
             ],
             [
              0.4444444444444444,
              "#bd3786"
             ],
             [
              0.5555555555555556,
              "#d8576b"
             ],
             [
              0.6666666666666666,
              "#ed7953"
             ],
             [
              0.7777777777777778,
              "#fb9f3a"
             ],
             [
              0.8888888888888888,
              "#fdca26"
             ],
             [
              1,
              "#f0f921"
             ]
            ],
            "type": "surface"
           }
          ],
          "table": [
           {
            "cells": {
             "fill": {
              "color": "#EBF0F8"
             },
             "line": {
              "color": "white"
             }
            },
            "header": {
             "fill": {
              "color": "#C8D4E3"
             },
             "line": {
              "color": "white"
             }
            },
            "type": "table"
           }
          ]
         },
         "layout": {
          "annotationdefaults": {
           "arrowcolor": "#2a3f5f",
           "arrowhead": 0,
           "arrowwidth": 1
          },
          "autotypenumbers": "strict",
          "coloraxis": {
           "colorbar": {
            "outlinewidth": 0,
            "ticks": ""
           }
          },
          "colorscale": {
           "diverging": [
            [
             0,
             "#8e0152"
            ],
            [
             0.1,
             "#c51b7d"
            ],
            [
             0.2,
             "#de77ae"
            ],
            [
             0.3,
             "#f1b6da"
            ],
            [
             0.4,
             "#fde0ef"
            ],
            [
             0.5,
             "#f7f7f7"
            ],
            [
             0.6,
             "#e6f5d0"
            ],
            [
             0.7,
             "#b8e186"
            ],
            [
             0.8,
             "#7fbc41"
            ],
            [
             0.9,
             "#4d9221"
            ],
            [
             1,
             "#276419"
            ]
           ],
           "sequential": [
            [
             0,
             "#0d0887"
            ],
            [
             0.1111111111111111,
             "#46039f"
            ],
            [
             0.2222222222222222,
             "#7201a8"
            ],
            [
             0.3333333333333333,
             "#9c179e"
            ],
            [
             0.4444444444444444,
             "#bd3786"
            ],
            [
             0.5555555555555556,
             "#d8576b"
            ],
            [
             0.6666666666666666,
             "#ed7953"
            ],
            [
             0.7777777777777778,
             "#fb9f3a"
            ],
            [
             0.8888888888888888,
             "#fdca26"
            ],
            [
             1,
             "#f0f921"
            ]
           ],
           "sequentialminus": [
            [
             0,
             "#0d0887"
            ],
            [
             0.1111111111111111,
             "#46039f"
            ],
            [
             0.2222222222222222,
             "#7201a8"
            ],
            [
             0.3333333333333333,
             "#9c179e"
            ],
            [
             0.4444444444444444,
             "#bd3786"
            ],
            [
             0.5555555555555556,
             "#d8576b"
            ],
            [
             0.6666666666666666,
             "#ed7953"
            ],
            [
             0.7777777777777778,
             "#fb9f3a"
            ],
            [
             0.8888888888888888,
             "#fdca26"
            ],
            [
             1,
             "#f0f921"
            ]
           ]
          },
          "colorway": [
           "#636efa",
           "#EF553B",
           "#00cc96",
           "#ab63fa",
           "#FFA15A",
           "#19d3f3",
           "#FF6692",
           "#B6E880",
           "#FF97FF",
           "#FECB52"
          ],
          "font": {
           "color": "#2a3f5f"
          },
          "geo": {
           "bgcolor": "white",
           "lakecolor": "white",
           "landcolor": "#E5ECF6",
           "showlakes": true,
           "showland": true,
           "subunitcolor": "white"
          },
          "hoverlabel": {
           "align": "left"
          },
          "hovermode": "closest",
          "mapbox": {
           "style": "light"
          },
          "paper_bgcolor": "white",
          "plot_bgcolor": "#E5ECF6",
          "polar": {
           "angularaxis": {
            "gridcolor": "white",
            "linecolor": "white",
            "ticks": ""
           },
           "bgcolor": "#E5ECF6",
           "radialaxis": {
            "gridcolor": "white",
            "linecolor": "white",
            "ticks": ""
           }
          },
          "scene": {
           "xaxis": {
            "backgroundcolor": "#E5ECF6",
            "gridcolor": "white",
            "gridwidth": 2,
            "linecolor": "white",
            "showbackground": true,
            "ticks": "",
            "zerolinecolor": "white"
           },
           "yaxis": {
            "backgroundcolor": "#E5ECF6",
            "gridcolor": "white",
            "gridwidth": 2,
            "linecolor": "white",
            "showbackground": true,
            "ticks": "",
            "zerolinecolor": "white"
           },
           "zaxis": {
            "backgroundcolor": "#E5ECF6",
            "gridcolor": "white",
            "gridwidth": 2,
            "linecolor": "white",
            "showbackground": true,
            "ticks": "",
            "zerolinecolor": "white"
           }
          },
          "shapedefaults": {
           "line": {
            "color": "#2a3f5f"
           }
          },
          "ternary": {
           "aaxis": {
            "gridcolor": "white",
            "linecolor": "white",
            "ticks": ""
           },
           "baxis": {
            "gridcolor": "white",
            "linecolor": "white",
            "ticks": ""
           },
           "bgcolor": "#E5ECF6",
           "caxis": {
            "gridcolor": "white",
            "linecolor": "white",
            "ticks": ""
           }
          },
          "title": {
           "x": 0.05
          },
          "xaxis": {
           "automargin": true,
           "gridcolor": "white",
           "linecolor": "white",
           "ticks": "",
           "title": {
            "standoff": 15
           },
           "zerolinecolor": "white",
           "zerolinewidth": 2
          },
          "yaxis": {
           "automargin": true,
           "gridcolor": "white",
           "linecolor": "white",
           "ticks": "",
           "title": {
            "standoff": 15
           },
           "zerolinecolor": "white",
           "zerolinewidth": 2
          }
         }
        },
        "width": 800,
        "xaxis": {
         "gridcolor": "rgb(200, 200, 200)",
         "linecolor": "rgb(0, 0, 0)",
         "linewidth": 2,
         "mirror": true,
         "showgrid": false,
         "showline": true,
         "tickfont": {
          "size": 20
         },
         "tickmode": "array",
         "ticks": "inside",
         "ticktext": [
          "1",
          "2",
          "3",
          "4",
          "5"
         ],
         "tickvals": [
          1,
          2,
          3,
          4,
          5
         ],
         "title": {
          "font": {
           "size": 23
          },
          "text": "Sprinkle Truck Number"
         }
        },
        "yaxis": {
         "gridcolor": "rgb(200, 200, 200)",
         "linecolor": "rgb(0, 0, 0)",
         "linewidth": 2,
         "mirror": true,
         "range": [
          0,
          100
         ],
         "showgrid": false,
         "showline": true,
         "tickfont": {
          "size": 20
         },
         "tickformat": ".1f",
         "ticks": "inside",
         "title": {
          "font": {
           "size": 23
          },
          "text": "Average PM2.5 Concentration(μg/m³)"
         }
        }
       }
      }
     },
     "metadata": {},
     "output_type": "display_data"
    },
    {
     "name": "stdout",
     "output_type": "stream",
     "text": [
      "./outputs/png/line_AverageConcentration-teamszize12345-linetype.png\n"
     ]
    }
   ],
   "source": [
    "width = 800\n",
    "height = 550\n",
    "linewidth = 3\n",
    "# markersymbol={'FH':'diamond', 'HEUR':'star', 'DDRL':5}\n",
    "markersymbol={'FH': 'diamond-tall-dot', 'HEUR':'star', 'DDRL':'triangle-up'}\n",
    "colors_dict = ['#d62728', '#ff7f0e', '#1f77b4']\n",
    "markersize = 20\n",
    "linetype = {'Low':'dot','Medium':'dashdot','High':'solid'}\n",
    "# colors_dict = ['#3D9182','#C74223','#245C8F', '#FF8C00']\n",
    "labels = []\n",
    "Time_deadline = 5\n",
    "for i in range(Time_deadline):\n",
    "    labels.append(int(i+1))\n",
    "\n",
    "xtitle = 'Sprinkle Truck Number'\n",
    "ytitle = 'Average PM2.5 Concentration(μg/m³)'\n",
    "\n",
    "fig = go.Figure()\n",
    "\n",
    "\n",
    "fig.add_trace(go.Scatter(\n",
    "    x=labels, \n",
    "    y=strategy_pm25concentration[0][0:Time_deadline], \n",
    "    name='SmartSpr', \n",
    "    marker=dict(size=markersize, symbol=markersymbol['FH']),\n",
    "    line=dict(color=colors_dict[0], width=linewidth*2),))\n",
    "fig.add_trace(go.Scatter(\n",
    "    x=labels, \n",
    "    y=strategy_pm25concentration[1][0:Time_deadline], \n",
    "    name='MCPP', \n",
    "    marker=dict(size=markersize, symbol=markersymbol['HEUR']),\n",
    "    line=dict(color=colors_dict[1], width=linewidth),))\n",
    "fig.add_trace(go.Scatter(\n",
    "    x=labels, \n",
    "    y=strategy_pm25concentration[2][0:Time_deadline], \n",
    "    name='MaximumCoverage', \n",
    "    marker=dict(size=markersize, symbol=markersymbol['DDRL']),\n",
    "    line=dict(color=colors_dict[2], width=linewidth),))\n",
    "\n",
    "\n",
    "fig = line_update_fig(fig, xtitle, ytitle, width=width, height=height)\n",
    "fig.update_xaxes(title_text=xtitle, \n",
    "                title_font=dict(size=23),\n",
    "                tickfont=dict(size=20),\n",
    "                tickmode='array',\n",
    "                tickvals=labels,\n",
    "                ticktext=[str(label) for label in labels],\n",
    "                showgrid=False)\n",
    "fig.update_yaxes(title_text=ytitle, title_font=dict(size=23),tickfont=dict(size=20),showgrid=False)\n",
    "fig.update_layout(\n",
    "    yaxis=dict(range=[0, 100]),\n",
    "    legend=dict(font=dict(size=20), x=0.5, y=1.10, traceorder='normal', itemsizing='constant')\n",
    "    ) # name size\n",
    "\n",
    "fig.show()\n",
    "\n",
    "filename = './outputs/png/line_AverageConcentration-teamszize12345-linetype.png'\n",
    "print(filename)\n",
    "fig.write_image(filename, scale=1)"
   ]
  },
  {
   "cell_type": "markdown",
   "id": "e5d7a124",
   "metadata": {},
   "source": [
    "# Average suppression of pm2.5 concentration for diff team size"
   ]
  },
  {
   "cell_type": "code",
   "execution_count": 24,
   "id": "b6efb561",
   "metadata": {},
   "outputs": [
    {
     "name": "stdout",
     "output_type": "stream",
     "text": [
      "[[ 2.13372906e+00  2.88937756e+00  3.34873413e+00  3.55035675e+00\n",
      "   3.62547667e+00]\n",
      " [ 2.00403503e+00  2.59227764e+00  2.96602910e+00  3.08583053e+00\n",
      "   3.02348285e+00]\n",
      " [ 1.12798491e+00  1.79956894e+00  2.49675493e+00  2.77341230e+00\n",
      "   2.92525131e+00]\n",
      " [-1.62306166e-04 -2.21594112e-05 -7.49055096e-05  5.22921695e-06\n",
      "   6.06123337e-05]]\n"
     ]
    }
   ],
   "source": [
    "# 区域pm2.5平均浓度变化\n",
    "Setting = pypolo2.utilities.Config()\n",
    "strategy_name = [\"EffectOrientedSelectiveSpray\",\n",
    "                 \"EffectOrientedMCTSSpray\",\n",
    "                 \"MaximumCoverageSpray\",\n",
    "                 \"NoSpray\"]\n",
    "comparing_variables = [[\"teamsize_1\",\"teamsize_2\",\"teamsize_3\",\"teamsize_4\",\"teamsize_5\"]]\n",
    "seeds = [7,11,18,20,25,36,42,50,60,72,80,85]\n",
    "team_sizes = [1,2,3,4,5]\n",
    "sourcenums = [1,2,3,4,5]\n",
    "change_intervals = [4,8,12]\n",
    "total_step = 48\n",
    "sche_step = 0\n",
    "adaptive_step = 0\n",
    "strategy_pm25suppression = []\n",
    "for strategy in strategy_name:\n",
    "    if strategy == \"EffectOrientedMCTSSpray\":\n",
    "        sche_step = 8\n",
    "        adaptive_step = 8\n",
    "    else:\n",
    "        sche_step = 18\n",
    "        adaptive_step = 3\n",
    "    variable_pm25suppression = []\n",
    "    for i in range(5):\n",
    "        comparing_variable = comparing_variables[0][i]\n",
    "        team_size = team_sizes[i]\n",
    "        sourcenum = 3\n",
    "        seed_pm25suppression = []\n",
    "        for seed in seeds:\n",
    "            pklname = f'SEED_{seed}_X{Setting.grid_x}_Y{Setting.grid_y}_VS{team_size}_TS{Setting.max_num_samples}_SS{sche_step}_AS{adaptive_step}_SN{sourcenum}_RS{Setting.replenish_speed}_WV{Setting.water_volume}'\n",
    "            pkldir = './outputs/' + strategy + '/' + comparing_variable + '/' + pklname + \".pkl\"\n",
    "            data = pypolo2.experiments.utilities.readpkl(pkldir)\n",
    "            effect = np.sum(data['spray_effect'])/48/400\n",
    "            seed_pm25suppression.append(effect)\n",
    "        variable_pm25suppression.append(np.mean(seed_pm25suppression))\n",
    "    strategy_pm25suppression.append(variable_pm25suppression)\n",
    "strategy_pm25suppression = np.array(strategy_pm25suppression)\n",
    "print(strategy_pm25suppression)"
   ]
  },
  {
   "cell_type": "code",
   "execution_count": 25,
   "id": "2804899a",
   "metadata": {},
   "outputs": [
    {
     "data": {
      "application/vnd.plotly.v1+json": {
       "config": {
        "plotlyServerURL": "https://plot.ly"
       },
       "data": [
        {
         "line": {
          "color": "#d62728",
          "width": 3
         },
         "marker": {
          "size": 20,
          "symbol": 2
         },
         "name": "SmartSpr",
         "type": "scatter",
         "x": [
          1,
          2,
          3,
          4,
          5
         ],
         "y": [
          2.1337290554993817,
          2.8893775563798036,
          3.34873412887458,
          3.5503567452732923,
          3.625476665642196
         ]
        },
        {
         "line": {
          "color": "#ff7f0e",
          "width": 3
         },
         "marker": {
          "size": 20,
          "symbol": "star"
         },
         "name": "MCPP",
         "type": "scatter",
         "x": [
          1,
          2,
          3,
          4,
          5
         ],
         "y": [
          2.004035030881877,
          2.5922776356049817,
          2.9660290981831126,
          3.0858305323396347,
          3.0234828542647025
         ]
        },
        {
         "line": {
          "color": "#1f77b4",
          "width": 3
         },
         "marker": {
          "size": 20,
          "symbol": 5
         },
         "name": "MaximumCoverage",
         "type": "scatter",
         "x": [
          1,
          2,
          3,
          4,
          5
         ],
         "y": [
          1.127984911544865,
          1.7995689406791675,
          2.496754925127184,
          2.7734123025152897,
          2.9252513053449323
         ]
        }
       ],
       "layout": {
        "font": {
         "color": "rgb(0, 0, 0)",
         "family": "Arial",
         "size": 30
        },
        "height": 550,
        "legend": {
         "font": {
          "size": 25
         },
         "orientation": "h",
         "title": {
          "text": ""
         },
         "x": 0.5,
         "xanchor": "center",
         "y": 1.15,
         "yanchor": "top"
        },
        "margin": {
         "b": 15,
         "l": 15,
         "r": 15,
         "t": 15
        },
        "plot_bgcolor": "rgb(255,255,255)",
        "template": {
         "data": {
          "bar": [
           {
            "error_x": {
             "color": "#2a3f5f"
            },
            "error_y": {
             "color": "#2a3f5f"
            },
            "marker": {
             "line": {
              "color": "#E5ECF6",
              "width": 0.5
             },
             "pattern": {
              "fillmode": "overlay",
              "size": 10,
              "solidity": 0.2
             }
            },
            "type": "bar"
           }
          ],
          "barpolar": [
           {
            "marker": {
             "line": {
              "color": "#E5ECF6",
              "width": 0.5
             },
             "pattern": {
              "fillmode": "overlay",
              "size": 10,
              "solidity": 0.2
             }
            },
            "type": "barpolar"
           }
          ],
          "carpet": [
           {
            "aaxis": {
             "endlinecolor": "#2a3f5f",
             "gridcolor": "white",
             "linecolor": "white",
             "minorgridcolor": "white",
             "startlinecolor": "#2a3f5f"
            },
            "baxis": {
             "endlinecolor": "#2a3f5f",
             "gridcolor": "white",
             "linecolor": "white",
             "minorgridcolor": "white",
             "startlinecolor": "#2a3f5f"
            },
            "type": "carpet"
           }
          ],
          "choropleth": [
           {
            "colorbar": {
             "outlinewidth": 0,
             "ticks": ""
            },
            "type": "choropleth"
           }
          ],
          "contour": [
           {
            "colorbar": {
             "outlinewidth": 0,
             "ticks": ""
            },
            "colorscale": [
             [
              0,
              "#0d0887"
             ],
             [
              0.1111111111111111,
              "#46039f"
             ],
             [
              0.2222222222222222,
              "#7201a8"
             ],
             [
              0.3333333333333333,
              "#9c179e"
             ],
             [
              0.4444444444444444,
              "#bd3786"
             ],
             [
              0.5555555555555556,
              "#d8576b"
             ],
             [
              0.6666666666666666,
              "#ed7953"
             ],
             [
              0.7777777777777778,
              "#fb9f3a"
             ],
             [
              0.8888888888888888,
              "#fdca26"
             ],
             [
              1,
              "#f0f921"
             ]
            ],
            "type": "contour"
           }
          ],
          "contourcarpet": [
           {
            "colorbar": {
             "outlinewidth": 0,
             "ticks": ""
            },
            "type": "contourcarpet"
           }
          ],
          "heatmap": [
           {
            "colorbar": {
             "outlinewidth": 0,
             "ticks": ""
            },
            "colorscale": [
             [
              0,
              "#0d0887"
             ],
             [
              0.1111111111111111,
              "#46039f"
             ],
             [
              0.2222222222222222,
              "#7201a8"
             ],
             [
              0.3333333333333333,
              "#9c179e"
             ],
             [
              0.4444444444444444,
              "#bd3786"
             ],
             [
              0.5555555555555556,
              "#d8576b"
             ],
             [
              0.6666666666666666,
              "#ed7953"
             ],
             [
              0.7777777777777778,
              "#fb9f3a"
             ],
             [
              0.8888888888888888,
              "#fdca26"
             ],
             [
              1,
              "#f0f921"
             ]
            ],
            "type": "heatmap"
           }
          ],
          "heatmapgl": [
           {
            "colorbar": {
             "outlinewidth": 0,
             "ticks": ""
            },
            "colorscale": [
             [
              0,
              "#0d0887"
             ],
             [
              0.1111111111111111,
              "#46039f"
             ],
             [
              0.2222222222222222,
              "#7201a8"
             ],
             [
              0.3333333333333333,
              "#9c179e"
             ],
             [
              0.4444444444444444,
              "#bd3786"
             ],
             [
              0.5555555555555556,
              "#d8576b"
             ],
             [
              0.6666666666666666,
              "#ed7953"
             ],
             [
              0.7777777777777778,
              "#fb9f3a"
             ],
             [
              0.8888888888888888,
              "#fdca26"
             ],
             [
              1,
              "#f0f921"
             ]
            ],
            "type": "heatmapgl"
           }
          ],
          "histogram": [
           {
            "marker": {
             "pattern": {
              "fillmode": "overlay",
              "size": 10,
              "solidity": 0.2
             }
            },
            "type": "histogram"
           }
          ],
          "histogram2d": [
           {
            "colorbar": {
             "outlinewidth": 0,
             "ticks": ""
            },
            "colorscale": [
             [
              0,
              "#0d0887"
             ],
             [
              0.1111111111111111,
              "#46039f"
             ],
             [
              0.2222222222222222,
              "#7201a8"
             ],
             [
              0.3333333333333333,
              "#9c179e"
             ],
             [
              0.4444444444444444,
              "#bd3786"
             ],
             [
              0.5555555555555556,
              "#d8576b"
             ],
             [
              0.6666666666666666,
              "#ed7953"
             ],
             [
              0.7777777777777778,
              "#fb9f3a"
             ],
             [
              0.8888888888888888,
              "#fdca26"
             ],
             [
              1,
              "#f0f921"
             ]
            ],
            "type": "histogram2d"
           }
          ],
          "histogram2dcontour": [
           {
            "colorbar": {
             "outlinewidth": 0,
             "ticks": ""
            },
            "colorscale": [
             [
              0,
              "#0d0887"
             ],
             [
              0.1111111111111111,
              "#46039f"
             ],
             [
              0.2222222222222222,
              "#7201a8"
             ],
             [
              0.3333333333333333,
              "#9c179e"
             ],
             [
              0.4444444444444444,
              "#bd3786"
             ],
             [
              0.5555555555555556,
              "#d8576b"
             ],
             [
              0.6666666666666666,
              "#ed7953"
             ],
             [
              0.7777777777777778,
              "#fb9f3a"
             ],
             [
              0.8888888888888888,
              "#fdca26"
             ],
             [
              1,
              "#f0f921"
             ]
            ],
            "type": "histogram2dcontour"
           }
          ],
          "mesh3d": [
           {
            "colorbar": {
             "outlinewidth": 0,
             "ticks": ""
            },
            "type": "mesh3d"
           }
          ],
          "parcoords": [
           {
            "line": {
             "colorbar": {
              "outlinewidth": 0,
              "ticks": ""
             }
            },
            "type": "parcoords"
           }
          ],
          "pie": [
           {
            "automargin": true,
            "type": "pie"
           }
          ],
          "scatter": [
           {
            "fillpattern": {
             "fillmode": "overlay",
             "size": 10,
             "solidity": 0.2
            },
            "type": "scatter"
           }
          ],
          "scatter3d": [
           {
            "line": {
             "colorbar": {
              "outlinewidth": 0,
              "ticks": ""
             }
            },
            "marker": {
             "colorbar": {
              "outlinewidth": 0,
              "ticks": ""
             }
            },
            "type": "scatter3d"
           }
          ],
          "scattercarpet": [
           {
            "marker": {
             "colorbar": {
              "outlinewidth": 0,
              "ticks": ""
             }
            },
            "type": "scattercarpet"
           }
          ],
          "scattergeo": [
           {
            "marker": {
             "colorbar": {
              "outlinewidth": 0,
              "ticks": ""
             }
            },
            "type": "scattergeo"
           }
          ],
          "scattergl": [
           {
            "marker": {
             "colorbar": {
              "outlinewidth": 0,
              "ticks": ""
             }
            },
            "type": "scattergl"
           }
          ],
          "scattermapbox": [
           {
            "marker": {
             "colorbar": {
              "outlinewidth": 0,
              "ticks": ""
             }
            },
            "type": "scattermapbox"
           }
          ],
          "scatterpolar": [
           {
            "marker": {
             "colorbar": {
              "outlinewidth": 0,
              "ticks": ""
             }
            },
            "type": "scatterpolar"
           }
          ],
          "scatterpolargl": [
           {
            "marker": {
             "colorbar": {
              "outlinewidth": 0,
              "ticks": ""
             }
            },
            "type": "scatterpolargl"
           }
          ],
          "scatterternary": [
           {
            "marker": {
             "colorbar": {
              "outlinewidth": 0,
              "ticks": ""
             }
            },
            "type": "scatterternary"
           }
          ],
          "surface": [
           {
            "colorbar": {
             "outlinewidth": 0,
             "ticks": ""
            },
            "colorscale": [
             [
              0,
              "#0d0887"
             ],
             [
              0.1111111111111111,
              "#46039f"
             ],
             [
              0.2222222222222222,
              "#7201a8"
             ],
             [
              0.3333333333333333,
              "#9c179e"
             ],
             [
              0.4444444444444444,
              "#bd3786"
             ],
             [
              0.5555555555555556,
              "#d8576b"
             ],
             [
              0.6666666666666666,
              "#ed7953"
             ],
             [
              0.7777777777777778,
              "#fb9f3a"
             ],
             [
              0.8888888888888888,
              "#fdca26"
             ],
             [
              1,
              "#f0f921"
             ]
            ],
            "type": "surface"
           }
          ],
          "table": [
           {
            "cells": {
             "fill": {
              "color": "#EBF0F8"
             },
             "line": {
              "color": "white"
             }
            },
            "header": {
             "fill": {
              "color": "#C8D4E3"
             },
             "line": {
              "color": "white"
             }
            },
            "type": "table"
           }
          ]
         },
         "layout": {
          "annotationdefaults": {
           "arrowcolor": "#2a3f5f",
           "arrowhead": 0,
           "arrowwidth": 1
          },
          "autotypenumbers": "strict",
          "coloraxis": {
           "colorbar": {
            "outlinewidth": 0,
            "ticks": ""
           }
          },
          "colorscale": {
           "diverging": [
            [
             0,
             "#8e0152"
            ],
            [
             0.1,
             "#c51b7d"
            ],
            [
             0.2,
             "#de77ae"
            ],
            [
             0.3,
             "#f1b6da"
            ],
            [
             0.4,
             "#fde0ef"
            ],
            [
             0.5,
             "#f7f7f7"
            ],
            [
             0.6,
             "#e6f5d0"
            ],
            [
             0.7,
             "#b8e186"
            ],
            [
             0.8,
             "#7fbc41"
            ],
            [
             0.9,
             "#4d9221"
            ],
            [
             1,
             "#276419"
            ]
           ],
           "sequential": [
            [
             0,
             "#0d0887"
            ],
            [
             0.1111111111111111,
             "#46039f"
            ],
            [
             0.2222222222222222,
             "#7201a8"
            ],
            [
             0.3333333333333333,
             "#9c179e"
            ],
            [
             0.4444444444444444,
             "#bd3786"
            ],
            [
             0.5555555555555556,
             "#d8576b"
            ],
            [
             0.6666666666666666,
             "#ed7953"
            ],
            [
             0.7777777777777778,
             "#fb9f3a"
            ],
            [
             0.8888888888888888,
             "#fdca26"
            ],
            [
             1,
             "#f0f921"
            ]
           ],
           "sequentialminus": [
            [
             0,
             "#0d0887"
            ],
            [
             0.1111111111111111,
             "#46039f"
            ],
            [
             0.2222222222222222,
             "#7201a8"
            ],
            [
             0.3333333333333333,
             "#9c179e"
            ],
            [
             0.4444444444444444,
             "#bd3786"
            ],
            [
             0.5555555555555556,
             "#d8576b"
            ],
            [
             0.6666666666666666,
             "#ed7953"
            ],
            [
             0.7777777777777778,
             "#fb9f3a"
            ],
            [
             0.8888888888888888,
             "#fdca26"
            ],
            [
             1,
             "#f0f921"
            ]
           ]
          },
          "colorway": [
           "#636efa",
           "#EF553B",
           "#00cc96",
           "#ab63fa",
           "#FFA15A",
           "#19d3f3",
           "#FF6692",
           "#B6E880",
           "#FF97FF",
           "#FECB52"
          ],
          "font": {
           "color": "#2a3f5f"
          },
          "geo": {
           "bgcolor": "white",
           "lakecolor": "white",
           "landcolor": "#E5ECF6",
           "showlakes": true,
           "showland": true,
           "subunitcolor": "white"
          },
          "hoverlabel": {
           "align": "left"
          },
          "hovermode": "closest",
          "mapbox": {
           "style": "light"
          },
          "paper_bgcolor": "white",
          "plot_bgcolor": "#E5ECF6",
          "polar": {
           "angularaxis": {
            "gridcolor": "white",
            "linecolor": "white",
            "ticks": ""
           },
           "bgcolor": "#E5ECF6",
           "radialaxis": {
            "gridcolor": "white",
            "linecolor": "white",
            "ticks": ""
           }
          },
          "scene": {
           "xaxis": {
            "backgroundcolor": "#E5ECF6",
            "gridcolor": "white",
            "gridwidth": 2,
            "linecolor": "white",
            "showbackground": true,
            "ticks": "",
            "zerolinecolor": "white"
           },
           "yaxis": {
            "backgroundcolor": "#E5ECF6",
            "gridcolor": "white",
            "gridwidth": 2,
            "linecolor": "white",
            "showbackground": true,
            "ticks": "",
            "zerolinecolor": "white"
           },
           "zaxis": {
            "backgroundcolor": "#E5ECF6",
            "gridcolor": "white",
            "gridwidth": 2,
            "linecolor": "white",
            "showbackground": true,
            "ticks": "",
            "zerolinecolor": "white"
           }
          },
          "shapedefaults": {
           "line": {
            "color": "#2a3f5f"
           }
          },
          "ternary": {
           "aaxis": {
            "gridcolor": "white",
            "linecolor": "white",
            "ticks": ""
           },
           "baxis": {
            "gridcolor": "white",
            "linecolor": "white",
            "ticks": ""
           },
           "bgcolor": "#E5ECF6",
           "caxis": {
            "gridcolor": "white",
            "linecolor": "white",
            "ticks": ""
           }
          },
          "title": {
           "x": 0.05
          },
          "xaxis": {
           "automargin": true,
           "gridcolor": "white",
           "linecolor": "white",
           "ticks": "",
           "title": {
            "standoff": 15
           },
           "zerolinecolor": "white",
           "zerolinewidth": 2
          },
          "yaxis": {
           "automargin": true,
           "gridcolor": "white",
           "linecolor": "white",
           "ticks": "",
           "title": {
            "standoff": 15
           },
           "zerolinecolor": "white",
           "zerolinewidth": 2
          }
         }
        },
        "width": 800,
        "xaxis": {
         "gridcolor": "rgb(200, 200, 200)",
         "linecolor": "rgb(0, 0, 0)",
         "linewidth": 2,
         "mirror": true,
         "showgrid": false,
         "showline": true,
         "tickfont": {
          "size": 25
         },
         "tickmode": "array",
         "ticks": "inside",
         "ticktext": [
          "1",
          "2",
          "3",
          "4",
          "5"
         ],
         "tickvals": [
          1,
          2,
          3,
          4,
          5
         ],
         "title": {
          "font": {
           "size": 30
          },
          "text": "Sprinkle Truck Number"
         }
        },
        "yaxis": {
         "gridcolor": "rgb(200, 200, 200)",
         "linecolor": "rgb(0, 0, 0)",
         "linewidth": 2,
         "mirror": true,
         "range": [
          0,
          5
         ],
         "showgrid": false,
         "showline": true,
         "tickfont": {
          "size": 25
         },
         "tickformat": ".1f",
         "ticks": "inside",
         "title": {
          "font": {
           "size": 30
          },
          "text": "Average Suppression of PM2.5 (μg/m³)"
         }
        }
       }
      }
     },
     "metadata": {},
     "output_type": "display_data"
    },
    {
     "name": "stdout",
     "output_type": "stream",
     "text": [
      "./outputs/png/line_AverageSuppression-teamsize12345-linetype.png\n"
     ]
    }
   ],
   "source": [
    "width = 800\n",
    "height = 550\n",
    "linewidth = 3\n",
    "# markersymbol={'FH':4, 'HEUR':17, 'DDRL':2}\n",
    "markersize = 20\n",
    "linetype = {'Low':'dot','Medium':'dashdot','High':'solid'}\n",
    "# colors_dict = ['#3D9182','#C74223','#245C8F', '#FF8C00']\n",
    "markersymbol={'FH':2, 'HEUR':'star', 'DDRL':5}\n",
    "colors_dict = ['#d62728', '#ff7f0e', '#1f77b4']\n",
    "labels = []\n",
    "Time_deadline = 5\n",
    "for i in range(Time_deadline):\n",
    "    labels.append(int(i*1 + 1))\n",
    "\n",
    "xtitle = 'Sprinkle Truck Number'\n",
    "ytitle = 'Average Suppression of PM2.5 (μg/m³)'\n",
    "\n",
    "fig = go.Figure()\n",
    "\n",
    "fig.add_trace(go.Scatter(\n",
    "    x=labels, \n",
    "    y=strategy_pm25suppression[0][0:Time_deadline], \n",
    "    name='SmartSpr', \n",
    "    marker=dict(size=markersize, symbol=markersymbol['FH']),line=dict(color=colors_dict[0], width=linewidth),))\n",
    "fig.add_trace(go.Scatter(\n",
    "    x=labels, \n",
    "    y=strategy_pm25suppression[1][0:Time_deadline], \n",
    "    name='MCPP', \n",
    "    marker=dict(size=markersize, symbol=markersymbol['HEUR']),line=dict(color=colors_dict[1], width=linewidth),))\n",
    "fig.add_trace(go.Scatter(\n",
    "    x=labels, \n",
    "    y=strategy_pm25suppression[2][0:Time_deadline], \n",
    "    name='MaximumCoverage', \n",
    "    marker=dict(size=markersize, symbol=markersymbol['DDRL']),line=dict(color=colors_dict[2], width=linewidth),))\n",
    "\n",
    "fig = line_update_fig(fig, xtitle, ytitle, width=width, height=height)\n",
    "fig.update_xaxes(title_text=xtitle, \n",
    "                title_font=dict(size=30),\n",
    "                tickfont=dict(size=25),\n",
    "                tickmode='array',\n",
    "                tickvals=labels,\n",
    "                ticktext=[str(label) for label in labels],\n",
    "                showgrid=False)\n",
    "fig.update_yaxes(title_text=ytitle, title_font=dict(size=30),tickfont=dict(size=25),showgrid=False)\n",
    "fig.update_layout(\n",
    "    yaxis=dict(range=[0, 5]),\n",
    "    legend=dict(font=dict(size=25), x=0.5, y=1.15)) # name size\n",
    "fig.show()\n",
    "filename = './outputs/png/line_AverageSuppression-teamsize12345-linetype.png'\n",
    "print(filename)\n",
    "fig.write_image(filename, scale=1)"
   ]
  },
  {
   "cell_type": "markdown",
   "id": "9af63549",
   "metadata": {},
   "source": [
    "# Average pm2.5 concentration for different source number"
   ]
  },
  {
   "cell_type": "code",
   "execution_count": 26,
   "id": "42d6d646",
   "metadata": {},
   "outputs": [
    {
     "name": "stdout",
     "output_type": "stream",
     "text": [
      "[[ 16.56642212  29.07575059  35.92576136  41.58140233  43.9913761 ]\n",
      " [ 21.75183067  32.97128108  43.55128086  53.75019798  60.29991642]\n",
      " [ 21.56938725  41.60791695  53.79977588  62.78863684  75.46715359]\n",
      " [111.41975255 111.41975255 111.41975255 111.41975255 111.41975255]]\n"
     ]
    }
   ],
   "source": [
    "# 区域pm2.5平均浓度变化\n",
    "Setting = pypolo2.utilities.Config()\n",
    "strategy_name = [\"EffectOrientedSelectiveSpray\",\n",
    "                 \"EffectOrientedMCTSSpray\",\n",
    "                 \"MaximumCoverageSpray\",\n",
    "                 \"NoSpray\"]\n",
    "comparing_variables = [[\"teamsize_1\",\"teamsize_2\",\"teamsize_3\",\"teamsize_4\",\"teamsize_5\"],\n",
    "                       [\"numsource_1\",\"numsource_2\",\"numsource_3\",\"numsource_4\",\"numsource_5\"]]\n",
    "seeds = [7,11,18,20,25,36,42,50,60,72,80,85]\n",
    "team_sizes = [1,2,3,4,5]\n",
    "sourcenums = [1,2,3,4,5]\n",
    "strategy_meanpm = []\n",
    "sche_step = 0\n",
    "adaptive_step = 0\n",
    "strategy_pm25concentration = []\n",
    "for strategy in strategy_name:\n",
    "    if strategy == \"EffectOrientedMCTSSpray\":\n",
    "        sche_step = 8\n",
    "        adaptive_step = 8\n",
    "    else:\n",
    "        sche_step = 18\n",
    "        adaptive_step = 3\n",
    "    variable_pm25concentration = []\n",
    "    for i in range(5):\n",
    "        comparing_variable = comparing_variables[1][i]\n",
    "        team_size = 3\n",
    "        sourcenum = sourcenums[i]\n",
    "        seed_pm25concentration = []\n",
    "        for seed in seeds:\n",
    "            pklname = f'SEED_{seed}_X{Setting.grid_x}_Y{Setting.grid_y}_VS{team_size}_TS{Setting.max_num_samples}_SS{sche_step}_AS{adaptive_step}_SN{sourcenum}_RS{Setting.replenish_speed}_WV{Setting.water_volume}'\n",
    "            pkldir = './outputs/' + strategy + '/' + comparing_variable + '/' + pklname + \".pkl\"\n",
    "            data = pypolo2.experiments.utilities.readpkl(pkldir)\n",
    "            time_pm25concentration = []\n",
    "            for j in range(total_step):\n",
    "                if j > 24:\n",
    "                    pm25concentration = np.mean(data['truth_env'][j])\n",
    "                    time_pm25concentration.append(pm25concentration)\n",
    "            seed_pm25concentration.append(np.mean(time_pm25concentration))\n",
    "        variable_pm25concentration.append(np.mean(seed_pm25concentration))\n",
    "    strategy_pm25concentration.append(variable_pm25concentration)\n",
    "strategy_pm25concentration = np.array(strategy_pm25concentration)\n",
    "strategy_pm25concentration[-1,:] = np.mean(strategy_pm25concentration[-1,:])\n",
    "print(strategy_pm25concentration)\n",
    "\n"
   ]
  },
  {
   "cell_type": "code",
   "execution_count": 27,
   "id": "55cac91c",
   "metadata": {},
   "outputs": [
    {
     "data": {
      "application/vnd.plotly.v1+json": {
       "config": {
        "plotlyServerURL": "https://plot.ly"
       },
       "data": [
        {
         "line": {
          "color": "#d62728",
          "width": 3
         },
         "marker": {
          "size": 20,
          "symbol": 2
         },
         "name": "SmartSpr",
         "type": "scatter",
         "x": [
          1,
          2,
          3,
          4,
          5
         ],
         "y": [
          16.566422122775233,
          29.075750589601743,
          35.92576136384074,
          41.58140233477629,
          43.99137609788074
         ]
        },
        {
         "line": {
          "color": "#ff7f0e",
          "width": 3
         },
         "marker": {
          "size": 20,
          "symbol": "star"
         },
         "name": "MCPP",
         "type": "scatter",
         "x": [
          1,
          2,
          3,
          4,
          5
         ],
         "y": [
          21.75183067457229,
          32.971281083295494,
          43.55128086432517,
          53.75019797924904,
          60.29991641693038
         ]
        },
        {
         "line": {
          "color": "#1f77b4",
          "width": 3
         },
         "marker": {
          "size": 20,
          "symbol": 5
         },
         "name": "MaximumCoverage",
         "type": "scatter",
         "x": [
          1,
          2,
          3,
          4,
          5
         ],
         "y": [
          21.569387249593234,
          41.60791695096971,
          53.79977587917974,
          62.788636837508996,
          75.46715358851193
         ]
        }
       ],
       "layout": {
        "font": {
         "color": "rgb(0, 0, 0)",
         "family": "Arial",
         "size": 30
        },
        "height": 550,
        "legend": {
         "font": {
          "size": 25
         },
         "orientation": "h",
         "title": {
          "text": ""
         },
         "x": 0.5,
         "xanchor": "center",
         "y": 1.15,
         "yanchor": "top"
        },
        "margin": {
         "b": 15,
         "l": 15,
         "r": 15,
         "t": 15
        },
        "plot_bgcolor": "rgb(255,255,255)",
        "template": {
         "data": {
          "bar": [
           {
            "error_x": {
             "color": "#2a3f5f"
            },
            "error_y": {
             "color": "#2a3f5f"
            },
            "marker": {
             "line": {
              "color": "#E5ECF6",
              "width": 0.5
             },
             "pattern": {
              "fillmode": "overlay",
              "size": 10,
              "solidity": 0.2
             }
            },
            "type": "bar"
           }
          ],
          "barpolar": [
           {
            "marker": {
             "line": {
              "color": "#E5ECF6",
              "width": 0.5
             },
             "pattern": {
              "fillmode": "overlay",
              "size": 10,
              "solidity": 0.2
             }
            },
            "type": "barpolar"
           }
          ],
          "carpet": [
           {
            "aaxis": {
             "endlinecolor": "#2a3f5f",
             "gridcolor": "white",
             "linecolor": "white",
             "minorgridcolor": "white",
             "startlinecolor": "#2a3f5f"
            },
            "baxis": {
             "endlinecolor": "#2a3f5f",
             "gridcolor": "white",
             "linecolor": "white",
             "minorgridcolor": "white",
             "startlinecolor": "#2a3f5f"
            },
            "type": "carpet"
           }
          ],
          "choropleth": [
           {
            "colorbar": {
             "outlinewidth": 0,
             "ticks": ""
            },
            "type": "choropleth"
           }
          ],
          "contour": [
           {
            "colorbar": {
             "outlinewidth": 0,
             "ticks": ""
            },
            "colorscale": [
             [
              0,
              "#0d0887"
             ],
             [
              0.1111111111111111,
              "#46039f"
             ],
             [
              0.2222222222222222,
              "#7201a8"
             ],
             [
              0.3333333333333333,
              "#9c179e"
             ],
             [
              0.4444444444444444,
              "#bd3786"
             ],
             [
              0.5555555555555556,
              "#d8576b"
             ],
             [
              0.6666666666666666,
              "#ed7953"
             ],
             [
              0.7777777777777778,
              "#fb9f3a"
             ],
             [
              0.8888888888888888,
              "#fdca26"
             ],
             [
              1,
              "#f0f921"
             ]
            ],
            "type": "contour"
           }
          ],
          "contourcarpet": [
           {
            "colorbar": {
             "outlinewidth": 0,
             "ticks": ""
            },
            "type": "contourcarpet"
           }
          ],
          "heatmap": [
           {
            "colorbar": {
             "outlinewidth": 0,
             "ticks": ""
            },
            "colorscale": [
             [
              0,
              "#0d0887"
             ],
             [
              0.1111111111111111,
              "#46039f"
             ],
             [
              0.2222222222222222,
              "#7201a8"
             ],
             [
              0.3333333333333333,
              "#9c179e"
             ],
             [
              0.4444444444444444,
              "#bd3786"
             ],
             [
              0.5555555555555556,
              "#d8576b"
             ],
             [
              0.6666666666666666,
              "#ed7953"
             ],
             [
              0.7777777777777778,
              "#fb9f3a"
             ],
             [
              0.8888888888888888,
              "#fdca26"
             ],
             [
              1,
              "#f0f921"
             ]
            ],
            "type": "heatmap"
           }
          ],
          "heatmapgl": [
           {
            "colorbar": {
             "outlinewidth": 0,
             "ticks": ""
            },
            "colorscale": [
             [
              0,
              "#0d0887"
             ],
             [
              0.1111111111111111,
              "#46039f"
             ],
             [
              0.2222222222222222,
              "#7201a8"
             ],
             [
              0.3333333333333333,
              "#9c179e"
             ],
             [
              0.4444444444444444,
              "#bd3786"
             ],
             [
              0.5555555555555556,
              "#d8576b"
             ],
             [
              0.6666666666666666,
              "#ed7953"
             ],
             [
              0.7777777777777778,
              "#fb9f3a"
             ],
             [
              0.8888888888888888,
              "#fdca26"
             ],
             [
              1,
              "#f0f921"
             ]
            ],
            "type": "heatmapgl"
           }
          ],
          "histogram": [
           {
            "marker": {
             "pattern": {
              "fillmode": "overlay",
              "size": 10,
              "solidity": 0.2
             }
            },
            "type": "histogram"
           }
          ],
          "histogram2d": [
           {
            "colorbar": {
             "outlinewidth": 0,
             "ticks": ""
            },
            "colorscale": [
             [
              0,
              "#0d0887"
             ],
             [
              0.1111111111111111,
              "#46039f"
             ],
             [
              0.2222222222222222,
              "#7201a8"
             ],
             [
              0.3333333333333333,
              "#9c179e"
             ],
             [
              0.4444444444444444,
              "#bd3786"
             ],
             [
              0.5555555555555556,
              "#d8576b"
             ],
             [
              0.6666666666666666,
              "#ed7953"
             ],
             [
              0.7777777777777778,
              "#fb9f3a"
             ],
             [
              0.8888888888888888,
              "#fdca26"
             ],
             [
              1,
              "#f0f921"
             ]
            ],
            "type": "histogram2d"
           }
          ],
          "histogram2dcontour": [
           {
            "colorbar": {
             "outlinewidth": 0,
             "ticks": ""
            },
            "colorscale": [
             [
              0,
              "#0d0887"
             ],
             [
              0.1111111111111111,
              "#46039f"
             ],
             [
              0.2222222222222222,
              "#7201a8"
             ],
             [
              0.3333333333333333,
              "#9c179e"
             ],
             [
              0.4444444444444444,
              "#bd3786"
             ],
             [
              0.5555555555555556,
              "#d8576b"
             ],
             [
              0.6666666666666666,
              "#ed7953"
             ],
             [
              0.7777777777777778,
              "#fb9f3a"
             ],
             [
              0.8888888888888888,
              "#fdca26"
             ],
             [
              1,
              "#f0f921"
             ]
            ],
            "type": "histogram2dcontour"
           }
          ],
          "mesh3d": [
           {
            "colorbar": {
             "outlinewidth": 0,
             "ticks": ""
            },
            "type": "mesh3d"
           }
          ],
          "parcoords": [
           {
            "line": {
             "colorbar": {
              "outlinewidth": 0,
              "ticks": ""
             }
            },
            "type": "parcoords"
           }
          ],
          "pie": [
           {
            "automargin": true,
            "type": "pie"
           }
          ],
          "scatter": [
           {
            "fillpattern": {
             "fillmode": "overlay",
             "size": 10,
             "solidity": 0.2
            },
            "type": "scatter"
           }
          ],
          "scatter3d": [
           {
            "line": {
             "colorbar": {
              "outlinewidth": 0,
              "ticks": ""
             }
            },
            "marker": {
             "colorbar": {
              "outlinewidth": 0,
              "ticks": ""
             }
            },
            "type": "scatter3d"
           }
          ],
          "scattercarpet": [
           {
            "marker": {
             "colorbar": {
              "outlinewidth": 0,
              "ticks": ""
             }
            },
            "type": "scattercarpet"
           }
          ],
          "scattergeo": [
           {
            "marker": {
             "colorbar": {
              "outlinewidth": 0,
              "ticks": ""
             }
            },
            "type": "scattergeo"
           }
          ],
          "scattergl": [
           {
            "marker": {
             "colorbar": {
              "outlinewidth": 0,
              "ticks": ""
             }
            },
            "type": "scattergl"
           }
          ],
          "scattermapbox": [
           {
            "marker": {
             "colorbar": {
              "outlinewidth": 0,
              "ticks": ""
             }
            },
            "type": "scattermapbox"
           }
          ],
          "scatterpolar": [
           {
            "marker": {
             "colorbar": {
              "outlinewidth": 0,
              "ticks": ""
             }
            },
            "type": "scatterpolar"
           }
          ],
          "scatterpolargl": [
           {
            "marker": {
             "colorbar": {
              "outlinewidth": 0,
              "ticks": ""
             }
            },
            "type": "scatterpolargl"
           }
          ],
          "scatterternary": [
           {
            "marker": {
             "colorbar": {
              "outlinewidth": 0,
              "ticks": ""
             }
            },
            "type": "scatterternary"
           }
          ],
          "surface": [
           {
            "colorbar": {
             "outlinewidth": 0,
             "ticks": ""
            },
            "colorscale": [
             [
              0,
              "#0d0887"
             ],
             [
              0.1111111111111111,
              "#46039f"
             ],
             [
              0.2222222222222222,
              "#7201a8"
             ],
             [
              0.3333333333333333,
              "#9c179e"
             ],
             [
              0.4444444444444444,
              "#bd3786"
             ],
             [
              0.5555555555555556,
              "#d8576b"
             ],
             [
              0.6666666666666666,
              "#ed7953"
             ],
             [
              0.7777777777777778,
              "#fb9f3a"
             ],
             [
              0.8888888888888888,
              "#fdca26"
             ],
             [
              1,
              "#f0f921"
             ]
            ],
            "type": "surface"
           }
          ],
          "table": [
           {
            "cells": {
             "fill": {
              "color": "#EBF0F8"
             },
             "line": {
              "color": "white"
             }
            },
            "header": {
             "fill": {
              "color": "#C8D4E3"
             },
             "line": {
              "color": "white"
             }
            },
            "type": "table"
           }
          ]
         },
         "layout": {
          "annotationdefaults": {
           "arrowcolor": "#2a3f5f",
           "arrowhead": 0,
           "arrowwidth": 1
          },
          "autotypenumbers": "strict",
          "coloraxis": {
           "colorbar": {
            "outlinewidth": 0,
            "ticks": ""
           }
          },
          "colorscale": {
           "diverging": [
            [
             0,
             "#8e0152"
            ],
            [
             0.1,
             "#c51b7d"
            ],
            [
             0.2,
             "#de77ae"
            ],
            [
             0.3,
             "#f1b6da"
            ],
            [
             0.4,
             "#fde0ef"
            ],
            [
             0.5,
             "#f7f7f7"
            ],
            [
             0.6,
             "#e6f5d0"
            ],
            [
             0.7,
             "#b8e186"
            ],
            [
             0.8,
             "#7fbc41"
            ],
            [
             0.9,
             "#4d9221"
            ],
            [
             1,
             "#276419"
            ]
           ],
           "sequential": [
            [
             0,
             "#0d0887"
            ],
            [
             0.1111111111111111,
             "#46039f"
            ],
            [
             0.2222222222222222,
             "#7201a8"
            ],
            [
             0.3333333333333333,
             "#9c179e"
            ],
            [
             0.4444444444444444,
             "#bd3786"
            ],
            [
             0.5555555555555556,
             "#d8576b"
            ],
            [
             0.6666666666666666,
             "#ed7953"
            ],
            [
             0.7777777777777778,
             "#fb9f3a"
            ],
            [
             0.8888888888888888,
             "#fdca26"
            ],
            [
             1,
             "#f0f921"
            ]
           ],
           "sequentialminus": [
            [
             0,
             "#0d0887"
            ],
            [
             0.1111111111111111,
             "#46039f"
            ],
            [
             0.2222222222222222,
             "#7201a8"
            ],
            [
             0.3333333333333333,
             "#9c179e"
            ],
            [
             0.4444444444444444,
             "#bd3786"
            ],
            [
             0.5555555555555556,
             "#d8576b"
            ],
            [
             0.6666666666666666,
             "#ed7953"
            ],
            [
             0.7777777777777778,
             "#fb9f3a"
            ],
            [
             0.8888888888888888,
             "#fdca26"
            ],
            [
             1,
             "#f0f921"
            ]
           ]
          },
          "colorway": [
           "#636efa",
           "#EF553B",
           "#00cc96",
           "#ab63fa",
           "#FFA15A",
           "#19d3f3",
           "#FF6692",
           "#B6E880",
           "#FF97FF",
           "#FECB52"
          ],
          "font": {
           "color": "#2a3f5f"
          },
          "geo": {
           "bgcolor": "white",
           "lakecolor": "white",
           "landcolor": "#E5ECF6",
           "showlakes": true,
           "showland": true,
           "subunitcolor": "white"
          },
          "hoverlabel": {
           "align": "left"
          },
          "hovermode": "closest",
          "mapbox": {
           "style": "light"
          },
          "paper_bgcolor": "white",
          "plot_bgcolor": "#E5ECF6",
          "polar": {
           "angularaxis": {
            "gridcolor": "white",
            "linecolor": "white",
            "ticks": ""
           },
           "bgcolor": "#E5ECF6",
           "radialaxis": {
            "gridcolor": "white",
            "linecolor": "white",
            "ticks": ""
           }
          },
          "scene": {
           "xaxis": {
            "backgroundcolor": "#E5ECF6",
            "gridcolor": "white",
            "gridwidth": 2,
            "linecolor": "white",
            "showbackground": true,
            "ticks": "",
            "zerolinecolor": "white"
           },
           "yaxis": {
            "backgroundcolor": "#E5ECF6",
            "gridcolor": "white",
            "gridwidth": 2,
            "linecolor": "white",
            "showbackground": true,
            "ticks": "",
            "zerolinecolor": "white"
           },
           "zaxis": {
            "backgroundcolor": "#E5ECF6",
            "gridcolor": "white",
            "gridwidth": 2,
            "linecolor": "white",
            "showbackground": true,
            "ticks": "",
            "zerolinecolor": "white"
           }
          },
          "shapedefaults": {
           "line": {
            "color": "#2a3f5f"
           }
          },
          "ternary": {
           "aaxis": {
            "gridcolor": "white",
            "linecolor": "white",
            "ticks": ""
           },
           "baxis": {
            "gridcolor": "white",
            "linecolor": "white",
            "ticks": ""
           },
           "bgcolor": "#E5ECF6",
           "caxis": {
            "gridcolor": "white",
            "linecolor": "white",
            "ticks": ""
           }
          },
          "title": {
           "x": 0.05
          },
          "xaxis": {
           "automargin": true,
           "gridcolor": "white",
           "linecolor": "white",
           "ticks": "",
           "title": {
            "standoff": 15
           },
           "zerolinecolor": "white",
           "zerolinewidth": 2
          },
          "yaxis": {
           "automargin": true,
           "gridcolor": "white",
           "linecolor": "white",
           "ticks": "",
           "title": {
            "standoff": 15
           },
           "zerolinecolor": "white",
           "zerolinewidth": 2
          }
         }
        },
        "width": 800,
        "xaxis": {
         "gridcolor": "rgb(200, 200, 200)",
         "linecolor": "rgb(0, 0, 0)",
         "linewidth": 2,
         "mirror": true,
         "showgrid": false,
         "showline": true,
         "tickfont": {
          "size": 25
         },
         "tickmode": "array",
         "ticks": "inside",
         "ticktext": [
          "1",
          "2",
          "3",
          "4",
          "5"
         ],
         "tickvals": [
          1,
          2,
          3,
          4,
          5
         ],
         "title": {
          "font": {
           "size": 30
          },
          "text": "Pollution Source Number"
         }
        },
        "yaxis": {
         "gridcolor": "rgb(200, 200, 200)",
         "linecolor": "rgb(0, 0, 0)",
         "linewidth": 2,
         "mirror": true,
         "range": [
          0,
          100
         ],
         "showgrid": false,
         "showline": true,
         "tickfont": {
          "size": 25
         },
         "tickformat": ".1f",
         "ticks": "inside",
         "title": {
          "font": {
           "size": 30
          },
          "text": "Average PM2.5 Concentration(μg/m³)"
         }
        }
       }
      }
     },
     "metadata": {},
     "output_type": "display_data"
    },
    {
     "name": "stdout",
     "output_type": "stream",
     "text": [
      "./outputs/png/line_AverageConcentration-source12345-linetype.png\n"
     ]
    }
   ],
   "source": [
    "width = 800\n",
    "height = 550\n",
    "linewidth = 3\n",
    "# markersymbol={'FH':4, 'HEUR':17, 'DDRL':2}\n",
    "markersize = 20\n",
    "linetype = {'Low':'dot','Medium':'dashdot','High':'solid'}\n",
    "# colors_dict = ['#3D9182','#C74223','#245C8F', '#FF8C00']\n",
    "markersymbol={'FH':2, 'HEUR':'star', 'DDRL':5}\n",
    "colors_dict = ['#d62728', '#ff7f0e', '#1f77b4']\n",
    "labels = []\n",
    "Time_deadline = 5\n",
    "for i in range(Time_deadline):\n",
    "    labels.append(int(i+1))\n",
    "\n",
    "xtitle = 'Pollution Source Number'\n",
    "ytitle = 'Average PM2.5 Concentration(μg/m³)'\n",
    "\n",
    "fig = go.Figure()\n",
    "\n",
    "fig.add_trace(go.Scatter(\n",
    "    x=labels, \n",
    "    y=strategy_pm25concentration[0][0:Time_deadline], \n",
    "    name='SmartSpr', \n",
    "    marker=dict(size=markersize, symbol=markersymbol['FH']),line=dict(color=colors_dict[0], width=linewidth),))\n",
    "fig.add_trace(go.Scatter(\n",
    "    x=labels, \n",
    "    y=strategy_pm25concentration[1][0:Time_deadline], \n",
    "    name='MCPP', \n",
    "    marker=dict(size=markersize, symbol=markersymbol['HEUR']),line=dict(color=colors_dict[1], width=linewidth),))\n",
    "fig.add_trace(go.Scatter(\n",
    "    x=labels, \n",
    "    y=strategy_pm25concentration[2][0:Time_deadline], \n",
    "    name='MaximumCoverage', \n",
    "    marker=dict(size=markersize, symbol=markersymbol['DDRL']),line=dict(color=colors_dict[2], width=linewidth),))\n",
    "\n",
    "\n",
    "fig = line_update_fig(fig, xtitle, ytitle, width=width, height=height)\n",
    "fig.update_xaxes(title_text=xtitle, \n",
    "                title_font=dict(size=30),\n",
    "                tickfont=dict(size=25),\n",
    "                tickmode='array',\n",
    "                tickvals=labels,\n",
    "                ticktext=[str(label) for label in labels],\n",
    "                showgrid=False)\n",
    "fig.update_yaxes(title_text=ytitle, title_font=dict(size=30),tickfont=dict(size=25),showgrid=False)\n",
    "fig.update_layout(\n",
    "    yaxis=dict(range=[0, 100]),\n",
    "    legend=dict(font=dict(size=25), x=0.5, y=1.15)) # name size\n",
    "fig.show()\n",
    "filename = './outputs/png/line_AverageConcentration-source12345-linetype.png'\n",
    "print(filename)\n",
    "fig.write_image(filename, scale=1)"
   ]
  },
  {
   "cell_type": "markdown",
   "id": "06d8e82d",
   "metadata": {},
   "source": [
    "# Average suppression for 12345 source"
   ]
  },
  {
   "cell_type": "code",
   "execution_count": 28,
   "id": "ba975c33",
   "metadata": {},
   "outputs": [
    {
     "name": "stdout",
     "output_type": "stream",
     "text": [
      "[[ 1.15704032e+00  2.24324393e+00  3.27388896e+00  4.53609697e+00\n",
      "   5.87249341e+00]\n",
      " [ 9.45806586e-01  1.89168531e+00  2.98225181e+00  3.99402285e+00\n",
      "   5.13311479e+00]\n",
      " [ 6.73536007e-01  1.53718068e+00  2.51433553e+00  3.35556245e+00\n",
      "   4.26774644e+00]\n",
      " [ 4.51916569e-05  1.26432877e-05  2.29652531e-05 -1.42305929e-04\n",
      "   4.34710523e-04]]\n"
     ]
    }
   ],
   "source": [
    "# 区域pm2.5平均浓度变化\n",
    "Setting = pypolo2.utilities.Config()\n",
    "strategy_name = [\"EffectOrientedSelectiveSpray\",\n",
    "                 \"EffectOrientedMCTSSpray\",\n",
    "                 \"MaximumCoverageSpray\",\n",
    "                 \"NoSpray\"]\n",
    "comparing_variables = [[\"teamsize_1\",\"teamsize_2\",\"teamsize_3\",\"teamsize_4\",\"teamsize_5\"],\n",
    "                       [\"numsource_1\",\"numsource_2\",\"numsource_3\",\"numsource_4\",\"numsource_5\"]]\n",
    "seeds = [7,11,18,20,25,36,42,50,60,72,80,85]\n",
    "team_sizes = [1,2,3,4,5]\n",
    "sourcenums = [1,2,3,4,5]\n",
    "total_step = 48\n",
    "sche_step = 0\n",
    "adaptive_step = 0\n",
    "strategy_pm25suppression = []\n",
    "for strategy in strategy_name:\n",
    "    if strategy == \"EffectOrientedMCTSSpray\":\n",
    "        sche_step = 8\n",
    "        adaptive_step = 8\n",
    "    else:\n",
    "        sche_step = 18\n",
    "        adaptive_step = 3\n",
    "    variable_pm25suppression = []\n",
    "    for i in range(5):\n",
    "        comparing_variable = comparing_variables[1][i]\n",
    "        team_size = 3\n",
    "        sourcenum = sourcenums[i]\n",
    "        seed_pm25suppression = []\n",
    "        for seed in seeds:\n",
    "            pklname = f'SEED_{seed}_X{Setting.grid_x}_Y{Setting.grid_y}_VS{team_size}_TS{Setting.max_num_samples}_SS{sche_step}_AS{adaptive_step}_SN{sourcenum}_RS{Setting.replenish_speed}_WV{Setting.water_volume}'\n",
    "            pkldir = './outputs/' + strategy + '/' + comparing_variable + '/' + pklname + \".pkl\"\n",
    "            data = pypolo2.experiments.utilities.readpkl(pkldir)\n",
    "            effect = np.sum(data['spray_effect'])/48/400\n",
    "            seed_pm25suppression.append(effect)\n",
    "        variable_pm25suppression.append(np.mean(seed_pm25suppression))\n",
    "    strategy_pm25suppression.append(variable_pm25suppression)\n",
    "strategy_pm25suppression = np.array(strategy_pm25suppression)\n",
    "print(strategy_pm25suppression)\n"
   ]
  },
  {
   "cell_type": "code",
   "execution_count": 29,
   "id": "d3f5c802",
   "metadata": {},
   "outputs": [
    {
     "data": {
      "application/vnd.plotly.v1+json": {
       "config": {
        "plotlyServerURL": "https://plot.ly"
       },
       "data": [
        {
         "line": {
          "color": "#d62728",
          "width": 3
         },
         "marker": {
          "size": 20,
          "symbol": 2
         },
         "name": "SmartSpr",
         "type": "scatter",
         "x": [
          1,
          2,
          3,
          4,
          5
         ],
         "y": [
          1.157040319728649,
          2.2432439349768907,
          3.2738889607000163,
          4.536096974102048,
          5.872493414461929
         ]
        },
        {
         "line": {
          "color": "#ff7f0e",
          "width": 3
         },
         "marker": {
          "size": 20,
          "symbol": "star"
         },
         "name": "MCPP",
         "type": "scatter",
         "x": [
          1,
          2,
          3,
          4,
          5
         ],
         "y": [
          0.9458065863713854,
          1.8916853133994165,
          2.982251812394864,
          3.994022852637045,
          5.133114789450579
         ]
        },
        {
         "line": {
          "color": "#1f77b4",
          "width": 3
         },
         "marker": {
          "size": 20,
          "symbol": 5
         },
         "name": "MaximumCoverage",
         "type": "scatter",
         "x": [
          1,
          2,
          3,
          4,
          5
         ],
         "y": [
          0.6735360069410959,
          1.537180683836568,
          2.514335531833357,
          3.3555624464148317,
          4.2677464351533505
         ]
        }
       ],
       "layout": {
        "font": {
         "color": "rgb(0, 0, 0)",
         "family": "Arial",
         "size": 30
        },
        "height": 550,
        "legend": {
         "font": {
          "size": 30
         },
         "orientation": "h",
         "title": {
          "text": ""
         },
         "x": 0.5,
         "xanchor": "center",
         "y": 1.15,
         "yanchor": "top"
        },
        "margin": {
         "b": 15,
         "l": 15,
         "r": 15,
         "t": 15
        },
        "plot_bgcolor": "rgb(255,255,255)",
        "template": {
         "data": {
          "bar": [
           {
            "error_x": {
             "color": "#2a3f5f"
            },
            "error_y": {
             "color": "#2a3f5f"
            },
            "marker": {
             "line": {
              "color": "#E5ECF6",
              "width": 0.5
             },
             "pattern": {
              "fillmode": "overlay",
              "size": 10,
              "solidity": 0.2
             }
            },
            "type": "bar"
           }
          ],
          "barpolar": [
           {
            "marker": {
             "line": {
              "color": "#E5ECF6",
              "width": 0.5
             },
             "pattern": {
              "fillmode": "overlay",
              "size": 10,
              "solidity": 0.2
             }
            },
            "type": "barpolar"
           }
          ],
          "carpet": [
           {
            "aaxis": {
             "endlinecolor": "#2a3f5f",
             "gridcolor": "white",
             "linecolor": "white",
             "minorgridcolor": "white",
             "startlinecolor": "#2a3f5f"
            },
            "baxis": {
             "endlinecolor": "#2a3f5f",
             "gridcolor": "white",
             "linecolor": "white",
             "minorgridcolor": "white",
             "startlinecolor": "#2a3f5f"
            },
            "type": "carpet"
           }
          ],
          "choropleth": [
           {
            "colorbar": {
             "outlinewidth": 0,
             "ticks": ""
            },
            "type": "choropleth"
           }
          ],
          "contour": [
           {
            "colorbar": {
             "outlinewidth": 0,
             "ticks": ""
            },
            "colorscale": [
             [
              0,
              "#0d0887"
             ],
             [
              0.1111111111111111,
              "#46039f"
             ],
             [
              0.2222222222222222,
              "#7201a8"
             ],
             [
              0.3333333333333333,
              "#9c179e"
             ],
             [
              0.4444444444444444,
              "#bd3786"
             ],
             [
              0.5555555555555556,
              "#d8576b"
             ],
             [
              0.6666666666666666,
              "#ed7953"
             ],
             [
              0.7777777777777778,
              "#fb9f3a"
             ],
             [
              0.8888888888888888,
              "#fdca26"
             ],
             [
              1,
              "#f0f921"
             ]
            ],
            "type": "contour"
           }
          ],
          "contourcarpet": [
           {
            "colorbar": {
             "outlinewidth": 0,
             "ticks": ""
            },
            "type": "contourcarpet"
           }
          ],
          "heatmap": [
           {
            "colorbar": {
             "outlinewidth": 0,
             "ticks": ""
            },
            "colorscale": [
             [
              0,
              "#0d0887"
             ],
             [
              0.1111111111111111,
              "#46039f"
             ],
             [
              0.2222222222222222,
              "#7201a8"
             ],
             [
              0.3333333333333333,
              "#9c179e"
             ],
             [
              0.4444444444444444,
              "#bd3786"
             ],
             [
              0.5555555555555556,
              "#d8576b"
             ],
             [
              0.6666666666666666,
              "#ed7953"
             ],
             [
              0.7777777777777778,
              "#fb9f3a"
             ],
             [
              0.8888888888888888,
              "#fdca26"
             ],
             [
              1,
              "#f0f921"
             ]
            ],
            "type": "heatmap"
           }
          ],
          "heatmapgl": [
           {
            "colorbar": {
             "outlinewidth": 0,
             "ticks": ""
            },
            "colorscale": [
             [
              0,
              "#0d0887"
             ],
             [
              0.1111111111111111,
              "#46039f"
             ],
             [
              0.2222222222222222,
              "#7201a8"
             ],
             [
              0.3333333333333333,
              "#9c179e"
             ],
             [
              0.4444444444444444,
              "#bd3786"
             ],
             [
              0.5555555555555556,
              "#d8576b"
             ],
             [
              0.6666666666666666,
              "#ed7953"
             ],
             [
              0.7777777777777778,
              "#fb9f3a"
             ],
             [
              0.8888888888888888,
              "#fdca26"
             ],
             [
              1,
              "#f0f921"
             ]
            ],
            "type": "heatmapgl"
           }
          ],
          "histogram": [
           {
            "marker": {
             "pattern": {
              "fillmode": "overlay",
              "size": 10,
              "solidity": 0.2
             }
            },
            "type": "histogram"
           }
          ],
          "histogram2d": [
           {
            "colorbar": {
             "outlinewidth": 0,
             "ticks": ""
            },
            "colorscale": [
             [
              0,
              "#0d0887"
             ],
             [
              0.1111111111111111,
              "#46039f"
             ],
             [
              0.2222222222222222,
              "#7201a8"
             ],
             [
              0.3333333333333333,
              "#9c179e"
             ],
             [
              0.4444444444444444,
              "#bd3786"
             ],
             [
              0.5555555555555556,
              "#d8576b"
             ],
             [
              0.6666666666666666,
              "#ed7953"
             ],
             [
              0.7777777777777778,
              "#fb9f3a"
             ],
             [
              0.8888888888888888,
              "#fdca26"
             ],
             [
              1,
              "#f0f921"
             ]
            ],
            "type": "histogram2d"
           }
          ],
          "histogram2dcontour": [
           {
            "colorbar": {
             "outlinewidth": 0,
             "ticks": ""
            },
            "colorscale": [
             [
              0,
              "#0d0887"
             ],
             [
              0.1111111111111111,
              "#46039f"
             ],
             [
              0.2222222222222222,
              "#7201a8"
             ],
             [
              0.3333333333333333,
              "#9c179e"
             ],
             [
              0.4444444444444444,
              "#bd3786"
             ],
             [
              0.5555555555555556,
              "#d8576b"
             ],
             [
              0.6666666666666666,
              "#ed7953"
             ],
             [
              0.7777777777777778,
              "#fb9f3a"
             ],
             [
              0.8888888888888888,
              "#fdca26"
             ],
             [
              1,
              "#f0f921"
             ]
            ],
            "type": "histogram2dcontour"
           }
          ],
          "mesh3d": [
           {
            "colorbar": {
             "outlinewidth": 0,
             "ticks": ""
            },
            "type": "mesh3d"
           }
          ],
          "parcoords": [
           {
            "line": {
             "colorbar": {
              "outlinewidth": 0,
              "ticks": ""
             }
            },
            "type": "parcoords"
           }
          ],
          "pie": [
           {
            "automargin": true,
            "type": "pie"
           }
          ],
          "scatter": [
           {
            "fillpattern": {
             "fillmode": "overlay",
             "size": 10,
             "solidity": 0.2
            },
            "type": "scatter"
           }
          ],
          "scatter3d": [
           {
            "line": {
             "colorbar": {
              "outlinewidth": 0,
              "ticks": ""
             }
            },
            "marker": {
             "colorbar": {
              "outlinewidth": 0,
              "ticks": ""
             }
            },
            "type": "scatter3d"
           }
          ],
          "scattercarpet": [
           {
            "marker": {
             "colorbar": {
              "outlinewidth": 0,
              "ticks": ""
             }
            },
            "type": "scattercarpet"
           }
          ],
          "scattergeo": [
           {
            "marker": {
             "colorbar": {
              "outlinewidth": 0,
              "ticks": ""
             }
            },
            "type": "scattergeo"
           }
          ],
          "scattergl": [
           {
            "marker": {
             "colorbar": {
              "outlinewidth": 0,
              "ticks": ""
             }
            },
            "type": "scattergl"
           }
          ],
          "scattermapbox": [
           {
            "marker": {
             "colorbar": {
              "outlinewidth": 0,
              "ticks": ""
             }
            },
            "type": "scattermapbox"
           }
          ],
          "scatterpolar": [
           {
            "marker": {
             "colorbar": {
              "outlinewidth": 0,
              "ticks": ""
             }
            },
            "type": "scatterpolar"
           }
          ],
          "scatterpolargl": [
           {
            "marker": {
             "colorbar": {
              "outlinewidth": 0,
              "ticks": ""
             }
            },
            "type": "scatterpolargl"
           }
          ],
          "scatterternary": [
           {
            "marker": {
             "colorbar": {
              "outlinewidth": 0,
              "ticks": ""
             }
            },
            "type": "scatterternary"
           }
          ],
          "surface": [
           {
            "colorbar": {
             "outlinewidth": 0,
             "ticks": ""
            },
            "colorscale": [
             [
              0,
              "#0d0887"
             ],
             [
              0.1111111111111111,
              "#46039f"
             ],
             [
              0.2222222222222222,
              "#7201a8"
             ],
             [
              0.3333333333333333,
              "#9c179e"
             ],
             [
              0.4444444444444444,
              "#bd3786"
             ],
             [
              0.5555555555555556,
              "#d8576b"
             ],
             [
              0.6666666666666666,
              "#ed7953"
             ],
             [
              0.7777777777777778,
              "#fb9f3a"
             ],
             [
              0.8888888888888888,
              "#fdca26"
             ],
             [
              1,
              "#f0f921"
             ]
            ],
            "type": "surface"
           }
          ],
          "table": [
           {
            "cells": {
             "fill": {
              "color": "#EBF0F8"
             },
             "line": {
              "color": "white"
             }
            },
            "header": {
             "fill": {
              "color": "#C8D4E3"
             },
             "line": {
              "color": "white"
             }
            },
            "type": "table"
           }
          ]
         },
         "layout": {
          "annotationdefaults": {
           "arrowcolor": "#2a3f5f",
           "arrowhead": 0,
           "arrowwidth": 1
          },
          "autotypenumbers": "strict",
          "coloraxis": {
           "colorbar": {
            "outlinewidth": 0,
            "ticks": ""
           }
          },
          "colorscale": {
           "diverging": [
            [
             0,
             "#8e0152"
            ],
            [
             0.1,
             "#c51b7d"
            ],
            [
             0.2,
             "#de77ae"
            ],
            [
             0.3,
             "#f1b6da"
            ],
            [
             0.4,
             "#fde0ef"
            ],
            [
             0.5,
             "#f7f7f7"
            ],
            [
             0.6,
             "#e6f5d0"
            ],
            [
             0.7,
             "#b8e186"
            ],
            [
             0.8,
             "#7fbc41"
            ],
            [
             0.9,
             "#4d9221"
            ],
            [
             1,
             "#276419"
            ]
           ],
           "sequential": [
            [
             0,
             "#0d0887"
            ],
            [
             0.1111111111111111,
             "#46039f"
            ],
            [
             0.2222222222222222,
             "#7201a8"
            ],
            [
             0.3333333333333333,
             "#9c179e"
            ],
            [
             0.4444444444444444,
             "#bd3786"
            ],
            [
             0.5555555555555556,
             "#d8576b"
            ],
            [
             0.6666666666666666,
             "#ed7953"
            ],
            [
             0.7777777777777778,
             "#fb9f3a"
            ],
            [
             0.8888888888888888,
             "#fdca26"
            ],
            [
             1,
             "#f0f921"
            ]
           ],
           "sequentialminus": [
            [
             0,
             "#0d0887"
            ],
            [
             0.1111111111111111,
             "#46039f"
            ],
            [
             0.2222222222222222,
             "#7201a8"
            ],
            [
             0.3333333333333333,
             "#9c179e"
            ],
            [
             0.4444444444444444,
             "#bd3786"
            ],
            [
             0.5555555555555556,
             "#d8576b"
            ],
            [
             0.6666666666666666,
             "#ed7953"
            ],
            [
             0.7777777777777778,
             "#fb9f3a"
            ],
            [
             0.8888888888888888,
             "#fdca26"
            ],
            [
             1,
             "#f0f921"
            ]
           ]
          },
          "colorway": [
           "#636efa",
           "#EF553B",
           "#00cc96",
           "#ab63fa",
           "#FFA15A",
           "#19d3f3",
           "#FF6692",
           "#B6E880",
           "#FF97FF",
           "#FECB52"
          ],
          "font": {
           "color": "#2a3f5f"
          },
          "geo": {
           "bgcolor": "white",
           "lakecolor": "white",
           "landcolor": "#E5ECF6",
           "showlakes": true,
           "showland": true,
           "subunitcolor": "white"
          },
          "hoverlabel": {
           "align": "left"
          },
          "hovermode": "closest",
          "mapbox": {
           "style": "light"
          },
          "paper_bgcolor": "white",
          "plot_bgcolor": "#E5ECF6",
          "polar": {
           "angularaxis": {
            "gridcolor": "white",
            "linecolor": "white",
            "ticks": ""
           },
           "bgcolor": "#E5ECF6",
           "radialaxis": {
            "gridcolor": "white",
            "linecolor": "white",
            "ticks": ""
           }
          },
          "scene": {
           "xaxis": {
            "backgroundcolor": "#E5ECF6",
            "gridcolor": "white",
            "gridwidth": 2,
            "linecolor": "white",
            "showbackground": true,
            "ticks": "",
            "zerolinecolor": "white"
           },
           "yaxis": {
            "backgroundcolor": "#E5ECF6",
            "gridcolor": "white",
            "gridwidth": 2,
            "linecolor": "white",
            "showbackground": true,
            "ticks": "",
            "zerolinecolor": "white"
           },
           "zaxis": {
            "backgroundcolor": "#E5ECF6",
            "gridcolor": "white",
            "gridwidth": 2,
            "linecolor": "white",
            "showbackground": true,
            "ticks": "",
            "zerolinecolor": "white"
           }
          },
          "shapedefaults": {
           "line": {
            "color": "#2a3f5f"
           }
          },
          "ternary": {
           "aaxis": {
            "gridcolor": "white",
            "linecolor": "white",
            "ticks": ""
           },
           "baxis": {
            "gridcolor": "white",
            "linecolor": "white",
            "ticks": ""
           },
           "bgcolor": "#E5ECF6",
           "caxis": {
            "gridcolor": "white",
            "linecolor": "white",
            "ticks": ""
           }
          },
          "title": {
           "x": 0.05
          },
          "xaxis": {
           "automargin": true,
           "gridcolor": "white",
           "linecolor": "white",
           "ticks": "",
           "title": {
            "standoff": 15
           },
           "zerolinecolor": "white",
           "zerolinewidth": 2
          },
          "yaxis": {
           "automargin": true,
           "gridcolor": "white",
           "linecolor": "white",
           "ticks": "",
           "title": {
            "standoff": 15
           },
           "zerolinecolor": "white",
           "zerolinewidth": 2
          }
         }
        },
        "width": 800,
        "xaxis": {
         "gridcolor": "rgb(200, 200, 200)",
         "linecolor": "rgb(0, 0, 0)",
         "linewidth": 2,
         "mirror": true,
         "showgrid": false,
         "showline": true,
         "tickfont": {
          "size": 25
         },
         "tickmode": "array",
         "ticks": "inside",
         "ticktext": [
          "1",
          "2",
          "3",
          "4",
          "5"
         ],
         "tickvals": [
          1,
          2,
          3,
          4,
          5
         ],
         "title": {
          "font": {
           "size": 30
          },
          "text": "Pollution Source Number"
         }
        },
        "yaxis": {
         "gridcolor": "rgb(200, 200, 200)",
         "linecolor": "rgb(0, 0, 0)",
         "linewidth": 2,
         "mirror": true,
         "range": [
          0,
          6.5
         ],
         "showgrid": false,
         "showline": true,
         "tickfont": {
          "size": 25
         },
         "tickformat": ".1f",
         "ticks": "inside",
         "title": {
          "font": {
           "size": 30
          },
          "text": "Average Suppression of PM2.5 (μg/m³)"
         }
        }
       }
      }
     },
     "metadata": {},
     "output_type": "display_data"
    },
    {
     "name": "stdout",
     "output_type": "stream",
     "text": [
      "./outputs/png/line_AverageSuppression-source12345-linetype.png\n"
     ]
    }
   ],
   "source": [
    "width = 800\n",
    "height = 550\n",
    "linewidth = 3\n",
    "# markersymbol={'FH':4, 'HEUR':17, 'DDRL':2}\n",
    "markersize = 20\n",
    "linetype = {'Low':'dot','Medium':'dashdot','High':'solid'}\n",
    "# colors_dict = ['#3D9182','#C74223','#245C8F', '#FF8C00']\n",
    "markersymbol={'FH':2, 'HEUR':'star', 'DDRL':5}\n",
    "colors_dict = ['#d62728', '#ff7f0e', '#1f77b4']\n",
    "labels = []\n",
    "Time_deadline = 5\n",
    "for i in range(Time_deadline):\n",
    "    labels.append(int(i*1 + 1))\n",
    "\n",
    "xtitle = 'Pollution Source Number'\n",
    "ytitle = 'Average Suppression of PM2.5 (μg/m³)'\n",
    "\n",
    "fig = go.Figure()\n",
    "\n",
    "fig.add_trace(go.Scatter(\n",
    "    x=labels, \n",
    "    y=strategy_pm25suppression[0][0:Time_deadline], \n",
    "    name='SmartSpr', \n",
    "    marker=dict(size=markersize, symbol=markersymbol['FH']),line=dict(color=colors_dict[0], width=linewidth),))\n",
    "fig.add_trace(go.Scatter(\n",
    "    x=labels, \n",
    "    y=strategy_pm25suppression[1][0:Time_deadline], \n",
    "    name='MCPP', \n",
    "    marker=dict(size=markersize, symbol=markersymbol['HEUR']),line=dict(color=colors_dict[1], width=linewidth),))\n",
    "fig.add_trace(go.Scatter(\n",
    "    x=labels, \n",
    "    y=strategy_pm25suppression[2][0:Time_deadline], \n",
    "    name='MaximumCoverage', \n",
    "    marker=dict(size=markersize, symbol=markersymbol['DDRL']),line=dict(color=colors_dict[2], width=linewidth),))\n",
    "\n",
    "fig = line_update_fig(fig, xtitle, ytitle, width=width, height=height)\n",
    "fig.update_xaxes(title_text=xtitle, \n",
    "                title_font=dict(size=30),\n",
    "                tickfont=dict(size=25),\n",
    "                tickmode='array',\n",
    "                tickvals=labels,\n",
    "                ticktext=[str(label) for label in labels],\n",
    "                showgrid=False)\n",
    "fig.update_yaxes(title_text=ytitle, title_font=dict(size=30),tickfont=dict(size=25),showgrid=False)\n",
    "fig.update_layout(\n",
    "    yaxis=dict(range=[0, 6.5]),\n",
    "    legend=dict(font=dict(size=30), x=0.5, y=1.15)) # name size\n",
    "fig.show()\n",
    "filename = './outputs/png/line_AverageSuppression-source12345-linetype.png'\n",
    "print(filename)\n",
    "fig.write_image(filename, scale=1)"
   ]
  }
 ],
 "metadata": {
  "kernelspec": {
   "display_name": "Python 3.8.16 ('forestfire1.0')",
   "language": "python",
   "name": "python3"
  },
  "language_info": {
   "codemirror_mode": {
    "name": "ipython",
    "version": 3
   },
   "file_extension": ".py",
   "mimetype": "text/x-python",
   "name": "python",
   "nbconvert_exporter": "python",
   "pygments_lexer": "ipython3",
   "version": "3.8.16"
  },
  "vscode": {
   "interpreter": {
    "hash": "e22fcd08f9f55ceeb7ce3a4380ba807d68f0f823f065a4cc1fcab64b3551734e"
   }
  }
 },
 "nbformat": 4,
 "nbformat_minor": 5
}
