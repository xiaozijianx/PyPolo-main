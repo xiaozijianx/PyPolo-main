{
 "cells": [
  {
   "cell_type": "code",
   "execution_count": 5,
   "id": "73816e6f-1b0d-49fd-aebb-fb1fac88b04d",
   "metadata": {
    "scrolled": true
   },
   "outputs": [
    {
     "name": "stdout",
     "output_type": "stream",
     "text": [
      "2022-09-18 00:00:00\n"
     ]
    }
   ],
   "source": [
    "import os\n",
    "import pandas as pd\n",
    "import numpy as np\n",
    "import Sprayer_PDE as SP\n",
    "\n",
    "t = 0\n",
    "time_start = pd.Timestamp('2022-09-18 00:00:00')\n",
    "print(str(time_start + pd.Timedelta(pd.offsets.Second(t*60))))\n",
    "\n",
    "\n",
    "grid_x = grid_y = 20 # x,y coordinate range\n",
    "#网格范围 0 ~ grid_x, 0 ~ grid_y\n",
    "\n",
    "initial_field = 20 * np.ones((grid_x, grid_y))\\\n",
    "                    + 0 * np.random.random((grid_x, grid_y))# randomly initialize \"initial_field\" map matrix around 100\n",
    "#初始污染物分布，每个网格为250m x 250m，污染源单位PM2.5\n",
    "\n",
    "R = - 6.2 * np.ones((grid_x, grid_y)) + 12 * np.random.random((grid_x, grid_y)) # initialize pollution resource map matrix\n",
    "R[10][10] = 180\n",
    "# R[17][17] = 200\n",
    "R[3][17] = 150\n",
    "# R[17][3] = 160\n",
    "#污染源分布R，每个网格为250m x 250m\n",
    "    \n",
    "data_sprayer_train = []\n",
    "# time_range = 100\n",
    "# data_sprayer_train.append(pd.DataFrame({\"time\":range(t , t + time_range,10), \"x\":np.linspace(0,grid_x-grid_x/10,10),\\\n",
    "#                                         \"y\":np.linspace(0,grid_y-grid_y/10,10), \"spray_volume\":[5000 for i in range(10)]}))\n",
    "data_sprayer_train.append(pd.DataFrame())\n",
    "for i in range(10):\n",
    "    for j in range(1):\n",
    "        new_pd = pd.DataFrame({\"time\":i*10 + j, \"x\":i*grid_x/10,\"y\":i*grid_y/10, \"spray_volume\":3000},index=[0])\n",
    "        data_sprayer_train[0] = pd.concat([data_sprayer_train[0],new_pd])\n",
    "# for i in range(10):\n",
    "#     for j in range(1):\n",
    "#         new_pd = pd.DataFrame({\"time\":i*1 + j, \"x\":0,\"y\":0, \"spray_volume\":1500},index=[0])\n",
    "#         data_sprayer_train[0] = pd.concat([data_sprayer_train[0],new_pd])\n",
    "# data_sprayer_train.append(pd.DataFrame({\"time\":range(t , t + time_range), \"x\":np.linspace(grid_x,0,time_range),\\\n",
    "#                                         \"y\":np.linspace(grid_y,0,time_range), \"spray_volume\":[500 for i in range(time_range)]}))\n",
    "#洒水车的轨迹和洒水量 (轨迹时间单位：min, 轨迹空间单位：百米（每个网格为250m x 250m）, 洒水量单位 L/min)\n",
    "#每个洒水车对应一个data_sprayer_train[i]\n",
    "\n",
    "model_test = SP.Diffusion_Model(x_range = grid_x, y_range = grid_y,\\\n",
    "                 initial_field = initial_field, R_field = R, data_sprayer_train = data_sprayer_train, t_start = 0) # build model\n",
    "#x_range, y_range：空间网格大小\n",
    "#initial_field：初始污染物分布，每个网格为100m x 100m，污染源单位PM2.5\n",
    "#R_field：污染源分布R，每个网格为100m x 100m\n",
    "#data_sprayer_train：每个洒水车对应一个data_sprayer_train[i]\n",
    "#t_start：起始状态对应的时间，默认为0\n"
   ]
  },
  {
   "cell_type": "code",
   "execution_count": 6,
   "id": "f83bd5b1",
   "metadata": {},
   "outputs": [
    {
     "data": {
      "text/plain": [
       "[   time     x     y  spray_volume\n",
       " 0     0  0.00  0.00          3000\n",
       " 0    10  2.00  2.00          3000\n",
       " 0    20  4.00  4.00          3000\n",
       " 0    30  6.00  6.00          3000\n",
       " 0    40  8.00  8.00          3000\n",
       " 0    50 10.00 10.00          3000\n",
       " 0    60 12.00 12.00          3000\n",
       " 0    70 14.00 14.00          3000\n",
       " 0    80 16.00 16.00          3000\n",
       " 0    90 18.00 18.00          3000]"
      ]
     },
     "execution_count": 6,
     "metadata": {},
     "output_type": "execute_result"
    }
   ],
   "source": [
    "data_sprayer_train"
   ]
  },
  {
   "cell_type": "code",
   "execution_count": 7,
   "id": "68a31d0d-5afd-4266-b8d8-0da019099dab",
   "metadata": {
    "scrolled": true
   },
   "outputs": [
    {
     "name": "stderr",
     "output_type": "stream",
     "text": [
      "0it [00:00, ?it/s]                \n"
     ]
    },
    {
     "name": "stdout",
     "output_type": "stream",
     "text": [
      "infer_time:0.009340\n"
     ]
    },
    {
     "name": "stderr",
     "output_type": "stream",
     "text": [
      "100%|██████████| 5.0/5.0 [00:00<00:00,  5.15it/s]    \n"
     ]
    },
    {
     "name": "stdout",
     "output_type": "stream",
     "text": [
      "infer_time:0.978076\n"
     ]
    },
    {
     "name": "stderr",
     "output_type": "stream",
     "text": [
      "100%|██████████| 10.0/10.0 [00:00<00:00, 12.77it/s]   \n"
     ]
    },
    {
     "name": "stdout",
     "output_type": "stream",
     "text": [
      "infer_time:0.787704\n"
     ]
    },
    {
     "name": "stderr",
     "output_type": "stream",
     "text": [
      "100%|██████████| 15.0/15.0 [00:01<00:00, 13.55it/s]   \n"
     ]
    },
    {
     "name": "stdout",
     "output_type": "stream",
     "text": [
      "infer_time:1.110631\n"
     ]
    },
    {
     "name": "stderr",
     "output_type": "stream",
     "text": [
      "100%|██████████| 20.0/20.0 [00:01<00:00, 13.65it/s]   \n"
     ]
    },
    {
     "name": "stdout",
     "output_type": "stream",
     "text": [
      "infer_time:1.467749\n"
     ]
    },
    {
     "name": "stderr",
     "output_type": "stream",
     "text": [
      "100%|██████████| 25.0/25.0 [00:01<00:00, 14.00it/s]   \n"
     ]
    },
    {
     "name": "stdout",
     "output_type": "stream",
     "text": [
      "infer_time:1.789881\n"
     ]
    },
    {
     "name": "stderr",
     "output_type": "stream",
     "text": [
      "100%|██████████| 30.0/30.0 [00:02<00:00, 14.21it/s]   \n"
     ]
    },
    {
     "name": "stdout",
     "output_type": "stream",
     "text": [
      "infer_time:2.114766\n"
     ]
    },
    {
     "name": "stderr",
     "output_type": "stream",
     "text": [
      "100%|██████████| 35.0/35.0 [00:02<00:00, 14.29it/s]   \n"
     ]
    },
    {
     "name": "stdout",
     "output_type": "stream",
     "text": [
      "infer_time:2.452642\n"
     ]
    },
    {
     "name": "stderr",
     "output_type": "stream",
     "text": [
      "100%|██████████| 40.0/40.0 [00:03<00:00, 13.07it/s]   \n"
     ]
    },
    {
     "name": "stdout",
     "output_type": "stream",
     "text": [
      "infer_time:3.064349\n"
     ]
    },
    {
     "name": "stderr",
     "output_type": "stream",
     "text": [
      "100%|██████████| 45.0/45.0 [00:03<00:00, 12.34it/s]   \n"
     ]
    },
    {
     "name": "stdout",
     "output_type": "stream",
     "text": [
      "infer_time:3.652205\n"
     ]
    },
    {
     "name": "stderr",
     "output_type": "stream",
     "text": [
      "100%|██████████| 50.0/50.0 [00:03<00:00, 13.44it/s]   \n"
     ]
    },
    {
     "name": "stdout",
     "output_type": "stream",
     "text": [
      "infer_time:3.724689\n"
     ]
    },
    {
     "name": "stderr",
     "output_type": "stream",
     "text": [
      "100%|██████████| 55.0/55.0 [00:04<00:00, 12.88it/s]   \n"
     ]
    },
    {
     "name": "stdout",
     "output_type": "stream",
     "text": [
      "infer_time:4.274980\n"
     ]
    },
    {
     "name": "stderr",
     "output_type": "stream",
     "text": [
      "100%|██████████| 60.0/60.0 [00:04<00:00, 13.25it/s]   \n"
     ]
    },
    {
     "name": "stdout",
     "output_type": "stream",
     "text": [
      "infer_time:4.531658\n"
     ]
    },
    {
     "name": "stderr",
     "output_type": "stream",
     "text": [
      "100%|██████████| 65.0/65.0 [00:04<00:00, 13.36it/s]   \n"
     ]
    },
    {
     "name": "stdout",
     "output_type": "stream",
     "text": [
      "infer_time:4.867729\n"
     ]
    },
    {
     "name": "stderr",
     "output_type": "stream",
     "text": [
      "100%|██████████| 70.0/70.0 [00:05<00:00, 12.84it/s]   \n"
     ]
    },
    {
     "name": "stdout",
     "output_type": "stream",
     "text": [
      "infer_time:5.455093\n"
     ]
    },
    {
     "name": "stderr",
     "output_type": "stream",
     "text": [
      "100%|██████████| 75.0/75.0 [00:05<00:00, 12.86it/s]   \n"
     ]
    },
    {
     "name": "stdout",
     "output_type": "stream",
     "text": [
      "infer_time:5.834865\n"
     ]
    },
    {
     "name": "stderr",
     "output_type": "stream",
     "text": [
      "100%|██████████| 80.0/80.0 [00:06<00:00, 11.99it/s]   \n"
     ]
    },
    {
     "name": "stdout",
     "output_type": "stream",
     "text": [
      "infer_time:6.676473\n"
     ]
    },
    {
     "name": "stderr",
     "output_type": "stream",
     "text": [
      "100%|██████████| 85.0/85.0 [00:06<00:00, 12.87it/s]   \n"
     ]
    },
    {
     "name": "stdout",
     "output_type": "stream",
     "text": [
      "infer_time:6.606032\n"
     ]
    },
    {
     "name": "stderr",
     "output_type": "stream",
     "text": [
      "100%|██████████| 90.0/90.0 [00:06<00:00, 14.46it/s]   \n"
     ]
    },
    {
     "name": "stdout",
     "output_type": "stream",
     "text": [
      "infer_time:6.226787\n"
     ]
    },
    {
     "name": "stderr",
     "output_type": "stream",
     "text": [
      "100%|██████████| 95.0/95.0 [00:07<00:00, 13.37it/s]   "
     ]
    },
    {
     "name": "stdout",
     "output_type": "stream",
     "text": [
      "infer_time:7.109913\n"
     ]
    },
    {
     "name": "stderr",
     "output_type": "stream",
     "text": [
      "\n"
     ]
    }
   ],
   "source": [
    "import time\n",
    "data_show_matrix = []\n",
    "time_count = time.time()\n",
    "for i in range(0,100,5):\n",
    "    data_show_matrix.append(model_test.solve(i))\n",
    "    print(\"infer_time:%f\"%(time.time() - time_count))\n",
    "    time_count = time.time()\n",
    "#分别推断10,20,30...的污染地图（单位：min）"
   ]
  },
  {
   "cell_type": "code",
   "execution_count": 8,
   "id": "d3b7d38d-3f25-4a96-81e9-60f270daaa4c",
   "metadata": {},
   "outputs": [
    {
     "data": {
      "text/plain": [
       "<matplotlib.colorbar.Colorbar at 0x1a3307a40a0>"
      ]
     },
     "execution_count": 8,
     "metadata": {},
     "output_type": "execute_result"
    },
    {
     "data": {
      "image/png": "[encoded data removed]",
      "text/plain": [
       "<Figure size 1500x1200 with 21 Axes>"
      ]
     },
     "metadata": {},
     "output_type": "display_data"
    }
   ],
   "source": [
    "import matplotlib.pyplot as plt\n",
    "show_range_z_score = 3\n",
    "fig_size = 3\n",
    "vmin = 0\n",
    "vmax = 180\n",
    "subfig_num = 20\n",
    "test_show_row = 4\n",
    "subfig_onerow = 5\n",
    "fig, axes = plt.subplots(test_show_row, subfig_onerow, figsize=(fig_size * subfig_onerow, fig_size * test_show_row))\n",
    "fig.subplots_adjust(wspace = 0.4, hspace = 0.2)\n",
    "line_color = np.random.random(3)\n",
    "\n",
    "for i in range(subfig_num):\n",
    "    i_row = int(i / subfig_onerow)\n",
    "    i_col = int(i % subfig_onerow)\n",
    "#             ax = plt.subplot(test_show_row, subfig_onerow, i + 1, figsize=(10, 10))\n",
    "    if i % subfig_onerow != 0:\n",
    "        axes[i_row][i_col].yaxis.set_major_locator(plt.NullLocator())\n",
    "    else:\n",
    "        axes[i_row][i_col].set_ylabel(\"y\")\n",
    "    im = axes[i_row][i_col].imshow(np.matrix(data_show_matrix[i]).T, cmap='turbo',vmin = vmin, vmax = vmax)\n",
    "fig.colorbar(im, ax=axes.ravel().tolist(), orientation=\"vertical\")\n",
    "\n",
    "#10,20,30...的污染地图的可视化（单位：min）"
   ]
  },
  {
   "cell_type": "code",
   "execution_count": 8,
   "id": "7ee694a2",
   "metadata": {},
   "outputs": [
    {
     "data": {
      "text/plain": [
       "array([[  3.36740138,   7.25002116,   7.24696583,   8.82116494,\n",
       "          9.57359988,  10.74841027,  16.81508746,  18.85725354,\n",
       "         22.02015151,  28.42166068,  35.75517226,  42.58766795,\n",
       "         49.35458228,  57.03381145,  61.35016093,  68.70623759,\n",
       "         80.26113878,  85.25850197,  90.82514914,  91.23438838],\n",
       "       [  5.07414058,   8.58399513,   8.43733957,   8.79781511,\n",
       "         10.78370268,  11.32253969,  17.73112749,  20.55767161,\n",
       "         24.38214238,  30.84600904,  35.46021582,  39.22695522,\n",
       "         46.68342156,  55.92229209,  61.62886453,  71.04331861,\n",
       "         83.71285671,  92.04148513,  92.90380797,  94.32282149],\n",
       "       [  8.68782243,   9.98225633,   9.95221653,   8.73892141,\n",
       "          9.96615135,  11.85448566,  17.28707795,  22.70239724,\n",
       "         25.48385691,  31.19924528,  34.18136824,  38.3818494 ,\n",
       "         44.58345483,  54.31868466,  64.22027804,  74.11164893,\n",
       "         89.72183016, 106.01019221, 100.74600453,  97.07422394],\n",
       "       [ 12.11194986,  12.19112413,  11.761915  ,  12.92619512,\n",
       "         12.19922184,  15.2193355 ,  21.4676948 ,  25.88955852,\n",
       "         27.49168828,  29.77348716,  34.59571489,  40.76194987,\n",
       "         45.69417081,  54.05146932,  64.52630348,  76.85370389,\n",
       "         96.63573295, 138.60239445, 108.37667826, 100.19796262],\n",
       "       [ 14.32372888,  13.34626301,  15.71987866,  15.15363543,\n",
       "         15.83036604,  21.19130354,  25.04128815,  27.57153672,\n",
       "         29.17812857,  31.96691679,  37.76063382,  43.20745753,\n",
       "         47.36710962,  54.3968284 ,  62.2939187 ,  70.56423263,\n",
       "         84.44894221,  97.8081112 ,  96.08721733,  93.98300202],\n",
       "       [ 14.97517677,  16.36323011,  17.69148809,  18.05246182,\n",
       "         21.09709235,  24.1489644 ,  26.78451087,  30.54867524,\n",
       "         33.66111128,  37.98593019,  40.94058442,  43.12925841,\n",
       "         48.57965579,  52.02128278,  57.03809977,  65.10583214,\n",
       "         72.60349944,  77.93592672,  81.7483612 ,  83.61713683],\n",
       "       [ 15.90316043,  17.67544823,  19.05550438,  21.8968757 ,\n",
       "         25.35524795,  27.67522998,  29.39855167,  34.03098315,\n",
       "         37.03057683,  41.29696924,  44.59758948,  46.62384073,\n",
       "         50.26150588,  51.74450846,  54.77557382,  59.21267507,\n",
       "         62.21542054,  65.14573414,  68.03779137,  71.99238898],\n",
       "       [ 15.9411789 ,  19.40476631,  20.31695149,  23.86885961,\n",
       "         25.84318682,  28.29292563,  32.43759829,  36.19168498,\n",
       "         40.06158128,  46.23987963,  50.57912046,  51.93428119,\n",
       "         51.86146541,  50.93524078,  53.93324898,  55.0003938 ,\n",
       "         56.22013052,  57.53162554,  58.93907224,  60.1991362 ],\n",
       "       [ 17.10691127,  18.98266141,  21.19510935,  22.52408491,\n",
       "         23.48348566,  27.4416056 ,  34.30849123,  38.18715237,\n",
       "         43.6386487 ,  50.88637828,  56.87079605,  56.98024838,\n",
       "         52.65015439,  50.97406701,  51.06333144,  51.38248889,\n",
       "         51.33379448,  53.2085089 ,  52.2745907 ,  52.22976794],\n",
       "       [ 17.21094511,  20.53084202,  22.58588284,  22.58927885,\n",
       "         23.71690794,  29.50087589,  35.03590168,  41.23055592,\n",
       "         48.91397192,  62.11155753,  75.8921542 ,  65.08482363,\n",
       "         56.75299459,  49.22123877,  48.15814472,  46.77702613,\n",
       "         48.20279926,  48.05630201,  45.57643499,  44.96286258],\n",
       "       [ 20.11210555,  21.96199948,  23.60068862,  24.19234845,\n",
       "         24.57226466,  27.19589621,  33.84350585,  41.0172477 ,\n",
       "         51.76304737,  74.62849121, 119.36429477,  76.53597571,\n",
       "         57.4266717 ,  46.6061211 ,  41.82608736,  41.75402434,\n",
       "         42.06360257,  42.24154113,  41.72144565,  42.54248919],\n",
       "       [ 24.30737682,  24.14631221,  23.8880521 ,  22.19595925,\n",
       "         24.31941399,  26.75891593,  33.25483407,  38.565028  ,\n",
       "         48.92140806,  61.74094271,  73.93511343,  62.07299635,\n",
       "         49.52346506,  39.70458991,  35.3633619 ,  36.41030793,\n",
       "         36.50195296,  36.30682691,  36.62580032,  37.21957814],\n",
       "       [ 23.43358561,  23.89272911,  22.06638291,  21.72543524,\n",
       "         22.32873169,  25.4286622 ,  29.84162773,  33.50480117,\n",
       "         39.51529684,  45.3942216 ,  50.62855996,  45.99853336,\n",
       "         39.17456268,  33.86500415,  30.28434545,  30.38456297,\n",
       "         27.28900508,  27.48666662,  27.65516398,  28.51586612],\n",
       "       [ 19.81784696,  21.4014375 ,  20.42188762,  19.88582891,\n",
       "         18.77849286,  19.93700345,  22.93725965,  26.87594421,\n",
       "         29.26303673,  33.14409254,  34.39583553,  33.76909301,\n",
       "         28.2301452 ,  25.33627544,  23.09949253,  23.29276096,\n",
       "         21.35766623,  22.10920667,  20.57446545,  21.90257567],\n",
       "       [ 21.18380996,  21.26199765,  19.69802009,  16.20659021,\n",
       "         14.23594962,  14.72612402,  16.72194326,  18.46112437,\n",
       "         20.16531606,  22.60627595,  26.32334022,  24.75311588,\n",
       "         21.0831887 ,  17.67682552,  13.64324619,  18.46007905,\n",
       "         16.96302849,  16.9279775 ,  17.18633644,  19.15069835],\n",
       "       [ 20.75284956,  19.20927958,  18.27791343,  14.21249546,\n",
       "         12.67768202,  12.69337678,  12.00772628,  12.8554389 ,\n",
       "         16.12096093,  17.51072941,  19.61332176,  18.5755203 ,\n",
       "         16.22186398,  17.11770805,  17.54411002,  17.1654502 ,\n",
       "         16.89191475,  16.54539473,  18.23887581,  19.70080332],\n",
       "       [ 17.79767977,  16.08518474,  15.47137772,  14.47517466,\n",
       "         10.86796276,  10.01440698,  10.68486276,   9.23701215,\n",
       "          9.06168496,  11.00105115,  11.72049102,  14.12349411,\n",
       "         13.83637955,  13.41094637,  16.42344539,  16.79362938,\n",
       "         16.08398612,  14.75086729,  15.94635409,  16.68485203],\n",
       "       [ 14.5508021 ,  13.55513585,  12.50271961,  12.8397528 ,\n",
       "         10.50488217,   9.3272924 ,   6.51309946,   5.20859592,\n",
       "          6.26516893,   8.84284403,   8.22608097,   8.8406835 ,\n",
       "          9.64165073,  10.2307026 ,  14.93466908,  15.70834546,\n",
       "         15.976436  ,  14.49122762,  13.46380741,  15.68980253],\n",
       "       [ 13.14510919,  11.77420682,  10.34624175,   8.97859383,\n",
       "          6.50546213,   5.53939652,   5.37604996,   5.12492473,\n",
       "          6.82390997,   6.5814237 ,   8.13476609,   9.29806468,\n",
       "          7.93787505,   8.8052917 ,  12.58694207,  12.3478298 ,\n",
       "         12.54070815,  12.99046609,  12.8842868 ,  13.93271799],\n",
       "       [ 15.09546091,  12.66867972,  11.70622729,   7.73840175,\n",
       "          5.35040843,   4.7333901 ,   4.51205183,   3.28285266,\n",
       "          6.15711026,   8.71823381,  10.89568645,  10.88662846,\n",
       "          8.03833259,   9.36352406,   9.81122449,  10.74889795,\n",
       "         10.32606088,  13.53121974,  11.99089196,  14.87750431]])"
      ]
     },
     "execution_count": 8,
     "metadata": {},
     "output_type": "execute_result"
    }
   ],
   "source": [
    "data_show_matrix[14]"
   ]
  }
 ],
 "metadata": {
  "kernelspec": {
   "display_name": "Python 3.8.16 ('forestfire1.0')",
   "language": "python",
   "name": "python3"
  },
  "language_info": {
   "codemirror_mode": {
    "name": "ipython",
    "version": 3
   },
   "file_extension": ".py",
   "mimetype": "text/x-python",
   "name": "python",
   "nbconvert_exporter": "python",
   "pygments_lexer": "ipython3",
   "version": "3.8.16"
  },
  "vscode": {
   "interpreter": {
    "hash": "e22fcd08f9f55ceeb7ce3a4380ba807d68f0f823f065a4cc1fcab64b3551734e"
   }
  }
 },
 "nbformat": 4,
 "nbformat_minor": 5
}
