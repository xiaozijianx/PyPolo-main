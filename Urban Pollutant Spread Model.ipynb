{
 "cells": [
  {
   "cell_type": "code",
   "execution_count": 1,
   "id": "73816e6f-1b0d-49fd-aebb-fb1fac88b04d",
   "metadata": {
    "scrolled": true
   },
   "outputs": [
    {
     "name": "stdout",
     "output_type": "stream",
     "text": [
      "2022-09-18 00:00:00\n"
     ]
    }
   ],
   "source": [
    "import os\n",
    "import pandas as pd\n",
    "import numpy as np\n",
    "import Sprayer_PDE as SP\n",
    "\n",
    "t = 0\n",
    "time_start = pd.Timestamp('2022-09-18 00:00:00')\n",
    "print(str(time_start + pd.Timedelta(pd.offsets.Second(t*60))))\n",
    "\n",
    "\n",
    "grid_x = grid_y = 20 # x,y coordinate range\n",
    "#网格范围 0 ~ grid_x, 0 ~ grid_y\n",
    "\n",
    "initial_field = 20 * np.ones((grid_x, grid_y))\\\n",
    "                    + 0 * np.random.random((grid_x, grid_y))# randomly initialize \"initial_field\" map matrix around 100\n",
    "#初始污染物分布，每个网格为250m x 250m，污染源单位PM2.5\n",
    "\n",
    "R = - 0.0* np.ones((grid_x, grid_y)) - 3 * np.ones((grid_x, grid_y)) + 6 * np.random.random((grid_x, grid_y)) # initialize pollution resource map matrix\n",
    "# R = - 0.0 * np.ones((grid_x, grid_y))\n",
    "R[10][10] = 60\n",
    "R[16][16] = 60\n",
    "# R[3][16] = 80\n",
    "# R[16][3] = 80\n",
    "R[3][3] = 60\n",
    "#污染源分布R，每个网格为250m x 250m\n",
    "    \n",
    "data_sprayer_train = []\n",
    "# time_range = 100\n",
    "# data_sprayer_train.append(pd.DataFrame({\"time\":range(t , t + time_range,10), \"x\":np.linspace(0,grid_x-grid_x/10,10),\\\n",
    "#                                         \"y\":np.linspace(0,grid_y-grid_y/10,10), \"spray_volume\":[5000 for i in range(10)]}))\n",
    "data_sprayer_train.append(pd.DataFrame())\n",
    "# for i in range(20):\n",
    "#     for j in range(1):\n",
    "#         new_pd = pd.DataFrame({\"time\":i*5 + j, \"x\":i*grid_x/20,\"y\":i*grid_y/20, \"spray_volume\":200},index=[0])\n",
    "#         data_sprayer_train[0] = pd.concat([data_sprayer_train[0],new_pd])\n",
    "\n",
    "for i in range(20):\n",
    "    for j in range(1):\n",
    "        if i >= 10 and i <= 15:\n",
    "            new_pd = pd.DataFrame({\"time\":i*5 + j, \"x\":10,\"y\":10, \"spray_volume\":200},index=[0])\n",
    "            data_sprayer_train[0] = pd.concat([data_sprayer_train[0],new_pd])\n",
    "        else:\n",
    "            new_pd = pd.DataFrame({\"time\":i*5 + j, \"x\":10,\"y\":10, \"spray_volume\":0},index=[0])\n",
    "            data_sprayer_train[0] = pd.concat([data_sprayer_train[0],new_pd])\n",
    "\n",
    "\n",
    "#洒水车的轨迹和洒水量 (轨迹时间单位：min, 轨迹空间单位：百米（每个网格为250m x 250m）, 洒水量单位 L/min)\n",
    "#每个洒水车对应一个data_sprayer_train[i]\n",
    "\n",
    "model_test = SP.Diffusion_Model(x_range = grid_x, y_range = grid_y,\\\n",
    "                 initial_field = initial_field, R_field = R, data_sprayer_train = data_sprayer_train, t_start = 0) # build model\n",
    "#x_range, y_range：空间网格大小\n",
    "#initial_field：初始污染物分布，每个网格为100m x 100m，污染源单位PM2.5\n",
    "#R_field：污染源分布R，每个网格为100m x 100m\n",
    "#data_sprayer_train：每个洒水车对应一个data_sprayer_train[i]\n",
    "#t_start：起始状态对应的时间，默认为0\n"
   ]
  },
  {
   "cell_type": "code",
   "execution_count": 2,
   "id": "47353b3e",
   "metadata": {},
   "outputs": [
    {
     "name": "stderr",
     "output_type": "stream",
     "text": [
      "100%|██████████| 1.0/1.0 [00:00<00:00,  1.51it/s]    \n",
      "100%|██████████| 1.0/1.0 [00:00<00:00,  5.10it/s]    \n",
      "100%|██████████| 1.0/1.0 [00:00<00:00,  5.45it/s]    \n",
      "100%|██████████| 1.0/1.0 [00:00<00:00,  6.10it/s]    \n",
      "100%|██████████| 1.0/1.0 [00:00<00:00,  6.54it/s]    \n",
      "100%|██████████| 1.0/1.0 [00:00<00:00,  6.68it/s]    \n",
      "100%|██████████| 1.0/1.0 [00:00<00:00,  6.89it/s]    \n",
      "100%|██████████| 1.0/1.0 [00:00<00:00,  6.24it/s]    \n",
      "100%|██████████| 1.0/1.0 [00:00<00:00,  6.52it/s]    \n",
      "100%|██████████| 1.0/1.0 [00:00<00:00,  6.69it/s]    \n"
     ]
    },
    {
     "name": "stdout",
     "output_type": "stream",
     "text": [
      "infer_time:2.148193\n"
     ]
    },
    {
     "name": "stderr",
     "output_type": "stream",
     "text": [
      "100%|██████████| 1.0/1.0 [00:00<00:00,  2.59it/s]    \n",
      "100%|██████████| 1.0/1.0 [00:00<00:00,  6.42it/s]    \n",
      "100%|██████████| 1.0/1.0 [00:00<00:00,  5.90it/s]    \n",
      "100%|██████████| 1.0/1.0 [00:00<00:00,  6.15it/s]    \n",
      "100%|██████████| 1.0/1.0 [00:00<00:00,  6.76it/s]    \n",
      "100%|██████████| 1.0/1.0 [00:00<00:00,  6.89it/s]    \n",
      "100%|██████████| 1.0/1.0 [00:00<00:00,  6.89it/s]    \n",
      "100%|██████████| 1.0/1.0 [00:00<00:00,  7.19it/s]    \n",
      "100%|██████████| 1.0/1.0 [00:00<00:00,  6.85it/s]    \n",
      "100%|██████████| 1.0/1.0 [00:00<00:00,  6.62it/s]    \n"
     ]
    },
    {
     "name": "stdout",
     "output_type": "stream",
     "text": [
      "infer_time:1.778103\n"
     ]
    },
    {
     "name": "stderr",
     "output_type": "stream",
     "text": [
      "100%|██████████| 1.0/1.0 [00:00<00:00,  2.27it/s]    \n",
      "100%|██████████| 1.0/1.0 [00:00<00:00,  6.52it/s]    \n",
      "100%|██████████| 1.0/1.0 [00:00<00:00,  6.95it/s]    \n",
      "100%|██████████| 1.0/1.0 [00:00<00:00,  6.90it/s]    \n",
      "100%|██████████| 1.0/1.0 [00:00<00:00,  6.46it/s]    \n",
      "100%|██████████| 1.0/1.0 [00:00<00:00,  6.73it/s]    \n",
      "100%|██████████| 1.0/1.0 [00:00<00:00,  6.85it/s]    \n",
      "100%|██████████| 1.0/1.0 [00:00<00:00,  7.24it/s]    \n",
      "100%|██████████| 1.0/1.0 [00:00<00:00,  6.80it/s]    \n",
      "100%|██████████| 1.0/1.0 [00:00<00:00,  5.99it/s]    \n"
     ]
    },
    {
     "name": "stdout",
     "output_type": "stream",
     "text": [
      "infer_time:1.812868\n"
     ]
    },
    {
     "name": "stderr",
     "output_type": "stream",
     "text": [
      "100%|██████████| 1.0/1.0 [00:00<00:00,  2.32it/s]    \n",
      "100%|██████████| 1.0/1.0 [00:00<00:00,  6.81it/s]    \n",
      "100%|██████████| 1.0/1.0 [00:00<00:00,  6.53it/s]    \n",
      "100%|██████████| 1.0/1.0 [00:00<00:00,  6.65it/s]    \n",
      "100%|██████████| 1.0/1.0 [00:00<00:00,  5.91it/s]    \n",
      "100%|██████████| 1.0/1.0 [00:00<00:00,  6.36it/s]    \n",
      "100%|██████████| 1.0/1.0 [00:00<00:00,  6.54it/s]    \n",
      "100%|██████████| 1.0/1.0 [00:00<00:00,  5.93it/s]    \n",
      "100%|██████████| 1.0/1.0 [00:00<00:00,  6.23it/s]    \n",
      "100%|██████████| 1.0/1.0 [00:00<00:00,  6.75it/s]    \n"
     ]
    },
    {
     "name": "stdout",
     "output_type": "stream",
     "text": [
      "infer_time:1.866687\n"
     ]
    },
    {
     "name": "stderr",
     "output_type": "stream",
     "text": [
      "100%|██████████| 1.0/1.0 [00:00<00:00,  2.57it/s]    \n",
      "100%|██████████| 1.0/1.0 [00:00<00:00,  6.36it/s]    \n",
      "100%|██████████| 1.0/1.0 [00:00<00:00,  6.93it/s]    \n",
      "100%|██████████| 1.0/1.0 [00:00<00:00,  6.89it/s]    \n",
      "100%|██████████| 1.0/1.0 [00:00<00:00,  7.31it/s]    \n",
      "100%|██████████| 1.0/1.0 [00:00<00:00,  7.08it/s]    \n",
      "100%|██████████| 1.0/1.0 [00:00<00:00,  6.80it/s]    \n",
      "100%|██████████| 1.0/1.0 [00:00<00:00,  6.44it/s]    \n",
      "100%|██████████| 1.0/1.0 [00:00<00:00,  6.98it/s]    \n",
      "100%|██████████| 1.0/1.0 [00:00<00:00,  6.99it/s]    \n"
     ]
    },
    {
     "name": "stdout",
     "output_type": "stream",
     "text": [
      "infer_time:1.731165\n"
     ]
    },
    {
     "name": "stderr",
     "output_type": "stream",
     "text": [
      "100%|██████████| 1.0/1.0 [00:00<00:00,  2.69it/s]    \n",
      "100%|██████████| 1.0/1.0 [00:00<00:00,  5.53it/s]    \n",
      "100%|██████████| 1.0/1.0 [00:00<00:00,  6.70it/s]    \n",
      "100%|██████████| 1.0/1.0 [00:00<00:00,  6.89it/s]    \n",
      "100%|██████████| 1.0/1.0 [00:00<00:00,  6.63it/s]    \n",
      "100%|██████████| 1.0/1.0 [00:00<00:00,  6.81it/s]    \n",
      "100%|██████████| 1.0/1.0 [00:00<00:00,  6.12it/s]    \n",
      "100%|██████████| 1.0/1.0 [00:00<00:00,  5.52it/s]    \n",
      "100%|██████████| 1.0/1.0 [00:00<00:00,  6.23it/s]    \n",
      "100%|██████████| 1.0/1.0 [00:00<00:00,  6.04it/s]    \n"
     ]
    },
    {
     "name": "stdout",
     "output_type": "stream",
     "text": [
      "infer_time:1.843225\n"
     ]
    },
    {
     "name": "stderr",
     "output_type": "stream",
     "text": [
      "100%|██████████| 1.0/1.0 [00:00<00:00,  2.24it/s]    \n",
      "100%|██████████| 1.0/1.0 [00:00<00:00,  7.15it/s]    \n",
      "100%|██████████| 1.0/1.0 [00:00<00:00,  6.58it/s]    \n",
      "100%|██████████| 1.0/1.0 [00:00<00:00,  6.90it/s]    \n",
      "100%|██████████| 1.0/1.0 [00:00<00:00,  6.71it/s]    \n",
      "100%|██████████| 1.0/1.0 [00:00<00:00,  7.14it/s]    \n",
      "100%|██████████| 1.0/1.0 [00:00<00:00,  6.48it/s]    \n",
      "100%|██████████| 1.0/1.0 [00:00<00:00,  7.05it/s]    \n",
      "100%|██████████| 1.0/1.0 [00:00<00:00,  6.46it/s]    \n",
      "100%|██████████| 1.0/1.0 [00:00<00:00,  5.91it/s]    \n"
     ]
    },
    {
     "name": "stdout",
     "output_type": "stream",
     "text": [
      "infer_time:1.821154\n"
     ]
    },
    {
     "name": "stderr",
     "output_type": "stream",
     "text": [
      "100%|██████████| 1.0/1.0 [00:00<00:00,  2.68it/s]    \n",
      "100%|██████████| 1.0/1.0 [00:00<00:00,  7.18it/s]    \n",
      "100%|██████████| 1.0/1.0 [00:00<00:00,  7.10it/s]    \n",
      "100%|██████████| 1.0/1.0 [00:00<00:00,  6.90it/s]    \n",
      "100%|██████████| 1.0/1.0 [00:00<00:00,  6.82it/s]    \n",
      "100%|██████████| 1.0/1.0 [00:00<00:00,  6.96it/s]    \n",
      "100%|██████████| 1.0/1.0 [00:00<00:00,  6.96it/s]    \n",
      "100%|██████████| 1.0/1.0 [00:00<00:00,  7.00it/s]    \n",
      "100%|██████████| 1.0/1.0 [00:00<00:00,  7.10it/s]    \n",
      "100%|██████████| 1.0/1.0 [00:00<00:00,  6.46it/s]    \n"
     ]
    },
    {
     "name": "stdout",
     "output_type": "stream",
     "text": [
      "infer_time:1.695497\n"
     ]
    },
    {
     "name": "stderr",
     "output_type": "stream",
     "text": [
      "100%|██████████| 1.0/1.0 [00:00<00:00,  2.68it/s]    \n",
      "100%|██████████| 1.0/1.0 [00:00<00:00,  6.72it/s]    \n",
      "100%|██████████| 1.0/1.0 [00:00<00:00,  6.96it/s]    \n",
      "100%|██████████| 1.0/1.0 [00:00<00:00,  7.00it/s]    \n",
      "100%|██████████| 1.0/1.0 [00:00<00:00,  6.33it/s]    \n",
      "100%|██████████| 1.0/1.0 [00:00<00:00,  5.81it/s]    \n",
      "100%|██████████| 1.0/1.0 [00:00<00:00,  6.38it/s]    \n",
      "100%|██████████| 1.0/1.0 [00:00<00:00,  6.80it/s]    \n",
      "100%|██████████| 1.0/1.0 [00:00<00:00,  6.33it/s]    \n",
      "100%|██████████| 1.0/1.0 [00:00<00:00,  6.65it/s]    \n"
     ]
    },
    {
     "name": "stdout",
     "output_type": "stream",
     "text": [
      "infer_time:1.779598\n"
     ]
    },
    {
     "name": "stderr",
     "output_type": "stream",
     "text": [
      "100%|██████████| 1.0/1.0 [00:00<00:00,  2.72it/s]    \n",
      "100%|██████████| 1.0/1.0 [00:00<00:00,  6.58it/s]    \n",
      "100%|██████████| 1.0/1.0 [00:00<00:00,  5.90it/s]    \n",
      "100%|██████████| 1.0/1.0 [00:00<00:00,  6.88it/s]    \n",
      "100%|██████████| 1.0/1.0 [00:00<00:00,  6.62it/s]    \n",
      "100%|██████████| 1.0/1.0 [00:00<00:00,  7.13it/s]    \n",
      "100%|██████████| 1.0/1.0 [00:00<00:00,  6.59it/s]    \n",
      "100%|██████████| 1.0/1.0 [00:00<00:00,  6.47it/s]    \n",
      "100%|██████████| 1.0/1.0 [00:00<00:00,  6.90it/s]    \n",
      "100%|██████████| 1.0/1.0 [00:00<00:00,  7.36it/s]    \n"
     ]
    },
    {
     "name": "stdout",
     "output_type": "stream",
     "text": [
      "infer_time:1.741187\n"
     ]
    },
    {
     "name": "stderr",
     "output_type": "stream",
     "text": [
      "100%|██████████| 1.0/1.0 [00:00<00:00,  2.29it/s]    \n",
      "100%|██████████| 1.0/1.0 [00:00<00:00,  6.72it/s]    \n",
      "100%|██████████| 1.0/1.0 [00:00<00:00,  6.84it/s]    \n",
      "100%|██████████| 1.0/1.0 [00:00<00:00,  6.97it/s]    \n",
      "100%|██████████| 1.0/1.0 [00:00<00:00,  6.94it/s]    \n",
      "100%|██████████| 1.0/1.0 [00:00<00:00,  7.29it/s]    \n",
      "100%|██████████| 1.0/1.0 [00:00<00:00,  7.16it/s]    \n",
      "100%|██████████| 1.0/1.0 [00:00<00:00,  7.26it/s]    \n",
      "100%|██████████| 1.0/1.0 [00:00<00:00,  6.98it/s]    \n",
      "100%|██████████| 1.0/1.0 [00:00<00:00,  6.58it/s]    \n"
     ]
    },
    {
     "name": "stdout",
     "output_type": "stream",
     "text": [
      "infer_time:1.755899\n"
     ]
    },
    {
     "name": "stderr",
     "output_type": "stream",
     "text": [
      "100%|██████████| 1.0/1.0 [00:00<00:00,  2.75it/s]    \n",
      "100%|██████████| 1.0/1.0 [00:00<00:00,  6.63it/s]    \n",
      "100%|██████████| 1.0/1.0 [00:00<00:00,  6.03it/s]    \n",
      "100%|██████████| 1.0/1.0 [00:00<00:00,  5.49it/s]    \n",
      "100%|██████████| 1.0/1.0 [00:00<00:00,  6.38it/s]    \n",
      "100%|██████████| 1.0/1.0 [00:00<00:00,  6.22it/s]    \n",
      "100%|██████████| 1.0/1.0 [00:00<00:00,  6.45it/s]    \n",
      "100%|██████████| 1.0/1.0 [00:00<00:00,  7.41it/s]    \n",
      "100%|██████████| 1.0/1.0 [00:00<00:00,  6.61it/s]    \n",
      "100%|██████████| 1.0/1.0 [00:00<00:00,  6.62it/s]    \n"
     ]
    },
    {
     "name": "stdout",
     "output_type": "stream",
     "text": [
      "infer_time:1.798987\n"
     ]
    },
    {
     "name": "stderr",
     "output_type": "stream",
     "text": [
      "100%|██████████| 1.0/1.0 [00:00<00:00,  2.61it/s]    \n",
      "100%|██████████| 1.0/1.0 [00:00<00:00,  7.33it/s]    \n",
      "100%|██████████| 1.0/1.0 [00:00<00:00,  7.28it/s]    \n",
      "100%|██████████| 1.0/1.0 [00:00<00:00,  7.20it/s]    \n",
      "100%|██████████| 1.0/1.0 [00:00<00:00,  7.22it/s]    \n",
      "100%|██████████| 1.0/1.0 [00:00<00:00,  6.43it/s]    \n",
      "100%|██████████| 1.0/1.0 [00:00<00:00,  6.88it/s]    \n",
      "100%|██████████| 1.0/1.0 [00:00<00:00,  7.04it/s]    \n",
      "100%|██████████| 1.0/1.0 [00:00<00:00,  6.57it/s]    \n",
      "100%|██████████| 1.0/1.0 [00:00<00:00,  6.76it/s]    \n"
     ]
    },
    {
     "name": "stdout",
     "output_type": "stream",
     "text": [
      "infer_time:1.705246\n"
     ]
    },
    {
     "name": "stderr",
     "output_type": "stream",
     "text": [
      "100%|██████████| 1.0/1.0 [00:00<00:00,  2.58it/s]    \n",
      "100%|██████████| 1.0/1.0 [00:00<00:00,  6.46it/s]    \n",
      "100%|██████████| 1.0/1.0 [00:00<00:00,  7.03it/s]    \n",
      "100%|██████████| 1.0/1.0 [00:00<00:00,  6.99it/s]    \n",
      "100%|██████████| 1.0/1.0 [00:00<00:00,  7.31it/s]    \n",
      "100%|██████████| 1.0/1.0 [00:00<00:00,  7.09it/s]    \n",
      "100%|██████████| 1.0/1.0 [00:00<00:00,  7.17it/s]    \n",
      "100%|██████████| 1.0/1.0 [00:00<00:00,  6.41it/s]    \n",
      "100%|██████████| 1.0/1.0 [00:00<00:00,  6.97it/s]    \n",
      "100%|██████████| 1.0/1.0 [00:00<00:00,  7.04it/s]    \n"
     ]
    },
    {
     "name": "stdout",
     "output_type": "stream",
     "text": [
      "infer_time:1.714035\n"
     ]
    },
    {
     "name": "stderr",
     "output_type": "stream",
     "text": [
      "100%|██████████| 1.0/1.0 [00:00<00:00,  2.22it/s]    \n",
      "100%|██████████| 1.0/1.0 [00:00<00:00,  6.06it/s]    \n",
      "100%|██████████| 1.0/1.0 [00:00<00:00,  6.24it/s]    \n",
      "100%|██████████| 1.0/1.0 [00:00<00:00,  6.55it/s]    \n",
      "100%|██████████| 1.0/1.0 [00:00<00:00,  6.90it/s]    \n",
      "100%|██████████| 1.0/1.0 [00:00<00:00,  7.36it/s]    \n",
      "100%|██████████| 1.0/1.0 [00:00<00:00,  6.51it/s]    \n",
      "100%|██████████| 1.0/1.0 [00:00<00:00,  6.78it/s]    \n",
      "100%|██████████| 1.0/1.0 [00:00<00:00,  6.93it/s]    \n",
      "100%|██████████| 1.0/1.0 [00:00<00:00,  6.52it/s]    \n"
     ]
    },
    {
     "name": "stdout",
     "output_type": "stream",
     "text": [
      "infer_time:1.834722\n"
     ]
    },
    {
     "name": "stderr",
     "output_type": "stream",
     "text": [
      "100%|██████████| 1.0/1.0 [00:00<00:00,  2.75it/s]    \n",
      "100%|██████████| 1.0/1.0 [00:00<00:00,  7.22it/s]    \n",
      "100%|██████████| 1.0/1.0 [00:00<00:00,  7.23it/s]    \n",
      "100%|██████████| 1.0/1.0 [00:00<00:00,  6.58it/s]    \n",
      "100%|██████████| 1.0/1.0 [00:00<00:00,  7.08it/s]    \n",
      "100%|██████████| 1.0/1.0 [00:00<00:00,  6.96it/s]    \n",
      "100%|██████████| 1.0/1.0 [00:00<00:00,  7.03it/s]    \n",
      "100%|██████████| 1.0/1.0 [00:00<00:00,  6.47it/s]    \n",
      "100%|██████████| 1.0/1.0 [00:00<00:00,  6.64it/s]    \n",
      "100%|██████████| 1.0/1.0 [00:00<00:00,  6.88it/s]    \n"
     ]
    },
    {
     "name": "stdout",
     "output_type": "stream",
     "text": [
      "infer_time:1.694032\n"
     ]
    },
    {
     "name": "stderr",
     "output_type": "stream",
     "text": [
      "100%|██████████| 1.0/1.0 [00:00<00:00,  2.69it/s]    \n",
      "100%|██████████| 1.0/1.0 [00:00<00:00,  7.31it/s]    \n",
      "100%|██████████| 1.0/1.0 [00:00<00:00,  7.13it/s]    \n",
      "100%|██████████| 1.0/1.0 [00:00<00:00,  7.36it/s]    \n",
      "100%|██████████| 1.0/1.0 [00:00<00:00,  7.14it/s]    \n",
      "100%|██████████| 1.0/1.0 [00:00<00:00,  6.76it/s]    \n",
      "100%|██████████| 1.0/1.0 [00:00<00:00,  6.84it/s]    \n",
      "100%|██████████| 1.0/1.0 [00:00<00:00,  6.89it/s]    \n",
      "100%|██████████| 1.0/1.0 [00:00<00:00,  7.27it/s]    \n",
      "100%|██████████| 1.0/1.0 [00:00<00:00,  6.49it/s]    \n"
     ]
    },
    {
     "name": "stdout",
     "output_type": "stream",
     "text": [
      "infer_time:1.683500\n"
     ]
    },
    {
     "name": "stderr",
     "output_type": "stream",
     "text": [
      "100%|██████████| 1.0/1.0 [00:00<00:00,  2.64it/s]    \n",
      "100%|██████████| 1.0/1.0 [00:00<00:00,  6.24it/s]    \n",
      "100%|██████████| 1.0/1.0 [00:00<00:00,  7.38it/s]    \n",
      "100%|██████████| 1.0/1.0 [00:00<00:00,  6.54it/s]    \n",
      "100%|██████████| 1.0/1.0 [00:00<00:00,  6.61it/s]    \n",
      "100%|██████████| 1.0/1.0 [00:00<00:00,  7.16it/s]    \n",
      "100%|██████████| 1.0/1.0 [00:00<00:00,  4.50it/s]    \n",
      "100%|██████████| 1.0/1.0 [00:00<00:00,  7.06it/s]    \n",
      "100%|██████████| 1.0/1.0 [00:00<00:00,  6.88it/s]    \n",
      "100%|██████████| 1.0/1.0 [00:00<00:00,  7.29it/s]    \n"
     ]
    },
    {
     "name": "stdout",
     "output_type": "stream",
     "text": [
      "infer_time:1.794395\n"
     ]
    },
    {
     "name": "stderr",
     "output_type": "stream",
     "text": [
      "100%|██████████| 1.0/1.0 [00:00<00:00,  2.77it/s]    \n",
      "100%|██████████| 1.0/1.0 [00:00<00:00,  7.26it/s]    \n",
      "100%|██████████| 1.0/1.0 [00:00<00:00,  6.61it/s]    \n",
      "100%|██████████| 1.0/1.0 [00:00<00:00,  7.06it/s]    \n",
      "100%|██████████| 1.0/1.0 [00:00<00:00,  7.09it/s]    \n",
      "100%|██████████| 1.0/1.0 [00:00<00:00,  7.14it/s]    \n",
      "100%|██████████| 1.0/1.0 [00:00<00:00,  7.16it/s]    \n",
      "100%|██████████| 1.0/1.0 [00:00<00:00,  7.11it/s]    \n",
      "100%|██████████| 1.0/1.0 [00:00<00:00,  6.55it/s]    \n",
      "100%|██████████| 1.0/1.0 [00:00<00:00,  6.82it/s]    \n"
     ]
    },
    {
     "name": "stdout",
     "output_type": "stream",
     "text": [
      "infer_time:1.676994\n"
     ]
    },
    {
     "name": "stderr",
     "output_type": "stream",
     "text": [
      "100%|██████████| 1.0/1.0 [00:00<00:00,  2.70it/s]    \n",
      "100%|██████████| 1.0/1.0 [00:00<00:00,  7.22it/s]    \n",
      "100%|██████████| 1.0/1.0 [00:00<00:00,  7.32it/s]    \n",
      "100%|██████████| 1.0/1.0 [00:00<00:00,  7.52it/s]    \n",
      "100%|██████████| 1.0/1.0 [00:00<00:00,  6.21it/s]    \n",
      "100%|██████████| 1.0/1.0 [00:00<00:00,  7.09it/s]    \n",
      "100%|██████████| 1.0/1.0 [00:00<00:00,  7.06it/s]    \n",
      "100%|██████████| 1.0/1.0 [00:00<00:00,  7.08it/s]    \n",
      "100%|██████████| 1.0/1.0 [00:00<00:00,  6.68it/s]    \n",
      "100%|██████████| 1.0/1.0 [00:00<00:00,  7.01it/s]    "
     ]
    },
    {
     "name": "stdout",
     "output_type": "stream",
     "text": [
      "infer_time:1.682967\n"
     ]
    },
    {
     "name": "stderr",
     "output_type": "stream",
     "text": [
      "\n"
     ]
    }
   ],
   "source": [
    "import time\n",
    "data_show_matrix = []\n",
    "time_count = time.time()\n",
    "step = 10\n",
    "env = initial_field\n",
    "data_show_matrix.append(env)\n",
    "for i in range(0,200,step):\n",
    "    # if i > 49:\n",
    "    #      R[10][10] = 5\n",
    "    #      R[16][16] = 5\n",
    "    # #     # R[3][16] = 180\n",
    "    # #     # R[16][3] = 180\n",
    "    #      R[3][3] = 5\n",
    "    model_test = SP.Diffusion_Model(x_range = grid_x, y_range = grid_y,\\\n",
    "                 initial_field = env, R_field = R, data_sprayer_train = data_sprayer_train, t_start = 0 + i) # build model\n",
    "    if i > 0 and i%10 == 0:\n",
    "        data_show_matrix.append(env)\n",
    "    env = model_test.solve(step)[-1]\n",
    "    env = np.clip(env, 5, 5000)\n",
    "    print(\"infer_time:%f\"%(time.time() - time_count))\n",
    "    time_count = time.time()\n",
    "#分别推断10,20,30...的污染地图（单位：min）"
   ]
  },
  {
   "cell_type": "code",
   "execution_count": 3,
   "id": "eebbed20",
   "metadata": {},
   "outputs": [
    {
     "data": {
      "text/plain": [
       "<matplotlib.colorbar.Colorbar at 0x20919e02610>"
      ]
     },
     "execution_count": 3,
     "metadata": {},
     "output_type": "execute_result"
    },
    {
     "data": {
      "image/png": "[encoded data removed]",
      "text/plain": [
       "<Figure size 1500x1200 with 21 Axes>"
      ]
     },
     "metadata": {},
     "output_type": "display_data"
    }
   ],
   "source": [
    "import matplotlib.pyplot as plt\n",
    "show_range_z_score = 3\n",
    "fig_size = 3\n",
    "vmin = 0\n",
    "vmax = 200\n",
    "subfig_num = 20\n",
    "test_show_row = 4\n",
    "subfig_onerow = 5\n",
    "fig, axes = plt.subplots(test_show_row, subfig_onerow, figsize=(fig_size * subfig_onerow, fig_size * test_show_row))\n",
    "fig.subplots_adjust(wspace = 0.4, hspace = 0.2)\n",
    "line_color = np.random.random(3)\n",
    "\n",
    "for i in range(subfig_num):\n",
    "    i_row = int(i / subfig_onerow)\n",
    "    i_col = int(i % subfig_onerow)\n",
    "#             ax = plt.subplot(test_show_row, subfig_onerow, i + 1, figsize=(10, 10))\n",
    "    if i % subfig_onerow != 0:\n",
    "        axes[i_row][i_col].yaxis.set_major_locator(plt.NullLocator())\n",
    "    else:\n",
    "        axes[i_row][i_col].set_ylabel(\"y\")\n",
    "    im = axes[i_row][i_col].imshow(np.matrix(data_show_matrix[i]).T, cmap='turbo',vmin = vmin, vmax = vmax)\n",
    "fig.colorbar(im, ax=axes.ravel().tolist(), orientation=\"vertical\")\n",
    "\n",
    "#10,20,30...的污染地图的可视化（单位：min）"
   ]
  },
  {
   "cell_type": "code",
   "execution_count": 4,
   "id": "65ab34fb",
   "metadata": {},
   "outputs": [
    {
     "name": "stdout",
     "output_type": "stream",
     "text": [
      "1 1\n",
      "1 2\n",
      "1 3\n",
      "2 1\n",
      "2 3\n",
      "3 1\n",
      "3 2\n",
      "3 3\n"
     ]
    }
   ],
   "source": [
    "for a in range(5):\n",
    "    for b in range(5):\n",
    "        if a == 2 and b == 2:\n",
    "            xx = 0\n",
    "        elif (a - 2)**2 + (b - 2)**2 <= 2:\n",
    "            print(a,b)\n",
    "        else:\n",
    "            xx =1"
   ]
  },
  {
   "cell_type": "code",
   "execution_count": null,
   "id": "f8df8f50",
   "metadata": {},
   "outputs": [],
   "source": []
  }
 ],
 "metadata": {
  "kernelspec": {
   "display_name": "Python 3.8.16 ('forestfire1.0')",
   "language": "python",
   "name": "python3"
  },
  "language_info": {
   "codemirror_mode": {
    "name": "ipython",
    "version": 3
   },
   "file_extension": ".py",
   "mimetype": "text/x-python",
   "name": "python",
   "nbconvert_exporter": "python",
   "pygments_lexer": "ipython3",
   "version": "3.8.16"
  },
  "vscode": {
   "interpreter": {
    "hash": "e22fcd08f9f55ceeb7ce3a4380ba807d68f0f823f065a4cc1fcab64b3551734e"
   }
  }
 },
 "nbformat": 4,
 "nbformat_minor": 5
}
