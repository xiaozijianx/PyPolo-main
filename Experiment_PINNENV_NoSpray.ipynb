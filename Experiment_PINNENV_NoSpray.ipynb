{
 "cells": [
  {
   "cell_type": "code",
   "execution_count": null,
   "id": "dcc7d73a",
   "metadata": {},
   "outputs": [],
   "source": [
    "from pathlib import Path\n",
    "import numpy as np\n",
    "import pandas as pd\n",
    "import os\n",
    "import time as tm\n",
    "import Sprayer_PDE as SP\n",
    "\n",
    "import pypolo2"
   ]
  },
  {
   "cell_type": "markdown",
   "id": "af6241a0",
   "metadata": {},
   "source": [
    "# Environment -- PINNS"
   ]
  },
  {
   "cell_type": "code",
   "execution_count": null,
   "id": "e2000d60",
   "metadata": {},
   "outputs": [],
   "source": [
    "Setting = pypolo2.utilities.Config()\n",
    "\n",
    "env_model = SP.Diffusion_Model(x_range = Setting.grid_x, y_range = Setting.grid_y,\\\n",
    "                 initial_field =  Setting.env, R_field =  Setting.R, data_sprayer_train = Setting.data_sprayer_train, t_start = 0) # build model\n",
    "Setting.env = env_model.solve(Setting.delta_t)\n"
   ]
  },
  {
   "cell_type": "code",
   "execution_count": null,
   "id": "f2bcea52",
   "metadata": {},
   "outputs": [],
   "source": [
    "# 确定存放地址\n",
    "starttime = Setting.starttime.replace(' ', '-').replace(':', '-')\n",
    "Savedir = '{}/{}/releaserate_{}'.format(Setting.root_dir,Setting.strategy_name,\"%03d\" %(Setting.delta_t*100))\n",
    "Savename = 'seed{}'.format(Setting.seed)\n",
    "Setting.save_dir = Savedir\n",
    "Setting.save_name = Savename\n",
    "evaluator = pypolo2.experiments.Evaluator()\n",
    "logger = pypolo2.experiments.Logger(None, Setting)"
   ]
  },
  {
   "cell_type": "markdown",
   "id": "1bc18829",
   "metadata": {},
   "source": [
    "# Sensor"
   ]
  },
  {
   "cell_type": "code",
   "execution_count": null,
   "id": "fdefadbb",
   "metadata": {},
   "outputs": [],
   "source": [
    "sensor = pypolo2.sensors.Sprinkler(\n",
    "    Setting = Setting\n",
    ")"
   ]
  },
  {
   "cell_type": "markdown",
   "id": "c9ede792",
   "metadata": {},
   "source": [
    "# Pilot Survey"
   ]
  },
  {
   "cell_type": "code",
   "execution_count": null,
   "id": "6e7a7361",
   "metadata": {},
   "outputs": [],
   "source": [
    "rng = pypolo2.experiments.utilities.seed_everything(Setting = Setting)"
   ]
  },
  {
   "cell_type": "markdown",
   "id": "d6aa6e0d",
   "metadata": {},
   "source": [
    "# Set initual data"
   ]
  },
  {
   "cell_type": "code",
   "execution_count": null,
   "id": "f791e1a7",
   "metadata": {},
   "outputs": [],
   "source": [
    "# 初始化污染源\n",
    "if Setting.randomsource == True:\n",
    "    # gengerate two set of random numbers for source locations\n",
    "    numbers = rng.randint(0, 19, size=Setting.sourcenum * 2)\n",
    "    pairs = rng.choice(numbers, size=(Setting.sourcenum, 2), replace=False)\n",
    "    for i in range(Setting.sourcenum):\n",
    "        number = rng.randint(120, 260, size=1)\n",
    "        Setting.RR[i,0] = int(pairs[i,0])\n",
    "        Setting.RR[i,1] = int(pairs[i,1])\n",
    "        Setting.RR[i,2] = number\n",
    "\n",
    "# print(Setting.RR)\n",
    "# # #  每周期更新源信息,源是缓慢变化的，源会不断变强到顶峰，然后变弱。定义一个强度系数\n",
    "s = 1\n",
    "Setting.R =  -6.6 * np.ones((Setting.grid_x, Setting.grid_y)) + 12 * np.random.random((Setting.grid_x, Setting.grid_y))\n",
    "for i in range(Setting.sourcenum):\n",
    "        Setting.R[Setting.RR[i,0],Setting.RR[i,1]] = s*Setting.RR[i,2]\n",
    "        \n",
    "\n",
    "env_model = SP.Diffusion_Model(x_range = Setting.grid_x, y_range = Setting.grid_y,\\\n",
    "                 initial_field =  Setting.env, R_field =  Setting.R, data_sprayer_train = Setting.data_sprayer_train, t_start = 0) # build model\n",
    "\n",
    "y_init = np.zeros((Setting.num_init_samples,1))\n",
    "y_stations = np.zeros((Setting.station_size*Setting.time_before_sche,1))\n",
    "time_init = np.zeros((Setting.num_init_samples,1))\n",
    "time_stations = np.zeros((Setting.station_size*Setting.time_before_sche,1))\n",
    "\n",
    "#固定站的观测的观测\n",
    "for time in range(Setting.time_before_sche):\n",
    "    time_stations[Setting.station_size*time:Setting.station_size*(time+1)] = (time-Setting.time_before_sche+1)*1\n",
    "    Setting.env = env_model.solve((time+1)*Setting.delta_t)\n",
    "    sensor.set_env(Setting.env)\n",
    "    \n",
    "#假设每次观测后均变化时间，环境也随之发生变化\n",
    "for time in range(Setting.num_init_samples):\n",
    "    y_init[time] = sensor.sense(states=Setting.x_init[time], rng=rng).reshape(-1, 1)\n",
    "    if time == 0:\n",
    "        y_stations[:] = y_init[time] - 20\n",
    "    time_init[time] = (time+1)*1\n",
    "    Setting.env = env_model.solve((1+Setting.time_before_sche+time)*Setting.delta_t)\n",
    "    sensor.set_env(Setting.env)\n",
    "    \n",
    "Setting.x_init = np.hstack((Setting.x_init,time_init))\n",
    "\n",
    "Setting.x_stations = Setting.x_station\n",
    "for i in range(Setting.time_before_sche-1):\n",
    "    Setting.x_stations = np.vstack((Setting.x_stations,Setting.x_station))\n",
    "Setting.x_stations = np.hstack((Setting.x_stations,time_stations))\n",
    "\n",
    "Setting.x_init = np.vstack((Setting.x_stations,Setting.x_init))\n",
    "y_init = np.vstack((y_stations,y_init))"
   ]
  },
  {
   "cell_type": "markdown",
   "id": "497dbb02",
   "metadata": {},
   "source": [
    "# Model"
   ]
  },
  {
   "cell_type": "code",
   "execution_count": null,
   "id": "d21c71bc",
   "metadata": {},
   "outputs": [],
   "source": [
    "Setting.time_stamp = Setting.x_init[:,2].max(axis=0, keepdims=False)"
   ]
  },
  {
   "cell_type": "code",
   "execution_count": null,
   "id": "9329a9f7",
   "metadata": {},
   "outputs": [],
   "source": [
    "kernel = pypolo2.kernels.RBF(Setting)"
   ]
  },
  {
   "cell_type": "code",
   "execution_count": null,
   "id": "9bc31878",
   "metadata": {},
   "outputs": [],
   "source": [
    "model = pypolo2.models.GPR(\n",
    "    x_train=Setting.x_init,\n",
    "    y_train=y_init,\n",
    "    kernel=kernel,\n",
    "    noise=Setting.init_noise,\n",
    "    lr_hyper=Setting.lr_hyper,\n",
    "    lr_nn=Setting.lr_nn,\n",
    "    is_normalized = True,\n",
    "    time_stamp = Setting.time_stamp,\n",
    ")"
   ]
  },
  {
   "cell_type": "code",
   "execution_count": null,
   "id": "9a41a5ae",
   "metadata": {},
   "outputs": [],
   "source": [
    "model.optimize(num_iter=model.num_train, verbose=True)"
   ]
  },
  {
   "cell_type": "markdown",
   "id": "b3b7c8d3",
   "metadata": {},
   "source": [
    "# Robot"
   ]
  },
  {
   "cell_type": "code",
   "execution_count": null,
   "id": "37d6589e",
   "metadata": {},
   "outputs": [],
   "source": [
    "vehicle_team = dict()\n",
    "for i in range(Setting.team_size):\n",
    "    robot = pypolo2.robots.SPRINKLER_REPLENISHANYWHERE(\n",
    "        init_state = np.array([Setting.x_init[-1, 0], Setting.x_init[-1, 1]]),\n",
    "        Setting = Setting\n",
    "    )\n",
    "    vehicle_team[i+1] = robot #因此team的id从1开始"
   ]
  },
  {
   "cell_type": "markdown",
   "id": "481c7a9b",
   "metadata": {},
   "source": [
    "# Strategy"
   ]
  },
  {
   "cell_type": "code",
   "execution_count": null,
   "id": "bf0889e5",
   "metadata": {},
   "outputs": [],
   "source": [
    "strategy = pypolo2.strategies.NoSpray(\n",
    "            task_extent=Setting.task_extent,\n",
    "            rng=rng,\n",
    "            vehicle_team=vehicle_team,\n",
    "        )\n",
    "Setting.strategy = strategy"
   ]
  },
  {
   "cell_type": "markdown",
   "id": "b3423e74",
   "metadata": {},
   "source": [
    "# Experiment"
   ]
  },
  {
   "cell_type": "code",
   "execution_count": null,
   "id": "10b0cf38",
   "metadata": {},
   "outputs": [],
   "source": [
    "#定义需要随时间更新的训练过程\n",
    "def run(rng, model, Setting, sensor, evaluator, logger, vehicle_team) -> None:\n",
    "    current_step = 0 #总规划长度\n",
    "    adaptive_step = Setting.adaptive_step #自适应长度\n",
    "    # change_step = Setting.R_change_interval - 0*Setting.adaptive_step # 污染源变化间隔\n",
    "    change_step = 0\n",
    "    spray_effect = 0 # 洒水效果\n",
    "    result, MI_information, observed_env, computed_effect = None, None, None, None\n",
    "    init_env = Setting.env\n",
    "    tstart = 0\n",
    "    while current_step < Setting.max_num_samples:\n",
    "        # 计算用于洒水效果,环境真实值已知\n",
    "        allpoint_list = []\n",
    "        env_list = []\n",
    "        for i in range (Setting.task_extent[0],Setting.task_extent[1]):\n",
    "            for j in range (Setting.task_extent[2],Setting.task_extent[3]):\n",
    "                allpoint_list.append([i, j, model.time_stamp])\n",
    "                env_list.append(Setting.env[i,j])\n",
    "        allpoint = np.array(allpoint_list)\n",
    "        env = np.array(env_list)\n",
    "        mean, _ = model(allpoint)\n",
    "        sprayeffect_all = pypolo2.objectives.sprayeffect.spray_effect(allpoint, allpoint, mean, Setting.task_extent).ravel()\n",
    "        prior_diag_std, poste_diag_std, _, _ = model.prior_poste(allpoint)\n",
    "        hprior = pypolo2.objectives.entropy.gaussian_entropy(prior_diag_std.ravel())\n",
    "        hposterior = pypolo2.objectives.entropy.gaussian_entropy(poste_diag_std.ravel())\n",
    "        mi_all = hprior - hposterior\n",
    "        if np.any(mi_all < 0.0):\n",
    "            print(mi_all.ravel())\n",
    "            raise ValueError(\"Predictive MI < 0.0!\")\n",
    "        \n",
    "        sprayeffect_all = pypolo2.objectives.sprayeffect.spray_effect(allpoint, allpoint, env, Setting.task_extent).ravel()\n",
    "        MI_information = np.zeros((Setting.task_extent[1]-Setting.task_extent[0],Setting.task_extent[3]-Setting.task_extent[2]))\n",
    "        observed_env = np.zeros((Setting.task_extent[1]-Setting.task_extent[0],Setting.task_extent[3]-Setting.task_extent[2]))\n",
    "        computed_effect = np.zeros((Setting.task_extent[1]-Setting.task_extent[0],Setting.task_extent[3]-Setting.task_extent[2]))\n",
    "        for i in range (Setting.task_extent[0],Setting.task_extent[1]):\n",
    "            for j in range (Setting.task_extent[2],Setting.task_extent[3]):\n",
    "                MI_information[i,j] = mi_all[i*(Setting.task_extent[3]-Setting.task_extent[2])+j]\n",
    "                observed_env[i,j] = Setting.env[i,j]\n",
    "                computed_effect[i,j] = sprayeffect_all[i*(Setting.task_extent[3]-Setting.task_extent[2])+j]\n",
    "                \n",
    "        Setting.current_step = current_step\n",
    "        # scheduling and update agent goals 计算搜索时间\n",
    "        if adaptive_step >= Setting.adaptive_step:\n",
    "            start = tm.time()\n",
    "            result = Setting.strategy.get(model = model, Setting = Setting, pred = observed_env)\n",
    "            adaptive_step = 0\n",
    "            for id, vehicle in vehicle_team.items():\n",
    "                vehicle.set_goals(result[id][0],result[id][1])\n",
    "            end = tm.time()\n",
    "            print('search_time')\n",
    "            print(end-start)    \n",
    "            \n",
    "        # calculate metrix and save \n",
    "        coverage, mean_airpollution, max_airpollution = evaluator.eval_results(Setting.env, Setting.task_extent, vehicle_team)\n",
    "        logger.append(current_step, Setting.env, observed_env, MI_information, computed_effect, vehicle_team, coverage, mean_airpollution, max_airpollution, spray_effect)\n",
    "           \n",
    "        # change source,每经过R_change_interval后，改变源分布和强度，\n",
    "        if change_step >= Setting.R_change_interval:\n",
    "            Setting.R =  -6.6 * np.ones((Setting.grid_x, Setting.grid_y)) + 12 * np.random.random((Setting.grid_x, Setting.grid_y))\n",
    "            change_step = 0\n",
    "            if Setting.randomsource == True:\n",
    "                # gengerate two set of random numbers for source locations\n",
    "                numbers = rng.randint(0, 4, size=Setting.sourcenum * 2)\n",
    "                pairs = rng.choice(numbers, size=(Setting.sourcenum, 2), replace=False)\n",
    "                for i in range(Setting.sourcenum):\n",
    "                    number = rng.randint(120, 260, size=1)\n",
    "                    if Setting.RR[i,0]+pairs[i,0]-2 < Setting.grid_x-1 and Setting.RR[i,0] + pairs[i,0] - 2 >=0:\n",
    "                        Setting.RR[i,0] = int(Setting.RR[i,0]+pairs[i,0]-2)\n",
    "                    if Setting.RR[i,1]+pairs[i,1]-2 < Setting.grid_y-1 and Setting.RR[i,1] + pairs[i,1] - 2 >=0:\n",
    "                        Setting.RR[i,1] = int(Setting.RR[i,1]+pairs[i,1]-2)\n",
    "                    Setting.RR[i,2] = number\n",
    "                init_env = Setting.env\n",
    "                tstart = current_step\n",
    "\n",
    "        # #  每周期更新源信息,源是缓慢变化的，源会不断变强到顶峰，然后变弱。定义一个强度系数\n",
    "        s = 1\n",
    "        for i in range(Setting.sourcenum):\n",
    "             Setting.R[Setting.RR[i,0],Setting.RR[i,1]] = s*Setting.RR[i,2]\n",
    "             \n",
    "        # 计算如果没有更新洒水时的环境变化\n",
    "        env_model1 = SP.Diffusion_Model(x_range = Setting.grid_x, y_range = Setting.grid_y,\\\n",
    "                 initial_field = Setting.env, R_field =  Setting.R, data_sprayer_train = Setting.data_sprayer_train, t_start = current_step * Setting.delta_t) # build model\n",
    "        env_withoutspray = env_model1.solve(Setting.delta_t)\n",
    "        # update state 并将车辆的轨迹和洒水轨迹取出来\n",
    "        x_new = []\n",
    "        y_new = []\n",
    "        for id, vehicle in vehicle_team.items():\n",
    "            vehicle.update()\n",
    "            current_state = vehicle.state.copy().reshape(1, -1)\n",
    "            x_new.append(current_state)\n",
    "            y_new.append(sensor.sense(current_state, rng).reshape(-1, 1))\n",
    "            if Setting.current_step == 0:\n",
    "                Setting.data_sprayer_train.append(pd.DataFrame())\n",
    "            else:\n",
    "                if vehicle.spray_flag == True:\n",
    "                    new_pd = pd.DataFrame({\"time\":(Setting.current_step + 1) * Setting.delta_t, \"x\":current_state[0,0],\\\n",
    "                                            \"y\":current_state[0,1], \"spray_volume\":4000},index=[0])\n",
    "                    Setting.data_sprayer_train[id-1] = pd.concat([Setting.data_sprayer_train[id-1],new_pd])\n",
    "        # 计算带入洒水后的环境情况\n",
    "        env_model2 = SP.Diffusion_Model(x_range = Setting.grid_x, y_range = Setting.grid_y,\\\n",
    "                 initial_field = Setting.env, R_field =  Setting.R, data_sprayer_train = Setting.data_sprayer_train, t_start = current_step * Setting.delta_t) # build model\n",
    "        Setting.env = env_model2.solve(Setting.delta_t)\n",
    "        sensor.set_env(Setting.env)\n",
    "        # 计算洒水效果\n",
    "        spray_effect = np.sum(env_withoutspray - Setting.env)\n",
    "        print(spray_effect)\n",
    "            \n",
    "        # using new data to update gpr model\n",
    "        x_new = np.concatenate(x_new, axis=0)\n",
    "        y_new = np.concatenate(y_new, axis=0)\n",
    "        #add time dim\n",
    "        model.time_stamp = model.time_stamp + Setting.time_co\n",
    "        Setting.time_stamp = model.time_stamp\n",
    "        model_input = np.zeros((x_new.shape[0],3))\n",
    "        model_input[:,0:2] = x_new\n",
    "        model_input[:,2:3] = model.time_stamp\n",
    "        #optimize model\n",
    "        model.add_data(model_input, y_new)\n",
    "        model.optimize(num_iter=len(y_new), verbose=False)\n",
    "        \n",
    "        adaptive_step = adaptive_step + 1    \n",
    "        current_step = current_step + 1\n",
    "        change_step = change_step + 1  \n",
    "    return 0"
   ]
  },
  {
   "cell_type": "code",
   "execution_count": null,
   "id": "313abc17",
   "metadata": {},
   "outputs": [],
   "source": [
    "start = tm.time()\n",
    "Setting.strategy = strategy\n",
    "run(rng, model, Setting, sensor, evaluator, logger, vehicle_team)\n",
    "# pypolo2.experiments.utilities.print_metrics(logger, Setting.max_num_samples-1)\n",
    "end = tm.time()\n",
    "# logger.save(end-start)  # I temporarily removed \"makefile()\"."
   ]
  },
  {
   "cell_type": "code",
   "execution_count": null,
   "id": "df597aa1",
   "metadata": {},
   "outputs": [],
   "source": [
    "from pypolo2.experiments import visualizer\n",
    "ani = visualizer.visual(logger)\n",
    "\n",
    "# Display the animation\n",
    "from IPython.display import HTML\n",
    "HTML(ani.to_jshtml())"
   ]
  }
 ],
 "metadata": {
  "kernelspec": {
   "display_name": "Python 3.8.16 ('forestfire1.0')",
   "language": "python",
   "name": "python3"
  },
  "language_info": {
   "codemirror_mode": {
    "name": "ipython",
    "version": 3
   },
   "file_extension": ".py",
   "mimetype": "text/x-python",
   "name": "python",
   "nbconvert_exporter": "python",
   "pygments_lexer": "ipython3",
   "version": "3.8.16"
  },
  "vscode": {
   "interpreter": {
    "hash": "e22fcd08f9f55ceeb7ce3a4380ba807d68f0f823f065a4cc1fcab64b3551734e"
   }
  }
 },
 "nbformat": 4,
 "nbformat_minor": 5
}
