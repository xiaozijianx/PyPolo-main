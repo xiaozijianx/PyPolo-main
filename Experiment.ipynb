{
 "cells": [
  {
   "cell_type": "code",
   "execution_count": 1,
   "id": "dcc7d73a",
   "metadata": {},
   "outputs": [],
   "source": [
    "from pathlib import Path\n",
    "import numpy as np\n",
    "import pandas as pd\n",
    "import os\n",
    "import time as tm\n",
    "import Sprayer_PDE as SP\n",
    "\n",
    "import pypolo2"
   ]
  },
  {
   "cell_type": "code",
   "execution_count": 17,
   "id": "6e7a7361",
   "metadata": {},
   "outputs": [
    {
     "name": "stdout",
     "output_type": "stream",
     "text": [
      "Set random seed to 0 in random, numpy, and torch.\n"
     ]
    }
   ],
   "source": [
    "Setting = pypolo2.utilities.Config()\n",
    "rng = pypolo2.experiments.utilities.seed_everything(Setting = Setting)"
   ]
  },
  {
   "cell_type": "code",
   "execution_count": 34,
   "id": "7b84c484",
   "metadata": {},
   "outputs": [
    {
     "name": "stdout",
     "output_type": "stream",
     "text": [
      "3\n"
     ]
    }
   ],
   "source": [
    "import random\n",
    "numbers = random.randint(3, 4)\n",
    "print(numbers)"
   ]
  },
  {
   "cell_type": "code",
   "execution_count": 16,
   "id": "30923902",
   "metadata": {},
   "outputs": [
    {
     "name": "stdout",
     "output_type": "stream",
     "text": [
      "[3 3 3 3]\n"
     ]
    }
   ],
   "source": []
  },
  {
   "cell_type": "markdown",
   "id": "d6aa6e0d",
   "metadata": {},
   "source": [
    "# Set initual data"
   ]
  }
 ],
 "metadata": {
  "kernelspec": {
   "display_name": "Python 3.8.16 ('forestfire1.0')",
   "language": "python",
   "name": "python3"
  },
  "language_info": {
   "codemirror_mode": {
    "name": "ipython",
    "version": 3
   },
   "file_extension": ".py",
   "mimetype": "text/x-python",
   "name": "python",
   "nbconvert_exporter": "python",
   "pygments_lexer": "ipython3",
   "version": "3.8.16"
  },
  "vscode": {
   "interpreter": {
    "hash": "e22fcd08f9f55ceeb7ce3a4380ba807d68f0f823f065a4cc1fcab64b3551734e"
   }
  }
 },
 "nbformat": 4,
 "nbformat_minor": 5
}
