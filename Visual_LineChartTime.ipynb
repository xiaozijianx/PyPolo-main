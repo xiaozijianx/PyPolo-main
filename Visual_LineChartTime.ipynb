{
 "cells": [
  {
   "cell_type": "code",
   "execution_count": 59,
   "id": "dcc7d73a",
   "metadata": {},
   "outputs": [],
   "source": [
    "import sys\n",
    "sys.path.append('../')\n",
    "# from experiments import utilities\n",
    "import pandas as pd\n",
    "import numpy as np\n",
    "import matplotlib.pyplot as plt\n",
    "import plotly\n",
    "import plotly_express as px\n",
    "import plotly.graph_objects as go\n",
    "import plotly.figure_factory as ff\n",
    "from plotly.subplots import make_subplots\n",
    "from plot.utils import bar_update_fig, line_update_fig\n",
    "import pypolo2\n",
    "\n",
    "width = 1000\n",
    "height = 800\n",
    "markersize = 10\n",
    "linewidth = 4\n",
    "# markersymbol={'FH':4, 'HEUR':17, 'DDRL':2}\n",
    "linetype = {'Low':'dot','Medium':'dashdot','High':'longdash'}\n",
    "# 创建一个包含线型的示例数组\n",
    "line_dash = ['solid', 'dot', 'dash', 'dashdot', 'longdash']\n",
    "# colors_dict = ['#C74223', '#3D9182', '#245C8F']\n",
    "# colors_dict = ['#2ca02c', '#d62728', '#1f77b4']\n",
    "markersymbol={'FH':2, 'HEUR':'star', 'DDRL':5}\n",
    "colors_dict = ['#d62728', '#ff7f0e', '#1f77b4']"
   ]
  },
  {
   "cell_type": "markdown",
   "id": "fc54029a",
   "metadata": {},
   "source": [
    "# Average pm2.5 concentration at different time point"
   ]
  },
  {
   "cell_type": "code",
   "execution_count": 60,
   "id": "e2000d60",
   "metadata": {},
   "outputs": [],
   "source": [
    "# 区域pm2.5平均浓度变化\n",
    "Setting = pypolo2.utilities.Config()\n",
    "strategy_name = [\"EffectOrientedSelectiveSpray\",\n",
    "                 \"EffectOrientedMCTSSpray\",\n",
    "                 \"MaximumCoverageSpray\",\n",
    "                 \"NoSpray\"]\n",
    "comparing_variables = [[\"teamsize_1\",\"teamsize_2\",\"teamsize_3\",\"teamsize_4\",\"teamsize_5\"],\n",
    "                       [\"numsource_1\",\"numsource_2\",\"numsource_3\",\"numsource_4\",\"numsource_5\"],\n",
    "                       [\"change_interval4\",\"change_interval8\",\"change_interval12\"]]\n",
    "seeds = [7,11,18,20,25,36,42,50,60,72,80,85]\n",
    "team_sizes = [1,2,3,4,5]\n",
    "sourcenums = [1,2,3,4,5]\n",
    "change_intervals = [4,8,12]\n",
    "strategy_meanpm = []\n",
    "sche_step = 0\n",
    "adaptive_step = 0\n",
    "for strategy in strategy_name:\n",
    "    if strategy == \"EffectOrientedMCTSSpray\":\n",
    "        sche_step = 8\n",
    "        adaptive_step = 8\n",
    "    else:\n",
    "        sche_step = 18\n",
    "        adaptive_step = 3\n",
    "    variable_meanpm = []\n",
    "    for i in range(5):\n",
    "        comparing_variable = comparing_variables[0][i]\n",
    "        team_size = team_sizes[i]\n",
    "        sourcenum = 3\n",
    "        time_meanpm = []\n",
    "        for time_point in range(48):\n",
    "            seed_meanpm = []\n",
    "            for seed in seeds:\n",
    "                pklname = f'SEED_{seed}_X{Setting.grid_x}_Y{Setting.grid_y}_VS{team_size}_TS{Setting.max_num_samples}_SS{sche_step}_AS{adaptive_step}_SN{sourcenum}_RS{Setting.replenish_speed}_WV{Setting.water_volume}'\n",
    "                pkldir = './outputs/' + strategy + '/' + comparing_variable + '/' + pklname + \".pkl\"\n",
    "                data = pypolo2.experiments.utilities.readpkl(pkldir)\n",
    "                pm = data['truth_env']\n",
    "                # 获取特定时间点的效果数据\n",
    "                seed_meanpm.append(np.mean(pm[time_point]))\n",
    "            time_meanpm.append(np.mean(seed_meanpm))\n",
    "        variable_meanpm.append(time_meanpm)\n",
    "    strategy_meanpm.append(variable_meanpm)\n",
    "strategy_meanpm = np.array(strategy_meanpm)"
   ]
  },
  {
   "cell_type": "code",
   "execution_count": 61,
   "id": "804abcdb",
   "metadata": {},
   "outputs": [
    {
     "data": {
      "application/vnd.plotly.v1+json": {
       "config": {
        "plotlyServerURL": "https://plot.ly"
       },
       "data": [
        {
         "line": {
          "color": "#d62728",
          "width": 3
         },
         "marker": {
          "size": 12,
          "symbol": 2
         },
         "mode": "lines+markers",
         "name": "SmartSpr",
         "type": "scatter",
         "x": [
          0,
          10,
          20,
          30,
          40,
          50,
          60,
          70,
          80,
          90,
          100,
          110,
          120,
          130,
          140,
          150,
          160,
          170,
          180,
          190,
          200,
          210,
          220,
          230,
          240,
          250,
          260,
          270,
          280,
          290,
          300,
          310,
          320
         ],
         "y": [
          38.38159454050527,
          41.48352831010274,
          41.9631979494738,
          42.425377730593446,
          42.747428718809566,
          42.04208362776379,
          41.5320150356791,
          40.13114721636595,
          39.16246886761287,
          39.01633084075057,
          39.59466442453373,
          40.36390076693173,
          41.13659594818393,
          40.373695142185596,
          39.53102155256012,
          38.98812100234898,
          37.827687573445765,
          37.48588927854029,
          37.82202303847052,
          37.98059904203593,
          37.59369193077366,
          37.9791241066323,
          37.31252344419732,
          36.73619337256407,
          36.28991829698945,
          35.43568659190772,
          35.19386421943262,
          35.53357681813514,
          35.46288108041326,
          35.23730485430716,
          34.76835436585852,
          34.640345703355116,
          34.31915022817362
         ]
        },
        {
         "line": {
          "color": "#ff7f0e",
          "width": 3
         },
         "marker": {
          "size": 12,
          "symbol": "star"
         },
         "mode": "lines+markers",
         "name": "MCPP",
         "type": "scatter",
         "x": [
          0,
          10,
          20,
          30,
          40,
          50,
          60,
          70,
          80,
          90,
          100,
          110,
          120,
          130,
          140,
          150,
          160,
          170,
          180,
          190,
          200,
          210,
          220,
          230,
          240,
          250,
          260,
          270,
          280,
          290,
          300,
          310,
          320
         ],
         "y": [
          38.37460239938469,
          41.47422527853931,
          39.32560338837621,
          38.76986949756034,
          38.73672717413769,
          40.330168587597086,
          43.71593300867891,
          46.895883218143105,
          49.98048150832572,
          47.38915852215115,
          45.189130982561046,
          43.828829862460076,
          42.991834227427795,
          44.21012259948524,
          47.318832899771024,
          50.33386900887684,
          53.313499663741176,
          49.3773785915937,
          46.21829624650508,
          44.582216133697194,
          43.53959407421484,
          44.4125890134281,
          47.81465389314854,
          51.11628745924927,
          54.320957578459605,
          49.87936003848546,
          46.894631501976995,
          45.08481852307616,
          43.54577022701156,
          44.23376114416744,
          47.415492240591966,
          50.47037094355218,
          53.433679841285084
         ]
        },
        {
         "line": {
          "color": "#1f77b4",
          "width": 3
         },
         "marker": {
          "size": 12,
          "symbol": 5
         },
         "mode": "lines+markers",
         "name": "MaximumCoverage",
         "type": "scatter",
         "x": [
          0,
          10,
          20,
          30,
          40,
          50,
          60,
          70,
          80,
          90,
          100,
          110,
          120,
          130,
          140,
          150,
          160,
          170,
          180,
          190,
          200,
          210,
          220,
          230,
          240,
          250,
          260,
          270,
          280,
          290,
          300,
          310,
          320
         ],
         "y": [
          38.39951897015671,
          41.50634192445952,
          40.031015762165644,
          39.84773731367813,
          39.749873453907334,
          41.14034507827146,
          44.2070508637679,
          47.73449218230214,
          51.155793619994945,
          50.28852947149727,
          48.167744588115646,
          47.182726478357125,
          46.56733216840903,
          48.158111059710244,
          51.46158996409539,
          54.666466935658725,
          57.55646048008771,
          55.744115447458825,
          52.41183315531779,
          49.56634206001302,
          47.273777205764695,
          47.80381784440886,
          51.140151908401116,
          54.37665678532011,
          57.51838715323061,
          54.520214854425,
          51.095149760134156,
          49.345684912185504,
          48.647230001560416,
          49.838535321519835,
          52.818943962520336,
          55.64789274329957,
          58.39126117966515
         ]
        }
       ],
       "layout": {
        "font": {
         "color": "rgb(0, 0, 0)",
         "family": "Arial",
         "size": 30
        },
        "height": 550,
        "legend": {
         "font": {
          "size": 25
         },
         "orientation": "h",
         "title": {
          "text": ""
         },
         "x": 0.5,
         "xanchor": "center",
         "y": 1.15,
         "yanchor": "top"
        },
        "margin": {
         "b": 15,
         "l": 15,
         "r": 15,
         "t": 15
        },
        "plot_bgcolor": "rgb(255,255,255)",
        "template": {
         "data": {
          "bar": [
           {
            "error_x": {
             "color": "#2a3f5f"
            },
            "error_y": {
             "color": "#2a3f5f"
            },
            "marker": {
             "line": {
              "color": "#E5ECF6",
              "width": 0.5
             },
             "pattern": {
              "fillmode": "overlay",
              "size": 10,
              "solidity": 0.2
             }
            },
            "type": "bar"
           }
          ],
          "barpolar": [
           {
            "marker": {
             "line": {
              "color": "#E5ECF6",
              "width": 0.5
             },
             "pattern": {
              "fillmode": "overlay",
              "size": 10,
              "solidity": 0.2
             }
            },
            "type": "barpolar"
           }
          ],
          "carpet": [
           {
            "aaxis": {
             "endlinecolor": "#2a3f5f",
             "gridcolor": "white",
             "linecolor": "white",
             "minorgridcolor": "white",
             "startlinecolor": "#2a3f5f"
            },
            "baxis": {
             "endlinecolor": "#2a3f5f",
             "gridcolor": "white",
             "linecolor": "white",
             "minorgridcolor": "white",
             "startlinecolor": "#2a3f5f"
            },
            "type": "carpet"
           }
          ],
          "choropleth": [
           {
            "colorbar": {
             "outlinewidth": 0,
             "ticks": ""
            },
            "type": "choropleth"
           }
          ],
          "contour": [
           {
            "colorbar": {
             "outlinewidth": 0,
             "ticks": ""
            },
            "colorscale": [
             [
              0,
              "#0d0887"
             ],
             [
              0.1111111111111111,
              "#46039f"
             ],
             [
              0.2222222222222222,
              "#7201a8"
             ],
             [
              0.3333333333333333,
              "#9c179e"
             ],
             [
              0.4444444444444444,
              "#bd3786"
             ],
             [
              0.5555555555555556,
              "#d8576b"
             ],
             [
              0.6666666666666666,
              "#ed7953"
             ],
             [
              0.7777777777777778,
              "#fb9f3a"
             ],
             [
              0.8888888888888888,
              "#fdca26"
             ],
             [
              1,
              "#f0f921"
             ]
            ],
            "type": "contour"
           }
          ],
          "contourcarpet": [
           {
            "colorbar": {
             "outlinewidth": 0,
             "ticks": ""
            },
            "type": "contourcarpet"
           }
          ],
          "heatmap": [
           {
            "colorbar": {
             "outlinewidth": 0,
             "ticks": ""
            },
            "colorscale": [
             [
              0,
              "#0d0887"
             ],
             [
              0.1111111111111111,
              "#46039f"
             ],
             [
              0.2222222222222222,
              "#7201a8"
             ],
             [
              0.3333333333333333,
              "#9c179e"
             ],
             [
              0.4444444444444444,
              "#bd3786"
             ],
             [
              0.5555555555555556,
              "#d8576b"
             ],
             [
              0.6666666666666666,
              "#ed7953"
             ],
             [
              0.7777777777777778,
              "#fb9f3a"
             ],
             [
              0.8888888888888888,
              "#fdca26"
             ],
             [
              1,
              "#f0f921"
             ]
            ],
            "type": "heatmap"
           }
          ],
          "heatmapgl": [
           {
            "colorbar": {
             "outlinewidth": 0,
             "ticks": ""
            },
            "colorscale": [
             [
              0,
              "#0d0887"
             ],
             [
              0.1111111111111111,
              "#46039f"
             ],
             [
              0.2222222222222222,
              "#7201a8"
             ],
             [
              0.3333333333333333,
              "#9c179e"
             ],
             [
              0.4444444444444444,
              "#bd3786"
             ],
             [
              0.5555555555555556,
              "#d8576b"
             ],
             [
              0.6666666666666666,
              "#ed7953"
             ],
             [
              0.7777777777777778,
              "#fb9f3a"
             ],
             [
              0.8888888888888888,
              "#fdca26"
             ],
             [
              1,
              "#f0f921"
             ]
            ],
            "type": "heatmapgl"
           }
          ],
          "histogram": [
           {
            "marker": {
             "pattern": {
              "fillmode": "overlay",
              "size": 10,
              "solidity": 0.2
             }
            },
            "type": "histogram"
           }
          ],
          "histogram2d": [
           {
            "colorbar": {
             "outlinewidth": 0,
             "ticks": ""
            },
            "colorscale": [
             [
              0,
              "#0d0887"
             ],
             [
              0.1111111111111111,
              "#46039f"
             ],
             [
              0.2222222222222222,
              "#7201a8"
             ],
             [
              0.3333333333333333,
              "#9c179e"
             ],
             [
              0.4444444444444444,
              "#bd3786"
             ],
             [
              0.5555555555555556,
              "#d8576b"
             ],
             [
              0.6666666666666666,
              "#ed7953"
             ],
             [
              0.7777777777777778,
              "#fb9f3a"
             ],
             [
              0.8888888888888888,
              "#fdca26"
             ],
             [
              1,
              "#f0f921"
             ]
            ],
            "type": "histogram2d"
           }
          ],
          "histogram2dcontour": [
           {
            "colorbar": {
             "outlinewidth": 0,
             "ticks": ""
            },
            "colorscale": [
             [
              0,
              "#0d0887"
             ],
             [
              0.1111111111111111,
              "#46039f"
             ],
             [
              0.2222222222222222,
              "#7201a8"
             ],
             [
              0.3333333333333333,
              "#9c179e"
             ],
             [
              0.4444444444444444,
              "#bd3786"
             ],
             [
              0.5555555555555556,
              "#d8576b"
             ],
             [
              0.6666666666666666,
              "#ed7953"
             ],
             [
              0.7777777777777778,
              "#fb9f3a"
             ],
             [
              0.8888888888888888,
              "#fdca26"
             ],
             [
              1,
              "#f0f921"
             ]
            ],
            "type": "histogram2dcontour"
           }
          ],
          "mesh3d": [
           {
            "colorbar": {
             "outlinewidth": 0,
             "ticks": ""
            },
            "type": "mesh3d"
           }
          ],
          "parcoords": [
           {
            "line": {
             "colorbar": {
              "outlinewidth": 0,
              "ticks": ""
             }
            },
            "type": "parcoords"
           }
          ],
          "pie": [
           {
            "automargin": true,
            "type": "pie"
           }
          ],
          "scatter": [
           {
            "fillpattern": {
             "fillmode": "overlay",
             "size": 10,
             "solidity": 0.2
            },
            "type": "scatter"
           }
          ],
          "scatter3d": [
           {
            "line": {
             "colorbar": {
              "outlinewidth": 0,
              "ticks": ""
             }
            },
            "marker": {
             "colorbar": {
              "outlinewidth": 0,
              "ticks": ""
             }
            },
            "type": "scatter3d"
           }
          ],
          "scattercarpet": [
           {
            "marker": {
             "colorbar": {
              "outlinewidth": 0,
              "ticks": ""
             }
            },
            "type": "scattercarpet"
           }
          ],
          "scattergeo": [
           {
            "marker": {
             "colorbar": {
              "outlinewidth": 0,
              "ticks": ""
             }
            },
            "type": "scattergeo"
           }
          ],
          "scattergl": [
           {
            "marker": {
             "colorbar": {
              "outlinewidth": 0,
              "ticks": ""
             }
            },
            "type": "scattergl"
           }
          ],
          "scattermapbox": [
           {
            "marker": {
             "colorbar": {
              "outlinewidth": 0,
              "ticks": ""
             }
            },
            "type": "scattermapbox"
           }
          ],
          "scatterpolar": [
           {
            "marker": {
             "colorbar": {
              "outlinewidth": 0,
              "ticks": ""
             }
            },
            "type": "scatterpolar"
           }
          ],
          "scatterpolargl": [
           {
            "marker": {
             "colorbar": {
              "outlinewidth": 0,
              "ticks": ""
             }
            },
            "type": "scatterpolargl"
           }
          ],
          "scatterternary": [
           {
            "marker": {
             "colorbar": {
              "outlinewidth": 0,
              "ticks": ""
             }
            },
            "type": "scatterternary"
           }
          ],
          "surface": [
           {
            "colorbar": {
             "outlinewidth": 0,
             "ticks": ""
            },
            "colorscale": [
             [
              0,
              "#0d0887"
             ],
             [
              0.1111111111111111,
              "#46039f"
             ],
             [
              0.2222222222222222,
              "#7201a8"
             ],
             [
              0.3333333333333333,
              "#9c179e"
             ],
             [
              0.4444444444444444,
              "#bd3786"
             ],
             [
              0.5555555555555556,
              "#d8576b"
             ],
             [
              0.6666666666666666,
              "#ed7953"
             ],
             [
              0.7777777777777778,
              "#fb9f3a"
             ],
             [
              0.8888888888888888,
              "#fdca26"
             ],
             [
              1,
              "#f0f921"
             ]
            ],
            "type": "surface"
           }
          ],
          "table": [
           {
            "cells": {
             "fill": {
              "color": "#EBF0F8"
             },
             "line": {
              "color": "white"
             }
            },
            "header": {
             "fill": {
              "color": "#C8D4E3"
             },
             "line": {
              "color": "white"
             }
            },
            "type": "table"
           }
          ]
         },
         "layout": {
          "annotationdefaults": {
           "arrowcolor": "#2a3f5f",
           "arrowhead": 0,
           "arrowwidth": 1
          },
          "autotypenumbers": "strict",
          "coloraxis": {
           "colorbar": {
            "outlinewidth": 0,
            "ticks": ""
           }
          },
          "colorscale": {
           "diverging": [
            [
             0,
             "#8e0152"
            ],
            [
             0.1,
             "#c51b7d"
            ],
            [
             0.2,
             "#de77ae"
            ],
            [
             0.3,
             "#f1b6da"
            ],
            [
             0.4,
             "#fde0ef"
            ],
            [
             0.5,
             "#f7f7f7"
            ],
            [
             0.6,
             "#e6f5d0"
            ],
            [
             0.7,
             "#b8e186"
            ],
            [
             0.8,
             "#7fbc41"
            ],
            [
             0.9,
             "#4d9221"
            ],
            [
             1,
             "#276419"
            ]
           ],
           "sequential": [
            [
             0,
             "#0d0887"
            ],
            [
             0.1111111111111111,
             "#46039f"
            ],
            [
             0.2222222222222222,
             "#7201a8"
            ],
            [
             0.3333333333333333,
             "#9c179e"
            ],
            [
             0.4444444444444444,
             "#bd3786"
            ],
            [
             0.5555555555555556,
             "#d8576b"
            ],
            [
             0.6666666666666666,
             "#ed7953"
            ],
            [
             0.7777777777777778,
             "#fb9f3a"
            ],
            [
             0.8888888888888888,
             "#fdca26"
            ],
            [
             1,
             "#f0f921"
            ]
           ],
           "sequentialminus": [
            [
             0,
             "#0d0887"
            ],
            [
             0.1111111111111111,
             "#46039f"
            ],
            [
             0.2222222222222222,
             "#7201a8"
            ],
            [
             0.3333333333333333,
             "#9c179e"
            ],
            [
             0.4444444444444444,
             "#bd3786"
            ],
            [
             0.5555555555555556,
             "#d8576b"
            ],
            [
             0.6666666666666666,
             "#ed7953"
            ],
            [
             0.7777777777777778,
             "#fb9f3a"
            ],
            [
             0.8888888888888888,
             "#fdca26"
            ],
            [
             1,
             "#f0f921"
            ]
           ]
          },
          "colorway": [
           "#636efa",
           "#EF553B",
           "#00cc96",
           "#ab63fa",
           "#FFA15A",
           "#19d3f3",
           "#FF6692",
           "#B6E880",
           "#FF97FF",
           "#FECB52"
          ],
          "font": {
           "color": "#2a3f5f"
          },
          "geo": {
           "bgcolor": "white",
           "lakecolor": "white",
           "landcolor": "#E5ECF6",
           "showlakes": true,
           "showland": true,
           "subunitcolor": "white"
          },
          "hoverlabel": {
           "align": "left"
          },
          "hovermode": "closest",
          "mapbox": {
           "style": "light"
          },
          "paper_bgcolor": "white",
          "plot_bgcolor": "#E5ECF6",
          "polar": {
           "angularaxis": {
            "gridcolor": "white",
            "linecolor": "white",
            "ticks": ""
           },
           "bgcolor": "#E5ECF6",
           "radialaxis": {
            "gridcolor": "white",
            "linecolor": "white",
            "ticks": ""
           }
          },
          "scene": {
           "xaxis": {
            "backgroundcolor": "#E5ECF6",
            "gridcolor": "white",
            "gridwidth": 2,
            "linecolor": "white",
            "showbackground": true,
            "ticks": "",
            "zerolinecolor": "white"
           },
           "yaxis": {
            "backgroundcolor": "#E5ECF6",
            "gridcolor": "white",
            "gridwidth": 2,
            "linecolor": "white",
            "showbackground": true,
            "ticks": "",
            "zerolinecolor": "white"
           },
           "zaxis": {
            "backgroundcolor": "#E5ECF6",
            "gridcolor": "white",
            "gridwidth": 2,
            "linecolor": "white",
            "showbackground": true,
            "ticks": "",
            "zerolinecolor": "white"
           }
          },
          "shapedefaults": {
           "line": {
            "color": "#2a3f5f"
           }
          },
          "ternary": {
           "aaxis": {
            "gridcolor": "white",
            "linecolor": "white",
            "ticks": ""
           },
           "baxis": {
            "gridcolor": "white",
            "linecolor": "white",
            "ticks": ""
           },
           "bgcolor": "#E5ECF6",
           "caxis": {
            "gridcolor": "white",
            "linecolor": "white",
            "ticks": ""
           }
          },
          "title": {
           "x": 0.05
          },
          "xaxis": {
           "automargin": true,
           "gridcolor": "white",
           "linecolor": "white",
           "ticks": "",
           "title": {
            "standoff": 15
           },
           "zerolinecolor": "white",
           "zerolinewidth": 2
          },
          "yaxis": {
           "automargin": true,
           "gridcolor": "white",
           "linecolor": "white",
           "ticks": "",
           "title": {
            "standoff": 15
           },
           "zerolinecolor": "white",
           "zerolinewidth": 2
          }
         }
        },
        "width": 1050,
        "xaxis": {
         "gridcolor": "rgb(200, 200, 200)",
         "linecolor": "rgb(0, 0, 0)",
         "linewidth": 2,
         "mirror": true,
         "range": [
          0,
          330
         ],
         "showline": true,
         "tickfont": {
          "size": 25
         },
         "ticks": "inside",
         "title": {
          "font": {
           "size": 30
          },
          "text": "Time(min)"
         }
        },
        "yaxis": {
         "gridcolor": "rgb(200, 200, 200)",
         "linecolor": "rgb(0, 0, 0)",
         "linewidth": 2,
         "mirror": true,
         "range": [
          0,
          70
         ],
         "showline": true,
         "tickfont": {
          "size": 25
         },
         "tickformat": ".1f",
         "ticks": "inside",
         "title": {
          "font": {
           "size": 30
          },
          "text": "Average PM2.5 Concentration (μg/m³)"
         }
        }
       }
      }
     },
     "metadata": {},
     "output_type": "display_data"
    },
    {
     "name": "stdout",
     "output_type": "stream",
     "text": [
      "./outputs/png/line_timeAveragePollution-teamsize3-linetype.png\n"
     ]
    }
   ],
   "source": [
    "width = 1050\n",
    "height = 550\n",
    "linewidth = 3\n",
    "markersymbol={'FH':2, 'HEUR':'star', 'DDRL':5}\n",
    "markersize = 12\n",
    "linetype = {'Low':'dot','Medium':'dashdot','High':'solid'}\n",
    "colors_dict = ['#d62728', '#ff7f0e', '#1f77b4']\n",
    "labels = []\n",
    "Time_deadline = 33\n",
    "for i in range(Time_deadline):\n",
    "    labels.append(int(i*10))\n",
    "\n",
    "xtitle = 'Time(min)'\n",
    "ytitle = 'Average PM2.5 Concentration (μg/m³)'\n",
    "\n",
    "fig = go.Figure()\n",
    "fig.add_trace(go.Scatter(\n",
    "    x=labels, \n",
    "    y=strategy_meanpm[0][2][0:Time_deadline], \n",
    "    name='SmartSpr', \n",
    "    mode='lines+markers', \n",
    "    marker=dict(size=markersize, symbol=markersymbol['FH']),line=dict(color=colors_dict[0], width=linewidth),))\n",
    "fig.add_trace(go.Scatter(\n",
    "    x=labels, \n",
    "    y=strategy_meanpm[1][2][0:Time_deadline], \n",
    "    name='MCPP', \n",
    "    mode='lines+markers', \n",
    "    marker=dict(size=markersize, symbol=markersymbol['HEUR']),line=dict(color=colors_dict[1], width=linewidth),))\n",
    "fig.add_trace(go.Scatter(\n",
    "    x=labels, \n",
    "    y=strategy_meanpm[2][2][0:Time_deadline], \n",
    "    name='MaximumCoverage', \n",
    "    mode='lines+markers', \n",
    "    marker=dict(size=markersize, symbol=markersymbol['DDRL']),line=dict(color=colors_dict[2], width=linewidth),))\n",
    "\n",
    "fig = line_update_fig(fig, xtitle, ytitle, width=width, height=height)\n",
    "fig.update_xaxes(title_text=xtitle, title_font=dict(size=30),tickfont=dict(size=25))\n",
    "fig.update_yaxes(title_text=ytitle, title_font=dict(size=30),tickfont=dict(size=25))\n",
    "fig.update_layout(\n",
    "    xaxis=dict(range=[0, 330]),\n",
    "    yaxis=dict(range=[0, 70]),\n",
    "    legend=dict(font=dict(size=25), x=0.5, y=1.15)) # name size\n",
    "fig.show()\n",
    "filename = './outputs/png/line_timeAveragePollution-teamsize3-linetype.png'\n",
    "print(filename)\n",
    "fig.write_image(filename, scale=1)"
   ]
  },
  {
   "cell_type": "markdown",
   "id": "be1016aa",
   "metadata": {},
   "source": [
    "# pm2.5 concentration at different time point"
   ]
  },
  {
   "cell_type": "code",
   "execution_count": 62,
   "id": "caca803b",
   "metadata": {},
   "outputs": [
    {
     "name": "stdout",
     "output_type": "stream",
     "text": [
      "(4, 5, 12, 48)\n"
     ]
    }
   ],
   "source": [
    "# 区域pm2.5平均浓度变化\n",
    "Setting = pypolo2.utilities.Config()\n",
    "strategy_name = [\"EffectOrientedSelectiveSpray\",\n",
    "                 \"EffectOrientedMCTSSpray\",\n",
    "                 \"MaximumCoverageSpray\",\n",
    "                 \"NoSpray\"]\n",
    "comparing_variables = [[\"teamsize_1\",\"teamsize_2\",\"teamsize_3\",\"teamsize_4\",\"teamsize_5\"],\n",
    "                       [\"numsource_1\",\"numsource_2\",\"numsource_3\",\"numsource_4\",\"numsource_5\"],\n",
    "                       [\"change_interval4\",\"change_interval8\",\"change_interval12\"]]\n",
    "seeds = [7,11,18,20,25,36,42,50,60,72,80,85]\n",
    "team_sizes = [1,2,3,4,5]\n",
    "sourcenums = [1,2,3,4,5]\n",
    "change_intervals = [4,8,12]\n",
    "strategy_meanpm = []\n",
    "sche_step = 0\n",
    "adaptive_step = 0\n",
    "for strategy in strategy_name:\n",
    "    if strategy == \"EffectOrientedMCTSSpray\":\n",
    "        sche_step = 8\n",
    "        adaptive_step = 8\n",
    "    else:\n",
    "        sche_step = 18\n",
    "        adaptive_step = 3\n",
    "    variable_meanpm = []\n",
    "    for i in range(5):\n",
    "        comparing_variable = comparing_variables[0][i]\n",
    "        team_size = team_sizes[i]\n",
    "        sourcenum = 3\n",
    "        seed_meanpm = []\n",
    "        for seed in seeds:\n",
    "            pklname = f'SEED_{seed}_X{Setting.grid_x}_Y{Setting.grid_y}_VS{team_size}_TS{Setting.max_num_samples}_SS{sche_step}_AS{adaptive_step}_SN{sourcenum}_RS{Setting.replenish_speed}_WV{Setting.water_volume}'\n",
    "            pkldir = './outputs/' + strategy + '/' + comparing_variable + '/' + pklname + \".pkl\"\n",
    "            data = pypolo2.experiments.utilities.readpkl(pkldir)\n",
    "            pm = data['truth_env']\n",
    "            time_meanpm = []\n",
    "            for time_point in range(48): \n",
    "                # 获取特定时间点的效果数据\n",
    "                time_meanpm.append(np.mean(pm[time_point]))\n",
    "            seed_meanpm.append(time_meanpm)\n",
    "        variable_meanpm.append(seed_meanpm)\n",
    "    strategy_meanpm.append(variable_meanpm)\n",
    "strategy_meanpm = np.array(strategy_meanpm)\n",
    "print(strategy_meanpm.shape)"
   ]
  },
  {
   "cell_type": "code",
   "execution_count": 63,
   "id": "76199a9f",
   "metadata": {},
   "outputs": [
    {
     "data": {
      "application/vnd.plotly.v1+json": {
       "config": {
        "plotlyServerURL": "https://plot.ly"
       },
       "data": [
        {
         "line": {
          "color": "#d62728",
          "width": 3
         },
         "marker": {
          "size": 12,
          "symbol": 2
         },
         "mode": "lines+markers",
         "name": "SmartSpr",
         "type": "scatter",
         "x": [
          0,
          10,
          20,
          30,
          40,
          50,
          60,
          70,
          80,
          90,
          100,
          110,
          120,
          130,
          140,
          150,
          160,
          170,
          180,
          190,
          200,
          210,
          220,
          230,
          240,
          250,
          260,
          270,
          280,
          290,
          300,
          310,
          320
         ],
         "y": [
          38.66525977544288,
          41.83293799969374,
          44.92516322644211,
          47.9195825068874,
          49.48255922509325,
          49.1168189979272,
          47.715209901243554,
          43.15463116112356,
          38.94524976515924,
          37.74116039671,
          38.49578238576986,
          40.71453992695333,
          39.59422565059123,
          37.41345923912808,
          36.240929318908364,
          32.215747973332505,
          30.04473601342358,
          30.317801167477565,
          30.70108612604956,
          31.21802151904563,
          27.371372036799094,
          26.30882773345005,
          25.968316853591283,
          23.59197243613249,
          22.43784657349225,
          24.120756901012545,
          25.080077376300633,
          25.97638480080289,
          27.784608548457303,
          29.577264907962732,
          31.37754906597107,
          29.612708026086906,
          29.695852465962925
         ]
        },
        {
         "line": {
          "color": "#ff7f0e",
          "width": 3
         },
         "marker": {
          "size": 12,
          "symbol": "star"
         },
         "mode": "lines+markers",
         "name": "MCPP",
         "type": "scatter",
         "x": [
          0,
          10,
          20,
          30,
          40,
          50,
          60,
          70,
          80,
          90,
          100,
          110,
          120,
          130,
          140,
          150,
          160,
          170,
          180,
          190,
          200,
          210,
          220,
          230,
          240,
          250,
          260,
          270,
          280,
          290,
          300,
          310,
          320
         ],
         "y": [
          38.66525977544288,
          41.83293799969373,
          42.89608998609151,
          43.67536201581633,
          43.68599235020507,
          44.87544289722851,
          47.85833430668069,
          51.513681128454735,
          55.05688341979771,
          52.86780120370116,
          50.3844492476646,
          47.52825480237906,
          45.293938694032086,
          46.428235325819344,
          49.490129275048076,
          52.458171685811045,
          56.67477562545079,
          54.658914284278026,
          52.97330873506266,
          51.007160532132254,
          49.808614627839525,
          50.39703724802039,
          52.85334717406422,
          55.239187331741604,
          57.55650762763158,
          52.073256155469316,
          48.08809293446052,
          45.502543871591364,
          44.249148758272185,
          45.5006723361044,
          49.19056789421629,
          51.473926198471766,
          53.68946770802566
         ]
        },
        {
         "line": {
          "color": "#1f77b4",
          "width": 3
         },
         "marker": {
          "size": 12,
          "symbol": 5
         },
         "mode": "lines+markers",
         "name": "MaximumCoverage",
         "type": "scatter",
         "x": [
          0,
          10,
          20,
          30,
          40,
          50,
          60,
          70,
          80,
          90,
          100,
          110,
          120,
          130,
          140,
          150,
          160,
          170,
          180,
          190,
          200,
          210,
          220,
          230,
          240,
          250,
          260,
          270,
          280,
          290,
          300,
          310,
          320
         ],
         "y": [
          38.66525977544288,
          41.836058352805075,
          43.69803573221374,
          45.295370652496125,
          46.66890722111885,
          48.73822066472965,
          52.5722690582675,
          55.47511840184669,
          58.29486187445311,
          56.639163272388124,
          54.17790735099976,
          52.70502020164859,
          52.107141087877714,
          54.383460372040865,
          58.56475438253552,
          62.621862032541664,
          65.15878536992776,
          63.782592422381484,
          59.849484390909495,
          54.31200562514402,
          48.37842338541672,
          47.27245945316365,
          50.292784794537255,
          53.22636824992242,
          56.064453116192105,
          49.44048214408447,
          43.836276414632394,
          41.20527117962596,
          40.379860989164456,
          41.6518223131386,
          44.53312298338704,
          47.84635606385613,
          51.06108814894476
         ]
        }
       ],
       "layout": {
        "font": {
         "color": "rgb(0, 0, 0)",
         "family": "Arial",
         "size": 30
        },
        "height": 550,
        "legend": {
         "font": {
          "size": 25
         },
         "orientation": "h",
         "title": {
          "text": ""
         },
         "x": 0.5,
         "xanchor": "center",
         "y": 1.15,
         "yanchor": "top"
        },
        "margin": {
         "b": 15,
         "l": 15,
         "r": 15,
         "t": 15
        },
        "plot_bgcolor": "rgb(255,255,255)",
        "template": {
         "data": {
          "bar": [
           {
            "error_x": {
             "color": "#2a3f5f"
            },
            "error_y": {
             "color": "#2a3f5f"
            },
            "marker": {
             "line": {
              "color": "#E5ECF6",
              "width": 0.5
             },
             "pattern": {
              "fillmode": "overlay",
              "size": 10,
              "solidity": 0.2
             }
            },
            "type": "bar"
           }
          ],
          "barpolar": [
           {
            "marker": {
             "line": {
              "color": "#E5ECF6",
              "width": 0.5
             },
             "pattern": {
              "fillmode": "overlay",
              "size": 10,
              "solidity": 0.2
             }
            },
            "type": "barpolar"
           }
          ],
          "carpet": [
           {
            "aaxis": {
             "endlinecolor": "#2a3f5f",
             "gridcolor": "white",
             "linecolor": "white",
             "minorgridcolor": "white",
             "startlinecolor": "#2a3f5f"
            },
            "baxis": {
             "endlinecolor": "#2a3f5f",
             "gridcolor": "white",
             "linecolor": "white",
             "minorgridcolor": "white",
             "startlinecolor": "#2a3f5f"
            },
            "type": "carpet"
           }
          ],
          "choropleth": [
           {
            "colorbar": {
             "outlinewidth": 0,
             "ticks": ""
            },
            "type": "choropleth"
           }
          ],
          "contour": [
           {
            "colorbar": {
             "outlinewidth": 0,
             "ticks": ""
            },
            "colorscale": [
             [
              0,
              "#0d0887"
             ],
             [
              0.1111111111111111,
              "#46039f"
             ],
             [
              0.2222222222222222,
              "#7201a8"
             ],
             [
              0.3333333333333333,
              "#9c179e"
             ],
             [
              0.4444444444444444,
              "#bd3786"
             ],
             [
              0.5555555555555556,
              "#d8576b"
             ],
             [
              0.6666666666666666,
              "#ed7953"
             ],
             [
              0.7777777777777778,
              "#fb9f3a"
             ],
             [
              0.8888888888888888,
              "#fdca26"
             ],
             [
              1,
              "#f0f921"
             ]
            ],
            "type": "contour"
           }
          ],
          "contourcarpet": [
           {
            "colorbar": {
             "outlinewidth": 0,
             "ticks": ""
            },
            "type": "contourcarpet"
           }
          ],
          "heatmap": [
           {
            "colorbar": {
             "outlinewidth": 0,
             "ticks": ""
            },
            "colorscale": [
             [
              0,
              "#0d0887"
             ],
             [
              0.1111111111111111,
              "#46039f"
             ],
             [
              0.2222222222222222,
              "#7201a8"
             ],
             [
              0.3333333333333333,
              "#9c179e"
             ],
             [
              0.4444444444444444,
              "#bd3786"
             ],
             [
              0.5555555555555556,
              "#d8576b"
             ],
             [
              0.6666666666666666,
              "#ed7953"
             ],
             [
              0.7777777777777778,
              "#fb9f3a"
             ],
             [
              0.8888888888888888,
              "#fdca26"
             ],
             [
              1,
              "#f0f921"
             ]
            ],
            "type": "heatmap"
           }
          ],
          "heatmapgl": [
           {
            "colorbar": {
             "outlinewidth": 0,
             "ticks": ""
            },
            "colorscale": [
             [
              0,
              "#0d0887"
             ],
             [
              0.1111111111111111,
              "#46039f"
             ],
             [
              0.2222222222222222,
              "#7201a8"
             ],
             [
              0.3333333333333333,
              "#9c179e"
             ],
             [
              0.4444444444444444,
              "#bd3786"
             ],
             [
              0.5555555555555556,
              "#d8576b"
             ],
             [
              0.6666666666666666,
              "#ed7953"
             ],
             [
              0.7777777777777778,
              "#fb9f3a"
             ],
             [
              0.8888888888888888,
              "#fdca26"
             ],
             [
              1,
              "#f0f921"
             ]
            ],
            "type": "heatmapgl"
           }
          ],
          "histogram": [
           {
            "marker": {
             "pattern": {
              "fillmode": "overlay",
              "size": 10,
              "solidity": 0.2
             }
            },
            "type": "histogram"
           }
          ],
          "histogram2d": [
           {
            "colorbar": {
             "outlinewidth": 0,
             "ticks": ""
            },
            "colorscale": [
             [
              0,
              "#0d0887"
             ],
             [
              0.1111111111111111,
              "#46039f"
             ],
             [
              0.2222222222222222,
              "#7201a8"
             ],
             [
              0.3333333333333333,
              "#9c179e"
             ],
             [
              0.4444444444444444,
              "#bd3786"
             ],
             [
              0.5555555555555556,
              "#d8576b"
             ],
             [
              0.6666666666666666,
              "#ed7953"
             ],
             [
              0.7777777777777778,
              "#fb9f3a"
             ],
             [
              0.8888888888888888,
              "#fdca26"
             ],
             [
              1,
              "#f0f921"
             ]
            ],
            "type": "histogram2d"
           }
          ],
          "histogram2dcontour": [
           {
            "colorbar": {
             "outlinewidth": 0,
             "ticks": ""
            },
            "colorscale": [
             [
              0,
              "#0d0887"
             ],
             [
              0.1111111111111111,
              "#46039f"
             ],
             [
              0.2222222222222222,
              "#7201a8"
             ],
             [
              0.3333333333333333,
              "#9c179e"
             ],
             [
              0.4444444444444444,
              "#bd3786"
             ],
             [
              0.5555555555555556,
              "#d8576b"
             ],
             [
              0.6666666666666666,
              "#ed7953"
             ],
             [
              0.7777777777777778,
              "#fb9f3a"
             ],
             [
              0.8888888888888888,
              "#fdca26"
             ],
             [
              1,
              "#f0f921"
             ]
            ],
            "type": "histogram2dcontour"
           }
          ],
          "mesh3d": [
           {
            "colorbar": {
             "outlinewidth": 0,
             "ticks": ""
            },
            "type": "mesh3d"
           }
          ],
          "parcoords": [
           {
            "line": {
             "colorbar": {
              "outlinewidth": 0,
              "ticks": ""
             }
            },
            "type": "parcoords"
           }
          ],
          "pie": [
           {
            "automargin": true,
            "type": "pie"
           }
          ],
          "scatter": [
           {
            "fillpattern": {
             "fillmode": "overlay",
             "size": 10,
             "solidity": 0.2
            },
            "type": "scatter"
           }
          ],
          "scatter3d": [
           {
            "line": {
             "colorbar": {
              "outlinewidth": 0,
              "ticks": ""
             }
            },
            "marker": {
             "colorbar": {
              "outlinewidth": 0,
              "ticks": ""
             }
            },
            "type": "scatter3d"
           }
          ],
          "scattercarpet": [
           {
            "marker": {
             "colorbar": {
              "outlinewidth": 0,
              "ticks": ""
             }
            },
            "type": "scattercarpet"
           }
          ],
          "scattergeo": [
           {
            "marker": {
             "colorbar": {
              "outlinewidth": 0,
              "ticks": ""
             }
            },
            "type": "scattergeo"
           }
          ],
          "scattergl": [
           {
            "marker": {
             "colorbar": {
              "outlinewidth": 0,
              "ticks": ""
             }
            },
            "type": "scattergl"
           }
          ],
          "scattermapbox": [
           {
            "marker": {
             "colorbar": {
              "outlinewidth": 0,
              "ticks": ""
             }
            },
            "type": "scattermapbox"
           }
          ],
          "scatterpolar": [
           {
            "marker": {
             "colorbar": {
              "outlinewidth": 0,
              "ticks": ""
             }
            },
            "type": "scatterpolar"
           }
          ],
          "scatterpolargl": [
           {
            "marker": {
             "colorbar": {
              "outlinewidth": 0,
              "ticks": ""
             }
            },
            "type": "scatterpolargl"
           }
          ],
          "scatterternary": [
           {
            "marker": {
             "colorbar": {
              "outlinewidth": 0,
              "ticks": ""
             }
            },
            "type": "scatterternary"
           }
          ],
          "surface": [
           {
            "colorbar": {
             "outlinewidth": 0,
             "ticks": ""
            },
            "colorscale": [
             [
              0,
              "#0d0887"
             ],
             [
              0.1111111111111111,
              "#46039f"
             ],
             [
              0.2222222222222222,
              "#7201a8"
             ],
             [
              0.3333333333333333,
              "#9c179e"
             ],
             [
              0.4444444444444444,
              "#bd3786"
             ],
             [
              0.5555555555555556,
              "#d8576b"
             ],
             [
              0.6666666666666666,
              "#ed7953"
             ],
             [
              0.7777777777777778,
              "#fb9f3a"
             ],
             [
              0.8888888888888888,
              "#fdca26"
             ],
             [
              1,
              "#f0f921"
             ]
            ],
            "type": "surface"
           }
          ],
          "table": [
           {
            "cells": {
             "fill": {
              "color": "#EBF0F8"
             },
             "line": {
              "color": "white"
             }
            },
            "header": {
             "fill": {
              "color": "#C8D4E3"
             },
             "line": {
              "color": "white"
             }
            },
            "type": "table"
           }
          ]
         },
         "layout": {
          "annotationdefaults": {
           "arrowcolor": "#2a3f5f",
           "arrowhead": 0,
           "arrowwidth": 1
          },
          "autotypenumbers": "strict",
          "coloraxis": {
           "colorbar": {
            "outlinewidth": 0,
            "ticks": ""
           }
          },
          "colorscale": {
           "diverging": [
            [
             0,
             "#8e0152"
            ],
            [
             0.1,
             "#c51b7d"
            ],
            [
             0.2,
             "#de77ae"
            ],
            [
             0.3,
             "#f1b6da"
            ],
            [
             0.4,
             "#fde0ef"
            ],
            [
             0.5,
             "#f7f7f7"
            ],
            [
             0.6,
             "#e6f5d0"
            ],
            [
             0.7,
             "#b8e186"
            ],
            [
             0.8,
             "#7fbc41"
            ],
            [
             0.9,
             "#4d9221"
            ],
            [
             1,
             "#276419"
            ]
           ],
           "sequential": [
            [
             0,
             "#0d0887"
            ],
            [
             0.1111111111111111,
             "#46039f"
            ],
            [
             0.2222222222222222,
             "#7201a8"
            ],
            [
             0.3333333333333333,
             "#9c179e"
            ],
            [
             0.4444444444444444,
             "#bd3786"
            ],
            [
             0.5555555555555556,
             "#d8576b"
            ],
            [
             0.6666666666666666,
             "#ed7953"
            ],
            [
             0.7777777777777778,
             "#fb9f3a"
            ],
            [
             0.8888888888888888,
             "#fdca26"
            ],
            [
             1,
             "#f0f921"
            ]
           ],
           "sequentialminus": [
            [
             0,
             "#0d0887"
            ],
            [
             0.1111111111111111,
             "#46039f"
            ],
            [
             0.2222222222222222,
             "#7201a8"
            ],
            [
             0.3333333333333333,
             "#9c179e"
            ],
            [
             0.4444444444444444,
             "#bd3786"
            ],
            [
             0.5555555555555556,
             "#d8576b"
            ],
            [
             0.6666666666666666,
             "#ed7953"
            ],
            [
             0.7777777777777778,
             "#fb9f3a"
            ],
            [
             0.8888888888888888,
             "#fdca26"
            ],
            [
             1,
             "#f0f921"
            ]
           ]
          },
          "colorway": [
           "#636efa",
           "#EF553B",
           "#00cc96",
           "#ab63fa",
           "#FFA15A",
           "#19d3f3",
           "#FF6692",
           "#B6E880",
           "#FF97FF",
           "#FECB52"
          ],
          "font": {
           "color": "#2a3f5f"
          },
          "geo": {
           "bgcolor": "white",
           "lakecolor": "white",
           "landcolor": "#E5ECF6",
           "showlakes": true,
           "showland": true,
           "subunitcolor": "white"
          },
          "hoverlabel": {
           "align": "left"
          },
          "hovermode": "closest",
          "mapbox": {
           "style": "light"
          },
          "paper_bgcolor": "white",
          "plot_bgcolor": "#E5ECF6",
          "polar": {
           "angularaxis": {
            "gridcolor": "white",
            "linecolor": "white",
            "ticks": ""
           },
           "bgcolor": "#E5ECF6",
           "radialaxis": {
            "gridcolor": "white",
            "linecolor": "white",
            "ticks": ""
           }
          },
          "scene": {
           "xaxis": {
            "backgroundcolor": "#E5ECF6",
            "gridcolor": "white",
            "gridwidth": 2,
            "linecolor": "white",
            "showbackground": true,
            "ticks": "",
            "zerolinecolor": "white"
           },
           "yaxis": {
            "backgroundcolor": "#E5ECF6",
            "gridcolor": "white",
            "gridwidth": 2,
            "linecolor": "white",
            "showbackground": true,
            "ticks": "",
            "zerolinecolor": "white"
           },
           "zaxis": {
            "backgroundcolor": "#E5ECF6",
            "gridcolor": "white",
            "gridwidth": 2,
            "linecolor": "white",
            "showbackground": true,
            "ticks": "",
            "zerolinecolor": "white"
           }
          },
          "shapedefaults": {
           "line": {
            "color": "#2a3f5f"
           }
          },
          "ternary": {
           "aaxis": {
            "gridcolor": "white",
            "linecolor": "white",
            "ticks": ""
           },
           "baxis": {
            "gridcolor": "white",
            "linecolor": "white",
            "ticks": ""
           },
           "bgcolor": "#E5ECF6",
           "caxis": {
            "gridcolor": "white",
            "linecolor": "white",
            "ticks": ""
           }
          },
          "title": {
           "x": 0.05
          },
          "xaxis": {
           "automargin": true,
           "gridcolor": "white",
           "linecolor": "white",
           "ticks": "",
           "title": {
            "standoff": 15
           },
           "zerolinecolor": "white",
           "zerolinewidth": 2
          },
          "yaxis": {
           "automargin": true,
           "gridcolor": "white",
           "linecolor": "white",
           "ticks": "",
           "title": {
            "standoff": 15
           },
           "zerolinecolor": "white",
           "zerolinewidth": 2
          }
         }
        },
        "width": 800,
        "xaxis": {
         "gridcolor": "rgb(200, 200, 200)",
         "linecolor": "rgb(0, 0, 0)",
         "linewidth": 2,
         "mirror": true,
         "range": [
          0,
          330
         ],
         "showgrid": false,
         "showline": true,
         "tickfont": {
          "size": 25
         },
         "ticks": "inside",
         "title": {
          "font": {
           "size": 30
          },
          "text": "Time(min)"
         }
        },
        "yaxis": {
         "gridcolor": "rgb(200, 200, 200)",
         "linecolor": "rgb(0, 0, 0)",
         "linewidth": 2,
         "mirror": true,
         "range": [
          0,
          80
         ],
         "showgrid": false,
         "showline": true,
         "tickfont": {
          "size": 25
         },
         "tickformat": ".1f",
         "ticks": "inside",
         "title": {
          "font": {
           "size": 30
          },
          "text": "Average PM2.5 Concentration (μg/m³)"
         }
        }
       }
      }
     },
     "metadata": {},
     "output_type": "display_data"
    },
    {
     "name": "stdout",
     "output_type": "stream",
     "text": [
      "./outputs/png/line_timeAveragePollution-teamsize3-linetype.png\n"
     ]
    }
   ],
   "source": [
    "width = 800\n",
    "height = 550\n",
    "linewidth = 3\n",
    "markersize = 12\n",
    "colors_dict = ['#d62728', '#ff7f0e', '#1f77b4']\n",
    "markersymbol={'FH':2, 'HEUR':'star', 'DDRL':5}\n",
    "linetype = {'Low':'dot','Medium':'dashdot','High':'solid'}\n",
    "labels = []\n",
    "Time_deadline = 33\n",
    "for i in range(Time_deadline):\n",
    "    labels.append(int(i*10))\n",
    "\n",
    "xtitle = 'Time(min)'\n",
    "ytitle = 'Average PM2.5 Concentration (μg/m³)'\n",
    "\n",
    "fig = go.Figure()\n",
    "\n",
    "fig.add_trace(go.Scatter(\n",
    "    x=labels, \n",
    "    y=strategy_meanpm[0][2][7][0:Time_deadline], \n",
    "    name='SmartSpr', \n",
    "    mode='lines+markers', \n",
    "    marker=dict(size=markersize, symbol=markersymbol['FH']),line=dict(color=colors_dict[0], width=linewidth),))\n",
    "fig.add_trace(go.Scatter(\n",
    "    x=labels, \n",
    "    y=strategy_meanpm[1][2][7][0:Time_deadline], \n",
    "    name='MCPP', \n",
    "    mode='lines+markers', \n",
    "    marker=dict(size=markersize, symbol=markersymbol['HEUR']),line=dict(color=colors_dict[1], width=linewidth),))\n",
    "fig.add_trace(go.Scatter(\n",
    "    x=labels, \n",
    "    y=strategy_meanpm[2][2][7][0:Time_deadline], \n",
    "    name='MaximumCoverage', \n",
    "    mode='lines+markers', \n",
    "    marker=dict(size=markersize, symbol=markersymbol['DDRL']),line=dict(color=colors_dict[2], width=linewidth),))\n",
    "\n",
    "fig = line_update_fig(fig, xtitle, ytitle, width=width, height=height)\n",
    "fig.update_xaxes(title_text=xtitle, title_font=dict(size=30),tickfont=dict(size=25),showgrid=False)\n",
    "fig.update_yaxes(title_text=ytitle, title_font=dict(size=30),tickfont=dict(size=25),showgrid=False)\n",
    "fig.update_layout(\n",
    "    xaxis=dict(range=[0, 330]),\n",
    "    yaxis=dict(range=[0, 80]),\n",
    "    legend=dict(font=dict(size=25), x=0.5, y=1.15)) # name size\n",
    "fig.show()\n",
    "filename = './outputs/png/line_timeAveragePollution-teamsize3-linetype.png'\n",
    "print(filename)\n",
    "fig.write_image(filename, scale=1)"
   ]
  },
  {
   "cell_type": "markdown",
   "id": "3d355dba",
   "metadata": {},
   "source": [
    "# cumulate pm2.5 concentration suppression at different time point"
   ]
  },
  {
   "cell_type": "code",
   "execution_count": 64,
   "id": "ceb2d1da",
   "metadata": {},
   "outputs": [
    {
     "name": "stdout",
     "output_type": "stream",
     "text": [
      "(4, 5, 48)\n"
     ]
    }
   ],
   "source": [
    "# 区域pm2.5平均浓度变化\n",
    "Setting = pypolo2.utilities.Config()\n",
    "strategy_name = [\"EffectOrientedSelectiveSpray\",\n",
    "                 \"EffectOrientedMCTSSpray\",\n",
    "                 \"MaximumCoverageSpray\",\n",
    "                 \"NoSpray\"]\n",
    "comparing_variables = [[\"teamsize_1\",\"teamsize_2\",\"teamsize_3\",\"teamsize_4\",\"teamsize_5\"],\n",
    "                       [\"numsource_1\",\"numsource_2\",\"numsource_3\",\"numsource_4\",\"numsource_5\"]]\n",
    "seeds = [7,11,18,20,25,36,42,50,60,72,80,85]\n",
    "team_sizes = [1,2,3,4,5]\n",
    "sourcenums = [1,2,3,4,5]\n",
    "strategy_effect = []\n",
    "sche_step = 0\n",
    "adaptive_step = 0\n",
    "for strategy in strategy_name:\n",
    "    if strategy == \"EffectOrientedMCTSSpray\":\n",
    "        sche_step = 8\n",
    "        adaptive_step = 8\n",
    "    else:\n",
    "        sche_step = 18\n",
    "        adaptive_step = 3\n",
    "    variable_effect = []\n",
    "    for i in range(5):\n",
    "        comparing_variable = comparing_variables[0][i]\n",
    "        team_size = team_sizes[i]\n",
    "        sourcenum = 3\n",
    "        time_effect = []\n",
    "        for time_point in range(48):\n",
    "            seed_effect = []\n",
    "            for seed in seeds:\n",
    "                pklname = f'SEED_{seed}_X{Setting.grid_x}_Y{Setting.grid_y}_VS{team_size}_TS{Setting.max_num_samples}_SS{sche_step}_AS{adaptive_step}_SN{sourcenum}_RS{Setting.replenish_speed}_WV{Setting.water_volume}'\n",
    "                pkldir = './outputs/' + strategy + '/' + comparing_variable + '/' + pklname + \".pkl\"\n",
    "                data = pypolo2.experiments.utilities.readpkl(pkldir)\n",
    "                effect = data['spray_effect']\n",
    "                # 获取特定时间点的效果数据\n",
    "                seed_effect.append(effect[time_point]/400)\n",
    "            time_effect.append(np.mean(seed_effect))\n",
    "            if len(time_effect) > 1:\n",
    "                time_effect[-1] = time_effect[-1] + time_effect[-2]\n",
    "        variable_effect.append(time_effect)\n",
    "    strategy_effect.append(variable_effect)\n",
    "strategy_effect = np.array(strategy_effect)\n",
    "print(strategy_effect.shape)"
   ]
  },
  {
   "cell_type": "code",
   "execution_count": 65,
   "id": "2b32a4e3",
   "metadata": {},
   "outputs": [
    {
     "data": {
      "application/vnd.plotly.v1+json": {
       "config": {
        "plotlyServerURL": "https://plot.ly"
       },
       "data": [
        {
         "line": {
          "color": "#d62728",
          "dash": "solid",
          "width": 3
         },
         "mode": "lines",
         "name": "SmartSpr",
         "type": "scatter",
         "x": [
          0,
          10,
          20,
          30,
          40,
          50,
          60,
          70,
          80,
          90,
          100,
          110,
          120,
          130,
          140,
          150,
          160,
          170,
          180,
          190,
          200,
          210,
          220,
          230,
          240,
          250,
          260,
          270,
          280,
          290,
          300,
          310,
          320
         ],
         "y": [
          0,
          -0.00045756183860602923,
          2.529201293461036,
          5.073910582713255,
          8.329476205252037,
          12.601666776480233,
          16.69742118615854,
          21.29167778345451,
          25.494351998797374,
          28.90530909405783,
          31.897161378756614,
          34.68084210290008,
          37.4371475175063,
          40.91170548874856,
          44.488862316233295,
          47.79066628949287,
          52.26416164461245,
          55.95262741420442,
          58.97473378702375,
          61.910442592859845,
          65.38836106616742,
          68.10555765868533,
          72.03321512560328,
          75.89168602680546,
          79.638489312148,
          83.8673080383396,
          87.51001343303187,
          90.57321155687292,
          93.84136717429595,
          97.26590791172214,
          100.94194790580303,
          104.4402281768868,
          108.13795071131811
         ]
        },
        {
         "line": {
          "color": "#ff7f0e",
          "dash": "dashdot",
          "width": 3
         },
         "mode": "lines",
         "name": "MCPP",
         "type": "scatter",
         "x": [
          0,
          10,
          20,
          30,
          40,
          50,
          60,
          70,
          80,
          90,
          100,
          110,
          120,
          130,
          140,
          150,
          160,
          170,
          180,
          190,
          200,
          210,
          220,
          230,
          240,
          250,
          260,
          270,
          280,
          290,
          300,
          310,
          320
         ],
         "y": [
          0,
          0,
          5.157228935651301,
          8.79713065109821,
          12.264871901888196,
          14.100745299957437,
          14.102313062314835,
          14.105498563416052,
          14.108021039693714,
          19.6953258139776,
          25.11042199233879,
          29.74966782426046,
          33.90421379716871,
          35.83479510969142,
          35.83422920153735,
          35.83666124164113,
          35.835783398764086,
          42.66171301940756,
          48.827821397818624,
          53.40703202519233,
          57.44423495987952,
          59.59804292523428,
          59.60284469779131,
          59.607603601382024,
          59.608349819247,
          67.15155023913405,
          73.36889275974822,
          78.50135389733119,
          83.19768724380938,
          85.7101443914303,
          85.71155469784355,
          85.71432464332312,
          85.71554669118568
         ]
        },
        {
         "line": {
          "color": "#1f77b4",
          "dash": "dot",
          "width": 3
         },
         "mode": "lines",
         "name": "MaximumCoverage",
         "type": "scatter",
         "x": [
          0,
          10,
          20,
          30,
          40,
          50,
          60,
          70,
          80,
          90,
          100,
          110,
          120,
          130,
          140,
          150,
          160,
          170,
          180,
          190,
          200,
          210,
          220,
          230,
          240,
          250,
          260,
          270,
          280,
          290,
          300,
          310,
          320
         ],
         "y": [
          0,
          -0.0012706609654777826,
          4.485249990111962,
          7.7269069362393505,
          10.9303365163548,
          12.648353414047076,
          12.649330313195307,
          12.650309056767552,
          12.651784278849256,
          16.84276351232052,
          21.832550394811637,
          25.749637145308125,
          29.32370259191184,
          31.08463625553878,
          31.08459368633362,
          31.084814549938365,
          31.085830166741193,
          35.70507116852885,
          41.897152040247214,
          47.38852285605017,
          52.40842275456956,
          54.67606851072607,
          54.67828276941077,
          54.67952904409968,
          54.68096868521507,
          60.259831910389664,
          66.35483208736999,
          70.87497390692711,
          74.56983671831169,
          76.3978929907275,
          76.40039820393083,
          76.39996352616099,
          76.39992372248649
         ]
        }
       ],
       "layout": {
        "font": {
         "color": "rgb(0, 0, 0)",
         "family": "Arial",
         "size": 30
        },
        "height": 550,
        "legend": {
         "font": {
          "size": 25
         },
         "orientation": "h",
         "title": {
          "text": ""
         },
         "x": 0.5,
         "xanchor": "center",
         "y": 1.15,
         "yanchor": "top"
        },
        "margin": {
         "b": 15,
         "l": 15,
         "r": 15,
         "t": 15
        },
        "plot_bgcolor": "rgb(255,255,255)",
        "template": {
         "data": {
          "bar": [
           {
            "error_x": {
             "color": "#2a3f5f"
            },
            "error_y": {
             "color": "#2a3f5f"
            },
            "marker": {
             "line": {
              "color": "#E5ECF6",
              "width": 0.5
             },
             "pattern": {
              "fillmode": "overlay",
              "size": 10,
              "solidity": 0.2
             }
            },
            "type": "bar"
           }
          ],
          "barpolar": [
           {
            "marker": {
             "line": {
              "color": "#E5ECF6",
              "width": 0.5
             },
             "pattern": {
              "fillmode": "overlay",
              "size": 10,
              "solidity": 0.2
             }
            },
            "type": "barpolar"
           }
          ],
          "carpet": [
           {
            "aaxis": {
             "endlinecolor": "#2a3f5f",
             "gridcolor": "white",
             "linecolor": "white",
             "minorgridcolor": "white",
             "startlinecolor": "#2a3f5f"
            },
            "baxis": {
             "endlinecolor": "#2a3f5f",
             "gridcolor": "white",
             "linecolor": "white",
             "minorgridcolor": "white",
             "startlinecolor": "#2a3f5f"
            },
            "type": "carpet"
           }
          ],
          "choropleth": [
           {
            "colorbar": {
             "outlinewidth": 0,
             "ticks": ""
            },
            "type": "choropleth"
           }
          ],
          "contour": [
           {
            "colorbar": {
             "outlinewidth": 0,
             "ticks": ""
            },
            "colorscale": [
             [
              0,
              "#0d0887"
             ],
             [
              0.1111111111111111,
              "#46039f"
             ],
             [
              0.2222222222222222,
              "#7201a8"
             ],
             [
              0.3333333333333333,
              "#9c179e"
             ],
             [
              0.4444444444444444,
              "#bd3786"
             ],
             [
              0.5555555555555556,
              "#d8576b"
             ],
             [
              0.6666666666666666,
              "#ed7953"
             ],
             [
              0.7777777777777778,
              "#fb9f3a"
             ],
             [
              0.8888888888888888,
              "#fdca26"
             ],
             [
              1,
              "#f0f921"
             ]
            ],
            "type": "contour"
           }
          ],
          "contourcarpet": [
           {
            "colorbar": {
             "outlinewidth": 0,
             "ticks": ""
            },
            "type": "contourcarpet"
           }
          ],
          "heatmap": [
           {
            "colorbar": {
             "outlinewidth": 0,
             "ticks": ""
            },
            "colorscale": [
             [
              0,
              "#0d0887"
             ],
             [
              0.1111111111111111,
              "#46039f"
             ],
             [
              0.2222222222222222,
              "#7201a8"
             ],
             [
              0.3333333333333333,
              "#9c179e"
             ],
             [
              0.4444444444444444,
              "#bd3786"
             ],
             [
              0.5555555555555556,
              "#d8576b"
             ],
             [
              0.6666666666666666,
              "#ed7953"
             ],
             [
              0.7777777777777778,
              "#fb9f3a"
             ],
             [
              0.8888888888888888,
              "#fdca26"
             ],
             [
              1,
              "#f0f921"
             ]
            ],
            "type": "heatmap"
           }
          ],
          "heatmapgl": [
           {
            "colorbar": {
             "outlinewidth": 0,
             "ticks": ""
            },
            "colorscale": [
             [
              0,
              "#0d0887"
             ],
             [
              0.1111111111111111,
              "#46039f"
             ],
             [
              0.2222222222222222,
              "#7201a8"
             ],
             [
              0.3333333333333333,
              "#9c179e"
             ],
             [
              0.4444444444444444,
              "#bd3786"
             ],
             [
              0.5555555555555556,
              "#d8576b"
             ],
             [
              0.6666666666666666,
              "#ed7953"
             ],
             [
              0.7777777777777778,
              "#fb9f3a"
             ],
             [
              0.8888888888888888,
              "#fdca26"
             ],
             [
              1,
              "#f0f921"
             ]
            ],
            "type": "heatmapgl"
           }
          ],
          "histogram": [
           {
            "marker": {
             "pattern": {
              "fillmode": "overlay",
              "size": 10,
              "solidity": 0.2
             }
            },
            "type": "histogram"
           }
          ],
          "histogram2d": [
           {
            "colorbar": {
             "outlinewidth": 0,
             "ticks": ""
            },
            "colorscale": [
             [
              0,
              "#0d0887"
             ],
             [
              0.1111111111111111,
              "#46039f"
             ],
             [
              0.2222222222222222,
              "#7201a8"
             ],
             [
              0.3333333333333333,
              "#9c179e"
             ],
             [
              0.4444444444444444,
              "#bd3786"
             ],
             [
              0.5555555555555556,
              "#d8576b"
             ],
             [
              0.6666666666666666,
              "#ed7953"
             ],
             [
              0.7777777777777778,
              "#fb9f3a"
             ],
             [
              0.8888888888888888,
              "#fdca26"
             ],
             [
              1,
              "#f0f921"
             ]
            ],
            "type": "histogram2d"
           }
          ],
          "histogram2dcontour": [
           {
            "colorbar": {
             "outlinewidth": 0,
             "ticks": ""
            },
            "colorscale": [
             [
              0,
              "#0d0887"
             ],
             [
              0.1111111111111111,
              "#46039f"
             ],
             [
              0.2222222222222222,
              "#7201a8"
             ],
             [
              0.3333333333333333,
              "#9c179e"
             ],
             [
              0.4444444444444444,
              "#bd3786"
             ],
             [
              0.5555555555555556,
              "#d8576b"
             ],
             [
              0.6666666666666666,
              "#ed7953"
             ],
             [
              0.7777777777777778,
              "#fb9f3a"
             ],
             [
              0.8888888888888888,
              "#fdca26"
             ],
             [
              1,
              "#f0f921"
             ]
            ],
            "type": "histogram2dcontour"
           }
          ],
          "mesh3d": [
           {
            "colorbar": {
             "outlinewidth": 0,
             "ticks": ""
            },
            "type": "mesh3d"
           }
          ],
          "parcoords": [
           {
            "line": {
             "colorbar": {
              "outlinewidth": 0,
              "ticks": ""
             }
            },
            "type": "parcoords"
           }
          ],
          "pie": [
           {
            "automargin": true,
            "type": "pie"
           }
          ],
          "scatter": [
           {
            "fillpattern": {
             "fillmode": "overlay",
             "size": 10,
             "solidity": 0.2
            },
            "type": "scatter"
           }
          ],
          "scatter3d": [
           {
            "line": {
             "colorbar": {
              "outlinewidth": 0,
              "ticks": ""
             }
            },
            "marker": {
             "colorbar": {
              "outlinewidth": 0,
              "ticks": ""
             }
            },
            "type": "scatter3d"
           }
          ],
          "scattercarpet": [
           {
            "marker": {
             "colorbar": {
              "outlinewidth": 0,
              "ticks": ""
             }
            },
            "type": "scattercarpet"
           }
          ],
          "scattergeo": [
           {
            "marker": {
             "colorbar": {
              "outlinewidth": 0,
              "ticks": ""
             }
            },
            "type": "scattergeo"
           }
          ],
          "scattergl": [
           {
            "marker": {
             "colorbar": {
              "outlinewidth": 0,
              "ticks": ""
             }
            },
            "type": "scattergl"
           }
          ],
          "scattermapbox": [
           {
            "marker": {
             "colorbar": {
              "outlinewidth": 0,
              "ticks": ""
             }
            },
            "type": "scattermapbox"
           }
          ],
          "scatterpolar": [
           {
            "marker": {
             "colorbar": {
              "outlinewidth": 0,
              "ticks": ""
             }
            },
            "type": "scatterpolar"
           }
          ],
          "scatterpolargl": [
           {
            "marker": {
             "colorbar": {
              "outlinewidth": 0,
              "ticks": ""
             }
            },
            "type": "scatterpolargl"
           }
          ],
          "scatterternary": [
           {
            "marker": {
             "colorbar": {
              "outlinewidth": 0,
              "ticks": ""
             }
            },
            "type": "scatterternary"
           }
          ],
          "surface": [
           {
            "colorbar": {
             "outlinewidth": 0,
             "ticks": ""
            },
            "colorscale": [
             [
              0,
              "#0d0887"
             ],
             [
              0.1111111111111111,
              "#46039f"
             ],
             [
              0.2222222222222222,
              "#7201a8"
             ],
             [
              0.3333333333333333,
              "#9c179e"
             ],
             [
              0.4444444444444444,
              "#bd3786"
             ],
             [
              0.5555555555555556,
              "#d8576b"
             ],
             [
              0.6666666666666666,
              "#ed7953"
             ],
             [
              0.7777777777777778,
              "#fb9f3a"
             ],
             [
              0.8888888888888888,
              "#fdca26"
             ],
             [
              1,
              "#f0f921"
             ]
            ],
            "type": "surface"
           }
          ],
          "table": [
           {
            "cells": {
             "fill": {
              "color": "#EBF0F8"
             },
             "line": {
              "color": "white"
             }
            },
            "header": {
             "fill": {
              "color": "#C8D4E3"
             },
             "line": {
              "color": "white"
             }
            },
            "type": "table"
           }
          ]
         },
         "layout": {
          "annotationdefaults": {
           "arrowcolor": "#2a3f5f",
           "arrowhead": 0,
           "arrowwidth": 1
          },
          "autotypenumbers": "strict",
          "coloraxis": {
           "colorbar": {
            "outlinewidth": 0,
            "ticks": ""
           }
          },
          "colorscale": {
           "diverging": [
            [
             0,
             "#8e0152"
            ],
            [
             0.1,
             "#c51b7d"
            ],
            [
             0.2,
             "#de77ae"
            ],
            [
             0.3,
             "#f1b6da"
            ],
            [
             0.4,
             "#fde0ef"
            ],
            [
             0.5,
             "#f7f7f7"
            ],
            [
             0.6,
             "#e6f5d0"
            ],
            [
             0.7,
             "#b8e186"
            ],
            [
             0.8,
             "#7fbc41"
            ],
            [
             0.9,
             "#4d9221"
            ],
            [
             1,
             "#276419"
            ]
           ],
           "sequential": [
            [
             0,
             "#0d0887"
            ],
            [
             0.1111111111111111,
             "#46039f"
            ],
            [
             0.2222222222222222,
             "#7201a8"
            ],
            [
             0.3333333333333333,
             "#9c179e"
            ],
            [
             0.4444444444444444,
             "#bd3786"
            ],
            [
             0.5555555555555556,
             "#d8576b"
            ],
            [
             0.6666666666666666,
             "#ed7953"
            ],
            [
             0.7777777777777778,
             "#fb9f3a"
            ],
            [
             0.8888888888888888,
             "#fdca26"
            ],
            [
             1,
             "#f0f921"
            ]
           ],
           "sequentialminus": [
            [
             0,
             "#0d0887"
            ],
            [
             0.1111111111111111,
             "#46039f"
            ],
            [
             0.2222222222222222,
             "#7201a8"
            ],
            [
             0.3333333333333333,
             "#9c179e"
            ],
            [
             0.4444444444444444,
             "#bd3786"
            ],
            [
             0.5555555555555556,
             "#d8576b"
            ],
            [
             0.6666666666666666,
             "#ed7953"
            ],
            [
             0.7777777777777778,
             "#fb9f3a"
            ],
            [
             0.8888888888888888,
             "#fdca26"
            ],
            [
             1,
             "#f0f921"
            ]
           ]
          },
          "colorway": [
           "#636efa",
           "#EF553B",
           "#00cc96",
           "#ab63fa",
           "#FFA15A",
           "#19d3f3",
           "#FF6692",
           "#B6E880",
           "#FF97FF",
           "#FECB52"
          ],
          "font": {
           "color": "#2a3f5f"
          },
          "geo": {
           "bgcolor": "white",
           "lakecolor": "white",
           "landcolor": "#E5ECF6",
           "showlakes": true,
           "showland": true,
           "subunitcolor": "white"
          },
          "hoverlabel": {
           "align": "left"
          },
          "hovermode": "closest",
          "mapbox": {
           "style": "light"
          },
          "paper_bgcolor": "white",
          "plot_bgcolor": "#E5ECF6",
          "polar": {
           "angularaxis": {
            "gridcolor": "white",
            "linecolor": "white",
            "ticks": ""
           },
           "bgcolor": "#E5ECF6",
           "radialaxis": {
            "gridcolor": "white",
            "linecolor": "white",
            "ticks": ""
           }
          },
          "scene": {
           "xaxis": {
            "backgroundcolor": "#E5ECF6",
            "gridcolor": "white",
            "gridwidth": 2,
            "linecolor": "white",
            "showbackground": true,
            "ticks": "",
            "zerolinecolor": "white"
           },
           "yaxis": {
            "backgroundcolor": "#E5ECF6",
            "gridcolor": "white",
            "gridwidth": 2,
            "linecolor": "white",
            "showbackground": true,
            "ticks": "",
            "zerolinecolor": "white"
           },
           "zaxis": {
            "backgroundcolor": "#E5ECF6",
            "gridcolor": "white",
            "gridwidth": 2,
            "linecolor": "white",
            "showbackground": true,
            "ticks": "",
            "zerolinecolor": "white"
           }
          },
          "shapedefaults": {
           "line": {
            "color": "#2a3f5f"
           }
          },
          "ternary": {
           "aaxis": {
            "gridcolor": "white",
            "linecolor": "white",
            "ticks": ""
           },
           "baxis": {
            "gridcolor": "white",
            "linecolor": "white",
            "ticks": ""
           },
           "bgcolor": "#E5ECF6",
           "caxis": {
            "gridcolor": "white",
            "linecolor": "white",
            "ticks": ""
           }
          },
          "title": {
           "x": 0.05
          },
          "xaxis": {
           "automargin": true,
           "gridcolor": "white",
           "linecolor": "white",
           "ticks": "",
           "title": {
            "standoff": 15
           },
           "zerolinecolor": "white",
           "zerolinewidth": 2
          },
          "yaxis": {
           "automargin": true,
           "gridcolor": "white",
           "linecolor": "white",
           "ticks": "",
           "title": {
            "standoff": 15
           },
           "zerolinecolor": "white",
           "zerolinewidth": 2
          }
         }
        },
        "width": 1050,
        "xaxis": {
         "gridcolor": "rgb(200, 200, 200)",
         "linecolor": "rgb(0, 0, 0)",
         "linewidth": 2,
         "mirror": true,
         "range": [
          0,
          330
         ],
         "showline": true,
         "tickfont": {
          "size": 25
         },
         "ticks": "inside",
         "title": {
          "font": {
           "size": 30
          },
          "text": "Time(min)"
         }
        },
        "yaxis": {
         "gridcolor": "rgb(200, 200, 200)",
         "linecolor": "rgb(0, 0, 0)",
         "linewidth": 2,
         "mirror": true,
         "range": [
          0,
          200
         ],
         "showline": true,
         "tickfont": {
          "size": 25
         },
         "tickformat": ".1f",
         "ticks": "inside",
         "title": {
          "font": {
           "size": 30
          },
          "text": "Cumulative Suppression of PM2.5(μg/m³)"
         }
        }
       }
      }
     },
     "metadata": {},
     "output_type": "display_data"
    },
    {
     "name": "stdout",
     "output_type": "stream",
     "text": [
      "./outputs/png/line_timeCumulateEffect-teamsize3-linetype.png\n"
     ]
    }
   ],
   "source": [
    "width = 1050\n",
    "height = 550\n",
    "linewidth = 3\n",
    "markersize = 12\n",
    "colors_dict = ['#d62728', '#ff7f0e', '#1f77b4']\n",
    "markersymbol={'FH':2, 'HEUR':'star', 'DDRL':5}\n",
    "linetype = {'Low':'dot','Medium':'dashdot','High':'solid'}\n",
    "labels = []\n",
    "Time_deadline = 33\n",
    "for i in range(Time_deadline):\n",
    "    labels.append(int(i*10))\n",
    "\n",
    "xtitle = 'Time(min)'\n",
    "ytitle = 'Cumulative Suppression of PM2.5(μg/m³)'\n",
    "\n",
    "fig = go.Figure()\n",
    "\n",
    "fig.add_trace(go.Scatter(\n",
    "    x=labels, \n",
    "    y=strategy_effect[0][2][0:Time_deadline], \n",
    "    name='SmartSpr', \n",
    "    mode='lines', \n",
    "    line=dict(color=colors_dict[0],dash=linetype['High'], width=linewidth),))\n",
    "fig.add_trace(go.Scatter(\n",
    "    x=labels, \n",
    "    y=strategy_effect[1][2][0:Time_deadline], \n",
    "    name='MCPP', \n",
    "    mode='lines', \n",
    "    line=dict(color=colors_dict[1],dash=linetype['Medium'], width=linewidth),))\n",
    "fig.add_trace(go.Scatter(\n",
    "    x=labels, \n",
    "    y=strategy_effect[2][2][0:Time_deadline], \n",
    "    name='MaximumCoverage', \n",
    "    mode='lines', \n",
    "    line=dict(color=colors_dict[2],dash=linetype['Low'], width=linewidth),))\n",
    "\n",
    "fig = line_update_fig(fig, xtitle, ytitle, width=width, height=height)\n",
    "fig.update_xaxes(title_text=xtitle, title_font=dict(size=30),tickfont=dict(size=25))\n",
    "fig.update_yaxes(title_text=ytitle, title_font=dict(size=30),tickfont=dict(size=25))\n",
    "fig.update_layout(\n",
    "    xaxis=dict(range=[0, 330]),\n",
    "    yaxis=dict(range=[0, 200]),\n",
    "    legend=dict(font=dict(size=25), x=0.5, y=1.15)) # name size\n",
    "fig.show()\n",
    "filename = './outputs/png/line_timeCumulateEffect-teamsize3-linetype.png'\n",
    "print(filename)\n",
    "# fig.write_image(filename, scale=1)"
   ]
  },
  {
   "cell_type": "markdown",
   "id": "44f95a9e",
   "metadata": {},
   "source": [
    "# Cumulative pm2.5 concentration at different time point"
   ]
  },
  {
   "cell_type": "code",
   "execution_count": 66,
   "id": "3aa681b8",
   "metadata": {},
   "outputs": [
    {
     "name": "stdout",
     "output_type": "stream",
     "text": [
      "(4, 5, 12, 48)\n"
     ]
    }
   ],
   "source": [
    "# 区域pm2.5平均浓度变化\n",
    "Setting = pypolo2.utilities.Config()\n",
    "strategy_name = [\"EffectOrientedSelectiveSpray\",\n",
    "                 \"EffectOrientedMCTSSpray\",\n",
    "                 \"MaximumCoverageSpray\",\n",
    "                 \"NoSpray\"]\n",
    "comparing_variables = [[\"teamsize_1\",\"teamsize_2\",\"teamsize_3\",\"teamsize_4\",\"teamsize_5\"],\n",
    "                       [\"numsource_1\",\"numsource_2\",\"numsource_3\",\"numsource_4\",\"numsource_5\"]]\n",
    "seeds = [7,11,18,20,25,36,42,50,60,72,80,85]\n",
    "team_sizes = [1,2,3,4,5]\n",
    "sourcenums = [1,2,3,4,5]\n",
    "strategy_effect = []\n",
    "sche_step = 0\n",
    "adaptive_step = 0\n",
    "for strategy in strategy_name:\n",
    "    if strategy == \"EffectOrientedMCTSSpray\":\n",
    "        sche_step = 8\n",
    "        adaptive_step = 8\n",
    "    else:\n",
    "        sche_step = 18\n",
    "        adaptive_step = 3\n",
    "    variable_effect = []\n",
    "    for i in range(5):\n",
    "        comparing_variable = comparing_variables[0][i]\n",
    "        team_size = team_sizes[i]\n",
    "        sourcenum = 3\n",
    "        seed_effect = []\n",
    "        for seed in seeds:\n",
    "            pklname = f'SEED_{seed}_X{Setting.grid_x}_Y{Setting.grid_y}_VS{team_size}_TS{Setting.max_num_samples}_SS{sche_step}_AS{adaptive_step}_SN{sourcenum}_RS{Setting.replenish_speed}_WV{Setting.water_volume}'\n",
    "            pkldir = './outputs/' + strategy + '/' + comparing_variable + '/' + pklname + \".pkl\"\n",
    "            data = pypolo2.experiments.utilities.readpkl(pkldir)\n",
    "            effect = data['spray_effect']\n",
    "            # 获取特定时间点的效果数据\n",
    "            time_effect = []\n",
    "            for time_point in range(48):\n",
    "                time_effect.append(effect[time_point]/400)\n",
    "                if len(time_effect) > 1:\n",
    "                    time_effect[-1] = time_effect[-1] + time_effect[-2]\n",
    "            seed_effect.append(time_effect)\n",
    "        variable_effect.append(seed_effect)\n",
    "    strategy_effect.append(variable_effect)\n",
    "strategy_effect = np.array(strategy_effect)\n",
    "print(strategy_effect.shape)"
   ]
  },
  {
   "cell_type": "code",
   "execution_count": 67,
   "id": "cd38748c",
   "metadata": {},
   "outputs": [
    {
     "data": {
      "application/vnd.plotly.v1+json": {
       "config": {
        "plotlyServerURL": "https://plot.ly"
       },
       "data": [
        {
         "line": {
          "color": "#d62728",
          "width": 3
         },
         "marker": {
          "size": 12,
          "symbol": 2
         },
         "mode": "lines+markers",
         "name": "SmartSpr",
         "type": "scatter",
         "x": [
          0,
          10,
          20,
          30,
          40,
          50,
          60,
          70,
          80,
          90,
          100,
          110,
          120,
          130,
          140,
          150,
          160,
          170,
          180,
          190,
          200,
          210,
          220,
          230,
          240,
          250,
          260,
          270,
          280,
          290,
          300,
          310,
          320
         ],
         "y": [
          0,
          0,
          4.7412804736091525,
          7.470858846427866,
          12.88862103480754,
          17.19817710100957,
          19.62747321543618,
          20.977340332001226,
          21.449443726683743,
          24.168836865134505,
          25.81606290627995,
          25.809025472372912,
          25.798782075821947,
          25.802148342596418,
          32.40226264409823,
          37.320824336247156,
          44.90274307958311,
          50.485056689054204,
          53.333462981754636,
          56.30303644830021,
          58.0206330645361,
          63.2662180557605,
          67.37493876097695,
          71.2613256247673,
          77.37998669725084,
          81.87676647311102,
          84.04756116285724,
          86.0400200060065,
          86.89304397864167,
          93.49197629288457,
          97.63998265567871,
          101.16887296462141,
          107.2029725037432
         ]
        },
        {
         "line": {
          "color": "#ff7f0e",
          "width": 3
         },
         "marker": {
          "size": 12,
          "symbol": "star"
         },
         "mode": "lines+markers",
         "name": "MCPP",
         "type": "scatter",
         "x": [
          0,
          10,
          20,
          30,
          40,
          50,
          60,
          70,
          80,
          90,
          100,
          110,
          120,
          130,
          140,
          150,
          160,
          170,
          180,
          190,
          200,
          210,
          220,
          230,
          240,
          250,
          260,
          270,
          280,
          290,
          300,
          310,
          320
         ],
         "y": [
          0,
          -0.009058392507222108,
          6.385981792108369,
          9.540823266731511,
          11.88915289400951,
          13.211631389090995,
          13.211631389090995,
          13.211631389090995,
          13.221379211383137,
          17.802158467252827,
          21.78766382605287,
          25.420706310703984,
          29.570133390703546,
          31.45927156893671,
          31.468838179891872,
          31.4641965230585,
          31.467065944338888,
          36.92055519915078,
          41.92987513985003,
          45.263405679634666,
          47.8430648586776,
          49.184918212758625,
          49.19332742878122,
          49.20420752267737,
          49.20948694794509,
          54.19221289124976,
          57.64155004546427,
          60.23771962565008,
          62.443473694029045,
          63.73917477502208,
          63.737656149667345,
          63.73127685286264,
          63.74056173525996
         ]
        },
        {
         "line": {
          "color": "#1f77b4",
          "width": 3
         },
         "marker": {
          "size": 12,
          "symbol": 5
         },
         "mode": "lines+markers",
         "name": "MaximumCoverage",
         "type": "scatter",
         "x": [
          0,
          10,
          20,
          30,
          40,
          50,
          60,
          70,
          80,
          90,
          100,
          110,
          120,
          130,
          140,
          150,
          160,
          170,
          180,
          190,
          200,
          210,
          220,
          230,
          240,
          250,
          260,
          270,
          280,
          290,
          300,
          310,
          320
         ],
         "y": [
          0,
          -0.004527226451646872,
          7.691843093388214,
          12.224323136223884,
          15.782594931559757,
          17.570098848128904,
          17.57767962621191,
          17.580181885220657,
          17.575325493793798,
          22.037578337200795,
          26.52525519040778,
          29.604869811335266,
          31.821398985432616,
          32.99856401044066,
          33.0023748724149,
          33.00607310473253,
          33.00607310473253,
          35.14622906863299,
          37.06495084247994,
          38.31792666489305,
          39.69945650962775,
          40.48222335702831,
          40.48462407742958,
          40.48462407742958,
          40.48688498872369,
          42.01388553455033,
          45.19373759989021,
          48.72741846122386,
          51.819111216205414,
          53.25448248512537,
          53.249258067127066,
          53.24995918921693,
          53.25131996979371
         ]
        }
       ],
       "layout": {
        "font": {
         "color": "rgb(0, 0, 0)",
         "family": "Arial",
         "size": 30
        },
        "height": 550,
        "legend": {
         "font": {
          "size": 25
         },
         "orientation": "h",
         "title": {
          "text": ""
         },
         "x": 0.5,
         "xanchor": "center",
         "y": 1.15,
         "yanchor": "top"
        },
        "margin": {
         "b": 15,
         "l": 15,
         "r": 15,
         "t": 15
        },
        "plot_bgcolor": "rgb(255,255,255)",
        "template": {
         "data": {
          "bar": [
           {
            "error_x": {
             "color": "#2a3f5f"
            },
            "error_y": {
             "color": "#2a3f5f"
            },
            "marker": {
             "line": {
              "color": "#E5ECF6",
              "width": 0.5
             },
             "pattern": {
              "fillmode": "overlay",
              "size": 10,
              "solidity": 0.2
             }
            },
            "type": "bar"
           }
          ],
          "barpolar": [
           {
            "marker": {
             "line": {
              "color": "#E5ECF6",
              "width": 0.5
             },
             "pattern": {
              "fillmode": "overlay",
              "size": 10,
              "solidity": 0.2
             }
            },
            "type": "barpolar"
           }
          ],
          "carpet": [
           {
            "aaxis": {
             "endlinecolor": "#2a3f5f",
             "gridcolor": "white",
             "linecolor": "white",
             "minorgridcolor": "white",
             "startlinecolor": "#2a3f5f"
            },
            "baxis": {
             "endlinecolor": "#2a3f5f",
             "gridcolor": "white",
             "linecolor": "white",
             "minorgridcolor": "white",
             "startlinecolor": "#2a3f5f"
            },
            "type": "carpet"
           }
          ],
          "choropleth": [
           {
            "colorbar": {
             "outlinewidth": 0,
             "ticks": ""
            },
            "type": "choropleth"
           }
          ],
          "contour": [
           {
            "colorbar": {
             "outlinewidth": 0,
             "ticks": ""
            },
            "colorscale": [
             [
              0,
              "#0d0887"
             ],
             [
              0.1111111111111111,
              "#46039f"
             ],
             [
              0.2222222222222222,
              "#7201a8"
             ],
             [
              0.3333333333333333,
              "#9c179e"
             ],
             [
              0.4444444444444444,
              "#bd3786"
             ],
             [
              0.5555555555555556,
              "#d8576b"
             ],
             [
              0.6666666666666666,
              "#ed7953"
             ],
             [
              0.7777777777777778,
              "#fb9f3a"
             ],
             [
              0.8888888888888888,
              "#fdca26"
             ],
             [
              1,
              "#f0f921"
             ]
            ],
            "type": "contour"
           }
          ],
          "contourcarpet": [
           {
            "colorbar": {
             "outlinewidth": 0,
             "ticks": ""
            },
            "type": "contourcarpet"
           }
          ],
          "heatmap": [
           {
            "colorbar": {
             "outlinewidth": 0,
             "ticks": ""
            },
            "colorscale": [
             [
              0,
              "#0d0887"
             ],
             [
              0.1111111111111111,
              "#46039f"
             ],
             [
              0.2222222222222222,
              "#7201a8"
             ],
             [
              0.3333333333333333,
              "#9c179e"
             ],
             [
              0.4444444444444444,
              "#bd3786"
             ],
             [
              0.5555555555555556,
              "#d8576b"
             ],
             [
              0.6666666666666666,
              "#ed7953"
             ],
             [
              0.7777777777777778,
              "#fb9f3a"
             ],
             [
              0.8888888888888888,
              "#fdca26"
             ],
             [
              1,
              "#f0f921"
             ]
            ],
            "type": "heatmap"
           }
          ],
          "heatmapgl": [
           {
            "colorbar": {
             "outlinewidth": 0,
             "ticks": ""
            },
            "colorscale": [
             [
              0,
              "#0d0887"
             ],
             [
              0.1111111111111111,
              "#46039f"
             ],
             [
              0.2222222222222222,
              "#7201a8"
             ],
             [
              0.3333333333333333,
              "#9c179e"
             ],
             [
              0.4444444444444444,
              "#bd3786"
             ],
             [
              0.5555555555555556,
              "#d8576b"
             ],
             [
              0.6666666666666666,
              "#ed7953"
             ],
             [
              0.7777777777777778,
              "#fb9f3a"
             ],
             [
              0.8888888888888888,
              "#fdca26"
             ],
             [
              1,
              "#f0f921"
             ]
            ],
            "type": "heatmapgl"
           }
          ],
          "histogram": [
           {
            "marker": {
             "pattern": {
              "fillmode": "overlay",
              "size": 10,
              "solidity": 0.2
             }
            },
            "type": "histogram"
           }
          ],
          "histogram2d": [
           {
            "colorbar": {
             "outlinewidth": 0,
             "ticks": ""
            },
            "colorscale": [
             [
              0,
              "#0d0887"
             ],
             [
              0.1111111111111111,
              "#46039f"
             ],
             [
              0.2222222222222222,
              "#7201a8"
             ],
             [
              0.3333333333333333,
              "#9c179e"
             ],
             [
              0.4444444444444444,
              "#bd3786"
             ],
             [
              0.5555555555555556,
              "#d8576b"
             ],
             [
              0.6666666666666666,
              "#ed7953"
             ],
             [
              0.7777777777777778,
              "#fb9f3a"
             ],
             [
              0.8888888888888888,
              "#fdca26"
             ],
             [
              1,
              "#f0f921"
             ]
            ],
            "type": "histogram2d"
           }
          ],
          "histogram2dcontour": [
           {
            "colorbar": {
             "outlinewidth": 0,
             "ticks": ""
            },
            "colorscale": [
             [
              0,
              "#0d0887"
             ],
             [
              0.1111111111111111,
              "#46039f"
             ],
             [
              0.2222222222222222,
              "#7201a8"
             ],
             [
              0.3333333333333333,
              "#9c179e"
             ],
             [
              0.4444444444444444,
              "#bd3786"
             ],
             [
              0.5555555555555556,
              "#d8576b"
             ],
             [
              0.6666666666666666,
              "#ed7953"
             ],
             [
              0.7777777777777778,
              "#fb9f3a"
             ],
             [
              0.8888888888888888,
              "#fdca26"
             ],
             [
              1,
              "#f0f921"
             ]
            ],
            "type": "histogram2dcontour"
           }
          ],
          "mesh3d": [
           {
            "colorbar": {
             "outlinewidth": 0,
             "ticks": ""
            },
            "type": "mesh3d"
           }
          ],
          "parcoords": [
           {
            "line": {
             "colorbar": {
              "outlinewidth": 0,
              "ticks": ""
             }
            },
            "type": "parcoords"
           }
          ],
          "pie": [
           {
            "automargin": true,
            "type": "pie"
           }
          ],
          "scatter": [
           {
            "fillpattern": {
             "fillmode": "overlay",
             "size": 10,
             "solidity": 0.2
            },
            "type": "scatter"
           }
          ],
          "scatter3d": [
           {
            "line": {
             "colorbar": {
              "outlinewidth": 0,
              "ticks": ""
             }
            },
            "marker": {
             "colorbar": {
              "outlinewidth": 0,
              "ticks": ""
             }
            },
            "type": "scatter3d"
           }
          ],
          "scattercarpet": [
           {
            "marker": {
             "colorbar": {
              "outlinewidth": 0,
              "ticks": ""
             }
            },
            "type": "scattercarpet"
           }
          ],
          "scattergeo": [
           {
            "marker": {
             "colorbar": {
              "outlinewidth": 0,
              "ticks": ""
             }
            },
            "type": "scattergeo"
           }
          ],
          "scattergl": [
           {
            "marker": {
             "colorbar": {
              "outlinewidth": 0,
              "ticks": ""
             }
            },
            "type": "scattergl"
           }
          ],
          "scattermapbox": [
           {
            "marker": {
             "colorbar": {
              "outlinewidth": 0,
              "ticks": ""
             }
            },
            "type": "scattermapbox"
           }
          ],
          "scatterpolar": [
           {
            "marker": {
             "colorbar": {
              "outlinewidth": 0,
              "ticks": ""
             }
            },
            "type": "scatterpolar"
           }
          ],
          "scatterpolargl": [
           {
            "marker": {
             "colorbar": {
              "outlinewidth": 0,
              "ticks": ""
             }
            },
            "type": "scatterpolargl"
           }
          ],
          "scatterternary": [
           {
            "marker": {
             "colorbar": {
              "outlinewidth": 0,
              "ticks": ""
             }
            },
            "type": "scatterternary"
           }
          ],
          "surface": [
           {
            "colorbar": {
             "outlinewidth": 0,
             "ticks": ""
            },
            "colorscale": [
             [
              0,
              "#0d0887"
             ],
             [
              0.1111111111111111,
              "#46039f"
             ],
             [
              0.2222222222222222,
              "#7201a8"
             ],
             [
              0.3333333333333333,
              "#9c179e"
             ],
             [
              0.4444444444444444,
              "#bd3786"
             ],
             [
              0.5555555555555556,
              "#d8576b"
             ],
             [
              0.6666666666666666,
              "#ed7953"
             ],
             [
              0.7777777777777778,
              "#fb9f3a"
             ],
             [
              0.8888888888888888,
              "#fdca26"
             ],
             [
              1,
              "#f0f921"
             ]
            ],
            "type": "surface"
           }
          ],
          "table": [
           {
            "cells": {
             "fill": {
              "color": "#EBF0F8"
             },
             "line": {
              "color": "white"
             }
            },
            "header": {
             "fill": {
              "color": "#C8D4E3"
             },
             "line": {
              "color": "white"
             }
            },
            "type": "table"
           }
          ]
         },
         "layout": {
          "annotationdefaults": {
           "arrowcolor": "#2a3f5f",
           "arrowhead": 0,
           "arrowwidth": 1
          },
          "autotypenumbers": "strict",
          "coloraxis": {
           "colorbar": {
            "outlinewidth": 0,
            "ticks": ""
           }
          },
          "colorscale": {
           "diverging": [
            [
             0,
             "#8e0152"
            ],
            [
             0.1,
             "#c51b7d"
            ],
            [
             0.2,
             "#de77ae"
            ],
            [
             0.3,
             "#f1b6da"
            ],
            [
             0.4,
             "#fde0ef"
            ],
            [
             0.5,
             "#f7f7f7"
            ],
            [
             0.6,
             "#e6f5d0"
            ],
            [
             0.7,
             "#b8e186"
            ],
            [
             0.8,
             "#7fbc41"
            ],
            [
             0.9,
             "#4d9221"
            ],
            [
             1,
             "#276419"
            ]
           ],
           "sequential": [
            [
             0,
             "#0d0887"
            ],
            [
             0.1111111111111111,
             "#46039f"
            ],
            [
             0.2222222222222222,
             "#7201a8"
            ],
            [
             0.3333333333333333,
             "#9c179e"
            ],
            [
             0.4444444444444444,
             "#bd3786"
            ],
            [
             0.5555555555555556,
             "#d8576b"
            ],
            [
             0.6666666666666666,
             "#ed7953"
            ],
            [
             0.7777777777777778,
             "#fb9f3a"
            ],
            [
             0.8888888888888888,
             "#fdca26"
            ],
            [
             1,
             "#f0f921"
            ]
           ],
           "sequentialminus": [
            [
             0,
             "#0d0887"
            ],
            [
             0.1111111111111111,
             "#46039f"
            ],
            [
             0.2222222222222222,
             "#7201a8"
            ],
            [
             0.3333333333333333,
             "#9c179e"
            ],
            [
             0.4444444444444444,
             "#bd3786"
            ],
            [
             0.5555555555555556,
             "#d8576b"
            ],
            [
             0.6666666666666666,
             "#ed7953"
            ],
            [
             0.7777777777777778,
             "#fb9f3a"
            ],
            [
             0.8888888888888888,
             "#fdca26"
            ],
            [
             1,
             "#f0f921"
            ]
           ]
          },
          "colorway": [
           "#636efa",
           "#EF553B",
           "#00cc96",
           "#ab63fa",
           "#FFA15A",
           "#19d3f3",
           "#FF6692",
           "#B6E880",
           "#FF97FF",
           "#FECB52"
          ],
          "font": {
           "color": "#2a3f5f"
          },
          "geo": {
           "bgcolor": "white",
           "lakecolor": "white",
           "landcolor": "#E5ECF6",
           "showlakes": true,
           "showland": true,
           "subunitcolor": "white"
          },
          "hoverlabel": {
           "align": "left"
          },
          "hovermode": "closest",
          "mapbox": {
           "style": "light"
          },
          "paper_bgcolor": "white",
          "plot_bgcolor": "#E5ECF6",
          "polar": {
           "angularaxis": {
            "gridcolor": "white",
            "linecolor": "white",
            "ticks": ""
           },
           "bgcolor": "#E5ECF6",
           "radialaxis": {
            "gridcolor": "white",
            "linecolor": "white",
            "ticks": ""
           }
          },
          "scene": {
           "xaxis": {
            "backgroundcolor": "#E5ECF6",
            "gridcolor": "white",
            "gridwidth": 2,
            "linecolor": "white",
            "showbackground": true,
            "ticks": "",
            "zerolinecolor": "white"
           },
           "yaxis": {
            "backgroundcolor": "#E5ECF6",
            "gridcolor": "white",
            "gridwidth": 2,
            "linecolor": "white",
            "showbackground": true,
            "ticks": "",
            "zerolinecolor": "white"
           },
           "zaxis": {
            "backgroundcolor": "#E5ECF6",
            "gridcolor": "white",
            "gridwidth": 2,
            "linecolor": "white",
            "showbackground": true,
            "ticks": "",
            "zerolinecolor": "white"
           }
          },
          "shapedefaults": {
           "line": {
            "color": "#2a3f5f"
           }
          },
          "ternary": {
           "aaxis": {
            "gridcolor": "white",
            "linecolor": "white",
            "ticks": ""
           },
           "baxis": {
            "gridcolor": "white",
            "linecolor": "white",
            "ticks": ""
           },
           "bgcolor": "#E5ECF6",
           "caxis": {
            "gridcolor": "white",
            "linecolor": "white",
            "ticks": ""
           }
          },
          "title": {
           "x": 0.05
          },
          "xaxis": {
           "automargin": true,
           "gridcolor": "white",
           "linecolor": "white",
           "ticks": "",
           "title": {
            "standoff": 15
           },
           "zerolinecolor": "white",
           "zerolinewidth": 2
          },
          "yaxis": {
           "automargin": true,
           "gridcolor": "white",
           "linecolor": "white",
           "ticks": "",
           "title": {
            "standoff": 15
           },
           "zerolinecolor": "white",
           "zerolinewidth": 2
          }
         }
        },
        "width": 800,
        "xaxis": {
         "gridcolor": "rgb(200, 200, 200)",
         "linecolor": "rgb(0, 0, 0)",
         "linewidth": 2,
         "mirror": true,
         "range": [
          0,
          330
         ],
         "showgrid": false,
         "showline": true,
         "tickfont": {
          "size": 25
         },
         "ticks": "inside",
         "title": {
          "font": {
           "size": 30
          },
          "text": "Time(min)"
         }
        },
        "yaxis": {
         "gridcolor": "rgb(200, 200, 200)",
         "linecolor": "rgb(0, 0, 0)",
         "linewidth": 2,
         "mirror": true,
         "range": [
          0,
          120
         ],
         "showgrid": false,
         "showline": true,
         "tickfont": {
          "size": 25
         },
         "tickformat": ".1f",
         "ticks": "inside",
         "title": {
          "font": {
           "size": 30
          },
          "text": "Cumulative Suppression of PM2.5(μg/m³)"
         }
        }
       }
      }
     },
     "metadata": {},
     "output_type": "display_data"
    },
    {
     "name": "stdout",
     "output_type": "stream",
     "text": [
      "./outputs/png/line_timeCumulateEffect-teamsize2-linetype.png\n"
     ]
    }
   ],
   "source": [
    "width = 800\n",
    "height = 550\n",
    "linewidth = 3\n",
    "markersize = 12\n",
    "colors_dict = ['#d62728', '#ff7f0e', '#1f77b4']\n",
    "markersymbol={'FH':2, 'HEUR':'star', 'DDRL':5}\n",
    "linetype = {'Low':'dot','Medium':'dashdot','High':'solid'}\n",
    "labels = []\n",
    "Time_deadline = 33\n",
    "for i in range(Time_deadline):\n",
    "    labels.append(int(i*10))\n",
    "\n",
    "xtitle = 'Time(min)'\n",
    "ytitle = 'Cumulative Suppression of PM2.5(μg/m³)'\n",
    "\n",
    "fig = go.Figure()\n",
    "\n",
    "fig.add_trace(go.Scatter(\n",
    "    x=labels, \n",
    "    y=strategy_effect[0][1][3][0:Time_deadline], \n",
    "    name='SmartSpr', \n",
    "    mode='lines+markers', \n",
    "    marker=dict(size=markersize, symbol=markersymbol['FH']),line=dict(color=colors_dict[0], width=linewidth),))\n",
    "fig.add_trace(go.Scatter(\n",
    "    x=labels, \n",
    "    y=strategy_effect[1][1][3][0:Time_deadline], \n",
    "    name='MCPP', \n",
    "    mode='lines+markers', \n",
    "    marker=dict(size=markersize, symbol=markersymbol['HEUR']),line=dict(color=colors_dict[1], width=linewidth),))\n",
    "fig.add_trace(go.Scatter(\n",
    "    x=labels, \n",
    "    y=strategy_effect[2][1][3][0:Time_deadline], \n",
    "    name='MaximumCoverage', \n",
    "    mode='lines+markers', \n",
    "    marker=dict(size=markersize, symbol=markersymbol['DDRL']),line=dict(color=colors_dict[2], width=linewidth),))\n",
    "\n",
    "fig = line_update_fig(fig, xtitle, ytitle, width=width, height=height)\n",
    "fig.update_xaxes(title_text=xtitle, title_font=dict(size=30),tickfont=dict(size=25),showgrid=False)\n",
    "fig.update_yaxes(title_text=ytitle, title_font=dict(size=30),tickfont=dict(size=25),showgrid=False)\n",
    "fig.update_layout(\n",
    "    xaxis=dict(range=[0, 330]),\n",
    "    yaxis=dict(range=[0, 120]),\n",
    "    legend=dict(font=dict(size=25), x=0.5, y=1.15)) # name size\n",
    "fig.show()\n",
    "filename = './outputs/png/line_timeCumulateEffect-teamsize2-linetype.png'\n",
    "print(filename)\n",
    "fig.write_image(filename, scale=1)"
   ]
  }
 ],
 "metadata": {
  "kernelspec": {
   "display_name": "Python 3.8.16 ('forestfire1.0')",
   "language": "python",
   "name": "python3"
  },
  "language_info": {
   "codemirror_mode": {
    "name": "ipython",
    "version": 3
   },
   "file_extension": ".py",
   "mimetype": "text/x-python",
   "name": "python",
   "nbconvert_exporter": "python",
   "pygments_lexer": "ipython3",
   "version": "3.8.16"
  },
  "vscode": {
   "interpreter": {
    "hash": "e22fcd08f9f55ceeb7ce3a4380ba807d68f0f823f065a4cc1fcab64b3551734e"
   }
  }
 },
 "nbformat": 4,
 "nbformat_minor": 5
}
